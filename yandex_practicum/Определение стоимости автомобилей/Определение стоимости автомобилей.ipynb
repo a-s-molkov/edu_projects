{
 "cells": [
  {
   "cell_type": "markdown",
   "metadata": {
    "toc": true
   },
   "source": [
    "<h1>Определение стоимости автомобилей<span class=\"tocSkip\"></span></h1>\n",
    "<div class=\"toc\"><ul class=\"toc-item\"><li><span><a href=\"#Описание-проекта\" data-toc-modified-id=\"Описание-проекта-1\"><span class=\"toc-item-num\">1&nbsp;&nbsp;</span>Описание проекта</a></span></li><li><span><a href=\"#Описание-данных\" data-toc-modified-id=\"Описание-данных-2\"><span class=\"toc-item-num\">2&nbsp;&nbsp;</span>Описание данных</a></span></li><li><span><a href=\"#Подготовка-данных\" data-toc-modified-id=\"Подготовка-данных-3\"><span class=\"toc-item-num\">3&nbsp;&nbsp;</span>Подготовка данных</a></span><ul class=\"toc-item\"><li><span><a href=\"#Проверка-аномалий\" data-toc-modified-id=\"Проверка-аномалий-3.1\"><span class=\"toc-item-num\">3.1&nbsp;&nbsp;</span>Проверка аномалий</a></span><ul class=\"toc-item\"><li><span><a href=\"#RegistrationYear\" data-toc-modified-id=\"RegistrationYear-3.1.1\"><span class=\"toc-item-num\">3.1.1&nbsp;&nbsp;</span>RegistrationYear</a></span></li><li><span><a href=\"#Power\" data-toc-modified-id=\"Power-3.1.2\"><span class=\"toc-item-num\">3.1.2&nbsp;&nbsp;</span>Power</a></span></li><li><span><a href=\"#Даты\" data-toc-modified-id=\"Даты-3.1.3\"><span class=\"toc-item-num\">3.1.3&nbsp;&nbsp;</span>Даты</a></span></li></ul></li><li><span><a href=\"#Проверка-распределений\" data-toc-modified-id=\"Проверка-распределений-3.2\"><span class=\"toc-item-num\">3.2&nbsp;&nbsp;</span>Проверка распределений</a></span></li><li><span><a href=\"#Удаление-лишних-и-ошибочных-данных\" data-toc-modified-id=\"Удаление-лишних-и-ошибочных-данных-3.3\"><span class=\"toc-item-num\">3.3&nbsp;&nbsp;</span>Удаление лишних и ошибочных данных</a></span></li><li><span><a href=\"#Заполнение-пропусков\" data-toc-modified-id=\"Заполнение-пропусков-3.4\"><span class=\"toc-item-num\">3.4&nbsp;&nbsp;</span>Заполнение пропусков</a></span></li><li><span><a href=\"#Проверка-на-дубликаты\" data-toc-modified-id=\"Проверка-на-дубликаты-3.5\"><span class=\"toc-item-num\">3.5&nbsp;&nbsp;</span>Проверка на дубликаты</a></span></li><li><span><a href=\"#Изменение-типов-данных\" data-toc-modified-id=\"Изменение-типов-данных-3.6\"><span class=\"toc-item-num\">3.6&nbsp;&nbsp;</span>Изменение типов данных</a></span></li><li><span><a href=\"#Кодирование-категориальных-признаков,-создание-выборок\" data-toc-modified-id=\"Кодирование-категориальных-признаков,-создание-выборок-3.7\"><span class=\"toc-item-num\">3.7&nbsp;&nbsp;</span>Кодирование категориальных признаков, создание выборок</a></span></li></ul></li><li><span><a href=\"#Обучение-моделей\" data-toc-modified-id=\"Обучение-моделей-4\"><span class=\"toc-item-num\">4&nbsp;&nbsp;</span>Обучение моделей</a></span><ul class=\"toc-item\"><li><span><a href=\"#LGBMRegressor\" data-toc-modified-id=\"LGBMRegressor-4.1\"><span class=\"toc-item-num\">4.1&nbsp;&nbsp;</span>LGBMRegressor</a></span></li><li><span><a href=\"#LinearRegression\" data-toc-modified-id=\"LinearRegression-4.2\"><span class=\"toc-item-num\">4.2&nbsp;&nbsp;</span>LinearRegression</a></span></li><li><span><a href=\"#RandomForestRegressor\" data-toc-modified-id=\"RandomForestRegressor-4.3\"><span class=\"toc-item-num\">4.3&nbsp;&nbsp;</span>RandomForestRegressor</a></span></li><li><span><a href=\"#DummyRegressor\" data-toc-modified-id=\"DummyRegressor-4.4\"><span class=\"toc-item-num\">4.4&nbsp;&nbsp;</span>DummyRegressor</a></span></li></ul></li><li><span><a href=\"#Анализ-моделей\" data-toc-modified-id=\"Анализ-моделей-5\"><span class=\"toc-item-num\">5&nbsp;&nbsp;</span>Анализ моделей</a></span><ul class=\"toc-item\"><li><span><a href=\"#LGBMRegressor\" data-toc-modified-id=\"LGBMRegressor-5.1\"><span class=\"toc-item-num\">5.1&nbsp;&nbsp;</span>LGBMRegressor</a></span></li><li><span><a href=\"#RandomForestRegressor\" data-toc-modified-id=\"RandomForestRegressor-5.2\"><span class=\"toc-item-num\">5.2&nbsp;&nbsp;</span>RandomForestRegressor</a></span></li></ul></li><li><span><a href=\"#Общий-вывод\" data-toc-modified-id=\"Общий-вывод-6\"><span class=\"toc-item-num\">6&nbsp;&nbsp;</span>Общий вывод</a></span></li></ul></div>"
   ]
  },
  {
   "cell_type": "markdown",
   "metadata": {},
   "source": [
    "## Описание проекта"
   ]
  },
  {
   "cell_type": "markdown",
   "metadata": {},
   "source": [
    "Сервис по продаже автомобилей с пробегом «Не бит, не крашен» разрабатывает приложение для привлечения новых клиентов. В нём можно быстро узнать рыночную стоимость своего автомобиля. В вашем распоряжении исторические данные: технические характеристики, комплектации и цены автомобилей. Вам нужно построить модель для определения стоимости. \n",
    "\n",
    "Заказчику важны:\n",
    "\n",
    "- качество предсказания;\n",
    "- скорость предсказания;\n",
    "- время обучения."
   ]
  },
  {
   "cell_type": "markdown",
   "metadata": {},
   "source": [
    "## Описание данных"
   ]
  },
  {
   "cell_type": "markdown",
   "metadata": {},
   "source": [
    "**Признаки**\n",
    "\n",
    "* *DateCrawled* — дата скачивания анкеты из базы\n",
    "* *VehicleType* — тип автомобильного кузова\n",
    "* *RegistrationYear* — год регистрации автомобиля\n",
    "* *Gearbox* — тип коробки передач\n",
    "* *Power* — мощность (л. с.)\n",
    "* *Model* — модель автомобиля\n",
    "* *Kilometer* — пробег (км)\n",
    "* *RegistrationMonth* — месяц регистрации автомобиля\n",
    "* *FuelType* — тип топлива\n",
    "* *Brand* — марка автомобиля\n",
    "* *Repaired* — была машина в ремонте или нет\n",
    "* *DateCreated* — дата создания анкеты\n",
    "* *NumberOfPictures* — количество фотографий автомобиля\n",
    "* *PostalCode* — почтовый индекс владельца анкеты (пользователя)\n",
    "* *LastSeen* — дата последней активности пользователя\n",
    "\n",
    "**Целевой признак**\n",
    "\n",
    "* *Price* — цена (евро)"
   ]
  },
  {
   "cell_type": "markdown",
   "metadata": {},
   "source": [
    "## Подготовка данных"
   ]
  },
  {
   "cell_type": "code",
   "execution_count": 1,
   "metadata": {},
   "outputs": [
    {
     "name": "stdout",
     "output_type": "stream",
     "text": [
      "Collecting phik\n",
      "  Downloading phik-0.12.3-cp39-cp39-manylinux_2_17_x86_64.manylinux2014_x86_64.whl (679 kB)\n",
      "\u001b[K     |████████████████████████████████| 679 kB 1.7 MB/s eta 0:00:01\n",
      "\u001b[?25hRequirement already satisfied: numpy>=1.18.0 in /opt/conda/lib/python3.9/site-packages (from phik) (1.21.1)\n",
      "Requirement already satisfied: joblib>=0.14.1 in /opt/conda/lib/python3.9/site-packages (from phik) (1.1.0)\n",
      "Requirement already satisfied: matplotlib>=2.2.3 in /opt/conda/lib/python3.9/site-packages (from phik) (3.3.4)\n",
      "Requirement already satisfied: pandas>=0.25.1 in /opt/conda/lib/python3.9/site-packages (from phik) (1.2.4)\n",
      "Requirement already satisfied: scipy>=1.5.2 in /opt/conda/lib/python3.9/site-packages (from phik) (1.9.1)\n",
      "Requirement already satisfied: pyparsing!=2.0.4,!=2.1.2,!=2.1.6,>=2.0.3 in /opt/conda/lib/python3.9/site-packages (from matplotlib>=2.2.3->phik) (2.4.7)\n",
      "Requirement already satisfied: python-dateutil>=2.1 in /opt/conda/lib/python3.9/site-packages (from matplotlib>=2.2.3->phik) (2.8.1)\n",
      "Requirement already satisfied: pillow>=6.2.0 in /opt/conda/lib/python3.9/site-packages (from matplotlib>=2.2.3->phik) (8.4.0)\n",
      "Requirement already satisfied: kiwisolver>=1.0.1 in /opt/conda/lib/python3.9/site-packages (from matplotlib>=2.2.3->phik) (1.4.4)\n",
      "Requirement already satisfied: cycler>=0.10 in /opt/conda/lib/python3.9/site-packages (from matplotlib>=2.2.3->phik) (0.11.0)\n",
      "Requirement already satisfied: pytz>=2017.3 in /opt/conda/lib/python3.9/site-packages (from pandas>=0.25.1->phik) (2021.1)\n",
      "Requirement already satisfied: six>=1.5 in /opt/conda/lib/python3.9/site-packages (from python-dateutil>=2.1->matplotlib>=2.2.3->phik) (1.16.0)\n",
      "Installing collected packages: phik\n",
      "Successfully installed phik-0.12.3\n",
      "Note: you may need to restart the kernel to use updated packages.\n"
     ]
    }
   ],
   "source": [
    "pip install phik"
   ]
  },
  {
   "cell_type": "code",
   "execution_count": 2,
   "metadata": {},
   "outputs": [],
   "source": [
    "import pandas as pd\n",
    "import numpy as np\n",
    "import matplotlib.pyplot as plt\n",
    "import seaborn as sns\n",
    "import phik\n",
    "import lightgbm as lgb\n",
    "from sklearn.linear_model import LinearRegression\n",
    "from sklearn.ensemble import RandomForestRegressor\n",
    "from sklearn.dummy import DummyRegressor\n",
    "from sklearn.model_selection import train_test_split, GridSearchCV\n",
    "from sklearn.metrics import mean_squared_error, make_scorer\n",
    "from sklearn.preprocessing import StandardScaler, OneHotEncoder, OrdinalEncoder"
   ]
  },
  {
   "cell_type": "code",
   "execution_count": 3,
   "metadata": {},
   "outputs": [],
   "source": [
    "df = pd.read_csv('/datasets/autos.csv')"
   ]
  },
  {
   "cell_type": "code",
   "execution_count": 4,
   "metadata": {},
   "outputs": [
    {
     "data": {
      "text/html": [
       "<div>\n",
       "<style scoped>\n",
       "    .dataframe tbody tr th:only-of-type {\n",
       "        vertical-align: middle;\n",
       "    }\n",
       "\n",
       "    .dataframe tbody tr th {\n",
       "        vertical-align: top;\n",
       "    }\n",
       "\n",
       "    .dataframe thead th {\n",
       "        text-align: right;\n",
       "    }\n",
       "</style>\n",
       "<table border=\"1\" class=\"dataframe\">\n",
       "  <thead>\n",
       "    <tr style=\"text-align: right;\">\n",
       "      <th></th>\n",
       "      <th>DateCrawled</th>\n",
       "      <th>Price</th>\n",
       "      <th>VehicleType</th>\n",
       "      <th>RegistrationYear</th>\n",
       "      <th>Gearbox</th>\n",
       "      <th>Power</th>\n",
       "      <th>Model</th>\n",
       "      <th>Kilometer</th>\n",
       "      <th>RegistrationMonth</th>\n",
       "      <th>FuelType</th>\n",
       "      <th>Brand</th>\n",
       "      <th>Repaired</th>\n",
       "      <th>DateCreated</th>\n",
       "      <th>NumberOfPictures</th>\n",
       "      <th>PostalCode</th>\n",
       "      <th>LastSeen</th>\n",
       "    </tr>\n",
       "  </thead>\n",
       "  <tbody>\n",
       "    <tr>\n",
       "      <th>0</th>\n",
       "      <td>2016-03-24 11:52:17</td>\n",
       "      <td>480</td>\n",
       "      <td>NaN</td>\n",
       "      <td>1993</td>\n",
       "      <td>manual</td>\n",
       "      <td>0</td>\n",
       "      <td>golf</td>\n",
       "      <td>150000</td>\n",
       "      <td>0</td>\n",
       "      <td>petrol</td>\n",
       "      <td>volkswagen</td>\n",
       "      <td>NaN</td>\n",
       "      <td>2016-03-24 00:00:00</td>\n",
       "      <td>0</td>\n",
       "      <td>70435</td>\n",
       "      <td>2016-04-07 03:16:57</td>\n",
       "    </tr>\n",
       "    <tr>\n",
       "      <th>1</th>\n",
       "      <td>2016-03-24 10:58:45</td>\n",
       "      <td>18300</td>\n",
       "      <td>coupe</td>\n",
       "      <td>2011</td>\n",
       "      <td>manual</td>\n",
       "      <td>190</td>\n",
       "      <td>NaN</td>\n",
       "      <td>125000</td>\n",
       "      <td>5</td>\n",
       "      <td>gasoline</td>\n",
       "      <td>audi</td>\n",
       "      <td>yes</td>\n",
       "      <td>2016-03-24 00:00:00</td>\n",
       "      <td>0</td>\n",
       "      <td>66954</td>\n",
       "      <td>2016-04-07 01:46:50</td>\n",
       "    </tr>\n",
       "    <tr>\n",
       "      <th>2</th>\n",
       "      <td>2016-03-14 12:52:21</td>\n",
       "      <td>9800</td>\n",
       "      <td>suv</td>\n",
       "      <td>2004</td>\n",
       "      <td>auto</td>\n",
       "      <td>163</td>\n",
       "      <td>grand</td>\n",
       "      <td>125000</td>\n",
       "      <td>8</td>\n",
       "      <td>gasoline</td>\n",
       "      <td>jeep</td>\n",
       "      <td>NaN</td>\n",
       "      <td>2016-03-14 00:00:00</td>\n",
       "      <td>0</td>\n",
       "      <td>90480</td>\n",
       "      <td>2016-04-05 12:47:46</td>\n",
       "    </tr>\n",
       "    <tr>\n",
       "      <th>3</th>\n",
       "      <td>2016-03-17 16:54:04</td>\n",
       "      <td>1500</td>\n",
       "      <td>small</td>\n",
       "      <td>2001</td>\n",
       "      <td>manual</td>\n",
       "      <td>75</td>\n",
       "      <td>golf</td>\n",
       "      <td>150000</td>\n",
       "      <td>6</td>\n",
       "      <td>petrol</td>\n",
       "      <td>volkswagen</td>\n",
       "      <td>no</td>\n",
       "      <td>2016-03-17 00:00:00</td>\n",
       "      <td>0</td>\n",
       "      <td>91074</td>\n",
       "      <td>2016-03-17 17:40:17</td>\n",
       "    </tr>\n",
       "    <tr>\n",
       "      <th>4</th>\n",
       "      <td>2016-03-31 17:25:20</td>\n",
       "      <td>3600</td>\n",
       "      <td>small</td>\n",
       "      <td>2008</td>\n",
       "      <td>manual</td>\n",
       "      <td>69</td>\n",
       "      <td>fabia</td>\n",
       "      <td>90000</td>\n",
       "      <td>7</td>\n",
       "      <td>gasoline</td>\n",
       "      <td>skoda</td>\n",
       "      <td>no</td>\n",
       "      <td>2016-03-31 00:00:00</td>\n",
       "      <td>0</td>\n",
       "      <td>60437</td>\n",
       "      <td>2016-04-06 10:17:21</td>\n",
       "    </tr>\n",
       "  </tbody>\n",
       "</table>\n",
       "</div>"
      ],
      "text/plain": [
       "           DateCrawled  Price VehicleType  RegistrationYear Gearbox  Power  \\\n",
       "0  2016-03-24 11:52:17    480         NaN              1993  manual      0   \n",
       "1  2016-03-24 10:58:45  18300       coupe              2011  manual    190   \n",
       "2  2016-03-14 12:52:21   9800         suv              2004    auto    163   \n",
       "3  2016-03-17 16:54:04   1500       small              2001  manual     75   \n",
       "4  2016-03-31 17:25:20   3600       small              2008  manual     69   \n",
       "\n",
       "   Model  Kilometer  RegistrationMonth  FuelType       Brand Repaired  \\\n",
       "0   golf     150000                  0    petrol  volkswagen      NaN   \n",
       "1    NaN     125000                  5  gasoline        audi      yes   \n",
       "2  grand     125000                  8  gasoline        jeep      NaN   \n",
       "3   golf     150000                  6    petrol  volkswagen       no   \n",
       "4  fabia      90000                  7  gasoline       skoda       no   \n",
       "\n",
       "           DateCreated  NumberOfPictures  PostalCode             LastSeen  \n",
       "0  2016-03-24 00:00:00                 0       70435  2016-04-07 03:16:57  \n",
       "1  2016-03-24 00:00:00                 0       66954  2016-04-07 01:46:50  \n",
       "2  2016-03-14 00:00:00                 0       90480  2016-04-05 12:47:46  \n",
       "3  2016-03-17 00:00:00                 0       91074  2016-03-17 17:40:17  \n",
       "4  2016-03-31 00:00:00                 0       60437  2016-04-06 10:17:21  "
      ]
     },
     "execution_count": 4,
     "metadata": {},
     "output_type": "execute_result"
    }
   ],
   "source": [
    "df.head()"
   ]
  },
  {
   "cell_type": "code",
   "execution_count": 5,
   "metadata": {},
   "outputs": [
    {
     "name": "stdout",
     "output_type": "stream",
     "text": [
      "<class 'pandas.core.frame.DataFrame'>\n",
      "RangeIndex: 354369 entries, 0 to 354368\n",
      "Data columns (total 16 columns):\n",
      " #   Column             Non-Null Count   Dtype \n",
      "---  ------             --------------   ----- \n",
      " 0   DateCrawled        354369 non-null  object\n",
      " 1   Price              354369 non-null  int64 \n",
      " 2   VehicleType        316879 non-null  object\n",
      " 3   RegistrationYear   354369 non-null  int64 \n",
      " 4   Gearbox            334536 non-null  object\n",
      " 5   Power              354369 non-null  int64 \n",
      " 6   Model              334664 non-null  object\n",
      " 7   Kilometer          354369 non-null  int64 \n",
      " 8   RegistrationMonth  354369 non-null  int64 \n",
      " 9   FuelType           321474 non-null  object\n",
      " 10  Brand              354369 non-null  object\n",
      " 11  Repaired           283215 non-null  object\n",
      " 12  DateCreated        354369 non-null  object\n",
      " 13  NumberOfPictures   354369 non-null  int64 \n",
      " 14  PostalCode         354369 non-null  int64 \n",
      " 15  LastSeen           354369 non-null  object\n",
      "dtypes: int64(7), object(9)\n",
      "memory usage: 43.3+ MB\n"
     ]
    }
   ],
   "source": [
    "df.info()"
   ]
  },
  {
   "cell_type": "code",
   "execution_count": 6,
   "metadata": {
    "scrolled": true
   },
   "outputs": [
    {
     "data": {
      "text/html": [
       "<div>\n",
       "<style scoped>\n",
       "    .dataframe tbody tr th:only-of-type {\n",
       "        vertical-align: middle;\n",
       "    }\n",
       "\n",
       "    .dataframe tbody tr th {\n",
       "        vertical-align: top;\n",
       "    }\n",
       "\n",
       "    .dataframe thead th {\n",
       "        text-align: right;\n",
       "    }\n",
       "</style>\n",
       "<table border=\"1\" class=\"dataframe\">\n",
       "  <thead>\n",
       "    <tr style=\"text-align: right;\">\n",
       "      <th></th>\n",
       "      <th>Price</th>\n",
       "      <th>RegistrationYear</th>\n",
       "      <th>Power</th>\n",
       "      <th>Kilometer</th>\n",
       "      <th>RegistrationMonth</th>\n",
       "      <th>NumberOfPictures</th>\n",
       "      <th>PostalCode</th>\n",
       "    </tr>\n",
       "  </thead>\n",
       "  <tbody>\n",
       "    <tr>\n",
       "      <th>count</th>\n",
       "      <td>354369.000000</td>\n",
       "      <td>354369.000000</td>\n",
       "      <td>354369.000000</td>\n",
       "      <td>354369.000000</td>\n",
       "      <td>354369.000000</td>\n",
       "      <td>354369.0</td>\n",
       "      <td>354369.000000</td>\n",
       "    </tr>\n",
       "    <tr>\n",
       "      <th>mean</th>\n",
       "      <td>4416.656776</td>\n",
       "      <td>2004.234448</td>\n",
       "      <td>110.094337</td>\n",
       "      <td>128211.172535</td>\n",
       "      <td>5.714645</td>\n",
       "      <td>0.0</td>\n",
       "      <td>50508.689087</td>\n",
       "    </tr>\n",
       "    <tr>\n",
       "      <th>std</th>\n",
       "      <td>4514.158514</td>\n",
       "      <td>90.227958</td>\n",
       "      <td>189.850405</td>\n",
       "      <td>37905.341530</td>\n",
       "      <td>3.726421</td>\n",
       "      <td>0.0</td>\n",
       "      <td>25783.096248</td>\n",
       "    </tr>\n",
       "    <tr>\n",
       "      <th>min</th>\n",
       "      <td>0.000000</td>\n",
       "      <td>1000.000000</td>\n",
       "      <td>0.000000</td>\n",
       "      <td>5000.000000</td>\n",
       "      <td>0.000000</td>\n",
       "      <td>0.0</td>\n",
       "      <td>1067.000000</td>\n",
       "    </tr>\n",
       "    <tr>\n",
       "      <th>25%</th>\n",
       "      <td>1050.000000</td>\n",
       "      <td>1999.000000</td>\n",
       "      <td>69.000000</td>\n",
       "      <td>125000.000000</td>\n",
       "      <td>3.000000</td>\n",
       "      <td>0.0</td>\n",
       "      <td>30165.000000</td>\n",
       "    </tr>\n",
       "    <tr>\n",
       "      <th>50%</th>\n",
       "      <td>2700.000000</td>\n",
       "      <td>2003.000000</td>\n",
       "      <td>105.000000</td>\n",
       "      <td>150000.000000</td>\n",
       "      <td>6.000000</td>\n",
       "      <td>0.0</td>\n",
       "      <td>49413.000000</td>\n",
       "    </tr>\n",
       "    <tr>\n",
       "      <th>75%</th>\n",
       "      <td>6400.000000</td>\n",
       "      <td>2008.000000</td>\n",
       "      <td>143.000000</td>\n",
       "      <td>150000.000000</td>\n",
       "      <td>9.000000</td>\n",
       "      <td>0.0</td>\n",
       "      <td>71083.000000</td>\n",
       "    </tr>\n",
       "    <tr>\n",
       "      <th>max</th>\n",
       "      <td>20000.000000</td>\n",
       "      <td>9999.000000</td>\n",
       "      <td>20000.000000</td>\n",
       "      <td>150000.000000</td>\n",
       "      <td>12.000000</td>\n",
       "      <td>0.0</td>\n",
       "      <td>99998.000000</td>\n",
       "    </tr>\n",
       "  </tbody>\n",
       "</table>\n",
       "</div>"
      ],
      "text/plain": [
       "               Price  RegistrationYear          Power      Kilometer  \\\n",
       "count  354369.000000     354369.000000  354369.000000  354369.000000   \n",
       "mean     4416.656776       2004.234448     110.094337  128211.172535   \n",
       "std      4514.158514         90.227958     189.850405   37905.341530   \n",
       "min         0.000000       1000.000000       0.000000    5000.000000   \n",
       "25%      1050.000000       1999.000000      69.000000  125000.000000   \n",
       "50%      2700.000000       2003.000000     105.000000  150000.000000   \n",
       "75%      6400.000000       2008.000000     143.000000  150000.000000   \n",
       "max     20000.000000       9999.000000   20000.000000  150000.000000   \n",
       "\n",
       "       RegistrationMonth  NumberOfPictures     PostalCode  \n",
       "count      354369.000000          354369.0  354369.000000  \n",
       "mean            5.714645               0.0   50508.689087  \n",
       "std             3.726421               0.0   25783.096248  \n",
       "min             0.000000               0.0    1067.000000  \n",
       "25%             3.000000               0.0   30165.000000  \n",
       "50%             6.000000               0.0   49413.000000  \n",
       "75%             9.000000               0.0   71083.000000  \n",
       "max            12.000000               0.0   99998.000000  "
      ]
     },
     "execution_count": 6,
     "metadata": {},
     "output_type": "execute_result"
    }
   ],
   "source": [
    "df.describe()"
   ]
  },
  {
   "cell_type": "markdown",
   "metadata": {},
   "source": [
    "<div style=\"background-color:black; color:#ffffff; text-align:left; padding:2%\">\n",
    "\n",
    "Обработаем данные по году регистрации. Выбросы могли появится в результате ошибки при занесении данных. Например, автомобиль зарегистрирован 2015 г., а вбито по ошибке 5015 или 3015. "
   ]
  },
  {
   "cell_type": "markdown",
   "metadata": {},
   "source": [
    "### Проверка аномалий"
   ]
  },
  {
   "cell_type": "markdown",
   "metadata": {},
   "source": [
    "#### RegistrationYear"
   ]
  },
  {
   "cell_type": "code",
   "execution_count": 7,
   "metadata": {},
   "outputs": [],
   "source": [
    "df.loc[(df['RegistrationYear']<1017)&(df['RegistrationYear']>=1000),'RegistrationYear'] =\\\n",
    "df.loc[(df['RegistrationYear']<1017)&(df['RegistrationYear']>=1000),'RegistrationYear'] + 1000\n",
    "\n",
    "for i in range(3,7):\n",
    "    df.loc[(df['RegistrationYear'] < (i * 1000+17)) & (df['RegistrationYear'] >= (i * 1000 - 50)),'RegistrationYear'] =\\\n",
    "    (df.loc[(df['RegistrationYear'] < (i * 1000+17)) & (df['RegistrationYear'] >= (i * 1000 - 50)),'RegistrationYear'] - \n",
    "    (i - 2) * 1000)"
   ]
  },
  {
   "cell_type": "markdown",
   "metadata": {},
   "source": [
    "<div style=\"background-color:black; color:#ffffff; text-align:left; padding:2%\">\n",
    "\n",
    "Удаляем аномальные года регистрации автомобилей. Берем допустимый диапазон с 1913 г. (год создания первого массового автомобиля) по 2016 г."
   ]
  },
  {
   "cell_type": "code",
   "execution_count": 8,
   "metadata": {},
   "outputs": [],
   "source": [
    "df = df.loc[(df['RegistrationYear']<2017)&(df['RegistrationYear']>=1913)]"
   ]
  },
  {
   "cell_type": "markdown",
   "metadata": {},
   "source": [
    "<div style=\"background-color:black; color:#ffffff; text-align:left; padding:2%\">\n",
    "\n",
    "В столбце ***Power*** есть выбросы превышающие 1700 л. с. Самый мощный автомобиль имеет 1622 л. с. (Hennessey Venom F5). Вполне возможно, что, когда вбивали значения, могли ввести лишний ноль в конце или продублировать последнюю цифру. Исправим подобные значения."
   ]
  },
  {
   "cell_type": "markdown",
   "metadata": {},
   "source": [
    "#### Power"
   ]
  },
  {
   "cell_type": "code",
   "execution_count": 9,
   "metadata": {},
   "outputs": [],
   "source": [
    "df.loc[(df['Power'] > 1622) & (df['Power'] % 10 == 0),'Power'] =\\\n",
    "df.loc[(df['Power'] > 1622) & (df['Power'] % 10 == 0),'Power'] / 10\n",
    "\n",
    "df.loc[(df['Power'] > 1622) & (df['Power'] % 10 == df['Power'] % 100 // 10),'Power'] =\\\n",
    "df.loc[(df['Power'] > 1622) & (df['Power'] % 10 == df['Power'] % 100 // 10),'Power'] // 10"
   ]
  },
  {
   "cell_type": "markdown",
   "metadata": {},
   "source": [
    "<div style=\"background-color:black; color:#ffffff; text-align:left; padding:2%\">\n",
    "\n",
    "Оставшиеся значения в столбце ***Power***, которые превышают 1622 л.с., удалим. "
   ]
  },
  {
   "cell_type": "code",
   "execution_count": 10,
   "metadata": {},
   "outputs": [
    {
     "data": {
      "text/plain": [
       "101"
      ]
     },
     "execution_count": 10,
     "metadata": {},
     "output_type": "execute_result"
    }
   ],
   "source": [
    "df.loc[(df['Power'] > 1622), 'Power'].count()"
   ]
  },
  {
   "cell_type": "code",
   "execution_count": 11,
   "metadata": {},
   "outputs": [],
   "source": [
    "df = df.loc[df['Power'] <= 1622]"
   ]
  },
  {
   "cell_type": "code",
   "execution_count": 12,
   "metadata": {},
   "outputs": [
    {
     "data": {
      "text/plain": [
       "36409"
      ]
     },
     "execution_count": 12,
     "metadata": {},
     "output_type": "execute_result"
    }
   ],
   "source": [
    "df.loc[df['Power']==0, 'Power'].count()"
   ]
  },
  {
   "cell_type": "markdown",
   "metadata": {},
   "source": [
    "<div style=\"background-color:black; color:#ffffff; text-align:left; padding:2%\">\n",
    "\n",
    "В столбце ***Power*** присутствует много строк, в которых значение равно 0 л. с. Заменим 0 на медианные значения каждой модели."
   ]
  },
  {
   "cell_type": "code",
   "execution_count": 13,
   "metadata": {},
   "outputs": [],
   "source": [
    "df.loc[df['Power']==0, 'Power'] = np.nan\n",
    "df['Power'] = df['Power'].fillna(df.groupby('Model')['Power'].transform('median'))"
   ]
  },
  {
   "cell_type": "code",
   "execution_count": 14,
   "metadata": {},
   "outputs": [
    {
     "data": {
      "text/plain": [
       "0"
      ]
     },
     "execution_count": 14,
     "metadata": {},
     "output_type": "execute_result"
    }
   ],
   "source": [
    "df.loc[(df['Power'] == 0), 'Power'].count()"
   ]
  },
  {
   "cell_type": "code",
   "execution_count": 15,
   "metadata": {},
   "outputs": [
    {
     "data": {
      "text/plain": [
       "5530"
      ]
     },
     "execution_count": 15,
     "metadata": {},
     "output_type": "execute_result"
    }
   ],
   "source": [
    "df['Power'].isna().sum()"
   ]
  },
  {
   "cell_type": "code",
   "execution_count": 16,
   "metadata": {},
   "outputs": [],
   "source": [
    "df = df.loc[~(df['Power'].isna())]"
   ]
  },
  {
   "cell_type": "markdown",
   "metadata": {},
   "source": [
    "<div style=\"background-color:black; color:#ffffff; text-align:left; padding:2%\">\n",
    "\n",
    "Приведем столбцы с датами к соответствующему типу данных."
   ]
  },
  {
   "cell_type": "markdown",
   "metadata": {},
   "source": [
    "#### Даты"
   ]
  },
  {
   "cell_type": "code",
   "execution_count": 17,
   "metadata": {},
   "outputs": [],
   "source": [
    "df['DateCrawled'] = pd.to_datetime(df['DateCrawled'], format='%Y-%m-%d %H:%M:%S')\n",
    "df['DateCreated'] = pd.to_datetime(df['DateCreated'], format='%Y-%m-%d %H:%M:%S')\n",
    "df['LastSeen'] = pd.to_datetime(df['LastSeen'], format='%Y-%m-%d %H:%M:%S')"
   ]
  },
  {
   "cell_type": "code",
   "execution_count": 18,
   "metadata": {},
   "outputs": [
    {
     "name": "stdout",
     "output_type": "stream",
     "text": [
      "<class 'pandas.core.frame.DataFrame'>\n",
      "Int64Index: 334111 entries, 0 to 354368\n",
      "Data columns (total 16 columns):\n",
      " #   Column             Non-Null Count   Dtype         \n",
      "---  ------             --------------   -----         \n",
      " 0   DateCrawled        334111 non-null  datetime64[ns]\n",
      " 1   Price              334111 non-null  int64         \n",
      " 2   VehicleType        314133 non-null  object        \n",
      " 3   RegistrationYear   334111 non-null  int64         \n",
      " 4   Gearbox            319060 non-null  object        \n",
      " 5   Power              334111 non-null  float64       \n",
      " 6   Model              322059 non-null  object        \n",
      " 7   Kilometer          334111 non-null  int64         \n",
      " 8   RegistrationMonth  334111 non-null  int64         \n",
      " 9   FuelType           309963 non-null  object        \n",
      " 10  Brand              334111 non-null  object        \n",
      " 11  Repaired           273233 non-null  object        \n",
      " 12  DateCreated        334111 non-null  datetime64[ns]\n",
      " 13  NumberOfPictures   334111 non-null  int64         \n",
      " 14  PostalCode         334111 non-null  int64         \n",
      " 15  LastSeen           334111 non-null  datetime64[ns]\n",
      "dtypes: datetime64[ns](3), float64(1), int64(6), object(6)\n",
      "memory usage: 43.3+ MB\n"
     ]
    }
   ],
   "source": [
    "df.info()"
   ]
  },
  {
   "cell_type": "code",
   "execution_count": 19,
   "metadata": {},
   "outputs": [
    {
     "data": {
      "text/html": [
       "<div>\n",
       "<style scoped>\n",
       "    .dataframe tbody tr th:only-of-type {\n",
       "        vertical-align: middle;\n",
       "    }\n",
       "\n",
       "    .dataframe tbody tr th {\n",
       "        vertical-align: top;\n",
       "    }\n",
       "\n",
       "    .dataframe thead th {\n",
       "        text-align: right;\n",
       "    }\n",
       "</style>\n",
       "<table border=\"1\" class=\"dataframe\">\n",
       "  <thead>\n",
       "    <tr style=\"text-align: right;\">\n",
       "      <th></th>\n",
       "      <th>DateCrawled</th>\n",
       "      <th>DateCreated</th>\n",
       "      <th>LastSeen</th>\n",
       "    </tr>\n",
       "  </thead>\n",
       "  <tbody>\n",
       "    <tr>\n",
       "      <th>count</th>\n",
       "      <td>334111</td>\n",
       "      <td>334111</td>\n",
       "      <td>334111</td>\n",
       "    </tr>\n",
       "    <tr>\n",
       "      <th>mean</th>\n",
       "      <td>2016-03-21 12:47:44.990338048</td>\n",
       "      <td>2016-03-20 18:58:39.953548032</td>\n",
       "      <td>2016-03-30 01:11:28.039052800</td>\n",
       "    </tr>\n",
       "    <tr>\n",
       "      <th>min</th>\n",
       "      <td>2016-03-05 14:06:22</td>\n",
       "      <td>2014-03-10 00:00:00</td>\n",
       "      <td>2016-03-05 14:15:08</td>\n",
       "    </tr>\n",
       "    <tr>\n",
       "      <th>25%</th>\n",
       "      <td>2016-03-13 11:37:57.500000</td>\n",
       "      <td>2016-03-13 00:00:00</td>\n",
       "      <td>2016-03-23 07:15:34.500000</td>\n",
       "    </tr>\n",
       "    <tr>\n",
       "      <th>50%</th>\n",
       "      <td>2016-03-21 17:48:38</td>\n",
       "      <td>2016-03-21 00:00:00</td>\n",
       "      <td>2016-04-03 18:15:49</td>\n",
       "    </tr>\n",
       "    <tr>\n",
       "      <th>75%</th>\n",
       "      <td>2016-03-29 14:39:48.500000</td>\n",
       "      <td>2016-03-29 00:00:00</td>\n",
       "      <td>2016-04-06 10:17:03</td>\n",
       "    </tr>\n",
       "    <tr>\n",
       "      <th>max</th>\n",
       "      <td>2016-04-07 14:36:58</td>\n",
       "      <td>2016-04-07 00:00:00</td>\n",
       "      <td>2016-04-07 14:58:51</td>\n",
       "    </tr>\n",
       "  </tbody>\n",
       "</table>\n",
       "</div>"
      ],
      "text/plain": [
       "                         DateCrawled                    DateCreated  \\\n",
       "count                         334111                         334111   \n",
       "mean   2016-03-21 12:47:44.990338048  2016-03-20 18:58:39.953548032   \n",
       "min              2016-03-05 14:06:22            2014-03-10 00:00:00   \n",
       "25%       2016-03-13 11:37:57.500000            2016-03-13 00:00:00   \n",
       "50%              2016-03-21 17:48:38            2016-03-21 00:00:00   \n",
       "75%       2016-03-29 14:39:48.500000            2016-03-29 00:00:00   \n",
       "max              2016-04-07 14:36:58            2016-04-07 00:00:00   \n",
       "\n",
       "                            LastSeen  \n",
       "count                         334111  \n",
       "mean   2016-03-30 01:11:28.039052800  \n",
       "min              2016-03-05 14:15:08  \n",
       "25%       2016-03-23 07:15:34.500000  \n",
       "50%              2016-04-03 18:15:49  \n",
       "75%              2016-04-06 10:17:03  \n",
       "max              2016-04-07 14:58:51  "
      ]
     },
     "execution_count": 19,
     "metadata": {},
     "output_type": "execute_result"
    }
   ],
   "source": [
    "df[['DateCrawled','DateCreated','LastSeen']].describe(datetime_is_numeric=True)"
   ]
  },
  {
   "cell_type": "code",
   "execution_count": 20,
   "metadata": {},
   "outputs": [
    {
     "data": {
      "image/png": "[encoded data removed]",
      "text/plain": [
       "<Figure size 1224x720 with 1 Axes>"
      ]
     },
     "metadata": {
      "needs_background": "light"
     },
     "output_type": "display_data"
    }
   ],
   "source": [
    "df['DateCreated'].hist(bins=500, figsize=(17,10));"
   ]
  },
  {
   "cell_type": "markdown",
   "metadata": {},
   "source": [
    "<div style=\"background-color:black; color:#ffffff; text-align:left; padding:2%\">\n",
    "\n",
    "В столбце ***DateCreated*** есть значения за 2014-2015 г. Проверим сколько их."
   ]
  },
  {
   "cell_type": "code",
   "execution_count": 21,
   "metadata": {},
   "outputs": [
    {
     "data": {
      "text/plain": [
       "26"
      ]
     },
     "execution_count": 21,
     "metadata": {},
     "output_type": "execute_result"
    }
   ],
   "source": [
    "df.loc[df['DateCreated']<'2016-01-01','DateCreated'].count()"
   ]
  },
  {
   "cell_type": "markdown",
   "metadata": {},
   "source": [
    "<div style=\"background-color:black; color:#ffffff; text-align:left; padding:2%\">\n",
    "\n",
    "В столбце ***DateCreated*** значения за 2014-2015 г. стоит удалить, так как они неактуальны."
   ]
  },
  {
   "cell_type": "code",
   "execution_count": 22,
   "metadata": {},
   "outputs": [],
   "source": [
    "df = df.loc[df['DateCreated']>'2016-01-01']"
   ]
  },
  {
   "cell_type": "markdown",
   "metadata": {},
   "source": [
    "### Проверка распределений"
   ]
  },
  {
   "cell_type": "code",
   "execution_count": 23,
   "metadata": {},
   "outputs": [],
   "source": [
    "col_obj = df.select_dtypes(include='object').columns\n",
    "col_n = df.select_dtypes(exclude=['object','datetime64']).columns\n",
    "col_dt = df.select_dtypes(include='datetime64').columns"
   ]
  },
  {
   "cell_type": "code",
   "execution_count": 24,
   "metadata": {},
   "outputs": [
    {
     "data": {
      "image/png": "[encoded data removed]",
      "text/plain": [
       "<Figure size 1080x72 with 1 Axes>"
      ]
     },
     "metadata": {
      "needs_background": "light"
     },
     "output_type": "display_data"
    },
    {
     "data": {
      "image/png": "[encoded data removed]",
      "text/plain": [
       "<Figure size 1080x72 with 1 Axes>"
      ]
     },
     "metadata": {
      "needs_background": "light"
     },
     "output_type": "display_data"
    },
    {
     "data": {
      "image/png": "[encoded data removed]",
      "text/plain": [
       "<Figure size 1080x72 with 1 Axes>"
      ]
     },
     "metadata": {
      "needs_background": "light"
     },
     "output_type": "display_data"
    },
    {
     "data": {
      "image/png": "[encoded data removed]",
      "text/plain": [
       "<Figure size 1080x72 with 1 Axes>"
      ]
     },
     "metadata": {
      "needs_background": "light"
     },
     "output_type": "display_data"
    },
    {
     "data": {
      "image/png": "[encoded data removed]",
      "text/plain": [
       "<Figure size 1080x72 with 1 Axes>"
      ]
     },
     "metadata": {
      "needs_background": "light"
     },
     "output_type": "display_data"
    },
    {
     "data": {
      "image/png": "[encoded data removed]",
      "text/plain": [
       "<Figure size 1080x72 with 1 Axes>"
      ]
     },
     "metadata": {
      "needs_background": "light"
     },
     "output_type": "display_data"
    },
    {
     "data": {
      "image/png": "[encoded data removed]",
      "text/plain": [
       "<Figure size 1080x72 with 1 Axes>"
      ]
     },
     "metadata": {
      "needs_background": "light"
     },
     "output_type": "display_data"
    }
   ],
   "source": [
    "for i in col_n:\n",
    "    df.boxplot(column=i, vert=False, figsize=(15,1), grid=True)\n",
    "    plt.title(f'Диаграмма размаха по {i}', fontsize=16)\n",
    "    plt.show();"
   ]
  },
  {
   "cell_type": "code",
   "execution_count": 25,
   "metadata": {},
   "outputs": [
    {
     "data": {
      "image/png": "[encoded data removed]",
      "text/plain": [
       "<Figure size 1224x504 with 1 Axes>"
      ]
     },
     "metadata": {
      "needs_background": "light"
     },
     "output_type": "display_data"
    },
    {
     "data": {
      "image/png": "[encoded data removed]",
      "text/plain": [
       "<Figure size 1224x504 with 1 Axes>"
      ]
     },
     "metadata": {
      "needs_background": "light"
     },
     "output_type": "display_data"
    },
    {
     "data": {
      "image/png": "[encoded data removed]",
      "text/plain": [
       "<Figure size 1224x504 with 1 Axes>"
      ]
     },
     "metadata": {
      "needs_background": "light"
     },
     "output_type": "display_data"
    },
    {
     "data": {
      "image/png": "[encoded data removed]",
      "text/plain": [
       "<Figure size 1224x504 with 1 Axes>"
      ]
     },
     "metadata": {
      "needs_background": "light"
     },
     "output_type": "display_data"
    },
    {
     "data": {
      "image/png": "[encoded data removed]",
      "text/plain": [
       "<Figure size 1224x504 with 1 Axes>"
      ]
     },
     "metadata": {
      "needs_background": "light"
     },
     "output_type": "display_data"
    },
    {
     "data": {
      "image/png": "[encoded data removed]",
      "text/plain": [
       "<Figure size 1224x504 with 1 Axes>"
      ]
     },
     "metadata": {
      "needs_background": "light"
     },
     "output_type": "display_data"
    },
    {
     "data": {
      "image/png": "[encoded data removed]",
      "text/plain": [
       "<Figure size 1224x504 with 1 Axes>"
      ]
     },
     "metadata": {
      "needs_background": "light"
     },
     "output_type": "display_data"
    },
    {
     "data": {
      "image/png": "[encoded data removed]",
      "text/plain": [
       "<Figure size 1224x504 with 1 Axes>"
      ]
     },
     "metadata": {
      "needs_background": "light"
     },
     "output_type": "display_data"
    },
    {
     "data": {
      "image/png": "[encoded data removed]",
      "text/plain": [
       "<Figure size 1224x504 with 1 Axes>"
      ]
     },
     "metadata": {
      "needs_background": "light"
     },
     "output_type": "display_data"
    },
    {
     "data": {
      "image/png": "[encoded data removed]",
      "text/plain": [
       "<Figure size 1224x504 with 1 Axes>"
      ]
     },
     "metadata": {
      "needs_background": "light"
     },
     "output_type": "display_data"
    }
   ],
   "source": [
    "for i in list(col_n) + list(col_dt):\n",
    "    df[i].hist(bins=50, figsize=(17,7), grid=True)\n",
    "    plt.title(f'Гистограмма по {i}', fontsize=16)\n",
    "    plt.ylabel('Количество')\n",
    "    plt.show();"
   ]
  },
  {
   "cell_type": "code",
   "execution_count": 26,
   "metadata": {},
   "outputs": [
    {
     "data": {
      "image/png": "[encoded data removed]",
      "text/plain": [
       "<Figure size 1224x720 with 1 Axes>"
      ]
     },
     "metadata": {
      "needs_background": "light"
     },
     "output_type": "display_data"
    },
    {
     "data": {
      "image/png": "[encoded data removed]",
      "text/plain": [
       "<Figure size 1224x720 with 1 Axes>"
      ]
     },
     "metadata": {
      "needs_background": "light"
     },
     "output_type": "display_data"
    },
    {
     "data": {
      "image/png": "[encoded data removed]",
      "text/plain": [
       "<Figure size 1224x720 with 1 Axes>"
      ]
     },
     "metadata": {
      "needs_background": "light"
     },
     "output_type": "display_data"
    },
    {
     "data": {
      "image/png": "[encoded data removed]",
      "text/plain": [
       "<Figure size 1224x720 with 1 Axes>"
      ]
     },
     "metadata": {
      "needs_background": "light"
     },
     "output_type": "display_data"
    },
    {
     "data": {
      "image/png": "[encoded data removed]",
      "text/plain": [
       "<Figure size 1224x720 with 1 Axes>"
      ]
     },
     "metadata": {
      "needs_background": "light"
     },
     "output_type": "display_data"
    }
   ],
   "source": [
    "for i in col_obj.drop('Model'):\n",
    "    df.groupby(i)[i].count().plot(kind='barh',figsize=(17,10), grid=True)\n",
    "    plt.title(f'Гистограмма по {i}', fontsize=16)\n",
    "    plt.xlabel('Количество')\n",
    "    plt.show();"
   ]
  },
  {
   "cell_type": "code",
   "execution_count": 27,
   "metadata": {},
   "outputs": [
    {
     "data": {
      "text/plain": [
       "Model\n",
       "golf                  27614\n",
       "other                 23865\n",
       "3er                   19220\n",
       "polo                  12445\n",
       "corsa                 11934\n",
       "                      ...  \n",
       "serie_2                   7\n",
       "kalina                    6\n",
       "serie_3                   4\n",
       "rangerover                3\n",
       "range_rover_evoque        2\n",
       "Length: 249, dtype: int64"
      ]
     },
     "execution_count": 27,
     "metadata": {},
     "output_type": "execute_result"
    }
   ],
   "source": [
    "df.value_counts('Model')"
   ]
  },
  {
   "cell_type": "markdown",
   "metadata": {},
   "source": [
    "### Удаление лишних и ошибочных данных"
   ]
  },
  {
   "cell_type": "markdown",
   "metadata": {},
   "source": [
    "<div style=\"background-color:black; color:#ffffff; text-align:left; padding:2%\">\n",
    "\n",
    "Удалим лишние признаки, которые точно не влияют на стоимость автомобилей: *DateCrawled, DateCreated, NumberOfPictures, PostalCode, LastSeen, RegistrationMonth.* Месяц регистрации удаляем потому, что при продаже автомобиля обычно смотрят только на год регистрации."
   ]
  },
  {
   "cell_type": "code",
   "execution_count": 28,
   "metadata": {},
   "outputs": [],
   "source": [
    "df = df.drop(['DateCrawled','DateCreated','NumberOfPictures','PostalCode','LastSeen','RegistrationMonth'], axis=1)"
   ]
  },
  {
   "cell_type": "code",
   "execution_count": 29,
   "metadata": {},
   "outputs": [
    {
     "name": "stdout",
     "output_type": "stream",
     "text": [
      "<class 'pandas.core.frame.DataFrame'>\n",
      "Int64Index: 334085 entries, 0 to 354368\n",
      "Data columns (total 10 columns):\n",
      " #   Column            Non-Null Count   Dtype  \n",
      "---  ------            --------------   -----  \n",
      " 0   Price             334085 non-null  int64  \n",
      " 1   VehicleType       314109 non-null  object \n",
      " 2   RegistrationYear  334085 non-null  int64  \n",
      " 3   Gearbox           319036 non-null  object \n",
      " 4   Power             334085 non-null  float64\n",
      " 5   Model             322034 non-null  object \n",
      " 6   Kilometer         334085 non-null  int64  \n",
      " 7   FuelType          309937 non-null  object \n",
      " 8   Brand             334085 non-null  object \n",
      " 9   Repaired          273211 non-null  object \n",
      "dtypes: float64(1), int64(3), object(6)\n",
      "memory usage: 28.0+ MB\n"
     ]
    }
   ],
   "source": [
    "df.info()"
   ]
  },
  {
   "cell_type": "code",
   "execution_count": 30,
   "metadata": {},
   "outputs": [
    {
     "data": {
      "text/html": [
       "<div>\n",
       "<style scoped>\n",
       "    .dataframe tbody tr th:only-of-type {\n",
       "        vertical-align: middle;\n",
       "    }\n",
       "\n",
       "    .dataframe tbody tr th {\n",
       "        vertical-align: top;\n",
       "    }\n",
       "\n",
       "    .dataframe thead th {\n",
       "        text-align: right;\n",
       "    }\n",
       "</style>\n",
       "<table border=\"1\" class=\"dataframe\">\n",
       "  <thead>\n",
       "    <tr style=\"text-align: right;\">\n",
       "      <th></th>\n",
       "      <th>Price</th>\n",
       "      <th>RegistrationYear</th>\n",
       "      <th>Power</th>\n",
       "      <th>Kilometer</th>\n",
       "    </tr>\n",
       "  </thead>\n",
       "  <tbody>\n",
       "    <tr>\n",
       "      <th>count</th>\n",
       "      <td>334085.000000</td>\n",
       "      <td>334085.000000</td>\n",
       "      <td>334085.000000</td>\n",
       "      <td>334085.000000</td>\n",
       "    </tr>\n",
       "    <tr>\n",
       "      <th>mean</th>\n",
       "      <td>4517.474260</td>\n",
       "      <td>2002.574512</td>\n",
       "      <td>119.955077</td>\n",
       "      <td>128385.111573</td>\n",
       "    </tr>\n",
       "    <tr>\n",
       "      <th>std</th>\n",
       "      <td>4553.734077</td>\n",
       "      <td>6.790171</td>\n",
       "      <td>58.795266</td>\n",
       "      <td>37406.556812</td>\n",
       "    </tr>\n",
       "    <tr>\n",
       "      <th>min</th>\n",
       "      <td>0.000000</td>\n",
       "      <td>1919.000000</td>\n",
       "      <td>1.000000</td>\n",
       "      <td>5000.000000</td>\n",
       "    </tr>\n",
       "    <tr>\n",
       "      <th>25%</th>\n",
       "      <td>1100.000000</td>\n",
       "      <td>1999.000000</td>\n",
       "      <td>75.000000</td>\n",
       "      <td>125000.000000</td>\n",
       "    </tr>\n",
       "    <tr>\n",
       "      <th>50%</th>\n",
       "      <td>2800.000000</td>\n",
       "      <td>2003.000000</td>\n",
       "      <td>110.000000</td>\n",
       "      <td>150000.000000</td>\n",
       "    </tr>\n",
       "    <tr>\n",
       "      <th>75%</th>\n",
       "      <td>6500.000000</td>\n",
       "      <td>2007.000000</td>\n",
       "      <td>147.000000</td>\n",
       "      <td>150000.000000</td>\n",
       "    </tr>\n",
       "    <tr>\n",
       "      <th>max</th>\n",
       "      <td>20000.000000</td>\n",
       "      <td>2016.000000</td>\n",
       "      <td>1600.000000</td>\n",
       "      <td>150000.000000</td>\n",
       "    </tr>\n",
       "  </tbody>\n",
       "</table>\n",
       "</div>"
      ],
      "text/plain": [
       "               Price  RegistrationYear          Power      Kilometer\n",
       "count  334085.000000     334085.000000  334085.000000  334085.000000\n",
       "mean     4517.474260       2002.574512     119.955077  128385.111573\n",
       "std      4553.734077          6.790171      58.795266   37406.556812\n",
       "min         0.000000       1919.000000       1.000000    5000.000000\n",
       "25%      1100.000000       1999.000000      75.000000  125000.000000\n",
       "50%      2800.000000       2003.000000     110.000000  150000.000000\n",
       "75%      6500.000000       2007.000000     147.000000  150000.000000\n",
       "max     20000.000000       2016.000000    1600.000000  150000.000000"
      ]
     },
     "execution_count": 30,
     "metadata": {},
     "output_type": "execute_result"
    }
   ],
   "source": [
    "df.describe()"
   ]
  },
  {
   "cell_type": "code",
   "execution_count": 31,
   "metadata": {},
   "outputs": [
    {
     "data": {
      "text/plain": [
       "8828"
      ]
     },
     "execution_count": 31,
     "metadata": {},
     "output_type": "execute_result"
    }
   ],
   "source": [
    "df.loc[df['Price']==0,'Price'].count()"
   ]
  },
  {
   "cell_type": "code",
   "execution_count": 32,
   "metadata": {},
   "outputs": [
    {
     "data": {
      "text/plain": [
       "12051"
      ]
     },
     "execution_count": 32,
     "metadata": {},
     "output_type": "execute_result"
    }
   ],
   "source": [
    "df['Model'].isna().sum()"
   ]
  },
  {
   "cell_type": "markdown",
   "metadata": {},
   "source": [
    "<div style=\"background-color:black; color:#ffffff; text-align:left; padding:2%\">\n",
    "\n",
    "Нулевая цена может быть ошибочна, либо означает, что автомобиль отдают даром. Модель автомобиля является одним ключевых признаков, пропуски критичны. Исправить эти признаки нет возможности, поэтому удаляем ошибочные данные."
   ]
  },
  {
   "cell_type": "code",
   "execution_count": 33,
   "metadata": {},
   "outputs": [],
   "source": [
    "df = df.loc[(df['Price']!=0)&(~(df['Model'].isna()))]\n",
    "# df = df.loc[~(df['Model'].isna())]"
   ]
  },
  {
   "cell_type": "code",
   "execution_count": 34,
   "metadata": {},
   "outputs": [
    {
     "name": "stdout",
     "output_type": "stream",
     "text": [
      "<class 'pandas.core.frame.DataFrame'>\n",
      "Int64Index: 314026 entries, 0 to 354368\n",
      "Data columns (total 10 columns):\n",
      " #   Column            Non-Null Count   Dtype  \n",
      "---  ------            --------------   -----  \n",
      " 0   Price             314026 non-null  int64  \n",
      " 1   VehicleType       297777 non-null  object \n",
      " 2   RegistrationYear  314026 non-null  int64  \n",
      " 3   Gearbox           301125 non-null  object \n",
      " 4   Power             314026 non-null  float64\n",
      " 5   Model             314026 non-null  object \n",
      " 6   Kilometer         314026 non-null  int64  \n",
      " 7   FuelType          294788 non-null  object \n",
      " 8   Brand             314026 non-null  object \n",
      " 9   Repaired          260872 non-null  object \n",
      "dtypes: float64(1), int64(3), object(6)\n",
      "memory usage: 26.4+ MB\n"
     ]
    }
   ],
   "source": [
    "df.info()"
   ]
  },
  {
   "cell_type": "markdown",
   "metadata": {},
   "source": [
    "### Заполнение пропусков"
   ]
  },
  {
   "cell_type": "code",
   "execution_count": 35,
   "metadata": {},
   "outputs": [
    {
     "data": {
      "text/plain": [
       "array([nan, 'no', 'yes'], dtype=object)"
      ]
     },
     "execution_count": 35,
     "metadata": {},
     "output_type": "execute_result"
    }
   ],
   "source": [
    "df['Repaired'].unique()"
   ]
  },
  {
   "cell_type": "code",
   "execution_count": 36,
   "metadata": {},
   "outputs": [],
   "source": [
    "df['Repaired'] = df['Repaired'].fillna('unknown')"
   ]
  },
  {
   "cell_type": "markdown",
   "metadata": {},
   "source": [
    "<div style=\"background-color:black; color:#ffffff; text-align:left; padding:2%\">\n",
    "\n",
    "***VehicleType, Gearbox, FuelType*** с большой вероятностью одинаковы в одинаковых моделях, поэтому заполняем наиболее распространенными значениями."
   ]
  },
  {
   "cell_type": "code",
   "execution_count": 37,
   "metadata": {},
   "outputs": [],
   "source": [
    "df['VehicleType'] = df['VehicleType'].fillna(df.groupby('Model')['VehicleType']\n",
    "                                                 .transform(lambda x: x.value_counts().idxmax()))"
   ]
  },
  {
   "cell_type": "code",
   "execution_count": 38,
   "metadata": {},
   "outputs": [],
   "source": [
    "df['Gearbox'] = df['Gearbox'].fillna(df.groupby('Model')['Gearbox']\n",
    "                                                 .transform(lambda x: x.value_counts().idxmax()))"
   ]
  },
  {
   "cell_type": "code",
   "execution_count": 39,
   "metadata": {},
   "outputs": [],
   "source": [
    "df['FuelType'] = df['FuelType'].fillna(df.groupby('Model')['FuelType']\n",
    "                                                 .transform(lambda x: x.value_counts().idxmax()))"
   ]
  },
  {
   "cell_type": "code",
   "execution_count": 40,
   "metadata": {},
   "outputs": [
    {
     "name": "stdout",
     "output_type": "stream",
     "text": [
      "<class 'pandas.core.frame.DataFrame'>\n",
      "Int64Index: 314026 entries, 0 to 354368\n",
      "Data columns (total 10 columns):\n",
      " #   Column            Non-Null Count   Dtype  \n",
      "---  ------            --------------   -----  \n",
      " 0   Price             314026 non-null  int64  \n",
      " 1   VehicleType       314026 non-null  object \n",
      " 2   RegistrationYear  314026 non-null  int64  \n",
      " 3   Gearbox           314026 non-null  object \n",
      " 4   Power             314026 non-null  float64\n",
      " 5   Model             314026 non-null  object \n",
      " 6   Kilometer         314026 non-null  int64  \n",
      " 7   FuelType          314026 non-null  object \n",
      " 8   Brand             314026 non-null  object \n",
      " 9   Repaired          314026 non-null  object \n",
      "dtypes: float64(1), int64(3), object(6)\n",
      "memory usage: 26.4+ MB\n"
     ]
    }
   ],
   "source": [
    "df.info()"
   ]
  },
  {
   "cell_type": "code",
   "execution_count": 41,
   "metadata": {},
   "outputs": [
    {
     "data": {
      "text/html": [
       "<div>\n",
       "<style scoped>\n",
       "    .dataframe tbody tr th:only-of-type {\n",
       "        vertical-align: middle;\n",
       "    }\n",
       "\n",
       "    .dataframe tbody tr th {\n",
       "        vertical-align: top;\n",
       "    }\n",
       "\n",
       "    .dataframe thead th {\n",
       "        text-align: right;\n",
       "    }\n",
       "</style>\n",
       "<table border=\"1\" class=\"dataframe\">\n",
       "  <thead>\n",
       "    <tr style=\"text-align: right;\">\n",
       "      <th></th>\n",
       "      <th>Price</th>\n",
       "      <th>RegistrationYear</th>\n",
       "      <th>Power</th>\n",
       "      <th>Kilometer</th>\n",
       "    </tr>\n",
       "  </thead>\n",
       "  <tbody>\n",
       "    <tr>\n",
       "      <th>count</th>\n",
       "      <td>314026.000000</td>\n",
       "      <td>314026.000000</td>\n",
       "      <td>314026.00000</td>\n",
       "      <td>314026.000000</td>\n",
       "    </tr>\n",
       "    <tr>\n",
       "      <th>mean</th>\n",
       "      <td>4672.170467</td>\n",
       "      <td>2002.746352</td>\n",
       "      <td>120.04029</td>\n",
       "      <td>128419.557616</td>\n",
       "    </tr>\n",
       "    <tr>\n",
       "      <th>std</th>\n",
       "      <td>4559.356257</td>\n",
       "      <td>6.585259</td>\n",
       "      <td>57.84108</td>\n",
       "      <td>37053.670924</td>\n",
       "    </tr>\n",
       "    <tr>\n",
       "      <th>min</th>\n",
       "      <td>1.000000</td>\n",
       "      <td>1923.000000</td>\n",
       "      <td>1.00000</td>\n",
       "      <td>5000.000000</td>\n",
       "    </tr>\n",
       "    <tr>\n",
       "      <th>25%</th>\n",
       "      <td>1250.000000</td>\n",
       "      <td>1999.000000</td>\n",
       "      <td>75.00000</td>\n",
       "      <td>125000.000000</td>\n",
       "    </tr>\n",
       "    <tr>\n",
       "      <th>50%</th>\n",
       "      <td>2990.000000</td>\n",
       "      <td>2003.000000</td>\n",
       "      <td>110.00000</td>\n",
       "      <td>150000.000000</td>\n",
       "    </tr>\n",
       "    <tr>\n",
       "      <th>75%</th>\n",
       "      <td>6790.000000</td>\n",
       "      <td>2007.000000</td>\n",
       "      <td>147.00000</td>\n",
       "      <td>150000.000000</td>\n",
       "    </tr>\n",
       "    <tr>\n",
       "      <th>max</th>\n",
       "      <td>20000.000000</td>\n",
       "      <td>2016.000000</td>\n",
       "      <td>1600.00000</td>\n",
       "      <td>150000.000000</td>\n",
       "    </tr>\n",
       "  </tbody>\n",
       "</table>\n",
       "</div>"
      ],
      "text/plain": [
       "               Price  RegistrationYear         Power      Kilometer\n",
       "count  314026.000000     314026.000000  314026.00000  314026.000000\n",
       "mean     4672.170467       2002.746352     120.04029  128419.557616\n",
       "std      4559.356257          6.585259      57.84108   37053.670924\n",
       "min         1.000000       1923.000000       1.00000    5000.000000\n",
       "25%      1250.000000       1999.000000      75.00000  125000.000000\n",
       "50%      2990.000000       2003.000000     110.00000  150000.000000\n",
       "75%      6790.000000       2007.000000     147.00000  150000.000000\n",
       "max     20000.000000       2016.000000    1600.00000  150000.000000"
      ]
     },
     "execution_count": 41,
     "metadata": {},
     "output_type": "execute_result"
    }
   ],
   "source": [
    "df.describe()"
   ]
  },
  {
   "cell_type": "markdown",
   "metadata": {},
   "source": [
    "<div class=\"alert alert-info\">\n",
    "<font size=\"4\"><b>Комментарий студента</b></font>\n",
    "    <br /> \n",
    "    <font size=\"3\", color = \"black\">\n",
    "<br />\n",
    "    Исправил (см. след. пункт)\n",
    "    <br />"
   ]
  },
  {
   "cell_type": "markdown",
   "metadata": {},
   "source": [
    "### Проверка на дубликаты"
   ]
  },
  {
   "cell_type": "code",
   "execution_count": 42,
   "metadata": {},
   "outputs": [
    {
     "data": {
      "text/plain": [
       "46339"
      ]
     },
     "execution_count": 42,
     "metadata": {},
     "output_type": "execute_result"
    }
   ],
   "source": [
    "df.duplicated().sum()"
   ]
  },
  {
   "cell_type": "markdown",
   "metadata": {},
   "source": [
    "<div style=\"background-color:black; color:#ffffff; text-align:left; padding:2%\">\n",
    "\n",
    "Удалим полные дубликаты."
   ]
  },
  {
   "cell_type": "code",
   "execution_count": 43,
   "metadata": {},
   "outputs": [],
   "source": [
    "df = df.drop_duplicates()"
   ]
  },
  {
   "cell_type": "markdown",
   "metadata": {},
   "source": [
    "### Изменение типов данных"
   ]
  },
  {
   "cell_type": "code",
   "execution_count": 44,
   "metadata": {},
   "outputs": [],
   "source": [
    "df['Price'] = df['Price'].astype('int16')\n",
    "df['RegistrationYear'] = df['RegistrationYear'].astype('int16')\n",
    "df['Kilometer'] = df['Kilometer'].astype('int32')"
   ]
  },
  {
   "cell_type": "code",
   "execution_count": 45,
   "metadata": {},
   "outputs": [
    {
     "name": "stdout",
     "output_type": "stream",
     "text": [
      "<class 'pandas.core.frame.DataFrame'>\n",
      "Int64Index: 267687 entries, 0 to 354368\n",
      "Data columns (total 10 columns):\n",
      " #   Column            Non-Null Count   Dtype  \n",
      "---  ------            --------------   -----  \n",
      " 0   Price             267687 non-null  int16  \n",
      " 1   VehicleType       267687 non-null  object \n",
      " 2   RegistrationYear  267687 non-null  int16  \n",
      " 3   Gearbox           267687 non-null  object \n",
      " 4   Power             267687 non-null  float64\n",
      " 5   Model             267687 non-null  object \n",
      " 6   Kilometer         267687 non-null  int32  \n",
      " 7   FuelType          267687 non-null  object \n",
      " 8   Brand             267687 non-null  object \n",
      " 9   Repaired          267687 non-null  object \n",
      "dtypes: float64(1), int16(2), int32(1), object(6)\n",
      "memory usage: 18.4+ MB\n"
     ]
    }
   ],
   "source": [
    "df.info()"
   ]
  },
  {
   "cell_type": "code",
   "execution_count": 46,
   "metadata": {},
   "outputs": [
    {
     "data": {
      "text/html": [
       "<div>\n",
       "<style scoped>\n",
       "    .dataframe tbody tr th:only-of-type {\n",
       "        vertical-align: middle;\n",
       "    }\n",
       "\n",
       "    .dataframe tbody tr th {\n",
       "        vertical-align: top;\n",
       "    }\n",
       "\n",
       "    .dataframe thead th {\n",
       "        text-align: right;\n",
       "    }\n",
       "</style>\n",
       "<table border=\"1\" class=\"dataframe\">\n",
       "  <thead>\n",
       "    <tr style=\"text-align: right;\">\n",
       "      <th></th>\n",
       "      <th>Price</th>\n",
       "      <th>RegistrationYear</th>\n",
       "      <th>Power</th>\n",
       "      <th>Kilometer</th>\n",
       "    </tr>\n",
       "  </thead>\n",
       "  <tbody>\n",
       "    <tr>\n",
       "      <th>count</th>\n",
       "      <td>267687.000000</td>\n",
       "      <td>267687.000000</td>\n",
       "      <td>267687.000000</td>\n",
       "      <td>267687.000000</td>\n",
       "    </tr>\n",
       "    <tr>\n",
       "      <th>mean</th>\n",
       "      <td>4802.553628</td>\n",
       "      <td>2002.800461</td>\n",
       "      <td>121.440163</td>\n",
       "      <td>127030.057493</td>\n",
       "    </tr>\n",
       "    <tr>\n",
       "      <th>std</th>\n",
       "      <td>4627.258823</td>\n",
       "      <td>6.757187</td>\n",
       "      <td>58.839486</td>\n",
       "      <td>37945.500122</td>\n",
       "    </tr>\n",
       "    <tr>\n",
       "      <th>min</th>\n",
       "      <td>1.000000</td>\n",
       "      <td>1923.000000</td>\n",
       "      <td>1.000000</td>\n",
       "      <td>5000.000000</td>\n",
       "    </tr>\n",
       "    <tr>\n",
       "      <th>25%</th>\n",
       "      <td>1299.000000</td>\n",
       "      <td>1999.000000</td>\n",
       "      <td>80.000000</td>\n",
       "      <td>125000.000000</td>\n",
       "    </tr>\n",
       "    <tr>\n",
       "      <th>50%</th>\n",
       "      <td>3099.000000</td>\n",
       "      <td>2003.000000</td>\n",
       "      <td>115.000000</td>\n",
       "      <td>150000.000000</td>\n",
       "    </tr>\n",
       "    <tr>\n",
       "      <th>75%</th>\n",
       "      <td>6950.000000</td>\n",
       "      <td>2007.000000</td>\n",
       "      <td>150.000000</td>\n",
       "      <td>150000.000000</td>\n",
       "    </tr>\n",
       "    <tr>\n",
       "      <th>max</th>\n",
       "      <td>20000.000000</td>\n",
       "      <td>2016.000000</td>\n",
       "      <td>1600.000000</td>\n",
       "      <td>150000.000000</td>\n",
       "    </tr>\n",
       "  </tbody>\n",
       "</table>\n",
       "</div>"
      ],
      "text/plain": [
       "               Price  RegistrationYear          Power      Kilometer\n",
       "count  267687.000000     267687.000000  267687.000000  267687.000000\n",
       "mean     4802.553628       2002.800461     121.440163  127030.057493\n",
       "std      4627.258823          6.757187      58.839486   37945.500122\n",
       "min         1.000000       1923.000000       1.000000    5000.000000\n",
       "25%      1299.000000       1999.000000      80.000000  125000.000000\n",
       "50%      3099.000000       2003.000000     115.000000  150000.000000\n",
       "75%      6950.000000       2007.000000     150.000000  150000.000000\n",
       "max     20000.000000       2016.000000    1600.000000  150000.000000"
      ]
     },
     "execution_count": 46,
     "metadata": {},
     "output_type": "execute_result"
    }
   ],
   "source": [
    "df.describe()"
   ]
  },
  {
   "cell_type": "markdown",
   "metadata": {},
   "source": [
    "### Кодирование категориальных признаков, создание выборок"
   ]
  },
  {
   "cell_type": "code",
   "execution_count": 47,
   "metadata": {},
   "outputs": [
    {
     "name": "stdout",
     "output_type": "stream",
     "text": [
      "interval columns not set, guessing: ['Price', 'RegistrationYear', 'Power', 'Kilometer']\n"
     ]
    },
    {
     "data": {
      "image/png": "[encoded data removed]",
      "text/plain": [
       "<Figure size 1152x576 with 2 Axes>"
      ]
     },
     "metadata": {
      "needs_background": "light"
     },
     "output_type": "display_data"
    }
   ],
   "source": [
    "plt.figure(figsize=(16,8))\n",
    "sns.heatmap(df.phik_matrix(), cmap='coolwarm', annot=True);\n",
    "plt.xticks(rotation=45);"
   ]
  },
  {
   "cell_type": "code",
   "execution_count": 48,
   "metadata": {},
   "outputs": [
    {
     "data": {
      "text/html": [
       "<div>\n",
       "<style scoped>\n",
       "    .dataframe tbody tr th:only-of-type {\n",
       "        vertical-align: middle;\n",
       "    }\n",
       "\n",
       "    .dataframe tbody tr th {\n",
       "        vertical-align: top;\n",
       "    }\n",
       "\n",
       "    .dataframe thead th {\n",
       "        text-align: right;\n",
       "    }\n",
       "</style>\n",
       "<table border=\"1\" class=\"dataframe\">\n",
       "  <thead>\n",
       "    <tr style=\"text-align: right;\">\n",
       "      <th></th>\n",
       "      <th>Price</th>\n",
       "      <th>VehicleType</th>\n",
       "      <th>RegistrationYear</th>\n",
       "      <th>Gearbox</th>\n",
       "      <th>Power</th>\n",
       "      <th>Model</th>\n",
       "      <th>Kilometer</th>\n",
       "      <th>FuelType</th>\n",
       "      <th>Brand</th>\n",
       "      <th>Repaired</th>\n",
       "    </tr>\n",
       "  </thead>\n",
       "  <tbody>\n",
       "    <tr>\n",
       "      <th>0</th>\n",
       "      <td>480</td>\n",
       "      <td>sedan</td>\n",
       "      <td>1993</td>\n",
       "      <td>manual</td>\n",
       "      <td>101.0</td>\n",
       "      <td>golf</td>\n",
       "      <td>150000</td>\n",
       "      <td>petrol</td>\n",
       "      <td>volkswagen</td>\n",
       "      <td>unknown</td>\n",
       "    </tr>\n",
       "    <tr>\n",
       "      <th>2</th>\n",
       "      <td>9800</td>\n",
       "      <td>suv</td>\n",
       "      <td>2004</td>\n",
       "      <td>auto</td>\n",
       "      <td>163.0</td>\n",
       "      <td>grand</td>\n",
       "      <td>125000</td>\n",
       "      <td>gasoline</td>\n",
       "      <td>jeep</td>\n",
       "      <td>unknown</td>\n",
       "    </tr>\n",
       "    <tr>\n",
       "      <th>3</th>\n",
       "      <td>1500</td>\n",
       "      <td>small</td>\n",
       "      <td>2001</td>\n",
       "      <td>manual</td>\n",
       "      <td>75.0</td>\n",
       "      <td>golf</td>\n",
       "      <td>150000</td>\n",
       "      <td>petrol</td>\n",
       "      <td>volkswagen</td>\n",
       "      <td>no</td>\n",
       "    </tr>\n",
       "    <tr>\n",
       "      <th>4</th>\n",
       "      <td>3600</td>\n",
       "      <td>small</td>\n",
       "      <td>2008</td>\n",
       "      <td>manual</td>\n",
       "      <td>69.0</td>\n",
       "      <td>fabia</td>\n",
       "      <td>90000</td>\n",
       "      <td>gasoline</td>\n",
       "      <td>skoda</td>\n",
       "      <td>no</td>\n",
       "    </tr>\n",
       "    <tr>\n",
       "      <th>5</th>\n",
       "      <td>650</td>\n",
       "      <td>sedan</td>\n",
       "      <td>1995</td>\n",
       "      <td>manual</td>\n",
       "      <td>102.0</td>\n",
       "      <td>3er</td>\n",
       "      <td>150000</td>\n",
       "      <td>petrol</td>\n",
       "      <td>bmw</td>\n",
       "      <td>yes</td>\n",
       "    </tr>\n",
       "  </tbody>\n",
       "</table>\n",
       "</div>"
      ],
      "text/plain": [
       "   Price VehicleType  RegistrationYear Gearbox  Power  Model  Kilometer  \\\n",
       "0    480       sedan              1993  manual  101.0   golf     150000   \n",
       "2   9800         suv              2004    auto  163.0  grand     125000   \n",
       "3   1500       small              2001  manual   75.0   golf     150000   \n",
       "4   3600       small              2008  manual   69.0  fabia      90000   \n",
       "5    650       sedan              1995  manual  102.0    3er     150000   \n",
       "\n",
       "   FuelType       Brand Repaired  \n",
       "0    petrol  volkswagen  unknown  \n",
       "2  gasoline        jeep  unknown  \n",
       "3    petrol  volkswagen       no  \n",
       "4  gasoline       skoda       no  \n",
       "5    petrol         bmw      yes  "
      ]
     },
     "execution_count": 48,
     "metadata": {},
     "output_type": "execute_result"
    }
   ],
   "source": [
    "df.head()"
   ]
  },
  {
   "cell_type": "code",
   "execution_count": 49,
   "metadata": {},
   "outputs": [
    {
     "data": {
      "text/plain": [
       "Index(['Price', 'VehicleType', 'RegistrationYear', 'Gearbox', 'Power', 'Model',\n",
       "       'Kilometer', 'FuelType', 'Brand', 'Repaired'],\n",
       "      dtype='object')"
      ]
     },
     "execution_count": 49,
     "metadata": {},
     "output_type": "execute_result"
    }
   ],
   "source": [
    "df.columns"
   ]
  },
  {
   "cell_type": "markdown",
   "metadata": {},
   "source": [
    "<div style=\"background-color:black; color:#ffffff; text-align:left; padding:2%\">\n",
    "\n",
    "Признаки **Gearbox, Repaired** закодируем при помощи OHE, остальные категориальные признаки при помощи Ordinal Encoder."
   ]
  },
  {
   "cell_type": "code",
   "execution_count": 50,
   "metadata": {},
   "outputs": [],
   "source": [
    "RANDOM_STATE = 42"
   ]
  },
  {
   "cell_type": "code",
   "execution_count": 51,
   "metadata": {},
   "outputs": [
    {
     "data": {
      "text/plain": [
       "((267687, 9), (267687,))"
      ]
     },
     "execution_count": 51,
     "metadata": {},
     "output_type": "execute_result"
    }
   ],
   "source": [
    "features = df.drop('Price', axis=1)\n",
    "target = df['Price']\n",
    "features.shape, target.shape"
   ]
  },
  {
   "cell_type": "code",
   "execution_count": 52,
   "metadata": {},
   "outputs": [
    {
     "name": "stdout",
     "output_type": "stream",
     "text": [
      "(160611, 9)\n",
      "(53538, 9)\n",
      "(53538, 9)\n",
      "(160611,)\n",
      "(53538,)\n",
      "(53538,)\n"
     ]
    }
   ],
   "source": [
    "features_x, features_test, target_x, target_test = train_test_split(\n",
    "    features, target, test_size=0.2, random_state=RANDOM_STATE)\n",
    "\n",
    "features_train, features_valid, target_train, target_valid = train_test_split(\n",
    "    features_x, target_x, test_size=0.25, random_state=RANDOM_STATE)\n",
    "\n",
    "features_train = features_train.reset_index(drop=True)\n",
    "features_valid = features_valid.reset_index(drop=True)\n",
    "features_test = features_test.reset_index(drop=True)\n",
    "\n",
    "target_train = target_train.reset_index(drop=True)\n",
    "target_valid = target_valid.reset_index(drop=True)\n",
    "target_test = target_test.reset_index(drop=True)\n",
    "\n",
    "print(features_train.shape)\n",
    "print(features_valid.shape)\n",
    "print(features_test.shape)\n",
    "print(target_train.shape)\n",
    "print(target_valid.shape)\n",
    "print(target_test.shape)"
   ]
  },
  {
   "cell_type": "code",
   "execution_count": 53,
   "metadata": {},
   "outputs": [
    {
     "data": {
      "text/html": [
       "<div>\n",
       "<style scoped>\n",
       "    .dataframe tbody tr th:only-of-type {\n",
       "        vertical-align: middle;\n",
       "    }\n",
       "\n",
       "    .dataframe tbody tr th {\n",
       "        vertical-align: top;\n",
       "    }\n",
       "\n",
       "    .dataframe thead th {\n",
       "        text-align: right;\n",
       "    }\n",
       "</style>\n",
       "<table border=\"1\" class=\"dataframe\">\n",
       "  <thead>\n",
       "    <tr style=\"text-align: right;\">\n",
       "      <th></th>\n",
       "      <th>VehicleType</th>\n",
       "      <th>RegistrationYear</th>\n",
       "      <th>Power</th>\n",
       "      <th>Model</th>\n",
       "      <th>Kilometer</th>\n",
       "      <th>FuelType</th>\n",
       "      <th>Brand</th>\n",
       "      <th>x0_manual</th>\n",
       "      <th>x1_unknown</th>\n",
       "      <th>x1_yes</th>\n",
       "    </tr>\n",
       "  </thead>\n",
       "  <tbody>\n",
       "    <tr>\n",
       "      <th>0</th>\n",
       "      <td>wagon</td>\n",
       "      <td>2005</td>\n",
       "      <td>320.0</td>\n",
       "      <td>5er</td>\n",
       "      <td>150000</td>\n",
       "      <td>gasoline</td>\n",
       "      <td>bmw</td>\n",
       "      <td>0</td>\n",
       "      <td>0</td>\n",
       "      <td>0</td>\n",
       "    </tr>\n",
       "    <tr>\n",
       "      <th>1</th>\n",
       "      <td>bus</td>\n",
       "      <td>2005</td>\n",
       "      <td>140.0</td>\n",
       "      <td>touran</td>\n",
       "      <td>150000</td>\n",
       "      <td>gasoline</td>\n",
       "      <td>volkswagen</td>\n",
       "      <td>1</td>\n",
       "      <td>1</td>\n",
       "      <td>0</td>\n",
       "    </tr>\n",
       "    <tr>\n",
       "      <th>2</th>\n",
       "      <td>small</td>\n",
       "      <td>2000</td>\n",
       "      <td>60.0</td>\n",
       "      <td>2_reihe</td>\n",
       "      <td>150000</td>\n",
       "      <td>petrol</td>\n",
       "      <td>peugeot</td>\n",
       "      <td>1</td>\n",
       "      <td>0</td>\n",
       "      <td>1</td>\n",
       "    </tr>\n",
       "    <tr>\n",
       "      <th>3</th>\n",
       "      <td>suv</td>\n",
       "      <td>2013</td>\n",
       "      <td>105.0</td>\n",
       "      <td>duster</td>\n",
       "      <td>20000</td>\n",
       "      <td>petrol</td>\n",
       "      <td>dacia</td>\n",
       "      <td>1</td>\n",
       "      <td>0</td>\n",
       "      <td>0</td>\n",
       "    </tr>\n",
       "    <tr>\n",
       "      <th>4</th>\n",
       "      <td>sedan</td>\n",
       "      <td>1996</td>\n",
       "      <td>75.0</td>\n",
       "      <td>astra</td>\n",
       "      <td>150000</td>\n",
       "      <td>petrol</td>\n",
       "      <td>opel</td>\n",
       "      <td>1</td>\n",
       "      <td>0</td>\n",
       "      <td>0</td>\n",
       "    </tr>\n",
       "  </tbody>\n",
       "</table>\n",
       "</div>"
      ],
      "text/plain": [
       "  VehicleType  RegistrationYear  Power    Model  Kilometer  FuelType  \\\n",
       "0       wagon              2005  320.0      5er     150000  gasoline   \n",
       "1         bus              2005  140.0   touran     150000  gasoline   \n",
       "2       small              2000   60.0  2_reihe     150000    petrol   \n",
       "3         suv              2013  105.0   duster      20000    petrol   \n",
       "4       sedan              1996   75.0    astra     150000    petrol   \n",
       "\n",
       "        Brand  x0_manual  x1_unknown  x1_yes  \n",
       "0         bmw          0           0       0  \n",
       "1  volkswagen          1           1       0  \n",
       "2     peugeot          1           0       1  \n",
       "3       dacia          1           0       0  \n",
       "4        opel          1           0       0  "
      ]
     },
     "execution_count": 53,
     "metadata": {},
     "output_type": "execute_result"
    }
   ],
   "source": [
    "onehotencoder = OneHotEncoder(drop='first', sparse=False)\n",
    "\n",
    "encoder_df_train = pd.DataFrame(onehotencoder.fit_transform(features_train[['Gearbox','Repaired']]), dtype='int8')\n",
    "encoder_df_train.columns = onehotencoder.get_feature_names()\n",
    "\n",
    "encoder_df_valid = pd.DataFrame(onehotencoder.transform(features_valid[['Gearbox','Repaired']]), dtype='int8')\n",
    "encoder_df_valid.columns = onehotencoder.get_feature_names()\n",
    "\n",
    "encoder_df_test = pd.DataFrame(onehotencoder.transform(features_test[['Gearbox','Repaired']]), dtype='int8')\n",
    "encoder_df_test.columns = onehotencoder.get_feature_names()\n",
    "\n",
    "features_train = features_train.join(encoder_df_train)\n",
    "features_train = features_train.drop(['Gearbox','Repaired'], axis=1)\n",
    "\n",
    "features_valid = features_valid.join(encoder_df_valid)\n",
    "features_valid = features_valid.drop(['Gearbox','Repaired'], axis=1)\n",
    "\n",
    "features_test = features_test.join(encoder_df_test)\n",
    "features_test = features_test.drop(['Gearbox','Repaired'], axis=1)\n",
    "\n",
    "features_train.head()"
   ]
  },
  {
   "cell_type": "code",
   "execution_count": 54,
   "metadata": {},
   "outputs": [],
   "source": [
    "ordinalencoder = OrdinalEncoder(handle_unknown='use_encoded_value', unknown_value=-1)\n",
    "\n",
    "features_train[['VehicleType','Model','FuelType','Brand']] =\\\n",
    "ordinalencoder.fit_transform(features_train[['VehicleType','Model','FuelType','Brand']])\n",
    "\n",
    "features_valid[['VehicleType','Model','FuelType','Brand']] =\\\n",
    "ordinalencoder.transform(features_valid[['VehicleType','Model','FuelType','Brand']])\n",
    "\n",
    "features_test[['VehicleType','Model','FuelType','Brand']] =\\\n",
    "ordinalencoder.transform(features_test[['VehicleType','Model','FuelType','Brand']])"
   ]
  },
  {
   "cell_type": "code",
   "execution_count": 55,
   "metadata": {},
   "outputs": [],
   "source": [
    "features_train[['VehicleType','Model','FuelType','Brand']] =\\\n",
    "features_train[['VehicleType','Model','FuelType','Brand']].astype('int16')\n",
    "\n",
    "features_valid[['VehicleType','Model','FuelType','Brand']] =\\\n",
    "features_valid[['VehicleType','Model','FuelType','Brand']].astype('int16')\n",
    "\n",
    "features_test[['VehicleType','Model','FuelType','Brand']] =\\\n",
    "features_test[['VehicleType','Model','FuelType','Brand']].astype('int16')"
   ]
  },
  {
   "cell_type": "code",
   "execution_count": 56,
   "metadata": {},
   "outputs": [
    {
     "data": {
      "text/html": [
       "<div>\n",
       "<style scoped>\n",
       "    .dataframe tbody tr th:only-of-type {\n",
       "        vertical-align: middle;\n",
       "    }\n",
       "\n",
       "    .dataframe tbody tr th {\n",
       "        vertical-align: top;\n",
       "    }\n",
       "\n",
       "    .dataframe thead th {\n",
       "        text-align: right;\n",
       "    }\n",
       "</style>\n",
       "<table border=\"1\" class=\"dataframe\">\n",
       "  <thead>\n",
       "    <tr style=\"text-align: right;\">\n",
       "      <th></th>\n",
       "      <th>VehicleType</th>\n",
       "      <th>RegistrationYear</th>\n",
       "      <th>Power</th>\n",
       "      <th>Model</th>\n",
       "      <th>Kilometer</th>\n",
       "      <th>FuelType</th>\n",
       "      <th>Brand</th>\n",
       "      <th>x0_manual</th>\n",
       "      <th>x1_unknown</th>\n",
       "      <th>x1_yes</th>\n",
       "    </tr>\n",
       "  </thead>\n",
       "  <tbody>\n",
       "    <tr>\n",
       "      <th>0</th>\n",
       "      <td>7</td>\n",
       "      <td>2005</td>\n",
       "      <td>320.0</td>\n",
       "      <td>15</td>\n",
       "      <td>150000</td>\n",
       "      <td>2</td>\n",
       "      <td>2</td>\n",
       "      <td>0</td>\n",
       "      <td>0</td>\n",
       "      <td>0</td>\n",
       "    </tr>\n",
       "    <tr>\n",
       "      <th>1</th>\n",
       "      <td>0</td>\n",
       "      <td>2005</td>\n",
       "      <td>140.0</td>\n",
       "      <td>220</td>\n",
       "      <td>150000</td>\n",
       "      <td>2</td>\n",
       "      <td>37</td>\n",
       "      <td>1</td>\n",
       "      <td>1</td>\n",
       "      <td>0</td>\n",
       "    </tr>\n",
       "    <tr>\n",
       "      <th>2</th>\n",
       "      <td>5</td>\n",
       "      <td>2000</td>\n",
       "      <td>60.0</td>\n",
       "      <td>8</td>\n",
       "      <td>150000</td>\n",
       "      <td>6</td>\n",
       "      <td>25</td>\n",
       "      <td>1</td>\n",
       "      <td>0</td>\n",
       "      <td>1</td>\n",
       "    </tr>\n",
       "    <tr>\n",
       "      <th>3</th>\n",
       "      <td>6</td>\n",
       "      <td>2013</td>\n",
       "      <td>105.0</td>\n",
       "      <td>94</td>\n",
       "      <td>20000</td>\n",
       "      <td>6</td>\n",
       "      <td>6</td>\n",
       "      <td>1</td>\n",
       "      <td>0</td>\n",
       "      <td>0</td>\n",
       "    </tr>\n",
       "    <tr>\n",
       "      <th>4</th>\n",
       "      <td>4</td>\n",
       "      <td>1996</td>\n",
       "      <td>75.0</td>\n",
       "      <td>42</td>\n",
       "      <td>150000</td>\n",
       "      <td>6</td>\n",
       "      <td>24</td>\n",
       "      <td>1</td>\n",
       "      <td>0</td>\n",
       "      <td>0</td>\n",
       "    </tr>\n",
       "  </tbody>\n",
       "</table>\n",
       "</div>"
      ],
      "text/plain": [
       "   VehicleType  RegistrationYear  Power  Model  Kilometer  FuelType  Brand  \\\n",
       "0            7              2005  320.0     15     150000         2      2   \n",
       "1            0              2005  140.0    220     150000         2     37   \n",
       "2            5              2000   60.0      8     150000         6     25   \n",
       "3            6              2013  105.0     94      20000         6      6   \n",
       "4            4              1996   75.0     42     150000         6     24   \n",
       "\n",
       "   x0_manual  x1_unknown  x1_yes  \n",
       "0          0           0       0  \n",
       "1          1           1       0  \n",
       "2          1           0       1  \n",
       "3          1           0       0  \n",
       "4          1           0       0  "
      ]
     },
     "execution_count": 56,
     "metadata": {},
     "output_type": "execute_result"
    }
   ],
   "source": [
    "features_train.head()"
   ]
  },
  {
   "cell_type": "code",
   "execution_count": 57,
   "metadata": {},
   "outputs": [
    {
     "name": "stdout",
     "output_type": "stream",
     "text": [
      "<class 'pandas.core.frame.DataFrame'>\n",
      "RangeIndex: 160611 entries, 0 to 160610\n",
      "Data columns (total 10 columns):\n",
      " #   Column            Non-Null Count   Dtype  \n",
      "---  ------            --------------   -----  \n",
      " 0   VehicleType       160611 non-null  int16  \n",
      " 1   RegistrationYear  160611 non-null  int16  \n",
      " 2   Power             160611 non-null  float64\n",
      " 3   Model             160611 non-null  int16  \n",
      " 4   Kilometer         160611 non-null  int32  \n",
      " 5   FuelType          160611 non-null  int16  \n",
      " 6   Brand             160611 non-null  int16  \n",
      " 7   x0_manual         160611 non-null  int8   \n",
      " 8   x1_unknown        160611 non-null  int8   \n",
      " 9   x1_yes            160611 non-null  int8   \n",
      "dtypes: float64(1), int16(5), int32(1), int8(3)\n",
      "memory usage: 3.8 MB\n"
     ]
    }
   ],
   "source": [
    "features_train.info()"
   ]
  },
  {
   "cell_type": "markdown",
   "metadata": {},
   "source": [
    "<div style=\"background-color:black; color:#ffffff; text-align:left; padding:2%\">\n",
    "\n",
    "**Вывод по разделу:**\n",
    "\n",
    "* Проверены и исправлены аномалии в данных, пропуски по возможности заполнены, дубликаты удалены. \n",
    "* Проверены респределения данных. В некоторых столбцах имеются выбросы. Наиболее популярный тип автомобильного кузова - седан, коробка передач - механическая, тип топлива - бензин, бренд - Volkswagen, модель - Volkswagen Golf.\n",
    "* Удалены лишние признаки, изменены типы данных для экономии памяти.\n",
    "* Созданы обучающая, валидационная и тестовая выборки.\n",
    "* Категориальные признаки закодированы."
   ]
  },
  {
   "cell_type": "markdown",
   "metadata": {},
   "source": [
    "## Обучение моделей"
   ]
  },
  {
   "cell_type": "code",
   "execution_count": 58,
   "metadata": {},
   "outputs": [],
   "source": [
    "# функция нахождения RMSE\n",
    "def rmse(y_true, y_pred):\n",
    "    return mean_squared_error(y_true, y_pred) ** 0.5"
   ]
  },
  {
   "cell_type": "code",
   "execution_count": 59,
   "metadata": {},
   "outputs": [],
   "source": [
    "cat_features = ['VehicleType', 'Model', 'FuelType', 'Brand', 'x1_yes', 'x1_unknown', 'x0_manual']\n",
    "num_features = ['Price', 'RegistrationYear', 'Power', 'Kilometer']"
   ]
  },
  {
   "cell_type": "markdown",
   "metadata": {},
   "source": [
    "### LGBMRegressor"
   ]
  },
  {
   "cell_type": "code",
   "execution_count": 60,
   "metadata": {},
   "outputs": [
    {
     "name": "stderr",
     "output_type": "stream",
     "text": [
      "/opt/conda/lib/python3.9/site-packages/lightgbm/basic.py:2065: UserWarning: Using categorical_feature in Dataset.\n",
      "  _log_warning('Using categorical_feature in Dataset.')\n",
      "/opt/conda/lib/python3.9/site-packages/lightgbm/basic.py:2065: UserWarning: Using categorical_feature in Dataset.\n",
      "  _log_warning('Using categorical_feature in Dataset.')\n",
      "/opt/conda/lib/python3.9/site-packages/lightgbm/basic.py:2065: UserWarning: Using categorical_feature in Dataset.\n",
      "  _log_warning('Using categorical_feature in Dataset.')\n",
      "/opt/conda/lib/python3.9/site-packages/lightgbm/basic.py:2065: UserWarning: Using categorical_feature in Dataset.\n",
      "  _log_warning('Using categorical_feature in Dataset.')\n",
      "/opt/conda/lib/python3.9/site-packages/lightgbm/basic.py:2065: UserWarning: Using categorical_feature in Dataset.\n",
      "  _log_warning('Using categorical_feature in Dataset.')\n",
      "/opt/conda/lib/python3.9/site-packages/lightgbm/basic.py:2065: UserWarning: Using categorical_feature in Dataset.\n",
      "  _log_warning('Using categorical_feature in Dataset.')\n",
      "/opt/conda/lib/python3.9/site-packages/lightgbm/basic.py:2065: UserWarning: Using categorical_feature in Dataset.\n",
      "  _log_warning('Using categorical_feature in Dataset.')\n",
      "/opt/conda/lib/python3.9/site-packages/lightgbm/basic.py:2065: UserWarning: Using categorical_feature in Dataset.\n",
      "  _log_warning('Using categorical_feature in Dataset.')\n",
      "/opt/conda/lib/python3.9/site-packages/lightgbm/basic.py:2065: UserWarning: Using categorical_feature in Dataset.\n",
      "  _log_warning('Using categorical_feature in Dataset.')\n"
     ]
    },
    {
     "name": "stdout",
     "output_type": "stream",
     "text": [
      "RMSE лучшей модели: 1645.9694837087086\n",
      "Параметры лучшей модели:\n",
      "max_depth = 10\n",
      "learning_rate = 0.25\n",
      "CPU times: user 38.4 s, sys: 329 ms, total: 38.7 s\n",
      "Wall time: 38.9 s\n"
     ]
    }
   ],
   "source": [
    "%%time\n",
    "\n",
    "fit_params = {'categorical_feature':cat_features}\n",
    "best_score = rmse(target_train, pd.Series(data=target_train.mean(), index=target_train.index))\n",
    "for depth in range(10,21,5):\n",
    "    for lr in [0.25, 0.5, 0.75]:\n",
    "        lgbmr = lgb.LGBMRegressor(max_depth=depth, learning_rate=lr, random_state=RANDOM_STATE)\n",
    "        lgbmr.fit(features_train, target_train, **fit_params)\n",
    "        lgbmr_score = rmse(target_valid, lgbmr.predict(features_valid))\n",
    "        if lgbmr_score < best_score:\n",
    "            best_score = lgbmr_score\n",
    "            best_lgbmr = lgbmr\n",
    "            best_param = [depth, lr]\n",
    "print(f'RMSE лучшей модели: {best_score}')\n",
    "print('Параметры лучшей модели:')\n",
    "print(f'max_depth = {best_param[0]}')\n",
    "print(f'learning_rate = {best_param[1]}')"
   ]
  },
  {
   "cell_type": "code",
   "execution_count": 61,
   "metadata": {},
   "outputs": [
    {
     "name": "stderr",
     "output_type": "stream",
     "text": [
      "/opt/conda/lib/python3.9/site-packages/lightgbm/basic.py:2065: UserWarning: Using categorical_feature in Dataset.\n",
      "  _log_warning('Using categorical_feature in Dataset.')\n"
     ]
    },
    {
     "name": "stdout",
     "output_type": "stream",
     "text": [
      "CPU times: user 3.73 s, sys: 48.8 ms, total: 3.78 s\n",
      "Wall time: 3.8 s\n"
     ]
    },
    {
     "data": {
      "text/plain": [
       "LGBMRegressor(learning_rate=0.25, max_depth=15, random_state=42)"
      ]
     },
     "execution_count": 61,
     "metadata": {},
     "output_type": "execute_result"
    }
   ],
   "source": [
    "%%time\n",
    "lgbmr = lgb.LGBMRegressor(max_depth=15, learning_rate=0.25, random_state=RANDOM_STATE)\n",
    "lgbmr.fit(features_train, target_train, **fit_params)"
   ]
  },
  {
   "cell_type": "code",
   "execution_count": 62,
   "metadata": {},
   "outputs": [
    {
     "name": "stdout",
     "output_type": "stream",
     "text": [
      "RMSE = 1645.9694837087086\n",
      "CPU times: user 427 ms, sys: 0 ns, total: 427 ms\n",
      "Wall time: 403 ms\n"
     ]
    }
   ],
   "source": [
    "%%time\n",
    "predict_valid = best_lgbmr.predict(features_valid)\n",
    "print(f'RMSE = {rmse(target_valid, predict_valid)}')"
   ]
  },
  {
   "cell_type": "markdown",
   "metadata": {},
   "source": [
    "### LinearRegression"
   ]
  },
  {
   "cell_type": "code",
   "execution_count": 63,
   "metadata": {},
   "outputs": [],
   "source": [
    "scaler = StandardScaler()\n",
    "col = features_train.columns\n",
    "\n",
    "features_train = pd.DataFrame(scaler.fit_transform(features_train), columns=col)\n",
    "features_valid = pd.DataFrame(scaler.transform(features_valid), columns=col)\n",
    "new_features_test = pd.DataFrame(scaler.transform(features_test), columns=col)"
   ]
  },
  {
   "cell_type": "code",
   "execution_count": 64,
   "metadata": {},
   "outputs": [
    {
     "name": "stdout",
     "output_type": "stream",
     "text": [
      "CPU times: user 45.7 ms, sys: 22.2 ms, total: 68 ms\n",
      "Wall time: 53.5 ms\n"
     ]
    },
    {
     "data": {
      "text/plain": [
       "LinearRegression()"
      ]
     },
     "execution_count": 64,
     "metadata": {},
     "output_type": "execute_result"
    }
   ],
   "source": [
    "%%time\n",
    "model_lr = LinearRegression()\n",
    "model_lr.fit(features_train, target_train)"
   ]
  },
  {
   "cell_type": "code",
   "execution_count": 65,
   "metadata": {},
   "outputs": [
    {
     "name": "stdout",
     "output_type": "stream",
     "text": [
      "RMSE = 3143.970384481246\n",
      "CPU times: user 16.9 ms, sys: 18.8 ms, total: 35.7 ms\n",
      "Wall time: 74.2 ms\n"
     ]
    }
   ],
   "source": [
    "%%time\n",
    "predict_valid = model_lr.predict(features_valid)\n",
    "print(f'RMSE = {rmse(target_valid, predict_valid)}')"
   ]
  },
  {
   "cell_type": "markdown",
   "metadata": {},
   "source": [
    "### RandomForestRegressor"
   ]
  },
  {
   "cell_type": "code",
   "execution_count": 66,
   "metadata": {},
   "outputs": [
    {
     "name": "stdout",
     "output_type": "stream",
     "text": [
      "Лучшее значение sMAPE: 2170.6975292320994\n",
      "Параметры лучшей модели:\n",
      "min_samples_split = 2\n",
      "min_samples_leaf = 8\n",
      "max_depth = 7\n",
      "n_estimators = 20\n",
      "CPU times: user 3min 45s, sys: 268 ms, total: 3min 46s\n",
      "Wall time: 3min 46s\n"
     ]
    }
   ],
   "source": [
    "%%time\n",
    "best_score = rmse(target_train, pd.Series(data=target_train.mean(), index=target_train.index))\n",
    "for spl in range(2,4):\n",
    "    for lf in range(8,11):\n",
    "        for depth in range(5,8):\n",
    "            for n_est in range(20,41,10):\n",
    "                \n",
    "                model_rfr = RandomForestRegressor(max_depth=depth,\n",
    "                                                  min_samples_split=spl,\n",
    "                                                  min_samples_leaf=lf,\n",
    "                                                  n_estimators=n_est,\n",
    "                                                  random_state=RANDOM_STATE)\n",
    "                model_rfr.fit(features_train, target_train)\n",
    "                lr_score = rmse(target_valid, model_rfr.predict(features_valid))\n",
    "                if lr_score < best_score:\n",
    "                    best_model_rfr = model_rfr\n",
    "                    best_score = lr_score\n",
    "                    best_param_rfr = [spl, lf, depth, n_est]\n",
    "                    \n",
    "print(f'Лучшее значение sMAPE: {best_score}')\n",
    "print('Параметры лучшей модели:')\n",
    "print(f'min_samples_split = {best_param_rfr[0]}')\n",
    "print(f'min_samples_leaf = {best_param_rfr[1]}')\n",
    "print(f'max_depth = {best_param_rfr[2]}')\n",
    "print(f'n_estimators = {best_param_rfr[3]}')"
   ]
  },
  {
   "cell_type": "code",
   "execution_count": 67,
   "metadata": {},
   "outputs": [
    {
     "name": "stdout",
     "output_type": "stream",
     "text": [
      "CPU times: user 3.13 s, sys: 4.35 ms, total: 3.13 s\n",
      "Wall time: 3.14 s\n"
     ]
    },
    {
     "data": {
      "text/plain": [
       "RandomForestRegressor(max_depth=7, min_samples_leaf=10, n_estimators=20,\n",
       "                      random_state=42)"
      ]
     },
     "execution_count": 67,
     "metadata": {},
     "output_type": "execute_result"
    }
   ],
   "source": [
    "%%time\n",
    "model_rfr = RandomForestRegressor(max_depth=7,\n",
    "                                  min_samples_split=2,\n",
    "                                  min_samples_leaf=10,\n",
    "                                  n_estimators=20,\n",
    "                                  random_state=RANDOM_STATE)\n",
    "model_rfr.fit(features_train, target_train)"
   ]
  },
  {
   "cell_type": "code",
   "execution_count": 68,
   "metadata": {},
   "outputs": [
    {
     "name": "stdout",
     "output_type": "stream",
     "text": [
      "RMSE = 2170.6975292320994\n",
      "CPU times: user 62.5 ms, sys: 7.86 ms, total: 70.3 ms\n",
      "Wall time: 78.4 ms\n"
     ]
    }
   ],
   "source": [
    "%%time\n",
    "predict_valid = best_model_rfr.predict(features_valid)\n",
    "print(f'RMSE = {rmse(target_valid, predict_valid)}')"
   ]
  },
  {
   "cell_type": "markdown",
   "metadata": {},
   "source": [
    "### DummyRegressor"
   ]
  },
  {
   "cell_type": "code",
   "execution_count": 69,
   "metadata": {},
   "outputs": [
    {
     "name": "stdout",
     "output_type": "stream",
     "text": [
      "CPU times: user 2.14 ms, sys: 0 ns, total: 2.14 ms\n",
      "Wall time: 1.37 ms\n"
     ]
    },
    {
     "data": {
      "text/plain": [
       "DummyRegressor()"
      ]
     },
     "execution_count": 69,
     "metadata": {},
     "output_type": "execute_result"
    }
   ],
   "source": [
    "%%time\n",
    "dummy_regr = DummyRegressor()\n",
    "dummy_regr.fit(features_train, target_train)"
   ]
  },
  {
   "cell_type": "code",
   "execution_count": 70,
   "metadata": {},
   "outputs": [
    {
     "name": "stdout",
     "output_type": "stream",
     "text": [
      "RMSE = 4613.761781458027\n",
      "CPU times: user 0 ns, sys: 2.55 ms, total: 2.55 ms\n",
      "Wall time: 4.54 ms\n"
     ]
    }
   ],
   "source": [
    "%%time\n",
    "predict_valid = dummy_regr.predict(features_valid)\n",
    "print(f'RMSE = {rmse(target_valid, predict_valid)}')"
   ]
  },
  {
   "cell_type": "markdown",
   "metadata": {},
   "source": [
    "<div style=\"background-color:black; color:#ffffff; text-align:left; padding:2%\">\n",
    "\n",
    "**Вывод по разделу:**\n",
    "\n",
    "* Создана функция подсчета RMSE.\n",
    "* Обучены и проверены 3 модели: LGBMRegressor, LinearRegression, RandomForestRegressor.  \n",
    "* Для LinearRegression и RandomForestRegressor отмасштабированы данные.\n",
    "* Проверено время подбора лучших гиперпараметров каждой модели, обучения с лучшими гиперпараметрами, предсказания результатов.\n",
    "* Подсчитаны RMSE каждой модели. Проведено сравнение с DummyRegressor."
   ]
  },
  {
   "cell_type": "markdown",
   "metadata": {},
   "source": [
    "## Анализ моделей"
   ]
  },
  {
   "cell_type": "markdown",
   "metadata": {},
   "source": [
    "**RMSE всех моделей:**\n",
    "\n",
    "* *LGBMRegressor* - **1645.9695** (1)\n",
    "* *LinearRegression* - 3097.07134 (3)\n",
    "* *RandomForestRegressor* - 2183.7725 (2)\n",
    "---\n",
    "* *DummyRegressor* - 4541.1422\n",
    "---\n",
    "**Время обучения:**\n",
    "\n",
    "* *LGBMRegressor* - 5.09 s = 5090 ms (3)\n",
    "* *LinearRegression* - **68.4 ms** (1)\n",
    "* *RandomForestRegressor* - 4.55 s = 4550 ms (2)\n",
    "---\n",
    "* *DummyRegressor* - 1.19 ms\n",
    "---\n",
    "**Время предсказания:**\n",
    "* *LGBMRegressor* - 506 ms (3)\n",
    "* *LinearRegression* - **71.9 ms** (1)\n",
    "* *RandomForestRegressor* - 85.4 ms (2)\n",
    "---\n",
    "* *DummyRegressor* - 2.06 ms\n",
    "---\n",
    "**Вывод:**\n",
    "Модель *LinearRegression* отбрасываем, т.к. не проходит по пороговому значению RMSE = 2500. Если больше важно качество предсказания, то выбираем модель *LGBMRegressor*, если время обучения и предсказания, то *RandomForestRegressor*. Проверим качество этих моделей на тестовой выборке."
   ]
  },
  {
   "cell_type": "markdown",
   "metadata": {},
   "source": [
    "### LGBMRegressor"
   ]
  },
  {
   "cell_type": "code",
   "execution_count": 71,
   "metadata": {},
   "outputs": [
    {
     "name": "stdout",
     "output_type": "stream",
     "text": [
      "RMSE = 1663.4908135663754\n",
      "CPU times: user 471 ms, sys: 0 ns, total: 471 ms\n",
      "Wall time: 462 ms\n"
     ]
    }
   ],
   "source": [
    "%%time\n",
    "predict_test = best_lgbmr.predict(features_test)\n",
    "print(f'RMSE = {rmse(target_test, predict_test)}')"
   ]
  },
  {
   "cell_type": "markdown",
   "metadata": {},
   "source": [
    "### RandomForestRegressor"
   ]
  },
  {
   "cell_type": "code",
   "execution_count": 72,
   "metadata": {},
   "outputs": [
    {
     "name": "stdout",
     "output_type": "stream",
     "text": [
      "RMSE = 2189.1729418331606\n",
      "CPU times: user 70.3 ms, sys: 0 ns, total: 70.3 ms\n",
      "Wall time: 105 ms\n"
     ]
    }
   ],
   "source": [
    "%%time\n",
    "predict_test = best_model_rfr.predict(new_features_test)\n",
    "print(f'RMSE = {rmse(target_test, predict_test)}')"
   ]
  },
  {
   "cell_type": "markdown",
   "metadata": {},
   "source": [
    "<div style=\"background-color:black; color:#ffffff; text-align:left; padding:2%\">\n",
    "\n",
    "**Вывод по разделу:**\n",
    "* Проведён анализ моделей. Отбросили модель *LinearRegression*.\n",
    "* По итогам проверки оставшихся моделей на тестовой выборке: у *RandomForestRegressor* RMSE ухудшилось на 27, время предсказания уменьшилось на 5.9 ms; у *LGBMRegressor* RMSE ухудшилось на 19, время предсказания увеличилось на 57 ms."
   ]
  },
  {
   "cell_type": "markdown",
   "metadata": {},
   "source": [
    "## Общий вывод"
   ]
  },
  {
   "cell_type": "markdown",
   "metadata": {},
   "source": [
    "* Проверены и исправлены аномалии в данных, пропуски по возможности заполнены, дубликаты удалены. Проверены респределения данных.Удалены лишние признаки, изменены типы данных для экономии памяти.\n",
    "* Наиболее популярный тип автомобильного кузова - седан, коробка передач - механическая, тип топлива - бензин, бренд - Volkswagen, модель - Volkswagen Golf.\n",
    "* Созданы обучающая, валидационная и тестовая выборки. Категориальные признаки закодированы.\n",
    "* Обучены и проверены 3 модели: LGBMRegressor, LinearRegression, RandomForestRegressor. Для LinearRegression и RandomForestRegressor отмасштабированы данные. \n",
    "* Проведён анализ моделей. Отбросили модель *LinearRegression* т.к. не проходит по пороговому значению RMSE = 2500.\n",
    "* По итогам проверки оставшихся моделей на тестовой выборке: у *RandomForestRegressor* RMSE ухудшилось на 27, время предсказания уменьшилось на 5.9 ms; у *LGBMRegressor* RMSE ухудшилось на 19, время предсказания увеличилось на 57 ms.\n",
    "---\n",
    "**Рекомендации:**\n",
    "\n",
    "Если для заказчика больше важно качество предсказаний, то рекомендуется модель *LGBMRegressor*, если время обучения и предсказания, то *RandomForestRegressor*."
   ]
  }
 ],
 "metadata": {
  "ExecuteTimeLog": [
   {
    "duration": 1553,
    "start_time": "2023-06-23T11:28:46.475Z"
   },
   {
    "duration": 610,
    "start_time": "2023-06-23T11:29:25.229Z"
   },
   {
    "duration": 1354,
    "start_time": "2023-06-23T11:31:43.970Z"
   },
   {
    "duration": 151,
    "start_time": "2023-06-23T11:31:52.937Z"
   },
   {
    "duration": 27,
    "start_time": "2023-06-23T11:32:10.775Z"
   },
   {
    "duration": 115,
    "start_time": "2023-06-23T11:32:30.409Z"
   },
   {
    "duration": 4,
    "start_time": "2023-06-23T11:39:55.274Z"
   },
   {
    "duration": 6294,
    "start_time": "2023-06-23T11:47:58.726Z"
   },
   {
    "duration": 15,
    "start_time": "2023-06-23T11:48:11.350Z"
   },
   {
    "duration": 27,
    "start_time": "2023-06-23T11:49:08.760Z"
   },
   {
    "duration": 262,
    "start_time": "2023-06-23T11:50:20.316Z"
   },
   {
    "duration": 106,
    "start_time": "2023-06-23T11:51:05.245Z"
   },
   {
    "duration": 97,
    "start_time": "2023-06-23T11:51:39.361Z"
   },
   {
    "duration": 466,
    "start_time": "2023-06-23T11:55:28.579Z"
   },
   {
    "duration": 44,
    "start_time": "2023-06-23T11:56:28.764Z"
   },
   {
    "duration": 23,
    "start_time": "2023-06-23T11:57:38.450Z"
   },
   {
    "duration": 60,
    "start_time": "2023-06-23T11:58:14.901Z"
   },
   {
    "duration": 118,
    "start_time": "2023-06-23T12:02:29.252Z"
   },
   {
    "duration": 249,
    "start_time": "2023-06-23T12:03:22.796Z"
   },
   {
    "duration": 300,
    "start_time": "2023-06-23T12:04:28.932Z"
   },
   {
    "duration": 319,
    "start_time": "2023-06-23T12:10:39.858Z"
   },
   {
    "duration": 304,
    "start_time": "2023-06-23T12:10:51.533Z"
   },
   {
    "duration": 28,
    "start_time": "2023-06-23T12:16:37.132Z"
   },
   {
    "duration": 5,
    "start_time": "2023-06-23T12:16:42.068Z"
   },
   {
    "duration": 5,
    "start_time": "2023-06-23T12:17:00.627Z"
   },
   {
    "duration": 995,
    "start_time": "2023-06-23T12:19:33.412Z"
   },
   {
    "duration": 2754,
    "start_time": "2023-06-23T12:19:48.446Z"
   },
   {
    "duration": 2652,
    "start_time": "2023-06-23T12:20:44.471Z"
   },
   {
    "duration": 723,
    "start_time": "2023-06-23T12:24:00.662Z"
   },
   {
    "duration": 17,
    "start_time": "2023-06-23T12:25:21.570Z"
   },
   {
    "duration": 108,
    "start_time": "2023-06-23T12:25:53.874Z"
   },
   {
    "duration": 26,
    "start_time": "2023-06-23T12:26:36.556Z"
   },
   {
    "duration": 871,
    "start_time": "2023-06-23T12:26:38.827Z"
   },
   {
    "duration": 235,
    "start_time": "2023-06-23T12:27:02.345Z"
   },
   {
    "duration": 784,
    "start_time": "2023-06-23T12:27:14.911Z"
   },
   {
    "duration": 831,
    "start_time": "2023-06-23T12:28:00.083Z"
   },
   {
    "duration": 2853,
    "start_time": "2023-06-23T12:28:25.319Z"
   },
   {
    "duration": 30,
    "start_time": "2023-06-23T12:28:47.016Z"
   },
   {
    "duration": 128,
    "start_time": "2023-06-23T12:28:48.962Z"
   },
   {
    "duration": 21,
    "start_time": "2023-06-23T12:28:56.571Z"
   },
   {
    "duration": 24,
    "start_time": "2023-06-23T12:29:20.722Z"
   },
   {
    "duration": 2940,
    "start_time": "2023-06-23T12:30:17.341Z"
   },
   {
    "duration": 2032,
    "start_time": "2023-06-23T12:30:44.207Z"
   },
   {
    "duration": 15,
    "start_time": "2023-06-23T12:32:52.156Z"
   },
   {
    "duration": 6,
    "start_time": "2023-06-23T12:33:04.518Z"
   },
   {
    "duration": 7,
    "start_time": "2023-06-23T12:33:11.707Z"
   },
   {
    "duration": 6,
    "start_time": "2023-06-23T12:33:51.712Z"
   },
   {
    "duration": 5,
    "start_time": "2023-06-23T12:34:21.415Z"
   },
   {
    "duration": 6,
    "start_time": "2023-06-23T12:34:55.669Z"
   },
   {
    "duration": 63,
    "start_time": "2023-06-23T12:44:21.612Z"
   },
   {
    "duration": 31,
    "start_time": "2023-06-23T12:44:26.607Z"
   },
   {
    "duration": 98,
    "start_time": "2023-06-23T12:44:36.146Z"
   },
   {
    "duration": 34,
    "start_time": "2023-06-23T12:46:33.166Z"
   },
   {
    "duration": 1636,
    "start_time": "2023-06-23T12:46:44.545Z"
   },
   {
    "duration": 920,
    "start_time": "2023-06-23T12:46:46.183Z"
   },
   {
    "duration": 21,
    "start_time": "2023-06-23T12:46:47.104Z"
   },
   {
    "duration": 181,
    "start_time": "2023-06-23T12:46:47.127Z"
   },
   {
    "duration": 124,
    "start_time": "2023-06-23T12:46:47.311Z"
   },
   {
    "duration": 39,
    "start_time": "2023-06-23T12:46:47.437Z"
   },
   {
    "duration": 1755,
    "start_time": "2023-06-23T12:47:06.922Z"
   },
   {
    "duration": 951,
    "start_time": "2023-06-23T12:47:08.680Z"
   },
   {
    "duration": 23,
    "start_time": "2023-06-23T12:47:09.633Z"
   },
   {
    "duration": 180,
    "start_time": "2023-06-23T12:47:09.658Z"
   },
   {
    "duration": 114,
    "start_time": "2023-06-23T12:47:09.841Z"
   },
   {
    "duration": 107,
    "start_time": "2023-06-23T12:47:09.956Z"
   },
   {
    "duration": 1489,
    "start_time": "2023-06-23T12:47:36.916Z"
   },
   {
    "duration": 885,
    "start_time": "2023-06-23T12:47:38.407Z"
   },
   {
    "duration": 20,
    "start_time": "2023-06-23T12:47:39.293Z"
   },
   {
    "duration": 169,
    "start_time": "2023-06-23T12:47:39.314Z"
   },
   {
    "duration": 104,
    "start_time": "2023-06-23T12:47:39.485Z"
   },
   {
    "duration": 37,
    "start_time": "2023-06-23T12:47:39.591Z"
   },
   {
    "duration": 4,
    "start_time": "2023-06-23T12:48:04.844Z"
   },
   {
    "duration": 291,
    "start_time": "2023-06-23T12:48:08.875Z"
   },
   {
    "duration": 1590,
    "start_time": "2023-06-23T12:48:22.623Z"
   },
   {
    "duration": 939,
    "start_time": "2023-06-23T12:48:24.215Z"
   },
   {
    "duration": 27,
    "start_time": "2023-06-23T12:48:25.156Z"
   },
   {
    "duration": 171,
    "start_time": "2023-06-23T12:48:25.184Z"
   },
   {
    "duration": 112,
    "start_time": "2023-06-23T12:48:25.358Z"
   },
   {
    "duration": 30,
    "start_time": "2023-06-23T12:48:25.472Z"
   },
   {
    "duration": 328,
    "start_time": "2023-06-23T12:48:25.504Z"
   },
   {
    "duration": 120,
    "start_time": "2023-06-23T12:48:25.834Z"
   },
   {
    "duration": 54,
    "start_time": "2023-06-23T12:48:25.956Z"
   },
   {
    "duration": 2982,
    "start_time": "2023-06-23T12:48:26.011Z"
   },
   {
    "duration": 1735,
    "start_time": "2023-06-23T12:51:18.629Z"
   },
   {
    "duration": 937,
    "start_time": "2023-06-23T12:51:20.367Z"
   },
   {
    "duration": 22,
    "start_time": "2023-06-23T12:51:21.307Z"
   },
   {
    "duration": 178,
    "start_time": "2023-06-23T12:51:21.332Z"
   },
   {
    "duration": 127,
    "start_time": "2023-06-23T12:51:21.513Z"
   },
   {
    "duration": 44,
    "start_time": "2023-06-23T12:51:21.643Z"
   },
   {
    "duration": 305,
    "start_time": "2023-06-23T12:51:21.689Z"
   },
   {
    "duration": 106,
    "start_time": "2023-06-23T12:51:21.996Z"
   },
   {
    "duration": 50,
    "start_time": "2023-06-23T12:51:22.104Z"
   },
   {
    "duration": 3111,
    "start_time": "2023-06-23T12:51:22.156Z"
   },
   {
    "duration": 7,
    "start_time": "2023-06-23T12:56:59.207Z"
   },
   {
    "duration": 7,
    "start_time": "2023-06-23T12:57:11.114Z"
   },
   {
    "duration": 41,
    "start_time": "2023-06-23T12:57:17.624Z"
   },
   {
    "duration": 1775,
    "start_time": "2023-06-23T12:58:18.641Z"
   },
   {
    "duration": 900,
    "start_time": "2023-06-23T12:58:20.419Z"
   },
   {
    "duration": 19,
    "start_time": "2023-06-23T12:58:21.321Z"
   },
   {
    "duration": 170,
    "start_time": "2023-06-23T12:58:21.342Z"
   },
   {
    "duration": 122,
    "start_time": "2023-06-23T12:58:21.515Z"
   },
   {
    "duration": 40,
    "start_time": "2023-06-23T12:58:21.639Z"
   },
   {
    "duration": 7,
    "start_time": "2023-06-23T12:58:21.681Z"
   },
   {
    "duration": 69,
    "start_time": "2023-06-23T12:58:21.689Z"
   },
   {
    "duration": 301,
    "start_time": "2023-06-23T12:58:21.760Z"
   },
   {
    "duration": 103,
    "start_time": "2023-06-23T12:58:22.063Z"
   },
   {
    "duration": 50,
    "start_time": "2023-06-23T12:58:22.168Z"
   },
   {
    "duration": 2956,
    "start_time": "2023-06-23T12:58:22.220Z"
   },
   {
    "duration": 6,
    "start_time": "2023-06-23T12:59:14.420Z"
   },
   {
    "duration": 6,
    "start_time": "2023-06-23T12:59:44.737Z"
   },
   {
    "duration": 85,
    "start_time": "2023-06-23T13:17:23.199Z"
   },
   {
    "duration": 2971,
    "start_time": "2023-06-23T13:17:29.843Z"
   },
   {
    "duration": 57,
    "start_time": "2023-06-23T13:20:39.196Z"
   },
   {
    "duration": 6,
    "start_time": "2023-06-23T13:20:43.805Z"
   },
   {
    "duration": 9,
    "start_time": "2023-06-23T13:21:11.806Z"
   },
   {
    "duration": 1634,
    "start_time": "2023-06-23T13:21:38.109Z"
   },
   {
    "duration": 879,
    "start_time": "2023-06-23T13:21:39.746Z"
   },
   {
    "duration": 29,
    "start_time": "2023-06-23T13:21:40.626Z"
   },
   {
    "duration": 154,
    "start_time": "2023-06-23T13:21:40.656Z"
   },
   {
    "duration": 106,
    "start_time": "2023-06-23T13:21:40.812Z"
   },
   {
    "duration": 37,
    "start_time": "2023-06-23T13:21:40.920Z"
   },
   {
    "duration": 7,
    "start_time": "2023-06-23T13:21:40.958Z"
   },
   {
    "duration": 58,
    "start_time": "2023-06-23T13:21:40.967Z"
   },
   {
    "duration": 101,
    "start_time": "2023-06-23T13:21:41.027Z"
   },
   {
    "duration": 6,
    "start_time": "2023-06-23T13:21:41.130Z"
   },
   {
    "duration": 88,
    "start_time": "2023-06-23T13:21:41.137Z"
   },
   {
    "duration": 272,
    "start_time": "2023-06-23T13:21:41.227Z"
   },
   {
    "duration": 128,
    "start_time": "2023-06-23T13:21:41.501Z"
   },
   {
    "duration": 45,
    "start_time": "2023-06-23T13:21:41.632Z"
   },
   {
    "duration": 3037,
    "start_time": "2023-06-23T13:21:41.678Z"
   },
   {
    "duration": 9,
    "start_time": "2023-06-23T13:26:19.603Z"
   },
   {
    "duration": 89,
    "start_time": "2023-06-23T13:27:32.435Z"
   },
   {
    "duration": 8,
    "start_time": "2023-06-23T13:27:37.031Z"
   },
   {
    "duration": 7,
    "start_time": "2023-06-23T13:28:10.293Z"
   },
   {
    "duration": 8,
    "start_time": "2023-06-23T13:28:23.905Z"
   },
   {
    "duration": 1497,
    "start_time": "2023-06-23T13:28:34.809Z"
   },
   {
    "duration": 915,
    "start_time": "2023-06-23T13:28:36.308Z"
   },
   {
    "duration": 30,
    "start_time": "2023-06-23T13:28:37.225Z"
   },
   {
    "duration": 161,
    "start_time": "2023-06-23T13:28:37.257Z"
   },
   {
    "duration": 122,
    "start_time": "2023-06-23T13:28:37.421Z"
   },
   {
    "duration": 35,
    "start_time": "2023-06-23T13:28:37.546Z"
   },
   {
    "duration": 7,
    "start_time": "2023-06-23T13:28:37.583Z"
   },
   {
    "duration": 68,
    "start_time": "2023-06-23T13:28:37.591Z"
   },
   {
    "duration": 98,
    "start_time": "2023-06-23T13:28:37.661Z"
   },
   {
    "duration": 6,
    "start_time": "2023-06-23T13:28:37.761Z"
   },
   {
    "duration": 78,
    "start_time": "2023-06-23T13:28:37.769Z"
   },
   {
    "duration": 6,
    "start_time": "2023-06-23T13:28:37.849Z"
   },
   {
    "duration": 268,
    "start_time": "2023-06-23T13:32:16.210Z"
   },
   {
    "duration": 98,
    "start_time": "2023-06-23T13:32:16.529Z"
   },
   {
    "duration": 29,
    "start_time": "2023-06-23T13:32:16.882Z"
   },
   {
    "duration": 2951,
    "start_time": "2023-06-23T13:32:17.505Z"
   },
   {
    "duration": 59,
    "start_time": "2023-06-23T13:32:54.163Z"
   },
   {
    "duration": 118,
    "start_time": "2023-06-23T15:03:27.764Z"
   },
   {
    "duration": 124,
    "start_time": "2023-06-23T15:03:37.141Z"
   },
   {
    "duration": 1143,
    "start_time": "2023-06-23T15:04:12.704Z"
   },
   {
    "duration": 34,
    "start_time": "2023-06-23T15:05:16.896Z"
   },
   {
    "duration": 34,
    "start_time": "2023-06-23T15:05:38.803Z"
   },
   {
    "duration": 28,
    "start_time": "2023-06-23T15:06:37.192Z"
   },
   {
    "duration": 14,
    "start_time": "2023-06-23T15:07:21.724Z"
   },
   {
    "duration": 40,
    "start_time": "2023-06-23T15:07:28.427Z"
   },
   {
    "duration": 9,
    "start_time": "2023-06-23T15:07:43.206Z"
   },
   {
    "duration": 6,
    "start_time": "2023-06-23T15:08:01.296Z"
   },
   {
    "duration": 8,
    "start_time": "2023-06-23T15:08:14.100Z"
   },
   {
    "duration": 6,
    "start_time": "2023-06-23T15:08:30.203Z"
   },
   {
    "duration": 6,
    "start_time": "2023-06-23T15:08:43.572Z"
   },
   {
    "duration": 5,
    "start_time": "2023-06-23T15:10:39.062Z"
   },
   {
    "duration": 7,
    "start_time": "2023-06-23T15:10:41.613Z"
   },
   {
    "duration": 764,
    "start_time": "2023-06-23T15:10:43.603Z"
   },
   {
    "duration": 1582,
    "start_time": "2023-06-23T15:11:07.913Z"
   },
   {
    "duration": 795,
    "start_time": "2023-06-23T15:11:09.497Z"
   },
   {
    "duration": 18,
    "start_time": "2023-06-23T15:11:10.294Z"
   },
   {
    "duration": 183,
    "start_time": "2023-06-23T15:11:10.314Z"
   },
   {
    "duration": 106,
    "start_time": "2023-06-23T15:11:10.498Z"
   },
   {
    "duration": 28,
    "start_time": "2023-06-23T15:11:10.605Z"
   },
   {
    "duration": 30,
    "start_time": "2023-06-23T15:11:10.635Z"
   },
   {
    "duration": 55,
    "start_time": "2023-06-23T15:11:10.667Z"
   },
   {
    "duration": 87,
    "start_time": "2023-06-23T15:11:10.724Z"
   },
   {
    "duration": 6,
    "start_time": "2023-06-23T15:11:10.814Z"
   },
   {
    "duration": 105,
    "start_time": "2023-06-23T15:11:10.821Z"
   },
   {
    "duration": 8,
    "start_time": "2023-06-23T15:11:10.928Z"
   },
   {
    "duration": 299,
    "start_time": "2023-06-23T15:11:10.938Z"
   },
   {
    "duration": 91,
    "start_time": "2023-06-23T15:11:11.239Z"
   },
   {
    "duration": 64,
    "start_time": "2023-06-23T15:11:11.331Z"
   },
   {
    "duration": 5,
    "start_time": "2023-06-23T15:11:11.397Z"
   },
   {
    "duration": 93,
    "start_time": "2023-06-23T15:11:11.403Z"
   },
   {
    "duration": 26,
    "start_time": "2023-06-23T15:11:11.497Z"
   },
   {
    "duration": 2969,
    "start_time": "2023-06-23T15:11:11.525Z"
   },
   {
    "duration": 929,
    "start_time": "2023-06-23T15:11:56.238Z"
   },
   {
    "duration": 6,
    "start_time": "2023-06-23T15:12:30.915Z"
   },
   {
    "duration": 1695,
    "start_time": "2023-06-23T15:13:35.228Z"
   },
   {
    "duration": 901,
    "start_time": "2023-06-23T15:13:36.926Z"
   },
   {
    "duration": 27,
    "start_time": "2023-06-23T15:13:37.828Z"
   },
   {
    "duration": 197,
    "start_time": "2023-06-23T15:13:37.857Z"
   },
   {
    "duration": 143,
    "start_time": "2023-06-23T15:13:38.057Z"
   },
   {
    "duration": 28,
    "start_time": "2023-06-23T15:13:38.202Z"
   },
   {
    "duration": 23,
    "start_time": "2023-06-23T15:13:38.231Z"
   },
   {
    "duration": 48,
    "start_time": "2023-06-23T15:13:38.256Z"
   },
   {
    "duration": 106,
    "start_time": "2023-06-23T15:13:38.306Z"
   },
   {
    "duration": 5,
    "start_time": "2023-06-23T15:13:38.414Z"
   },
   {
    "duration": 86,
    "start_time": "2023-06-23T15:13:38.420Z"
   },
   {
    "duration": 7,
    "start_time": "2023-06-23T15:13:38.508Z"
   },
   {
    "duration": 292,
    "start_time": "2023-06-23T15:13:38.517Z"
   },
   {
    "duration": 113,
    "start_time": "2023-06-23T15:13:38.812Z"
   },
   {
    "duration": 116,
    "start_time": "2023-06-23T15:13:38.927Z"
   },
   {
    "duration": 1060,
    "start_time": "2023-06-23T15:13:39.045Z"
   },
   {
    "duration": 6,
    "start_time": "2023-06-23T15:13:40.107Z"
   },
   {
    "duration": 53,
    "start_time": "2023-06-23T15:13:40.115Z"
   },
   {
    "duration": 893,
    "start_time": "2023-06-23T15:13:40.170Z"
   },
   {
    "duration": 7,
    "start_time": "2023-06-23T15:14:36.515Z"
   },
   {
    "duration": 6,
    "start_time": "2023-06-23T15:14:44.619Z"
   },
   {
    "duration": 452,
    "start_time": "2023-06-23T15:15:24.407Z"
   },
   {
    "duration": 2028,
    "start_time": "2023-06-23T15:17:14.443Z"
   },
   {
    "duration": 912,
    "start_time": "2023-06-23T15:17:16.473Z"
   },
   {
    "duration": 19,
    "start_time": "2023-06-23T15:17:17.386Z"
   },
   {
    "duration": 159,
    "start_time": "2023-06-23T15:17:17.408Z"
   },
   {
    "duration": 117,
    "start_time": "2023-06-23T15:17:17.569Z"
   },
   {
    "duration": 32,
    "start_time": "2023-06-23T15:17:17.688Z"
   },
   {
    "duration": 6,
    "start_time": "2023-06-23T15:17:17.722Z"
   },
   {
    "duration": 67,
    "start_time": "2023-06-23T15:17:17.729Z"
   },
   {
    "duration": 106,
    "start_time": "2023-06-23T15:17:17.798Z"
   },
   {
    "duration": 5,
    "start_time": "2023-06-23T15:17:17.907Z"
   },
   {
    "duration": 86,
    "start_time": "2023-06-23T15:17:17.914Z"
   },
   {
    "duration": 7,
    "start_time": "2023-06-23T15:17:18.002Z"
   },
   {
    "duration": 289,
    "start_time": "2023-06-23T15:17:18.010Z"
   },
   {
    "duration": 96,
    "start_time": "2023-06-23T15:17:18.301Z"
   },
   {
    "duration": 70,
    "start_time": "2023-06-23T15:17:18.399Z"
   },
   {
    "duration": 1048,
    "start_time": "2023-06-23T15:17:18.471Z"
   },
   {
    "duration": 7,
    "start_time": "2023-06-23T15:17:19.521Z"
   },
   {
    "duration": 47,
    "start_time": "2023-06-23T15:17:19.530Z"
   },
   {
    "duration": 365,
    "start_time": "2023-06-23T15:17:19.579Z"
   },
   {
    "duration": 31,
    "start_time": "2023-06-23T15:17:19.945Z"
   },
   {
    "duration": 3090,
    "start_time": "2023-06-23T15:17:19.978Z"
   },
   {
    "duration": 1643,
    "start_time": "2023-06-23T15:19:38.914Z"
   },
   {
    "duration": 5116,
    "start_time": "2023-06-23T15:37:07.127Z"
   },
   {
    "duration": 5789,
    "start_time": "2023-06-23T15:38:53.223Z"
   },
   {
    "duration": 6067,
    "start_time": "2023-06-23T15:39:51.811Z"
   },
   {
    "duration": 5616,
    "start_time": "2023-06-23T15:40:24.512Z"
   },
   {
    "duration": 5912,
    "start_time": "2023-06-23T15:40:38.001Z"
   },
   {
    "duration": 5769,
    "start_time": "2023-06-23T15:41:04.070Z"
   },
   {
    "duration": 396,
    "start_time": "2023-06-23T15:41:22.810Z"
   },
   {
    "duration": 5813,
    "start_time": "2023-06-23T15:41:30.618Z"
   },
   {
    "duration": 5585,
    "start_time": "2023-06-23T15:41:53.417Z"
   },
   {
    "duration": 5585,
    "start_time": "2023-06-23T15:42:08.564Z"
   },
   {
    "duration": 940,
    "start_time": "2023-06-23T15:44:00.409Z"
   },
   {
    "duration": 35,
    "start_time": "2023-06-23T15:44:44.707Z"
   },
   {
    "duration": 6,
    "start_time": "2023-06-23T15:45:10.627Z"
   },
   {
    "duration": 25,
    "start_time": "2023-06-23T15:45:42.835Z"
   },
   {
    "duration": 3197,
    "start_time": "2023-06-23T15:46:00.244Z"
   },
   {
    "duration": 19,
    "start_time": "2023-06-23T15:46:12.909Z"
   },
   {
    "duration": 2891,
    "start_time": "2023-06-23T15:46:21.948Z"
   },
   {
    "duration": 1711,
    "start_time": "2023-06-24T15:24:43.391Z"
   },
   {
    "duration": 3312,
    "start_time": "2023-06-24T15:24:45.104Z"
   },
   {
    "duration": 17,
    "start_time": "2023-06-24T15:24:48.418Z"
   },
   {
    "duration": 129,
    "start_time": "2023-06-24T15:24:48.436Z"
   },
   {
    "duration": 144,
    "start_time": "2023-06-24T15:24:48.569Z"
   },
   {
    "duration": 24,
    "start_time": "2023-06-24T15:24:48.715Z"
   },
   {
    "duration": 6,
    "start_time": "2023-06-24T15:24:48.741Z"
   },
   {
    "duration": 62,
    "start_time": "2023-06-24T15:24:48.748Z"
   },
   {
    "duration": 95,
    "start_time": "2023-06-24T15:24:48.812Z"
   },
   {
    "duration": 4,
    "start_time": "2023-06-24T15:24:48.909Z"
   },
   {
    "duration": 73,
    "start_time": "2023-06-24T15:24:48.915Z"
   },
   {
    "duration": 8,
    "start_time": "2023-06-24T15:24:48.990Z"
   },
   {
    "duration": 262,
    "start_time": "2023-06-24T15:24:49.000Z"
   },
   {
    "duration": 105,
    "start_time": "2023-06-24T15:24:49.264Z"
   },
   {
    "duration": 56,
    "start_time": "2023-06-24T15:24:49.371Z"
   },
   {
    "duration": 980,
    "start_time": "2023-06-24T15:24:49.429Z"
   },
   {
    "duration": 5,
    "start_time": "2023-06-24T15:24:50.411Z"
   },
   {
    "duration": 44,
    "start_time": "2023-06-24T15:24:50.418Z"
   },
   {
    "duration": 33,
    "start_time": "2023-06-24T15:24:50.464Z"
   },
   {
    "duration": 2796,
    "start_time": "2023-06-24T15:24:50.499Z"
   },
   {
    "duration": 2665,
    "start_time": "2023-06-24T15:25:00.516Z"
   },
   {
    "duration": 5,
    "start_time": "2023-06-24T15:26:40.902Z"
   },
   {
    "duration": 194,
    "start_time": "2023-06-24T15:27:11.653Z"
   },
   {
    "duration": 3,
    "start_time": "2023-06-24T15:27:26.437Z"
   },
   {
    "duration": 8,
    "start_time": "2023-06-24T15:28:07.470Z"
   },
   {
    "duration": 1419,
    "start_time": "2023-06-24T15:28:20.712Z"
   },
   {
    "duration": 13,
    "start_time": "2023-06-24T15:29:34.811Z"
   },
   {
    "duration": 28,
    "start_time": "2023-06-24T15:29:42.543Z"
   },
   {
    "duration": 134,
    "start_time": "2023-06-24T15:30:46.002Z"
   },
   {
    "duration": 3429,
    "start_time": "2023-06-24T15:31:24.847Z"
   },
   {
    "duration": 3230,
    "start_time": "2023-06-24T15:32:02.012Z"
   },
   {
    "duration": 3700,
    "start_time": "2023-06-24T15:33:01.840Z"
   },
   {
    "duration": 3421,
    "start_time": "2023-06-24T15:33:16.527Z"
   },
   {
    "duration": 42,
    "start_time": "2023-06-24T15:33:49.369Z"
   },
   {
    "duration": 1462,
    "start_time": "2023-06-24T15:34:17.551Z"
   },
   {
    "duration": 783,
    "start_time": "2023-06-24T15:34:19.015Z"
   },
   {
    "duration": 17,
    "start_time": "2023-06-24T15:34:19.800Z"
   },
   {
    "duration": 141,
    "start_time": "2023-06-24T15:34:19.819Z"
   },
   {
    "duration": 106,
    "start_time": "2023-06-24T15:34:19.962Z"
   },
   {
    "duration": 28,
    "start_time": "2023-06-24T15:34:20.070Z"
   },
   {
    "duration": 7,
    "start_time": "2023-06-24T15:34:20.100Z"
   },
   {
    "duration": 71,
    "start_time": "2023-06-24T15:34:20.109Z"
   },
   {
    "duration": 87,
    "start_time": "2023-06-24T15:34:20.182Z"
   },
   {
    "duration": 5,
    "start_time": "2023-06-24T15:34:20.270Z"
   },
   {
    "duration": 56,
    "start_time": "2023-06-24T15:34:20.277Z"
   },
   {
    "duration": 6,
    "start_time": "2023-06-24T15:34:20.335Z"
   },
   {
    "duration": 256,
    "start_time": "2023-06-24T15:34:20.343Z"
   },
   {
    "duration": 89,
    "start_time": "2023-06-24T15:34:20.602Z"
   },
   {
    "duration": 48,
    "start_time": "2023-06-24T15:34:20.692Z"
   },
   {
    "duration": 927,
    "start_time": "2023-06-24T15:34:20.742Z"
   },
   {
    "duration": 6,
    "start_time": "2023-06-24T15:34:21.671Z"
   },
   {
    "duration": 31,
    "start_time": "2023-06-24T15:34:21.679Z"
   },
   {
    "duration": 25,
    "start_time": "2023-06-24T15:34:21.712Z"
   },
   {
    "duration": 2562,
    "start_time": "2023-06-24T15:34:21.739Z"
   },
   {
    "duration": 2304,
    "start_time": "2023-06-24T15:34:24.302Z"
   },
   {
    "duration": 1347,
    "start_time": "2023-06-24T15:34:26.607Z"
   },
   {
    "duration": 29,
    "start_time": "2023-06-24T15:34:27.956Z"
   },
   {
    "duration": 260,
    "start_time": "2023-06-24T15:37:52.992Z"
   },
   {
    "duration": 257,
    "start_time": "2023-06-24T15:38:56.715Z"
   },
   {
    "duration": 17,
    "start_time": "2023-06-24T15:39:03.563Z"
   },
   {
    "duration": 81,
    "start_time": "2023-06-24T15:39:48.931Z"
   },
   {
    "duration": 62,
    "start_time": "2023-06-24T15:40:31.289Z"
   },
   {
    "duration": 14,
    "start_time": "2023-06-24T15:41:41.490Z"
   },
   {
    "duration": 5,
    "start_time": "2023-06-24T15:41:51.813Z"
   },
   {
    "duration": 20,
    "start_time": "2023-06-24T15:44:10.682Z"
   },
   {
    "duration": 93,
    "start_time": "2023-06-24T15:44:22.104Z"
   },
   {
    "duration": 30,
    "start_time": "2023-06-24T15:44:27.566Z"
   },
   {
    "duration": 16,
    "start_time": "2023-06-24T15:44:44.638Z"
   },
   {
    "duration": 33,
    "start_time": "2023-06-24T15:54:50.251Z"
   },
   {
    "duration": 96,
    "start_time": "2023-06-24T15:54:57.210Z"
   },
   {
    "duration": 31,
    "start_time": "2023-06-24T15:55:39.201Z"
   },
   {
    "duration": 72,
    "start_time": "2023-06-24T15:55:40.443Z"
   },
   {
    "duration": 40,
    "start_time": "2023-06-24T16:13:12.762Z"
   },
   {
    "duration": 81,
    "start_time": "2023-06-24T16:13:25.956Z"
   },
   {
    "duration": 4,
    "start_time": "2023-06-24T16:13:36.107Z"
   },
   {
    "duration": 32,
    "start_time": "2023-06-24T16:13:50.540Z"
   },
   {
    "duration": 22,
    "start_time": "2023-06-24T16:15:22.606Z"
   },
   {
    "duration": 100,
    "start_time": "2023-06-24T16:15:29.148Z"
   },
   {
    "duration": 1518,
    "start_time": "2023-06-24T16:19:57.427Z"
   },
   {
    "duration": 852,
    "start_time": "2023-06-24T16:19:58.947Z"
   },
   {
    "duration": 20,
    "start_time": "2023-06-24T16:19:59.800Z"
   },
   {
    "duration": 149,
    "start_time": "2023-06-24T16:19:59.821Z"
   },
   {
    "duration": 118,
    "start_time": "2023-06-24T16:19:59.973Z"
   },
   {
    "duration": 29,
    "start_time": "2023-06-24T16:20:00.093Z"
   },
   {
    "duration": 26,
    "start_time": "2023-06-24T16:20:00.124Z"
   },
   {
    "duration": 5,
    "start_time": "2023-06-24T16:20:42.982Z"
   },
   {
    "duration": 6,
    "start_time": "2023-06-24T16:20:57.721Z"
   },
   {
    "duration": 9,
    "start_time": "2023-06-24T16:21:10.063Z"
   },
   {
    "duration": 8,
    "start_time": "2023-06-24T16:21:20.521Z"
   },
   {
    "duration": 7,
    "start_time": "2023-06-24T16:21:28.395Z"
   },
   {
    "duration": 6,
    "start_time": "2023-06-24T16:21:31.120Z"
   },
   {
    "duration": 12,
    "start_time": "2023-06-24T16:21:53.225Z"
   },
   {
    "duration": 9,
    "start_time": "2023-06-24T16:22:10.856Z"
   },
   {
    "duration": 7,
    "start_time": "2023-06-24T16:22:18.040Z"
   },
   {
    "duration": 7,
    "start_time": "2023-06-24T16:22:25.825Z"
   },
   {
    "duration": 7,
    "start_time": "2023-06-24T16:22:30.048Z"
   },
   {
    "duration": 14,
    "start_time": "2023-06-24T16:22:34.068Z"
   },
   {
    "duration": 6,
    "start_time": "2023-06-24T16:22:37.121Z"
   },
   {
    "duration": 6,
    "start_time": "2023-06-24T16:22:42.604Z"
   },
   {
    "duration": 6,
    "start_time": "2023-06-24T16:23:01.901Z"
   },
   {
    "duration": 8,
    "start_time": "2023-06-24T16:23:11.924Z"
   },
   {
    "duration": 6,
    "start_time": "2023-06-24T16:23:17.848Z"
   },
   {
    "duration": 1560,
    "start_time": "2023-06-24T16:23:29.141Z"
   },
   {
    "duration": 929,
    "start_time": "2023-06-24T16:23:30.704Z"
   },
   {
    "duration": 20,
    "start_time": "2023-06-24T16:23:31.634Z"
   },
   {
    "duration": 184,
    "start_time": "2023-06-24T16:23:31.656Z"
   },
   {
    "duration": 110,
    "start_time": "2023-06-24T16:23:31.841Z"
   },
   {
    "duration": 35,
    "start_time": "2023-06-24T16:23:31.953Z"
   },
   {
    "duration": 50,
    "start_time": "2023-06-24T16:23:31.990Z"
   },
   {
    "duration": 117,
    "start_time": "2023-06-24T16:23:32.042Z"
   },
   {
    "duration": 6,
    "start_time": "2023-06-24T16:23:32.160Z"
   },
   {
    "duration": 62,
    "start_time": "2023-06-24T16:23:32.169Z"
   },
   {
    "duration": 8,
    "start_time": "2023-06-24T16:23:32.233Z"
   },
   {
    "duration": 353,
    "start_time": "2023-06-24T16:23:32.243Z"
   },
   {
    "duration": 106,
    "start_time": "2023-06-24T16:23:32.598Z"
   },
   {
    "duration": 80,
    "start_time": "2023-06-24T16:23:32.706Z"
   },
   {
    "duration": 1196,
    "start_time": "2023-06-24T16:23:32.788Z"
   },
   {
    "duration": 8,
    "start_time": "2023-06-24T16:23:33.986Z"
   },
   {
    "duration": 51,
    "start_time": "2023-06-24T16:23:33.996Z"
   },
   {
    "duration": 36,
    "start_time": "2023-06-24T16:23:34.069Z"
   },
   {
    "duration": 3121,
    "start_time": "2023-06-24T16:23:34.107Z"
   },
   {
    "duration": 2583,
    "start_time": "2023-06-24T16:23:37.232Z"
   },
   {
    "duration": 1494,
    "start_time": "2023-06-24T16:23:39.816Z"
   },
   {
    "duration": 28,
    "start_time": "2023-06-24T16:23:41.312Z"
   },
   {
    "duration": 355,
    "start_time": "2023-06-24T16:23:41.341Z"
   },
   {
    "duration": 24,
    "start_time": "2023-06-24T16:23:41.698Z"
   },
   {
    "duration": 108,
    "start_time": "2023-06-24T16:23:41.723Z"
   },
   {
    "duration": 73,
    "start_time": "2023-06-24T16:23:41.833Z"
   },
   {
    "duration": 5,
    "start_time": "2023-06-24T16:23:41.908Z"
   },
   {
    "duration": 15,
    "start_time": "2023-06-24T16:23:41.915Z"
   },
   {
    "duration": 61,
    "start_time": "2023-06-24T16:23:41.932Z"
   },
   {
    "duration": 88,
    "start_time": "2023-06-24T16:23:41.995Z"
   },
   {
    "duration": 59,
    "start_time": "2023-06-24T16:23:42.085Z"
   },
   {
    "duration": 18,
    "start_time": "2023-06-24T16:23:42.146Z"
   },
   {
    "duration": 93,
    "start_time": "2023-06-24T16:23:42.165Z"
   },
   {
    "duration": 16,
    "start_time": "2023-06-24T17:48:56.267Z"
   },
   {
    "duration": 35,
    "start_time": "2023-06-24T17:49:11.626Z"
   },
   {
    "duration": 87,
    "start_time": "2023-06-24T17:49:40.848Z"
   },
   {
    "duration": 90,
    "start_time": "2023-06-24T17:49:57.030Z"
   },
   {
    "duration": 100,
    "start_time": "2023-06-24T17:50:10.945Z"
   },
   {
    "duration": 89,
    "start_time": "2023-06-24T17:51:24.002Z"
   },
   {
    "duration": 87,
    "start_time": "2023-06-24T17:51:28.526Z"
   },
   {
    "duration": 500,
    "start_time": "2023-06-24T17:54:45.414Z"
   },
   {
    "duration": 376,
    "start_time": "2023-06-24T17:55:12.564Z"
   },
   {
    "duration": 134,
    "start_time": "2023-06-24T17:55:47.480Z"
   },
   {
    "duration": 183,
    "start_time": "2023-06-24T17:56:19.227Z"
   },
   {
    "duration": 127,
    "start_time": "2023-06-24T17:56:32.036Z"
   },
   {
    "duration": 18,
    "start_time": "2023-06-24T17:57:23.598Z"
   },
   {
    "duration": 20,
    "start_time": "2023-06-24T17:57:34.109Z"
   },
   {
    "duration": 36,
    "start_time": "2023-06-24T17:57:54.072Z"
   },
   {
    "duration": 164,
    "start_time": "2023-06-24T17:58:04.365Z"
   },
   {
    "duration": 79,
    "start_time": "2023-06-24T17:58:28.453Z"
   },
   {
    "duration": 253,
    "start_time": "2023-06-24T17:59:24.279Z"
   },
   {
    "duration": 697,
    "start_time": "2023-06-24T17:59:40.965Z"
   },
   {
    "duration": 48,
    "start_time": "2023-06-24T18:03:01.007Z"
   },
   {
    "duration": 12,
    "start_time": "2023-06-24T18:29:22.459Z"
   },
   {
    "duration": 287,
    "start_time": "2023-06-24T18:29:37.590Z"
   },
   {
    "duration": 236,
    "start_time": "2023-06-24T18:31:06.436Z"
   },
   {
    "duration": 239,
    "start_time": "2023-06-24T18:31:08.427Z"
   },
   {
    "duration": 76,
    "start_time": "2023-06-24T18:31:18.491Z"
   },
   {
    "duration": 58,
    "start_time": "2023-06-24T18:38:17.743Z"
   },
   {
    "duration": 748,
    "start_time": "2023-06-24T18:39:52.910Z"
   },
   {
    "duration": 3089,
    "start_time": "2023-06-24T18:40:27.811Z"
   },
   {
    "duration": 3115,
    "start_time": "2023-06-24T18:40:33.917Z"
   },
   {
    "duration": 1775,
    "start_time": "2023-06-24T18:40:43.840Z"
   },
   {
    "duration": 1141,
    "start_time": "2023-06-24T18:40:52.309Z"
   },
   {
    "duration": 5,
    "start_time": "2023-06-24T18:42:03.617Z"
   },
   {
    "duration": 1495,
    "start_time": "2023-06-24T18:42:17.342Z"
   },
   {
    "duration": 790,
    "start_time": "2023-06-24T18:42:18.839Z"
   },
   {
    "duration": 17,
    "start_time": "2023-06-24T18:42:19.630Z"
   },
   {
    "duration": 141,
    "start_time": "2023-06-24T18:42:19.648Z"
   },
   {
    "duration": 97,
    "start_time": "2023-06-24T18:42:19.791Z"
   },
   {
    "duration": 31,
    "start_time": "2023-06-24T18:42:19.889Z"
   },
   {
    "duration": 63,
    "start_time": "2023-06-24T18:42:19.922Z"
   },
   {
    "duration": 85,
    "start_time": "2023-06-24T18:42:19.987Z"
   },
   {
    "duration": 5,
    "start_time": "2023-06-24T18:42:20.074Z"
   },
   {
    "duration": 67,
    "start_time": "2023-06-24T18:42:20.080Z"
   },
   {
    "duration": 5,
    "start_time": "2023-06-24T18:42:20.149Z"
   },
   {
    "duration": 240,
    "start_time": "2023-06-24T18:42:20.156Z"
   },
   {
    "duration": 80,
    "start_time": "2023-06-24T18:42:20.398Z"
   },
   {
    "duration": 48,
    "start_time": "2023-06-24T18:42:20.481Z"
   },
   {
    "duration": 902,
    "start_time": "2023-06-24T18:42:20.531Z"
   },
   {
    "duration": 6,
    "start_time": "2023-06-24T18:42:21.434Z"
   },
   {
    "duration": 48,
    "start_time": "2023-06-24T18:42:21.441Z"
   },
   {
    "duration": 23,
    "start_time": "2023-06-24T18:42:21.491Z"
   },
   {
    "duration": 2779,
    "start_time": "2023-06-24T18:42:21.516Z"
   },
   {
    "duration": 2536,
    "start_time": "2023-06-24T18:42:24.297Z"
   },
   {
    "duration": 1378,
    "start_time": "2023-06-24T18:42:26.835Z"
   },
   {
    "duration": 28,
    "start_time": "2023-06-24T18:42:28.215Z"
   },
   {
    "duration": 295,
    "start_time": "2023-06-24T18:42:28.244Z"
   },
   {
    "duration": 296,
    "start_time": "2023-06-24T18:42:28.541Z"
   },
   {
    "duration": 30,
    "start_time": "2023-06-24T18:42:28.839Z"
   },
   {
    "duration": 80,
    "start_time": "2023-06-24T18:42:28.871Z"
   },
   {
    "duration": 66,
    "start_time": "2023-06-24T18:42:28.953Z"
   },
   {
    "duration": 5,
    "start_time": "2023-06-24T18:42:29.021Z"
   },
   {
    "duration": 5,
    "start_time": "2023-06-24T18:42:29.028Z"
   },
   {
    "duration": 41,
    "start_time": "2023-06-24T18:42:29.035Z"
   },
   {
    "duration": 7,
    "start_time": "2023-06-24T18:42:56.145Z"
   },
   {
    "duration": 9,
    "start_time": "2023-06-24T18:43:31.602Z"
   },
   {
    "duration": 976,
    "start_time": "2023-06-24T18:43:45.498Z"
   },
   {
    "duration": 1457,
    "start_time": "2023-06-24T18:48:31.585Z"
   },
   {
    "duration": 871,
    "start_time": "2023-06-24T18:48:33.044Z"
   },
   {
    "duration": 18,
    "start_time": "2023-06-24T18:48:33.916Z"
   },
   {
    "duration": 222,
    "start_time": "2023-06-24T18:48:33.936Z"
   },
   {
    "duration": 121,
    "start_time": "2023-06-24T18:48:34.169Z"
   },
   {
    "duration": 29,
    "start_time": "2023-06-24T18:48:34.291Z"
   },
   {
    "duration": 70,
    "start_time": "2023-06-24T18:48:34.321Z"
   },
   {
    "duration": 116,
    "start_time": "2023-06-24T18:48:34.394Z"
   },
   {
    "duration": 7,
    "start_time": "2023-06-24T18:48:34.512Z"
   },
   {
    "duration": 73,
    "start_time": "2023-06-24T18:48:34.520Z"
   },
   {
    "duration": 8,
    "start_time": "2023-06-24T18:48:34.595Z"
   },
   {
    "duration": 266,
    "start_time": "2023-06-24T18:48:34.604Z"
   },
   {
    "duration": 96,
    "start_time": "2023-06-24T18:48:34.872Z"
   },
   {
    "duration": 52,
    "start_time": "2023-06-24T18:48:34.972Z"
   },
   {
    "duration": 1021,
    "start_time": "2023-06-24T18:48:35.026Z"
   },
   {
    "duration": 5,
    "start_time": "2023-06-24T18:48:36.049Z"
   },
   {
    "duration": 43,
    "start_time": "2023-06-24T18:48:36.055Z"
   },
   {
    "duration": 24,
    "start_time": "2023-06-24T18:48:36.100Z"
   },
   {
    "duration": 2653,
    "start_time": "2023-06-24T18:48:36.125Z"
   },
   {
    "duration": 2558,
    "start_time": "2023-06-24T18:48:38.779Z"
   },
   {
    "duration": 1400,
    "start_time": "2023-06-24T18:48:41.339Z"
   },
   {
    "duration": 36,
    "start_time": "2023-06-24T18:48:42.741Z"
   },
   {
    "duration": 289,
    "start_time": "2023-06-24T18:48:42.780Z"
   },
   {
    "duration": 317,
    "start_time": "2023-06-24T18:48:43.071Z"
   },
   {
    "duration": 20,
    "start_time": "2023-06-24T18:48:43.390Z"
   },
   {
    "duration": 97,
    "start_time": "2023-06-24T18:48:43.412Z"
   },
   {
    "duration": 69,
    "start_time": "2023-06-24T18:48:43.510Z"
   },
   {
    "duration": 5,
    "start_time": "2023-06-24T18:48:43.582Z"
   },
   {
    "duration": 15,
    "start_time": "2023-06-24T18:48:43.589Z"
   },
   {
    "duration": 36,
    "start_time": "2023-06-24T18:48:43.606Z"
   },
   {
    "duration": 108,
    "start_time": "2023-06-24T18:48:43.644Z"
   },
   {
    "duration": 35,
    "start_time": "2023-06-24T18:48:43.753Z"
   },
   {
    "duration": 25,
    "start_time": "2023-06-24T18:48:43.790Z"
   },
   {
    "duration": 299,
    "start_time": "2023-06-24T18:48:43.817Z"
   },
   {
    "duration": 298,
    "start_time": "2023-06-24T18:48:44.118Z"
   },
   {
    "duration": 250,
    "start_time": "2023-06-24T18:48:44.418Z"
   },
   {
    "duration": 98,
    "start_time": "2023-06-24T18:48:44.670Z"
   },
   {
    "duration": 61,
    "start_time": "2023-06-24T18:48:44.770Z"
   },
   {
    "duration": 996,
    "start_time": "2023-06-24T18:48:44.832Z"
   },
   {
    "duration": 1408,
    "start_time": "2023-06-24T18:54:20.959Z"
   },
   {
    "duration": 925,
    "start_time": "2023-06-24T18:54:22.369Z"
   },
   {
    "duration": 26,
    "start_time": "2023-06-24T18:54:23.296Z"
   },
   {
    "duration": 165,
    "start_time": "2023-06-24T18:54:23.323Z"
   },
   {
    "duration": 114,
    "start_time": "2023-06-24T18:54:23.490Z"
   },
   {
    "duration": 33,
    "start_time": "2023-06-24T18:54:23.606Z"
   },
   {
    "duration": 65,
    "start_time": "2023-06-24T18:54:23.641Z"
   },
   {
    "duration": 110,
    "start_time": "2023-06-24T18:54:23.709Z"
   },
   {
    "duration": 7,
    "start_time": "2023-06-24T18:54:23.821Z"
   },
   {
    "duration": 73,
    "start_time": "2023-06-24T18:54:23.829Z"
   },
   {
    "duration": 7,
    "start_time": "2023-06-24T18:54:23.904Z"
   },
   {
    "duration": 344,
    "start_time": "2023-06-24T18:54:23.912Z"
   },
   {
    "duration": 100,
    "start_time": "2023-06-24T18:54:24.259Z"
   },
   {
    "duration": 54,
    "start_time": "2023-06-24T18:54:24.369Z"
   },
   {
    "duration": 1013,
    "start_time": "2023-06-24T18:54:24.424Z"
   },
   {
    "duration": 7,
    "start_time": "2023-06-24T18:54:25.439Z"
   },
   {
    "duration": 51,
    "start_time": "2023-06-24T18:54:25.448Z"
   },
   {
    "duration": 27,
    "start_time": "2023-06-24T18:54:25.501Z"
   },
   {
    "duration": 2822,
    "start_time": "2023-06-24T18:54:25.529Z"
   },
   {
    "duration": 2408,
    "start_time": "2023-06-24T18:54:28.353Z"
   },
   {
    "duration": 1433,
    "start_time": "2023-06-24T18:54:30.763Z"
   },
   {
    "duration": 31,
    "start_time": "2023-06-24T18:54:32.198Z"
   },
   {
    "duration": 344,
    "start_time": "2023-06-24T18:54:32.231Z"
   },
   {
    "duration": 288,
    "start_time": "2023-06-24T18:54:32.577Z"
   },
   {
    "duration": 25,
    "start_time": "2023-06-24T18:54:32.867Z"
   },
   {
    "duration": 94,
    "start_time": "2023-06-24T18:54:32.894Z"
   },
   {
    "duration": 83,
    "start_time": "2023-06-24T18:54:32.990Z"
   },
   {
    "duration": 10,
    "start_time": "2023-06-24T18:54:33.074Z"
   },
   {
    "duration": 20,
    "start_time": "2023-06-24T18:54:33.086Z"
   },
   {
    "duration": 61,
    "start_time": "2023-06-24T18:54:33.108Z"
   },
   {
    "duration": 98,
    "start_time": "2023-06-24T18:54:33.171Z"
   },
   {
    "duration": 21,
    "start_time": "2023-06-24T18:54:33.271Z"
   },
   {
    "duration": 31,
    "start_time": "2023-06-24T18:54:33.293Z"
   },
   {
    "duration": 306,
    "start_time": "2023-06-24T18:54:33.326Z"
   },
   {
    "duration": 296,
    "start_time": "2023-06-24T18:54:33.634Z"
   },
   {
    "duration": 354,
    "start_time": "2023-06-24T18:54:33.931Z"
   },
   {
    "duration": 96,
    "start_time": "2023-06-24T18:54:34.287Z"
   },
   {
    "duration": 70,
    "start_time": "2023-06-24T18:54:34.385Z"
   },
   {
    "duration": 9,
    "start_time": "2023-06-24T18:54:34.468Z"
   },
   {
    "duration": 110,
    "start_time": "2023-06-24T18:55:04.175Z"
   },
   {
    "duration": 60,
    "start_time": "2023-06-24T18:55:23.111Z"
   },
   {
    "duration": 1515,
    "start_time": "2023-06-24T18:55:58.839Z"
   },
   {
    "duration": 956,
    "start_time": "2023-06-24T18:56:00.356Z"
   },
   {
    "duration": 21,
    "start_time": "2023-06-24T18:56:01.313Z"
   },
   {
    "duration": 178,
    "start_time": "2023-06-24T18:56:01.336Z"
   },
   {
    "duration": 293,
    "start_time": "2023-06-24T18:56:01.516Z"
   },
   {
    "duration": 0,
    "start_time": "2023-06-24T18:56:01.813Z"
   },
   {
    "duration": 0,
    "start_time": "2023-06-24T18:56:01.815Z"
   },
   {
    "duration": 0,
    "start_time": "2023-06-24T18:56:01.816Z"
   },
   {
    "duration": 0,
    "start_time": "2023-06-24T18:56:01.817Z"
   },
   {
    "duration": 0,
    "start_time": "2023-06-24T18:56:01.819Z"
   },
   {
    "duration": 0,
    "start_time": "2023-06-24T18:56:01.820Z"
   },
   {
    "duration": 0,
    "start_time": "2023-06-24T18:56:01.822Z"
   },
   {
    "duration": 0,
    "start_time": "2023-06-24T18:56:01.823Z"
   },
   {
    "duration": 0,
    "start_time": "2023-06-24T18:56:01.825Z"
   },
   {
    "duration": 0,
    "start_time": "2023-06-24T18:56:01.826Z"
   },
   {
    "duration": 0,
    "start_time": "2023-06-24T18:56:01.828Z"
   },
   {
    "duration": 0,
    "start_time": "2023-06-24T18:56:01.829Z"
   },
   {
    "duration": 0,
    "start_time": "2023-06-24T18:56:01.830Z"
   },
   {
    "duration": 0,
    "start_time": "2023-06-24T18:56:01.832Z"
   },
   {
    "duration": 0,
    "start_time": "2023-06-24T18:56:01.834Z"
   },
   {
    "duration": 0,
    "start_time": "2023-06-24T18:56:01.869Z"
   },
   {
    "duration": 0,
    "start_time": "2023-06-24T18:56:01.871Z"
   },
   {
    "duration": 0,
    "start_time": "2023-06-24T18:56:01.872Z"
   },
   {
    "duration": 0,
    "start_time": "2023-06-24T18:56:01.873Z"
   },
   {
    "duration": 0,
    "start_time": "2023-06-24T18:56:01.875Z"
   },
   {
    "duration": 0,
    "start_time": "2023-06-24T18:56:01.876Z"
   },
   {
    "duration": 0,
    "start_time": "2023-06-24T18:56:01.877Z"
   },
   {
    "duration": 0,
    "start_time": "2023-06-24T18:56:01.878Z"
   },
   {
    "duration": 0,
    "start_time": "2023-06-24T18:56:01.880Z"
   },
   {
    "duration": 0,
    "start_time": "2023-06-24T18:56:01.881Z"
   },
   {
    "duration": 0,
    "start_time": "2023-06-24T18:56:01.883Z"
   },
   {
    "duration": 0,
    "start_time": "2023-06-24T18:56:01.884Z"
   },
   {
    "duration": 1,
    "start_time": "2023-06-24T18:56:01.885Z"
   },
   {
    "duration": 0,
    "start_time": "2023-06-24T18:56:01.887Z"
   },
   {
    "duration": 0,
    "start_time": "2023-06-24T18:56:01.888Z"
   },
   {
    "duration": 0,
    "start_time": "2023-06-24T18:56:01.889Z"
   },
   {
    "duration": 0,
    "start_time": "2023-06-24T18:56:01.891Z"
   },
   {
    "duration": 0,
    "start_time": "2023-06-24T18:56:01.892Z"
   },
   {
    "duration": 0,
    "start_time": "2023-06-24T18:56:01.893Z"
   },
   {
    "duration": 0,
    "start_time": "2023-06-24T18:56:01.895Z"
   },
   {
    "duration": 1707,
    "start_time": "2023-06-24T18:56:10.206Z"
   },
   {
    "duration": 819,
    "start_time": "2023-06-24T18:56:11.915Z"
   },
   {
    "duration": 36,
    "start_time": "2023-06-24T18:56:12.738Z"
   },
   {
    "duration": 139,
    "start_time": "2023-06-24T18:56:12.776Z"
   },
   {
    "duration": 108,
    "start_time": "2023-06-24T18:56:12.916Z"
   },
   {
    "duration": 26,
    "start_time": "2023-06-24T18:56:13.026Z"
   },
   {
    "duration": 70,
    "start_time": "2023-06-24T18:56:13.053Z"
   },
   {
    "duration": 92,
    "start_time": "2023-06-24T18:56:13.125Z"
   },
   {
    "duration": 6,
    "start_time": "2023-06-24T18:56:13.219Z"
   },
   {
    "duration": 69,
    "start_time": "2023-06-24T18:56:13.226Z"
   },
   {
    "duration": 6,
    "start_time": "2023-06-24T18:56:13.297Z"
   },
   {
    "duration": 253,
    "start_time": "2023-06-24T18:56:13.304Z"
   },
   {
    "duration": 91,
    "start_time": "2023-06-24T18:56:13.559Z"
   },
   {
    "duration": 61,
    "start_time": "2023-06-24T18:56:13.652Z"
   },
   {
    "duration": 994,
    "start_time": "2023-06-24T18:56:13.715Z"
   },
   {
    "duration": 7,
    "start_time": "2023-06-24T18:56:14.710Z"
   },
   {
    "duration": 50,
    "start_time": "2023-06-24T18:56:14.718Z"
   },
   {
    "duration": 25,
    "start_time": "2023-06-24T18:56:14.769Z"
   },
   {
    "duration": 2770,
    "start_time": "2023-06-24T18:56:14.795Z"
   },
   {
    "duration": 2443,
    "start_time": "2023-06-24T18:56:17.567Z"
   },
   {
    "duration": 1377,
    "start_time": "2023-06-24T18:56:20.012Z"
   },
   {
    "duration": 29,
    "start_time": "2023-06-24T18:56:21.391Z"
   },
   {
    "duration": 327,
    "start_time": "2023-06-24T18:56:21.421Z"
   },
   {
    "duration": 319,
    "start_time": "2023-06-24T18:56:21.751Z"
   },
   {
    "duration": 27,
    "start_time": "2023-06-24T18:56:22.072Z"
   },
   {
    "duration": 91,
    "start_time": "2023-06-24T18:56:22.100Z"
   },
   {
    "duration": 80,
    "start_time": "2023-06-24T18:56:22.193Z"
   },
   {
    "duration": 5,
    "start_time": "2023-06-24T18:56:22.275Z"
   },
   {
    "duration": 25,
    "start_time": "2023-06-24T18:56:22.282Z"
   },
   {
    "duration": 59,
    "start_time": "2023-06-24T18:56:22.309Z"
   },
   {
    "duration": 75,
    "start_time": "2023-06-24T18:56:22.370Z"
   },
   {
    "duration": 31,
    "start_time": "2023-06-24T18:56:22.447Z"
   },
   {
    "duration": 23,
    "start_time": "2023-06-24T18:56:22.480Z"
   },
   {
    "duration": 268,
    "start_time": "2023-06-24T18:56:22.505Z"
   },
   {
    "duration": 253,
    "start_time": "2023-06-24T18:56:22.775Z"
   },
   {
    "duration": 265,
    "start_time": "2023-06-24T18:56:23.030Z"
   },
   {
    "duration": 82,
    "start_time": "2023-06-24T18:56:23.297Z"
   },
   {
    "duration": 60,
    "start_time": "2023-06-24T18:56:23.381Z"
   },
   {
    "duration": 30,
    "start_time": "2023-06-24T18:56:23.443Z"
   },
   {
    "duration": 78,
    "start_time": "2023-06-24T18:56:23.476Z"
   },
   {
    "duration": 67,
    "start_time": "2023-06-24T18:56:23.556Z"
   },
   {
    "duration": 3411,
    "start_time": "2023-06-25T12:20:40.937Z"
   },
   {
    "duration": 1591,
    "start_time": "2023-06-25T12:20:44.351Z"
   },
   {
    "duration": 1129,
    "start_time": "2023-06-25T12:20:45.944Z"
   },
   {
    "duration": 19,
    "start_time": "2023-06-25T12:20:47.075Z"
   },
   {
    "duration": 143,
    "start_time": "2023-06-25T12:20:47.096Z"
   },
   {
    "duration": 120,
    "start_time": "2023-06-25T12:20:47.241Z"
   },
   {
    "duration": 29,
    "start_time": "2023-06-25T12:20:47.363Z"
   },
   {
    "duration": 47,
    "start_time": "2023-06-25T12:20:47.401Z"
   },
   {
    "duration": 95,
    "start_time": "2023-06-25T12:20:47.449Z"
   },
   {
    "duration": 6,
    "start_time": "2023-06-25T12:20:47.548Z"
   },
   {
    "duration": 71,
    "start_time": "2023-06-25T12:20:47.555Z"
   },
   {
    "duration": 9,
    "start_time": "2023-06-25T12:20:47.628Z"
   },
   {
    "duration": 288,
    "start_time": "2023-06-25T12:20:47.640Z"
   },
   {
    "duration": 85,
    "start_time": "2023-06-25T12:20:47.930Z"
   },
   {
    "duration": 55,
    "start_time": "2023-06-25T12:20:48.017Z"
   },
   {
    "duration": 1002,
    "start_time": "2023-06-25T12:20:48.074Z"
   },
   {
    "duration": 7,
    "start_time": "2023-06-25T12:20:49.077Z"
   },
   {
    "duration": 50,
    "start_time": "2023-06-25T12:20:49.085Z"
   },
   {
    "duration": 28,
    "start_time": "2023-06-25T12:20:49.136Z"
   },
   {
    "duration": 2904,
    "start_time": "2023-06-25T12:20:49.166Z"
   },
   {
    "duration": 2878,
    "start_time": "2023-06-25T12:20:52.072Z"
   },
   {
    "duration": 1440,
    "start_time": "2023-06-25T12:20:54.951Z"
   },
   {
    "duration": 31,
    "start_time": "2023-06-25T12:20:56.393Z"
   },
   {
    "duration": 290,
    "start_time": "2023-06-25T12:20:56.426Z"
   },
   {
    "duration": 318,
    "start_time": "2023-06-25T12:20:56.718Z"
   },
   {
    "duration": 29,
    "start_time": "2023-06-25T12:20:57.040Z"
   },
   {
    "duration": 112,
    "start_time": "2023-06-25T12:20:57.071Z"
   },
   {
    "duration": 91,
    "start_time": "2023-06-25T12:20:57.187Z"
   },
   {
    "duration": 25,
    "start_time": "2023-06-25T12:20:57.280Z"
   },
   {
    "duration": 31,
    "start_time": "2023-06-25T12:20:57.308Z"
   },
   {
    "duration": 61,
    "start_time": "2023-06-25T12:20:57.341Z"
   },
   {
    "duration": 72,
    "start_time": "2023-06-25T12:20:57.405Z"
   },
   {
    "duration": 38,
    "start_time": "2023-06-25T12:20:57.478Z"
   },
   {
    "duration": 20,
    "start_time": "2023-06-25T12:20:57.518Z"
   },
   {
    "duration": 272,
    "start_time": "2023-06-25T12:20:57.540Z"
   },
   {
    "duration": 260,
    "start_time": "2023-06-25T12:20:57.815Z"
   },
   {
    "duration": 263,
    "start_time": "2023-06-25T12:20:58.077Z"
   },
   {
    "duration": 105,
    "start_time": "2023-06-25T12:20:58.342Z"
   },
   {
    "duration": 66,
    "start_time": "2023-06-25T12:20:58.450Z"
   },
   {
    "duration": 9,
    "start_time": "2023-06-25T12:20:58.518Z"
   },
   {
    "duration": 95,
    "start_time": "2023-06-25T12:20:58.529Z"
   },
   {
    "duration": 56,
    "start_time": "2023-06-25T12:20:58.626Z"
   },
   {
    "duration": 5789,
    "start_time": "2023-06-25T12:20:58.702Z"
   },
   {
    "duration": 5842,
    "start_time": "2023-06-25T12:22:48.825Z"
   },
   {
    "duration": 5751,
    "start_time": "2023-06-25T12:23:06.955Z"
   },
   {
    "duration": 18,
    "start_time": "2023-06-25T12:26:22.536Z"
   },
   {
    "duration": 161,
    "start_time": "2023-06-25T12:38:14.017Z"
   },
   {
    "duration": 6,
    "start_time": "2023-06-25T13:02:20.879Z"
   },
   {
    "duration": 3,
    "start_time": "2023-06-25T13:04:05.889Z"
   },
   {
    "duration": 3126,
    "start_time": "2023-06-26T10:12:25.016Z"
   },
   {
    "duration": 1624,
    "start_time": "2023-06-26T10:12:28.145Z"
   },
   {
    "duration": 2949,
    "start_time": "2023-06-26T10:12:29.772Z"
   },
   {
    "duration": 18,
    "start_time": "2023-06-26T10:12:32.723Z"
   },
   {
    "duration": 150,
    "start_time": "2023-06-26T10:12:32.744Z"
   },
   {
    "duration": 133,
    "start_time": "2023-06-26T10:12:32.895Z"
   },
   {
    "duration": 36,
    "start_time": "2023-06-26T10:12:33.033Z"
   },
   {
    "duration": 58,
    "start_time": "2023-06-26T10:12:33.072Z"
   },
   {
    "duration": 90,
    "start_time": "2023-06-26T10:12:33.132Z"
   },
   {
    "duration": 6,
    "start_time": "2023-06-26T10:12:33.224Z"
   },
   {
    "duration": 88,
    "start_time": "2023-06-26T10:12:33.232Z"
   },
   {
    "duration": 8,
    "start_time": "2023-06-26T10:12:33.322Z"
   },
   {
    "duration": 309,
    "start_time": "2023-06-26T10:12:33.332Z"
   },
   {
    "duration": 91,
    "start_time": "2023-06-26T10:12:33.645Z"
   },
   {
    "duration": 64,
    "start_time": "2023-06-26T10:12:33.739Z"
   },
   {
    "duration": 1091,
    "start_time": "2023-06-26T10:12:33.805Z"
   },
   {
    "duration": 7,
    "start_time": "2023-06-26T10:12:34.898Z"
   },
   {
    "duration": 64,
    "start_time": "2023-06-26T10:12:34.908Z"
   },
   {
    "duration": 26,
    "start_time": "2023-06-26T10:12:34.974Z"
   },
   {
    "duration": 2564,
    "start_time": "2023-06-26T10:12:35.002Z"
   },
   {
    "duration": 2772,
    "start_time": "2023-06-26T10:12:37.569Z"
   },
   {
    "duration": 1543,
    "start_time": "2023-06-26T10:12:40.342Z"
   },
   {
    "duration": 34,
    "start_time": "2023-06-26T10:12:41.887Z"
   },
   {
    "duration": 292,
    "start_time": "2023-06-26T10:12:41.922Z"
   },
   {
    "duration": 276,
    "start_time": "2023-06-26T10:12:42.216Z"
   },
   {
    "duration": 30,
    "start_time": "2023-06-26T10:12:42.493Z"
   },
   {
    "duration": 89,
    "start_time": "2023-06-26T10:12:42.525Z"
   },
   {
    "duration": 64,
    "start_time": "2023-06-26T10:12:42.616Z"
   },
   {
    "duration": 5,
    "start_time": "2023-06-26T10:12:42.682Z"
   },
   {
    "duration": 31,
    "start_time": "2023-06-26T10:12:42.688Z"
   },
   {
    "duration": 43,
    "start_time": "2023-06-26T10:12:42.721Z"
   },
   {
    "duration": 88,
    "start_time": "2023-06-26T10:12:42.766Z"
   },
   {
    "duration": 19,
    "start_time": "2023-06-26T10:12:42.855Z"
   },
   {
    "duration": 42,
    "start_time": "2023-06-26T10:12:42.876Z"
   },
   {
    "duration": 267,
    "start_time": "2023-06-26T10:12:42.920Z"
   },
   {
    "duration": 261,
    "start_time": "2023-06-26T10:12:43.189Z"
   },
   {
    "duration": 313,
    "start_time": "2023-06-26T10:12:43.452Z"
   },
   {
    "duration": 75,
    "start_time": "2023-06-26T10:12:43.767Z"
   },
   {
    "duration": 86,
    "start_time": "2023-06-26T10:12:43.844Z"
   },
   {
    "duration": 9,
    "start_time": "2023-06-26T10:12:43.932Z"
   },
   {
    "duration": 92,
    "start_time": "2023-06-26T10:12:43.945Z"
   },
   {
    "duration": 76,
    "start_time": "2023-06-26T10:12:44.039Z"
   },
   {
    "duration": 5738,
    "start_time": "2023-06-26T10:12:44.117Z"
   },
   {
    "duration": 20,
    "start_time": "2023-06-26T10:12:49.857Z"
   },
   {
    "duration": 180,
    "start_time": "2023-06-26T10:12:49.879Z"
   },
   {
    "duration": 3,
    "start_time": "2023-06-26T10:12:50.061Z"
   },
   {
    "duration": 5,
    "start_time": "2023-06-26T11:11:17.966Z"
   },
   {
    "duration": 18,
    "start_time": "2023-06-26T12:29:50.334Z"
   },
   {
    "duration": 4,
    "start_time": "2023-06-26T12:30:06.481Z"
   },
   {
    "duration": 4,
    "start_time": "2023-06-26T12:32:10.552Z"
   },
   {
    "duration": 2402,
    "start_time": "2023-06-26T12:43:51.238Z"
   },
   {
    "duration": 1656,
    "start_time": "2023-06-26T12:43:53.643Z"
   },
   {
    "duration": 929,
    "start_time": "2023-06-26T12:43:55.301Z"
   },
   {
    "duration": 19,
    "start_time": "2023-06-26T12:43:56.234Z"
   },
   {
    "duration": 170,
    "start_time": "2023-06-26T12:43:56.255Z"
   },
   {
    "duration": 132,
    "start_time": "2023-06-26T12:43:56.427Z"
   },
   {
    "duration": 35,
    "start_time": "2023-06-26T12:43:56.561Z"
   },
   {
    "duration": 72,
    "start_time": "2023-06-26T12:43:56.599Z"
   },
   {
    "duration": 100,
    "start_time": "2023-06-26T12:43:56.673Z"
   },
   {
    "duration": 6,
    "start_time": "2023-06-26T12:43:56.776Z"
   },
   {
    "duration": 68,
    "start_time": "2023-06-26T12:43:56.784Z"
   },
   {
    "duration": 8,
    "start_time": "2023-06-26T12:43:56.853Z"
   },
   {
    "duration": 307,
    "start_time": "2023-06-26T12:43:56.863Z"
   },
   {
    "duration": 91,
    "start_time": "2023-06-26T12:43:57.171Z"
   },
   {
    "duration": 75,
    "start_time": "2023-06-26T12:43:57.264Z"
   },
   {
    "duration": 1120,
    "start_time": "2023-06-26T12:43:57.341Z"
   },
   {
    "duration": 7,
    "start_time": "2023-06-26T12:43:58.464Z"
   },
   {
    "duration": 61,
    "start_time": "2023-06-26T12:43:58.474Z"
   },
   {
    "duration": 35,
    "start_time": "2023-06-26T12:43:58.538Z"
   },
   {
    "duration": 2978,
    "start_time": "2023-06-26T12:43:58.575Z"
   },
   {
    "duration": 3006,
    "start_time": "2023-06-26T12:44:01.555Z"
   },
   {
    "duration": 1628,
    "start_time": "2023-06-26T12:44:04.563Z"
   },
   {
    "duration": 48,
    "start_time": "2023-06-26T12:44:06.193Z"
   },
   {
    "duration": 308,
    "start_time": "2023-06-26T12:44:06.243Z"
   },
   {
    "duration": 356,
    "start_time": "2023-06-26T12:44:06.553Z"
   },
   {
    "duration": 31,
    "start_time": "2023-06-26T12:44:06.911Z"
   },
   {
    "duration": 95,
    "start_time": "2023-06-26T12:44:06.944Z"
   },
   {
    "duration": 82,
    "start_time": "2023-06-26T12:44:07.044Z"
   },
   {
    "duration": 6,
    "start_time": "2023-06-26T12:44:07.128Z"
   },
   {
    "duration": 17,
    "start_time": "2023-06-26T12:44:07.137Z"
   },
   {
    "duration": 40,
    "start_time": "2023-06-26T12:44:07.156Z"
   },
   {
    "duration": 93,
    "start_time": "2023-06-26T12:44:07.198Z"
   },
   {
    "duration": 37,
    "start_time": "2023-06-26T12:44:07.294Z"
   },
   {
    "duration": 20,
    "start_time": "2023-06-26T12:44:07.333Z"
   },
   {
    "duration": 317,
    "start_time": "2023-06-26T12:44:07.355Z"
   },
   {
    "duration": 299,
    "start_time": "2023-06-26T12:44:07.675Z"
   },
   {
    "duration": 319,
    "start_time": "2023-06-26T12:44:07.976Z"
   },
   {
    "duration": 79,
    "start_time": "2023-06-26T12:44:08.297Z"
   },
   {
    "duration": 69,
    "start_time": "2023-06-26T12:44:08.379Z"
   },
   {
    "duration": 9,
    "start_time": "2023-06-26T12:44:08.450Z"
   },
   {
    "duration": 98,
    "start_time": "2023-06-26T12:44:08.461Z"
   },
   {
    "duration": 113,
    "start_time": "2023-06-26T12:44:08.560Z"
   },
   {
    "duration": 6080,
    "start_time": "2023-06-26T12:44:08.675Z"
   },
   {
    "duration": 18,
    "start_time": "2023-06-26T12:44:14.758Z"
   },
   {
    "duration": 132,
    "start_time": "2023-06-26T12:44:14.778Z"
   },
   {
    "duration": 3,
    "start_time": "2023-06-26T12:44:14.914Z"
   },
   {
    "duration": 14,
    "start_time": "2023-06-26T12:44:14.919Z"
   },
   {
    "duration": 20,
    "start_time": "2023-06-26T12:44:14.935Z"
   },
   {
    "duration": 21,
    "start_time": "2023-06-26T12:44:14.956Z"
   },
   {
    "duration": 20,
    "start_time": "2023-06-26T12:44:14.979Z"
   },
   {
    "duration": 1023,
    "start_time": "2023-06-26T13:03:14.277Z"
   },
   {
    "duration": 986,
    "start_time": "2023-06-26T13:57:50.041Z"
   },
   {
    "duration": 12,
    "start_time": "2023-06-26T14:19:12.741Z"
   },
   {
    "duration": 15,
    "start_time": "2023-06-26T14:20:16.588Z"
   },
   {
    "duration": 6,
    "start_time": "2023-06-26T14:21:47.978Z"
   },
   {
    "duration": 479,
    "start_time": "2023-06-26T14:30:08.039Z"
   },
   {
    "duration": 3164,
    "start_time": "2023-06-26T14:31:02.783Z"
   },
   {
    "duration": 2189,
    "start_time": "2023-06-26T14:31:05.952Z"
   },
   {
    "duration": 1009,
    "start_time": "2023-06-26T14:31:08.148Z"
   },
   {
    "duration": 20,
    "start_time": "2023-06-26T14:31:09.159Z"
   },
   {
    "duration": 158,
    "start_time": "2023-06-26T14:31:09.181Z"
   },
   {
    "duration": 119,
    "start_time": "2023-06-26T14:31:09.346Z"
   },
   {
    "duration": 32,
    "start_time": "2023-06-26T14:31:09.467Z"
   },
   {
    "duration": 73,
    "start_time": "2023-06-26T14:31:09.501Z"
   },
   {
    "duration": 114,
    "start_time": "2023-06-26T14:31:09.576Z"
   },
   {
    "duration": 8,
    "start_time": "2023-06-26T14:31:09.693Z"
   },
   {
    "duration": 106,
    "start_time": "2023-06-26T14:31:09.703Z"
   },
   {
    "duration": 40,
    "start_time": "2023-06-26T14:31:09.814Z"
   },
   {
    "duration": 385,
    "start_time": "2023-06-26T14:31:09.866Z"
   },
   {
    "duration": 122,
    "start_time": "2023-06-26T14:31:10.255Z"
   },
   {
    "duration": 89,
    "start_time": "2023-06-26T14:31:10.382Z"
   },
   {
    "duration": 1471,
    "start_time": "2023-06-26T14:31:10.472Z"
   },
   {
    "duration": 9,
    "start_time": "2023-06-26T14:31:11.949Z"
   },
   {
    "duration": 35,
    "start_time": "2023-06-26T14:31:11.960Z"
   },
   {
    "duration": 52,
    "start_time": "2023-06-26T14:31:11.997Z"
   },
   {
    "duration": 3213,
    "start_time": "2023-06-26T14:31:12.051Z"
   },
   {
    "duration": 3112,
    "start_time": "2023-06-26T14:31:15.266Z"
   },
   {
    "duration": 1858,
    "start_time": "2023-06-26T14:31:18.381Z"
   },
   {
    "duration": 56,
    "start_time": "2023-06-26T14:31:20.243Z"
   },
   {
    "duration": 450,
    "start_time": "2023-06-26T14:31:20.301Z"
   },
   {
    "duration": 480,
    "start_time": "2023-06-26T14:31:20.758Z"
   },
   {
    "duration": 28,
    "start_time": "2023-06-26T14:31:21.243Z"
   },
   {
    "duration": 138,
    "start_time": "2023-06-26T14:31:21.273Z"
   },
   {
    "duration": 92,
    "start_time": "2023-06-26T14:31:21.414Z"
   },
   {
    "duration": 16,
    "start_time": "2023-06-26T14:31:21.509Z"
   },
   {
    "duration": 53,
    "start_time": "2023-06-26T14:31:21.527Z"
   },
   {
    "duration": 76,
    "start_time": "2023-06-26T14:31:21.582Z"
   },
   {
    "duration": 125,
    "start_time": "2023-06-26T14:31:21.662Z"
   },
   {
    "duration": 22,
    "start_time": "2023-06-26T14:31:21.790Z"
   },
   {
    "duration": 40,
    "start_time": "2023-06-26T14:31:21.815Z"
   },
   {
    "duration": 406,
    "start_time": "2023-06-26T14:31:21.858Z"
   },
   {
    "duration": 402,
    "start_time": "2023-06-26T14:31:22.266Z"
   },
   {
    "duration": 319,
    "start_time": "2023-06-26T14:31:22.671Z"
   },
   {
    "duration": 124,
    "start_time": "2023-06-26T14:31:22.992Z"
   },
   {
    "duration": 77,
    "start_time": "2023-06-26T14:31:23.126Z"
   },
   {
    "duration": 17,
    "start_time": "2023-06-26T14:31:23.204Z"
   },
   {
    "duration": 124,
    "start_time": "2023-06-26T14:31:23.231Z"
   },
   {
    "duration": 93,
    "start_time": "2023-06-26T14:31:23.358Z"
   },
   {
    "duration": 6873,
    "start_time": "2023-06-26T14:31:23.452Z"
   },
   {
    "duration": 16,
    "start_time": "2023-06-26T14:31:30.331Z"
   },
   {
    "duration": 26,
    "start_time": "2023-06-26T14:31:30.351Z"
   },
   {
    "duration": 61,
    "start_time": "2023-06-26T14:31:30.380Z"
   },
   {
    "duration": 381,
    "start_time": "2023-06-26T14:31:30.444Z"
   },
   {
    "duration": 180,
    "start_time": "2023-06-26T14:37:20.961Z"
   },
   {
    "duration": 130,
    "start_time": "2023-06-26T14:39:49.837Z"
   },
   {
    "duration": 2951,
    "start_time": "2023-06-26T14:40:34.143Z"
   },
   {
    "duration": 2132,
    "start_time": "2023-06-26T14:40:37.098Z"
   },
   {
    "duration": 1271,
    "start_time": "2023-06-26T14:40:39.232Z"
   },
   {
    "duration": 46,
    "start_time": "2023-06-26T14:40:40.505Z"
   },
   {
    "duration": 215,
    "start_time": "2023-06-26T14:40:40.563Z"
   },
   {
    "duration": 151,
    "start_time": "2023-06-26T14:40:40.785Z"
   },
   {
    "duration": 39,
    "start_time": "2023-06-26T14:40:40.942Z"
   },
   {
    "duration": 87,
    "start_time": "2023-06-26T14:40:40.983Z"
   },
   {
    "duration": 286,
    "start_time": "2023-06-26T14:40:41.078Z"
   },
   {
    "duration": 18,
    "start_time": "2023-06-26T14:40:41.368Z"
   },
   {
    "duration": 75,
    "start_time": "2023-06-26T14:40:41.393Z"
   },
   {
    "duration": 13,
    "start_time": "2023-06-26T14:40:41.475Z"
   },
   {
    "duration": 389,
    "start_time": "2023-06-26T14:40:41.495Z"
   },
   {
    "duration": 115,
    "start_time": "2023-06-26T14:40:41.892Z"
   },
   {
    "duration": 80,
    "start_time": "2023-06-26T14:40:42.009Z"
   },
   {
    "duration": 1695,
    "start_time": "2023-06-26T14:40:42.092Z"
   },
   {
    "duration": 21,
    "start_time": "2023-06-26T14:40:43.795Z"
   },
   {
    "duration": 87,
    "start_time": "2023-06-26T14:40:43.828Z"
   },
   {
    "duration": 47,
    "start_time": "2023-06-26T14:40:43.923Z"
   },
   {
    "duration": 4050,
    "start_time": "2023-06-26T14:40:43.972Z"
   },
   {
    "duration": 3361,
    "start_time": "2023-06-26T14:40:48.027Z"
   },
   {
    "duration": 1974,
    "start_time": "2023-06-26T14:40:51.390Z"
   },
   {
    "duration": 35,
    "start_time": "2023-06-26T14:40:53.370Z"
   },
   {
    "duration": 460,
    "start_time": "2023-06-26T14:40:53.407Z"
   },
   {
    "duration": 583,
    "start_time": "2023-06-26T14:40:53.870Z"
   },
   {
    "duration": 29,
    "start_time": "2023-06-26T14:40:54.464Z"
   },
   {
    "duration": 105,
    "start_time": "2023-06-26T14:40:54.496Z"
   },
   {
    "duration": 84,
    "start_time": "2023-06-26T14:40:54.603Z"
   },
   {
    "duration": 7,
    "start_time": "2023-06-26T14:40:54.690Z"
   },
   {
    "duration": 59,
    "start_time": "2023-06-26T14:40:54.699Z"
   },
   {
    "duration": 47,
    "start_time": "2023-06-26T14:40:54.760Z"
   },
   {
    "duration": 113,
    "start_time": "2023-06-26T14:40:54.809Z"
   },
   {
    "duration": 31,
    "start_time": "2023-06-26T14:40:54.928Z"
   },
   {
    "duration": 32,
    "start_time": "2023-06-26T14:40:54.961Z"
   },
   {
    "duration": 368,
    "start_time": "2023-06-26T14:40:54.995Z"
   },
   {
    "duration": 324,
    "start_time": "2023-06-26T14:40:55.365Z"
   },
   {
    "duration": 348,
    "start_time": "2023-06-26T14:40:55.696Z"
   },
   {
    "duration": 118,
    "start_time": "2023-06-26T14:40:56.046Z"
   },
   {
    "duration": 84,
    "start_time": "2023-06-26T14:40:56.176Z"
   },
   {
    "duration": 10,
    "start_time": "2023-06-26T14:40:56.262Z"
   },
   {
    "duration": 106,
    "start_time": "2023-06-26T14:40:56.280Z"
   },
   {
    "duration": 85,
    "start_time": "2023-06-26T14:40:56.388Z"
   },
   {
    "duration": 7901,
    "start_time": "2023-06-26T14:40:56.475Z"
   },
   {
    "duration": 17,
    "start_time": "2023-06-26T14:41:04.378Z"
   },
   {
    "duration": 171,
    "start_time": "2023-06-26T14:41:04.396Z"
   },
   {
    "duration": 74,
    "start_time": "2023-06-26T14:41:04.570Z"
   },
   {
    "duration": 400,
    "start_time": "2023-06-26T14:41:04.646Z"
   },
   {
    "duration": 429,
    "start_time": "2023-06-26T14:41:05.049Z"
   },
   {
    "duration": 40,
    "start_time": "2023-06-26T14:43:16.297Z"
   },
   {
    "duration": 3382,
    "start_time": "2023-06-26T14:45:24.594Z"
   },
   {
    "duration": 1909,
    "start_time": "2023-06-26T14:45:27.980Z"
   },
   {
    "duration": 1470,
    "start_time": "2023-06-26T14:45:29.891Z"
   },
   {
    "duration": 25,
    "start_time": "2023-06-26T14:45:31.370Z"
   },
   {
    "duration": 279,
    "start_time": "2023-06-26T14:45:31.399Z"
   },
   {
    "duration": 150,
    "start_time": "2023-06-26T14:45:31.682Z"
   },
   {
    "duration": 43,
    "start_time": "2023-06-26T14:45:31.838Z"
   },
   {
    "duration": 73,
    "start_time": "2023-06-26T14:45:31.883Z"
   },
   {
    "duration": 117,
    "start_time": "2023-06-26T14:45:31.958Z"
   },
   {
    "duration": 7,
    "start_time": "2023-06-26T14:45:32.078Z"
   },
   {
    "duration": 83,
    "start_time": "2023-06-26T14:45:32.088Z"
   },
   {
    "duration": 12,
    "start_time": "2023-06-26T14:45:32.181Z"
   },
   {
    "duration": 438,
    "start_time": "2023-06-26T14:45:32.195Z"
   },
   {
    "duration": 143,
    "start_time": "2023-06-26T14:45:32.647Z"
   },
   {
    "duration": 87,
    "start_time": "2023-06-26T14:45:32.792Z"
   },
   {
    "duration": 1454,
    "start_time": "2023-06-26T14:45:32.883Z"
   },
   {
    "duration": 13,
    "start_time": "2023-06-26T14:45:34.339Z"
   },
   {
    "duration": 64,
    "start_time": "2023-06-26T14:45:34.354Z"
   },
   {
    "duration": 33,
    "start_time": "2023-06-26T14:45:34.420Z"
   },
   {
    "duration": 4108,
    "start_time": "2023-06-26T14:45:34.455Z"
   },
   {
    "duration": 3911,
    "start_time": "2023-06-26T14:45:38.565Z"
   },
   {
    "duration": 2129,
    "start_time": "2023-06-26T14:45:42.479Z"
   },
   {
    "duration": 54,
    "start_time": "2023-06-26T14:45:44.610Z"
   },
   {
    "duration": 401,
    "start_time": "2023-06-26T14:45:44.668Z"
   },
   {
    "duration": 369,
    "start_time": "2023-06-26T14:45:45.076Z"
   },
   {
    "duration": 33,
    "start_time": "2023-06-26T14:45:45.454Z"
   },
   {
    "duration": 107,
    "start_time": "2023-06-26T14:45:45.489Z"
   },
   {
    "duration": 86,
    "start_time": "2023-06-26T14:45:45.600Z"
   },
   {
    "duration": 8,
    "start_time": "2023-06-26T14:45:45.692Z"
   },
   {
    "duration": 71,
    "start_time": "2023-06-26T14:45:45.702Z"
   },
   {
    "duration": 44,
    "start_time": "2023-06-26T14:45:45.779Z"
   },
   {
    "duration": 112,
    "start_time": "2023-06-26T14:45:45.827Z"
   },
   {
    "duration": 36,
    "start_time": "2023-06-26T14:45:45.946Z"
   },
   {
    "duration": 28,
    "start_time": "2023-06-26T14:45:45.985Z"
   },
   {
    "duration": 348,
    "start_time": "2023-06-26T14:45:46.016Z"
   },
   {
    "duration": 331,
    "start_time": "2023-06-26T14:45:46.367Z"
   },
   {
    "duration": 340,
    "start_time": "2023-06-26T14:45:46.701Z"
   },
   {
    "duration": 94,
    "start_time": "2023-06-26T14:45:47.043Z"
   },
   {
    "duration": 79,
    "start_time": "2023-06-26T14:45:47.143Z"
   },
   {
    "duration": 17,
    "start_time": "2023-06-26T14:45:47.224Z"
   },
   {
    "duration": 118,
    "start_time": "2023-06-26T14:45:47.248Z"
   },
   {
    "duration": 97,
    "start_time": "2023-06-26T14:45:47.368Z"
   },
   {
    "duration": 8138,
    "start_time": "2023-06-26T14:45:47.473Z"
   },
   {
    "duration": 20,
    "start_time": "2023-06-26T14:45:55.616Z"
   },
   {
    "duration": 5,
    "start_time": "2023-06-26T14:45:55.639Z"
   },
   {
    "duration": 48,
    "start_time": "2023-06-26T14:45:55.646Z"
   },
   {
    "duration": 233,
    "start_time": "2023-06-26T14:45:55.697Z"
   },
   {
    "duration": 399,
    "start_time": "2023-06-26T14:48:30.279Z"
   },
   {
    "duration": 444,
    "start_time": "2023-06-26T14:51:42.949Z"
   },
   {
    "duration": 28,
    "start_time": "2023-06-26T14:51:53.543Z"
   },
   {
    "duration": 32,
    "start_time": "2023-06-26T14:52:27.911Z"
   },
   {
    "duration": 3457,
    "start_time": "2023-06-26T14:54:01.892Z"
   },
   {
    "duration": 2729,
    "start_time": "2023-06-26T14:54:05.352Z"
   },
   {
    "duration": 1260,
    "start_time": "2023-06-26T14:54:08.088Z"
   },
   {
    "duration": 26,
    "start_time": "2023-06-26T14:54:09.351Z"
   },
   {
    "duration": 268,
    "start_time": "2023-06-26T14:54:09.389Z"
   },
   {
    "duration": 291,
    "start_time": "2023-06-26T14:54:09.670Z"
   },
   {
    "duration": 63,
    "start_time": "2023-06-26T14:54:09.981Z"
   },
   {
    "duration": 75,
    "start_time": "2023-06-26T14:54:10.050Z"
   },
   {
    "duration": 130,
    "start_time": "2023-06-26T14:54:10.132Z"
   },
   {
    "duration": 12,
    "start_time": "2023-06-26T14:54:10.268Z"
   },
   {
    "duration": 88,
    "start_time": "2023-06-26T14:54:10.283Z"
   },
   {
    "duration": 17,
    "start_time": "2023-06-26T14:54:10.380Z"
   },
   {
    "duration": 477,
    "start_time": "2023-06-26T14:54:10.399Z"
   },
   {
    "duration": 153,
    "start_time": "2023-06-26T14:54:10.884Z"
   },
   {
    "duration": 89,
    "start_time": "2023-06-26T14:54:11.043Z"
   },
   {
    "duration": 1611,
    "start_time": "2023-06-26T14:54:11.138Z"
   },
   {
    "duration": 31,
    "start_time": "2023-06-26T14:54:12.766Z"
   },
   {
    "duration": 82,
    "start_time": "2023-06-26T14:54:12.801Z"
   },
   {
    "duration": 88,
    "start_time": "2023-06-26T14:54:12.885Z"
   },
   {
    "duration": 4370,
    "start_time": "2023-06-26T14:54:12.983Z"
   },
   {
    "duration": 4220,
    "start_time": "2023-06-26T14:54:17.367Z"
   },
   {
    "duration": 2420,
    "start_time": "2023-06-26T14:54:21.594Z"
   },
   {
    "duration": 88,
    "start_time": "2023-06-26T14:54:24.020Z"
   },
   {
    "duration": 579,
    "start_time": "2023-06-26T14:54:24.114Z"
   },
   {
    "duration": 570,
    "start_time": "2023-06-26T14:54:24.703Z"
   },
   {
    "duration": 50,
    "start_time": "2023-06-26T14:54:25.281Z"
   },
   {
    "duration": 202,
    "start_time": "2023-06-26T14:54:25.338Z"
   },
   {
    "duration": 158,
    "start_time": "2023-06-26T14:54:25.547Z"
   },
   {
    "duration": 21,
    "start_time": "2023-06-26T14:54:25.712Z"
   },
   {
    "duration": 46,
    "start_time": "2023-06-26T14:54:25.745Z"
   },
   {
    "duration": 63,
    "start_time": "2023-06-26T14:54:25.793Z"
   },
   {
    "duration": 135,
    "start_time": "2023-06-26T14:54:25.862Z"
   },
   {
    "duration": 75,
    "start_time": "2023-06-26T14:54:26.004Z"
   },
   {
    "duration": 41,
    "start_time": "2023-06-26T14:54:26.090Z"
   },
   {
    "duration": 385,
    "start_time": "2023-06-26T14:54:26.141Z"
   },
   {
    "duration": 389,
    "start_time": "2023-06-26T14:54:26.532Z"
   },
   {
    "duration": 342,
    "start_time": "2023-06-26T14:54:26.927Z"
   },
   {
    "duration": 123,
    "start_time": "2023-06-26T14:54:27.275Z"
   },
   {
    "duration": 124,
    "start_time": "2023-06-26T14:54:27.402Z"
   },
   {
    "duration": 17,
    "start_time": "2023-06-26T14:54:27.540Z"
   },
   {
    "duration": 177,
    "start_time": "2023-06-26T14:54:27.561Z"
   },
   {
    "duration": 143,
    "start_time": "2023-06-26T14:54:27.754Z"
   },
   {
    "duration": 9185,
    "start_time": "2023-06-26T14:54:27.904Z"
   },
   {
    "duration": 50,
    "start_time": "2023-06-26T14:54:37.103Z"
   },
   {
    "duration": 17,
    "start_time": "2023-06-26T14:54:37.162Z"
   },
   {
    "duration": 24,
    "start_time": "2023-06-26T14:54:37.185Z"
   },
   {
    "duration": 276,
    "start_time": "2023-06-26T14:54:37.211Z"
   },
   {
    "duration": 456,
    "start_time": "2023-06-26T14:54:37.493Z"
   },
   {
    "duration": 189,
    "start_time": "2023-06-26T14:54:37.955Z"
   },
   {
    "duration": 447,
    "start_time": "2023-06-26T14:55:16.394Z"
   },
   {
    "duration": 41,
    "start_time": "2023-06-26T14:55:21.383Z"
   },
   {
    "duration": 47,
    "start_time": "2023-06-26T14:55:56.263Z"
   },
   {
    "duration": 26,
    "start_time": "2023-06-26T14:55:58.681Z"
   },
   {
    "duration": 2912,
    "start_time": "2023-06-26T14:58:16.294Z"
   },
   {
    "duration": 2121,
    "start_time": "2023-06-26T14:58:19.209Z"
   },
   {
    "duration": 1237,
    "start_time": "2023-06-26T14:58:21.332Z"
   },
   {
    "duration": 27,
    "start_time": "2023-06-26T14:58:22.572Z"
   },
   {
    "duration": 268,
    "start_time": "2023-06-26T14:58:22.601Z"
   },
   {
    "duration": 138,
    "start_time": "2023-06-26T14:58:22.873Z"
   },
   {
    "duration": 64,
    "start_time": "2023-06-26T14:58:23.013Z"
   },
   {
    "duration": 95,
    "start_time": "2023-06-26T14:58:23.079Z"
   },
   {
    "duration": 118,
    "start_time": "2023-06-26T14:58:23.182Z"
   },
   {
    "duration": 16,
    "start_time": "2023-06-26T14:58:23.303Z"
   },
   {
    "duration": 72,
    "start_time": "2023-06-26T14:58:23.323Z"
   },
   {
    "duration": 47,
    "start_time": "2023-06-26T14:58:23.398Z"
   },
   {
    "duration": 379,
    "start_time": "2023-06-26T14:58:23.452Z"
   },
   {
    "duration": 136,
    "start_time": "2023-06-26T14:58:23.840Z"
   },
   {
    "duration": 84,
    "start_time": "2023-06-26T14:58:23.993Z"
   },
   {
    "duration": 1403,
    "start_time": "2023-06-26T14:58:24.083Z"
   },
   {
    "duration": 7,
    "start_time": "2023-06-26T14:58:25.490Z"
   },
   {
    "duration": 58,
    "start_time": "2023-06-26T14:58:25.499Z"
   },
   {
    "duration": 30,
    "start_time": "2023-06-26T14:58:25.559Z"
   },
   {
    "duration": 3712,
    "start_time": "2023-06-26T14:58:25.591Z"
   },
   {
    "duration": 3506,
    "start_time": "2023-06-26T14:58:29.305Z"
   },
   {
    "duration": 2022,
    "start_time": "2023-06-26T14:58:32.819Z"
   },
   {
    "duration": 44,
    "start_time": "2023-06-26T14:58:34.852Z"
   },
   {
    "duration": 502,
    "start_time": "2023-06-26T14:58:34.899Z"
   },
   {
    "duration": 462,
    "start_time": "2023-06-26T14:58:35.404Z"
   },
   {
    "duration": 28,
    "start_time": "2023-06-26T14:58:35.878Z"
   },
   {
    "duration": 159,
    "start_time": "2023-06-26T14:58:35.908Z"
   },
   {
    "duration": 92,
    "start_time": "2023-06-26T14:58:36.077Z"
   },
   {
    "duration": 6,
    "start_time": "2023-06-26T14:58:36.172Z"
   },
   {
    "duration": 49,
    "start_time": "2023-06-26T14:58:36.180Z"
   },
   {
    "duration": 53,
    "start_time": "2023-06-26T14:58:36.234Z"
   },
   {
    "duration": 116,
    "start_time": "2023-06-26T14:58:36.290Z"
   },
   {
    "duration": 40,
    "start_time": "2023-06-26T14:58:36.416Z"
   },
   {
    "duration": 36,
    "start_time": "2023-06-26T14:58:36.464Z"
   },
   {
    "duration": 413,
    "start_time": "2023-06-26T14:58:36.502Z"
   },
   {
    "duration": 439,
    "start_time": "2023-06-26T14:58:36.918Z"
   },
   {
    "duration": 462,
    "start_time": "2023-06-26T14:58:37.360Z"
   },
   {
    "duration": 136,
    "start_time": "2023-06-26T14:58:37.825Z"
   },
   {
    "duration": 93,
    "start_time": "2023-06-26T14:58:37.978Z"
   },
   {
    "duration": 15,
    "start_time": "2023-06-26T14:58:38.074Z"
   },
   {
    "duration": 130,
    "start_time": "2023-06-26T14:58:38.095Z"
   },
   {
    "duration": 97,
    "start_time": "2023-06-26T14:58:38.227Z"
   },
   {
    "duration": 7899,
    "start_time": "2023-06-26T14:58:38.334Z"
   },
   {
    "duration": 27,
    "start_time": "2023-06-26T14:58:46.235Z"
   },
   {
    "duration": 9,
    "start_time": "2023-06-26T14:58:46.269Z"
   },
   {
    "duration": 27,
    "start_time": "2023-06-26T14:58:46.280Z"
   },
   {
    "duration": 188,
    "start_time": "2023-06-26T14:58:46.309Z"
   },
   {
    "duration": 378,
    "start_time": "2023-06-26T14:58:46.499Z"
   },
   {
    "duration": 407,
    "start_time": "2023-06-26T14:58:46.881Z"
   },
   {
    "duration": 37,
    "start_time": "2023-06-26T14:58:47.292Z"
   },
   {
    "duration": 43,
    "start_time": "2023-06-26T14:58:47.340Z"
   },
   {
    "duration": 21,
    "start_time": "2023-06-26T14:58:47.385Z"
   },
   {
    "duration": 3,
    "start_time": "2023-06-26T14:58:47.408Z"
   },
   {
    "duration": 27,
    "start_time": "2023-06-26T14:58:47.414Z"
   },
   {
    "duration": 20,
    "start_time": "2023-06-26T14:58:47.451Z"
   },
   {
    "duration": 1808,
    "start_time": "2023-06-26T14:58:47.474Z"
   },
   {
    "duration": 81,
    "start_time": "2023-06-26T14:59:23.142Z"
   },
   {
    "duration": 1955,
    "start_time": "2023-06-26T14:59:32.255Z"
   },
   {
    "duration": 113,
    "start_time": "2023-06-26T15:04:58.834Z"
   },
   {
    "duration": 1588,
    "start_time": "2023-06-26T15:06:47.286Z"
   },
   {
    "duration": 7777,
    "start_time": "2023-06-26T15:16:04.716Z"
   },
   {
    "duration": 2881,
    "start_time": "2023-06-26T15:17:05.968Z"
   },
   {
    "duration": 2132,
    "start_time": "2023-06-26T15:17:08.857Z"
   },
   {
    "duration": 1242,
    "start_time": "2023-06-26T15:17:10.991Z"
   },
   {
    "duration": 29,
    "start_time": "2023-06-26T15:17:12.235Z"
   },
   {
    "duration": 232,
    "start_time": "2023-06-26T15:17:12.269Z"
   },
   {
    "duration": 158,
    "start_time": "2023-06-26T15:17:12.507Z"
   },
   {
    "duration": 56,
    "start_time": "2023-06-26T15:17:12.671Z"
   },
   {
    "duration": 64,
    "start_time": "2023-06-26T15:17:12.729Z"
   },
   {
    "duration": 121,
    "start_time": "2023-06-26T15:17:12.795Z"
   },
   {
    "duration": 12,
    "start_time": "2023-06-26T15:17:12.918Z"
   },
   {
    "duration": 77,
    "start_time": "2023-06-26T15:17:12.932Z"
   },
   {
    "duration": 15,
    "start_time": "2023-06-26T15:17:13.011Z"
   },
   {
    "duration": 359,
    "start_time": "2023-06-26T15:17:13.027Z"
   },
   {
    "duration": 138,
    "start_time": "2023-06-26T15:17:13.391Z"
   },
   {
    "duration": 94,
    "start_time": "2023-06-26T15:17:13.533Z"
   },
   {
    "duration": 1528,
    "start_time": "2023-06-26T15:17:13.633Z"
   },
   {
    "duration": 14,
    "start_time": "2023-06-26T15:17:15.163Z"
   },
   {
    "duration": 40,
    "start_time": "2023-06-26T15:17:15.179Z"
   },
   {
    "duration": 45,
    "start_time": "2023-06-26T15:17:15.224Z"
   },
   {
    "duration": 4129,
    "start_time": "2023-06-26T15:17:15.271Z"
   },
   {
    "duration": 3984,
    "start_time": "2023-06-26T15:17:19.403Z"
   },
   {
    "duration": 2379,
    "start_time": "2023-06-26T15:17:23.394Z"
   },
   {
    "duration": 60,
    "start_time": "2023-06-26T15:17:25.775Z"
   },
   {
    "duration": 715,
    "start_time": "2023-06-26T15:17:25.838Z"
   },
   {
    "duration": 538,
    "start_time": "2023-06-26T15:17:26.560Z"
   },
   {
    "duration": 35,
    "start_time": "2023-06-26T15:17:27.105Z"
   },
   {
    "duration": 170,
    "start_time": "2023-06-26T15:17:27.147Z"
   },
   {
    "duration": 99,
    "start_time": "2023-06-26T15:17:27.320Z"
   },
   {
    "duration": 17,
    "start_time": "2023-06-26T15:17:27.430Z"
   },
   {
    "duration": 54,
    "start_time": "2023-06-26T15:17:27.452Z"
   },
   {
    "duration": 97,
    "start_time": "2023-06-26T15:17:27.509Z"
   },
   {
    "duration": 186,
    "start_time": "2023-06-26T15:17:27.608Z"
   },
   {
    "duration": 39,
    "start_time": "2023-06-26T15:17:27.800Z"
   },
   {
    "duration": 31,
    "start_time": "2023-06-26T15:17:27.844Z"
   },
   {
    "duration": 428,
    "start_time": "2023-06-26T15:17:27.887Z"
   },
   {
    "duration": 417,
    "start_time": "2023-06-26T15:17:28.321Z"
   },
   {
    "duration": 445,
    "start_time": "2023-06-26T15:17:28.746Z"
   },
   {
    "duration": 143,
    "start_time": "2023-06-26T15:17:29.202Z"
   },
   {
    "duration": 104,
    "start_time": "2023-06-26T15:17:29.350Z"
   },
   {
    "duration": 18,
    "start_time": "2023-06-26T15:17:29.459Z"
   },
   {
    "duration": 157,
    "start_time": "2023-06-26T15:17:29.486Z"
   },
   {
    "duration": 118,
    "start_time": "2023-06-26T15:17:29.666Z"
   },
   {
    "duration": 8810,
    "start_time": "2023-06-26T15:17:29.790Z"
   },
   {
    "duration": 47,
    "start_time": "2023-06-26T15:17:38.603Z"
   },
   {
    "duration": 9,
    "start_time": "2023-06-26T15:17:38.651Z"
   },
   {
    "duration": 51,
    "start_time": "2023-06-26T15:17:38.662Z"
   },
   {
    "duration": 208,
    "start_time": "2023-06-26T15:17:38.717Z"
   },
   {
    "duration": 360,
    "start_time": "2023-06-26T15:17:38.932Z"
   },
   {
    "duration": 411,
    "start_time": "2023-06-26T15:17:39.294Z"
   },
   {
    "duration": 57,
    "start_time": "2023-06-26T15:17:39.707Z"
   },
   {
    "duration": 25,
    "start_time": "2023-06-26T15:17:39.777Z"
   },
   {
    "duration": 24,
    "start_time": "2023-06-26T15:17:39.805Z"
   },
   {
    "duration": 8,
    "start_time": "2023-06-26T15:17:39.831Z"
   },
   {
    "duration": 7,
    "start_time": "2023-06-26T15:17:39.841Z"
   },
   {
    "duration": 4,
    "start_time": "2023-06-26T15:17:39.852Z"
   },
   {
    "duration": 1046624,
    "start_time": "2023-06-26T15:17:39.859Z"
   },
   {
    "duration": 29639,
    "start_time": "2023-06-26T15:36:30.960Z"
   },
   {
    "duration": 1101,
    "start_time": "2023-06-26T15:37:09.498Z"
   },
   {
    "duration": 5413,
    "start_time": "2023-06-26T15:38:00.685Z"
   },
   {
    "duration": 2485,
    "start_time": "2023-06-26T15:46:04.086Z"
   },
   {
    "duration": 2146,
    "start_time": "2023-06-26T15:46:06.574Z"
   },
   {
    "duration": 1065,
    "start_time": "2023-06-26T15:46:08.722Z"
   },
   {
    "duration": 40,
    "start_time": "2023-06-26T15:46:09.789Z"
   },
   {
    "duration": 203,
    "start_time": "2023-06-26T15:46:09.836Z"
   },
   {
    "duration": 125,
    "start_time": "2023-06-26T15:46:10.048Z"
   },
   {
    "duration": 47,
    "start_time": "2023-06-26T15:46:10.175Z"
   },
   {
    "duration": 61,
    "start_time": "2023-06-26T15:46:10.224Z"
   },
   {
    "duration": 104,
    "start_time": "2023-06-26T15:46:10.287Z"
   },
   {
    "duration": 6,
    "start_time": "2023-06-26T15:46:10.393Z"
   },
   {
    "duration": 116,
    "start_time": "2023-06-26T15:46:10.401Z"
   },
   {
    "duration": 15,
    "start_time": "2023-06-26T15:46:10.526Z"
   },
   {
    "duration": 345,
    "start_time": "2023-06-26T15:46:10.543Z"
   },
   {
    "duration": 122,
    "start_time": "2023-06-26T15:46:10.893Z"
   },
   {
    "duration": 77,
    "start_time": "2023-06-26T15:46:11.019Z"
   },
   {
    "duration": 1170,
    "start_time": "2023-06-26T15:46:11.098Z"
   },
   {
    "duration": 6,
    "start_time": "2023-06-26T15:46:12.270Z"
   },
   {
    "duration": 60,
    "start_time": "2023-06-26T15:46:12.279Z"
   },
   {
    "duration": 36,
    "start_time": "2023-06-26T15:46:12.345Z"
   },
   {
    "duration": 3334,
    "start_time": "2023-06-26T15:46:12.383Z"
   },
   {
    "duration": 3160,
    "start_time": "2023-06-26T15:46:15.723Z"
   },
   {
    "duration": 1810,
    "start_time": "2023-06-26T15:46:18.886Z"
   },
   {
    "duration": 48,
    "start_time": "2023-06-26T15:46:20.697Z"
   },
   {
    "duration": 351,
    "start_time": "2023-06-26T15:46:20.747Z"
   },
   {
    "duration": 368,
    "start_time": "2023-06-26T15:46:21.101Z"
   },
   {
    "duration": 26,
    "start_time": "2023-06-26T15:46:21.471Z"
   },
   {
    "duration": 131,
    "start_time": "2023-06-26T15:46:21.499Z"
   },
   {
    "duration": 75,
    "start_time": "2023-06-26T15:46:21.639Z"
   },
   {
    "duration": 6,
    "start_time": "2023-06-26T15:46:21.716Z"
   },
   {
    "duration": 65,
    "start_time": "2023-06-26T15:46:21.724Z"
   },
   {
    "duration": 85,
    "start_time": "2023-06-26T15:46:21.791Z"
   },
   {
    "duration": 113,
    "start_time": "2023-06-26T15:46:21.878Z"
   },
   {
    "duration": 43,
    "start_time": "2023-06-26T15:46:21.994Z"
   },
   {
    "duration": 27,
    "start_time": "2023-06-26T15:46:22.046Z"
   },
   {
    "duration": 330,
    "start_time": "2023-06-26T15:46:22.075Z"
   },
   {
    "duration": 328,
    "start_time": "2023-06-26T15:46:22.407Z"
   },
   {
    "duration": 303,
    "start_time": "2023-06-26T15:46:22.741Z"
   },
   {
    "duration": 95,
    "start_time": "2023-06-26T15:46:23.046Z"
   },
   {
    "duration": 77,
    "start_time": "2023-06-26T15:46:23.143Z"
   },
   {
    "duration": 9,
    "start_time": "2023-06-26T15:46:23.226Z"
   },
   {
    "duration": 121,
    "start_time": "2023-06-26T15:46:23.242Z"
   },
   {
    "duration": 74,
    "start_time": "2023-06-26T15:46:23.365Z"
   },
   {
    "duration": 7211,
    "start_time": "2023-06-26T15:46:23.441Z"
   },
   {
    "duration": 14,
    "start_time": "2023-06-26T15:46:30.654Z"
   },
   {
    "duration": 102,
    "start_time": "2023-06-26T15:46:30.671Z"
   },
   {
    "duration": 124,
    "start_time": "2023-06-26T15:46:30.775Z"
   },
   {
    "duration": 197,
    "start_time": "2023-06-26T15:46:30.901Z"
   },
   {
    "duration": 305,
    "start_time": "2023-06-26T15:46:31.100Z"
   },
   {
    "duration": 314,
    "start_time": "2023-06-26T15:46:31.407Z"
   },
   {
    "duration": 24,
    "start_time": "2023-06-26T15:46:31.723Z"
   },
   {
    "duration": 34,
    "start_time": "2023-06-26T15:46:31.751Z"
   },
   {
    "duration": 70,
    "start_time": "2023-06-26T15:46:31.787Z"
   },
   {
    "duration": 4,
    "start_time": "2023-06-26T15:46:31.863Z"
   },
   {
    "duration": 33,
    "start_time": "2023-06-26T15:46:31.869Z"
   },
   {
    "duration": 8,
    "start_time": "2023-06-26T15:46:31.904Z"
   },
   {
    "duration": 10555812,
    "start_time": "2023-06-26T15:46:31.915Z"
   },
   {
    "duration": 5,
    "start_time": "2023-06-26T18:45:38.998Z"
   },
   {
    "duration": 5,
    "start_time": "2023-06-26T18:46:05.329Z"
   },
   {
    "duration": 5,
    "start_time": "2023-06-26T18:46:11.931Z"
   },
   {
    "duration": 7,
    "start_time": "2023-06-26T18:46:56.429Z"
   },
   {
    "duration": 216,
    "start_time": "2023-06-26T18:49:58.662Z"
   },
   {
    "duration": 486,
    "start_time": "2023-06-26T18:50:15.865Z"
   },
   {
    "duration": 15,
    "start_time": "2023-06-26T19:08:18.148Z"
   },
   {
    "duration": 7946,
    "start_time": "2023-06-26T19:22:49.407Z"
   },
   {
    "duration": 2296,
    "start_time": "2023-06-26T19:25:03.898Z"
   },
   {
    "duration": 1634,
    "start_time": "2023-06-26T19:25:06.197Z"
   },
   {
    "duration": 963,
    "start_time": "2023-06-26T19:25:07.833Z"
   },
   {
    "duration": 28,
    "start_time": "2023-06-26T19:25:08.798Z"
   },
   {
    "duration": 199,
    "start_time": "2023-06-26T19:25:08.830Z"
   },
   {
    "duration": 117,
    "start_time": "2023-06-26T19:25:09.031Z"
   },
   {
    "duration": 29,
    "start_time": "2023-06-26T19:25:09.150Z"
   },
   {
    "duration": 66,
    "start_time": "2023-06-26T19:25:09.181Z"
   },
   {
    "duration": 99,
    "start_time": "2023-06-26T19:25:09.248Z"
   },
   {
    "duration": 6,
    "start_time": "2023-06-26T19:25:09.349Z"
   },
   {
    "duration": 218,
    "start_time": "2023-06-26T19:25:09.357Z"
   },
   {
    "duration": 13,
    "start_time": "2023-06-26T19:25:09.579Z"
   },
   {
    "duration": 372,
    "start_time": "2023-06-26T19:25:09.595Z"
   },
   {
    "duration": 156,
    "start_time": "2023-06-26T19:25:09.972Z"
   },
   {
    "duration": 67,
    "start_time": "2023-06-26T19:25:10.130Z"
   },
   {
    "duration": 1087,
    "start_time": "2023-06-26T19:25:10.213Z"
   },
   {
    "duration": 15,
    "start_time": "2023-06-26T19:25:11.303Z"
   },
   {
    "duration": 49,
    "start_time": "2023-06-26T19:25:11.320Z"
   },
   {
    "duration": 54,
    "start_time": "2023-06-26T19:25:11.372Z"
   },
   {
    "duration": 3003,
    "start_time": "2023-06-26T19:25:11.428Z"
   },
   {
    "duration": 3943,
    "start_time": "2023-06-26T19:25:14.433Z"
   },
   {
    "duration": 1710,
    "start_time": "2023-06-26T19:25:18.379Z"
   },
   {
    "duration": 61,
    "start_time": "2023-06-26T19:25:20.092Z"
   },
   {
    "duration": 475,
    "start_time": "2023-06-26T19:25:20.157Z"
   },
   {
    "duration": 464,
    "start_time": "2023-06-26T19:25:20.635Z"
   },
   {
    "duration": 39,
    "start_time": "2023-06-26T19:25:21.102Z"
   },
   {
    "duration": 151,
    "start_time": "2023-06-26T19:25:21.144Z"
   },
   {
    "duration": 100,
    "start_time": "2023-06-26T19:25:21.297Z"
   },
   {
    "duration": 10,
    "start_time": "2023-06-26T19:25:21.414Z"
   },
   {
    "duration": 29,
    "start_time": "2023-06-26T19:25:21.431Z"
   },
   {
    "duration": 71,
    "start_time": "2023-06-26T19:25:21.462Z"
   },
   {
    "duration": 127,
    "start_time": "2023-06-26T19:25:21.536Z"
   },
   {
    "duration": 32,
    "start_time": "2023-06-26T19:25:21.665Z"
   },
   {
    "duration": 31,
    "start_time": "2023-06-26T19:25:21.715Z"
   },
   {
    "duration": 480,
    "start_time": "2023-06-26T19:25:21.748Z"
   },
   {
    "duration": 454,
    "start_time": "2023-06-26T19:25:22.231Z"
   },
   {
    "duration": 458,
    "start_time": "2023-06-26T19:25:22.688Z"
   },
   {
    "duration": 142,
    "start_time": "2023-06-26T19:25:23.148Z"
   },
   {
    "duration": 97,
    "start_time": "2023-06-26T19:25:23.293Z"
   },
   {
    "duration": 23,
    "start_time": "2023-06-26T19:25:23.393Z"
   },
   {
    "duration": 146,
    "start_time": "2023-06-26T19:25:23.422Z"
   },
   {
    "duration": 100,
    "start_time": "2023-06-26T19:25:23.570Z"
   },
   {
    "duration": 6114,
    "start_time": "2023-06-26T19:25:23.673Z"
   },
   {
    "duration": 17,
    "start_time": "2023-06-26T19:25:29.789Z"
   },
   {
    "duration": 5,
    "start_time": "2023-06-26T19:25:29.808Z"
   },
   {
    "duration": 24,
    "start_time": "2023-06-26T19:25:29.816Z"
   },
   {
    "duration": 228,
    "start_time": "2023-06-26T19:25:29.842Z"
   },
   {
    "duration": 317,
    "start_time": "2023-06-26T19:25:30.072Z"
   },
   {
    "duration": 297,
    "start_time": "2023-06-26T19:25:30.391Z"
   },
   {
    "duration": 36,
    "start_time": "2023-06-26T19:25:30.690Z"
   },
   {
    "duration": 39,
    "start_time": "2023-06-26T19:25:30.728Z"
   },
   {
    "duration": 61,
    "start_time": "2023-06-26T19:25:30.769Z"
   },
   {
    "duration": 108,
    "start_time": "2023-06-26T19:25:30.831Z"
   },
   {
    "duration": 122,
    "start_time": "2023-06-26T19:25:30.941Z"
   },
   {
    "duration": 27,
    "start_time": "2023-06-26T19:25:31.066Z"
   },
   {
    "duration": 3257937,
    "start_time": "2023-06-26T19:25:31.095Z"
   },
   {
    "duration": 598,
    "start_time": "2023-06-26T20:19:49.034Z"
   },
   {
    "duration": 2482,
    "start_time": "2023-06-26T21:01:12.761Z"
   },
   {
    "duration": 1537,
    "start_time": "2023-06-26T21:01:15.245Z"
   },
   {
    "duration": 937,
    "start_time": "2023-06-26T21:01:16.784Z"
   },
   {
    "duration": 21,
    "start_time": "2023-06-26T21:01:17.723Z"
   },
   {
    "duration": 136,
    "start_time": "2023-06-26T21:01:17.746Z"
   },
   {
    "duration": 162,
    "start_time": "2023-06-26T21:01:17.884Z"
   },
   {
    "duration": 30,
    "start_time": "2023-06-26T21:01:18.048Z"
   },
   {
    "duration": 71,
    "start_time": "2023-06-26T21:01:18.080Z"
   },
   {
    "duration": 116,
    "start_time": "2023-06-26T21:01:18.153Z"
   },
   {
    "duration": 9,
    "start_time": "2023-06-26T21:01:18.271Z"
   },
   {
    "duration": 99,
    "start_time": "2023-06-26T21:01:18.282Z"
   },
   {
    "duration": 8,
    "start_time": "2023-06-26T21:01:18.383Z"
   },
   {
    "duration": 282,
    "start_time": "2023-06-26T21:01:18.393Z"
   },
   {
    "duration": 84,
    "start_time": "2023-06-26T21:01:18.679Z"
   },
   {
    "duration": 78,
    "start_time": "2023-06-26T21:01:18.764Z"
   },
   {
    "duration": 1182,
    "start_time": "2023-06-26T21:01:18.844Z"
   },
   {
    "duration": 7,
    "start_time": "2023-06-26T21:01:20.028Z"
   },
   {
    "duration": 71,
    "start_time": "2023-06-26T21:01:20.037Z"
   },
   {
    "duration": 27,
    "start_time": "2023-06-26T21:01:20.110Z"
   },
   {
    "duration": 2790,
    "start_time": "2023-06-26T21:01:20.139Z"
   },
   {
    "duration": 2786,
    "start_time": "2023-06-26T21:01:22.931Z"
   },
   {
    "duration": 1523,
    "start_time": "2023-06-26T21:01:25.719Z"
   },
   {
    "duration": 30,
    "start_time": "2023-06-26T21:01:27.244Z"
   },
   {
    "duration": 320,
    "start_time": "2023-06-26T21:01:27.276Z"
   },
   {
    "duration": 367,
    "start_time": "2023-06-26T21:01:27.599Z"
   },
   {
    "duration": 25,
    "start_time": "2023-06-26T21:01:27.968Z"
   },
   {
    "duration": 83,
    "start_time": "2023-06-26T21:01:27.995Z"
   },
   {
    "duration": 88,
    "start_time": "2023-06-26T21:01:28.080Z"
   },
   {
    "duration": 9,
    "start_time": "2023-06-26T21:01:28.171Z"
   },
   {
    "duration": 33,
    "start_time": "2023-06-26T21:01:28.182Z"
   },
   {
    "duration": 65,
    "start_time": "2023-06-26T21:01:28.219Z"
   },
   {
    "duration": 77,
    "start_time": "2023-06-26T21:01:28.286Z"
   },
   {
    "duration": 34,
    "start_time": "2023-06-26T21:01:28.365Z"
   },
   {
    "duration": 47,
    "start_time": "2023-06-26T21:01:28.402Z"
   },
   {
    "duration": 306,
    "start_time": "2023-06-26T21:01:28.451Z"
   },
   {
    "duration": 282,
    "start_time": "2023-06-26T21:01:28.759Z"
   },
   {
    "duration": 291,
    "start_time": "2023-06-26T21:01:29.043Z"
   },
   {
    "duration": 85,
    "start_time": "2023-06-26T21:01:29.336Z"
   },
   {
    "duration": 90,
    "start_time": "2023-06-26T21:01:29.423Z"
   },
   {
    "duration": 10,
    "start_time": "2023-06-26T21:01:29.516Z"
   },
   {
    "duration": 155,
    "start_time": "2023-06-26T21:01:29.533Z"
   },
   {
    "duration": 87,
    "start_time": "2023-06-26T21:01:29.690Z"
   },
   {
    "duration": 5788,
    "start_time": "2023-06-26T21:01:29.779Z"
   },
   {
    "duration": 19,
    "start_time": "2023-06-26T21:01:35.570Z"
   },
   {
    "duration": 21,
    "start_time": "2023-06-26T21:01:35.591Z"
   },
   {
    "duration": 26,
    "start_time": "2023-06-26T21:01:35.615Z"
   },
   {
    "duration": 178,
    "start_time": "2023-06-26T21:01:35.643Z"
   },
   {
    "duration": 269,
    "start_time": "2023-06-26T21:01:35.823Z"
   },
   {
    "duration": 234,
    "start_time": "2023-06-26T21:01:36.094Z"
   },
   {
    "duration": 21,
    "start_time": "2023-06-26T21:01:36.330Z"
   },
   {
    "duration": 29,
    "start_time": "2023-06-26T21:01:36.353Z"
   },
   {
    "duration": 38,
    "start_time": "2023-06-26T21:01:36.384Z"
   },
   {
    "duration": 3,
    "start_time": "2023-06-26T21:01:36.424Z"
   },
   {
    "duration": 22,
    "start_time": "2023-06-26T21:01:36.428Z"
   },
   {
    "duration": 32,
    "start_time": "2023-06-26T21:01:36.452Z"
   },
   {
    "duration": 3481132,
    "start_time": "2023-06-26T21:01:36.486Z"
   },
   {
    "duration": 517,
    "start_time": "2023-06-26T21:59:37.620Z"
   },
   {
    "duration": 136,
    "start_time": "2023-06-26T21:59:38.139Z"
   },
   {
    "duration": 69,
    "start_time": "2023-06-26T21:59:38.277Z"
   },
   {
    "duration": 164,
    "start_time": "2023-06-26T21:59:38.348Z"
   },
   {
    "duration": 200665,
    "start_time": "2023-06-26T21:59:38.516Z"
   },
   {
    "duration": 3470,
    "start_time": "2023-06-27T10:18:54.747Z"
   },
   {
    "duration": 1699,
    "start_time": "2023-06-27T10:18:58.220Z"
   },
   {
    "duration": 1137,
    "start_time": "2023-06-27T10:18:59.921Z"
   },
   {
    "duration": 19,
    "start_time": "2023-06-27T10:19:01.060Z"
   },
   {
    "duration": 186,
    "start_time": "2023-06-27T10:19:01.082Z"
   },
   {
    "duration": 112,
    "start_time": "2023-06-27T10:19:01.270Z"
   },
   {
    "duration": 34,
    "start_time": "2023-06-27T10:19:01.385Z"
   },
   {
    "duration": 61,
    "start_time": "2023-06-27T10:19:01.421Z"
   },
   {
    "duration": 106,
    "start_time": "2023-06-27T10:19:01.484Z"
   },
   {
    "duration": 6,
    "start_time": "2023-06-27T10:19:01.592Z"
   },
   {
    "duration": 122,
    "start_time": "2023-06-27T10:19:01.599Z"
   },
   {
    "duration": 7,
    "start_time": "2023-06-27T10:19:01.723Z"
   },
   {
    "duration": 308,
    "start_time": "2023-06-27T10:19:01.731Z"
   },
   {
    "duration": 100,
    "start_time": "2023-06-27T10:19:02.042Z"
   },
   {
    "duration": 65,
    "start_time": "2023-06-27T10:19:02.144Z"
   },
   {
    "duration": 1076,
    "start_time": "2023-06-27T10:19:02.211Z"
   },
   {
    "duration": 6,
    "start_time": "2023-06-27T10:19:03.289Z"
   },
   {
    "duration": 81,
    "start_time": "2023-06-27T10:19:03.297Z"
   },
   {
    "duration": 25,
    "start_time": "2023-06-27T10:19:03.379Z"
   },
   {
    "duration": 2699,
    "start_time": "2023-06-27T10:19:03.406Z"
   },
   {
    "duration": 2578,
    "start_time": "2023-06-27T10:19:06.106Z"
   },
   {
    "duration": 1443,
    "start_time": "2023-06-27T10:19:08.686Z"
   },
   {
    "duration": 34,
    "start_time": "2023-06-27T10:19:10.131Z"
   },
   {
    "duration": 283,
    "start_time": "2023-06-27T10:19:10.167Z"
   },
   {
    "duration": 275,
    "start_time": "2023-06-27T10:19:10.454Z"
   },
   {
    "duration": 30,
    "start_time": "2023-06-27T10:19:10.730Z"
   },
   {
    "duration": 92,
    "start_time": "2023-06-27T10:19:10.762Z"
   },
   {
    "duration": 71,
    "start_time": "2023-06-27T10:19:10.855Z"
   },
   {
    "duration": 6,
    "start_time": "2023-06-27T10:19:10.927Z"
   },
   {
    "duration": 31,
    "start_time": "2023-06-27T10:19:10.934Z"
   },
   {
    "duration": 59,
    "start_time": "2023-06-27T10:19:10.967Z"
   },
   {
    "duration": 85,
    "start_time": "2023-06-27T10:19:11.029Z"
   },
   {
    "duration": 19,
    "start_time": "2023-06-27T10:19:11.116Z"
   },
   {
    "duration": 36,
    "start_time": "2023-06-27T10:19:11.137Z"
   },
   {
    "duration": 291,
    "start_time": "2023-06-27T10:19:11.175Z"
   },
   {
    "duration": 277,
    "start_time": "2023-06-27T10:19:11.467Z"
   },
   {
    "duration": 271,
    "start_time": "2023-06-27T10:19:11.746Z"
   },
   {
    "duration": 83,
    "start_time": "2023-06-27T10:19:12.018Z"
   },
   {
    "duration": 69,
    "start_time": "2023-06-27T10:19:12.103Z"
   },
   {
    "duration": 7,
    "start_time": "2023-06-27T10:19:12.174Z"
   },
   {
    "duration": 103,
    "start_time": "2023-06-27T10:19:12.185Z"
   },
   {
    "duration": 74,
    "start_time": "2023-06-27T10:19:12.290Z"
   },
   {
    "duration": 5714,
    "start_time": "2023-06-27T10:19:12.366Z"
   },
   {
    "duration": 12,
    "start_time": "2023-06-27T10:19:18.081Z"
   },
   {
    "duration": 36,
    "start_time": "2023-06-27T10:19:18.095Z"
   },
   {
    "duration": 48,
    "start_time": "2023-06-27T10:19:18.133Z"
   },
   {
    "duration": 150,
    "start_time": "2023-06-27T10:19:18.183Z"
   },
   {
    "duration": 269,
    "start_time": "2023-06-27T10:19:18.334Z"
   },
   {
    "duration": 255,
    "start_time": "2023-06-27T10:19:18.604Z"
   },
   {
    "duration": 21,
    "start_time": "2023-06-27T10:19:18.861Z"
   },
   {
    "duration": 42,
    "start_time": "2023-06-27T10:19:18.884Z"
   },
   {
    "duration": 44,
    "start_time": "2023-06-27T10:19:18.928Z"
   },
   {
    "duration": 23,
    "start_time": "2023-06-27T10:19:18.973Z"
   },
   {
    "duration": 9,
    "start_time": "2023-06-27T10:19:18.998Z"
   },
   {
    "duration": 28,
    "start_time": "2023-06-27T10:19:19.008Z"
   },
   {
    "duration": 45424,
    "start_time": "2023-06-27T10:19:19.038Z"
   },
   {
    "duration": 6001,
    "start_time": "2023-06-27T10:20:04.463Z"
   },
   {
    "duration": 588,
    "start_time": "2023-06-27T10:20:10.466Z"
   },
   {
    "duration": 53,
    "start_time": "2023-06-27T10:20:11.057Z"
   },
   {
    "duration": 60,
    "start_time": "2023-06-27T10:20:11.112Z"
   },
   {
    "duration": 85,
    "start_time": "2023-06-27T10:20:11.174Z"
   },
   {
    "duration": 97438,
    "start_time": "2023-06-27T10:20:11.266Z"
   },
   {
    "duration": 2195,
    "start_time": "2023-06-27T10:21:54.110Z"
   },
   {
    "duration": 1451,
    "start_time": "2023-06-27T10:21:56.307Z"
   },
   {
    "duration": 839,
    "start_time": "2023-06-27T10:21:57.760Z"
   },
   {
    "duration": 17,
    "start_time": "2023-06-27T10:21:58.601Z"
   },
   {
    "duration": 148,
    "start_time": "2023-06-27T10:21:58.620Z"
   },
   {
    "duration": 115,
    "start_time": "2023-06-27T10:21:58.769Z"
   },
   {
    "duration": 30,
    "start_time": "2023-06-27T10:21:58.885Z"
   },
   {
    "duration": 59,
    "start_time": "2023-06-27T10:21:58.917Z"
   },
   {
    "duration": 97,
    "start_time": "2023-06-27T10:21:58.978Z"
   },
   {
    "duration": 6,
    "start_time": "2023-06-27T10:21:59.077Z"
   },
   {
    "duration": 64,
    "start_time": "2023-06-27T10:21:59.084Z"
   },
   {
    "duration": 6,
    "start_time": "2023-06-27T10:21:59.154Z"
   },
   {
    "duration": 263,
    "start_time": "2023-06-27T10:21:59.162Z"
   },
   {
    "duration": 93,
    "start_time": "2023-06-27T10:21:59.430Z"
   },
   {
    "duration": 66,
    "start_time": "2023-06-27T10:21:59.525Z"
   },
   {
    "duration": 962,
    "start_time": "2023-06-27T10:21:59.593Z"
   },
   {
    "duration": 6,
    "start_time": "2023-06-27T10:22:00.556Z"
   },
   {
    "duration": 122,
    "start_time": "2023-06-27T10:22:00.563Z"
   },
   {
    "duration": 38,
    "start_time": "2023-06-27T10:22:00.687Z"
   },
   {
    "duration": 2790,
    "start_time": "2023-06-27T10:22:00.727Z"
   },
   {
    "duration": 2615,
    "start_time": "2023-06-27T10:22:03.518Z"
   },
   {
    "duration": 1600,
    "start_time": "2023-06-27T10:22:06.135Z"
   },
   {
    "duration": 39,
    "start_time": "2023-06-27T10:22:07.736Z"
   },
   {
    "duration": 321,
    "start_time": "2023-06-27T10:22:07.777Z"
   },
   {
    "duration": 327,
    "start_time": "2023-06-27T10:22:08.100Z"
   },
   {
    "duration": 26,
    "start_time": "2023-06-27T10:22:08.429Z"
   },
   {
    "duration": 108,
    "start_time": "2023-06-27T10:22:08.457Z"
   },
   {
    "duration": 77,
    "start_time": "2023-06-27T10:22:08.567Z"
   },
   {
    "duration": 6,
    "start_time": "2023-06-27T10:22:08.645Z"
   },
   {
    "duration": 46,
    "start_time": "2023-06-27T10:22:08.653Z"
   },
   {
    "duration": 61,
    "start_time": "2023-06-27T10:22:08.701Z"
   },
   {
    "duration": 98,
    "start_time": "2023-06-27T10:22:08.764Z"
   },
   {
    "duration": 24,
    "start_time": "2023-06-27T10:22:08.864Z"
   },
   {
    "duration": 37,
    "start_time": "2023-06-27T10:22:08.890Z"
   },
   {
    "duration": 282,
    "start_time": "2023-06-27T10:22:08.929Z"
   },
   {
    "duration": 265,
    "start_time": "2023-06-27T10:22:09.213Z"
   },
   {
    "duration": 265,
    "start_time": "2023-06-27T10:22:09.480Z"
   },
   {
    "duration": 85,
    "start_time": "2023-06-27T10:22:09.747Z"
   },
   {
    "duration": 83,
    "start_time": "2023-06-27T10:22:09.834Z"
   },
   {
    "duration": 8,
    "start_time": "2023-06-27T10:22:09.919Z"
   },
   {
    "duration": 101,
    "start_time": "2023-06-27T10:22:09.931Z"
   },
   {
    "duration": 77,
    "start_time": "2023-06-27T10:22:10.034Z"
   },
   {
    "duration": 5767,
    "start_time": "2023-06-27T10:22:10.113Z"
   },
   {
    "duration": 11,
    "start_time": "2023-06-27T10:22:15.882Z"
   },
   {
    "duration": 11,
    "start_time": "2023-06-27T10:22:15.895Z"
   },
   {
    "duration": 27,
    "start_time": "2023-06-27T10:22:15.908Z"
   },
   {
    "duration": 145,
    "start_time": "2023-06-27T10:22:15.937Z"
   },
   {
    "duration": 264,
    "start_time": "2023-06-27T10:22:16.084Z"
   },
   {
    "duration": 249,
    "start_time": "2023-06-27T10:22:16.350Z"
   },
   {
    "duration": 19,
    "start_time": "2023-06-27T10:22:16.601Z"
   },
   {
    "duration": 12,
    "start_time": "2023-06-27T10:22:16.622Z"
   },
   {
    "duration": 28,
    "start_time": "2023-06-27T10:22:16.636Z"
   },
   {
    "duration": 3,
    "start_time": "2023-06-27T10:22:16.666Z"
   },
   {
    "duration": 17,
    "start_time": "2023-06-27T10:22:16.670Z"
   },
   {
    "duration": 14,
    "start_time": "2023-06-27T10:22:16.689Z"
   },
   {
    "duration": 51055,
    "start_time": "2023-06-27T10:22:16.705Z"
   },
   {
    "duration": 4404,
    "start_time": "2023-06-27T10:23:07.762Z"
   },
   {
    "duration": 599,
    "start_time": "2023-06-27T10:23:12.168Z"
   },
   {
    "duration": 125,
    "start_time": "2023-06-27T10:23:12.769Z"
   },
   {
    "duration": 68,
    "start_time": "2023-06-27T10:23:12.896Z"
   },
   {
    "duration": 88,
    "start_time": "2023-06-27T10:23:12.966Z"
   },
   {
    "duration": 193137,
    "start_time": "2023-06-27T10:23:13.056Z"
   },
   {
    "duration": 4088,
    "start_time": "2023-06-27T10:26:26.195Z"
   },
   {
    "duration": 83,
    "start_time": "2023-06-27T10:26:30.285Z"
   },
   {
    "duration": 3582,
    "start_time": "2023-06-27T14:08:56.232Z"
   },
   {
    "duration": 1657,
    "start_time": "2023-06-27T14:08:59.816Z"
   },
   {
    "duration": 1200,
    "start_time": "2023-06-27T14:09:01.475Z"
   },
   {
    "duration": 18,
    "start_time": "2023-06-27T14:09:02.677Z"
   },
   {
    "duration": 162,
    "start_time": "2023-06-27T14:09:02.698Z"
   },
   {
    "duration": 118,
    "start_time": "2023-06-27T14:09:02.862Z"
   },
   {
    "duration": 43,
    "start_time": "2023-06-27T14:09:02.982Z"
   },
   {
    "duration": 48,
    "start_time": "2023-06-27T14:09:03.027Z"
   },
   {
    "duration": 108,
    "start_time": "2023-06-27T14:09:03.076Z"
   },
   {
    "duration": 14,
    "start_time": "2023-06-27T14:09:03.186Z"
   },
   {
    "duration": 71,
    "start_time": "2023-06-27T14:09:03.202Z"
   },
   {
    "duration": 7,
    "start_time": "2023-06-27T14:09:03.275Z"
   },
   {
    "duration": 289,
    "start_time": "2023-06-27T14:09:03.283Z"
   },
   {
    "duration": 85,
    "start_time": "2023-06-27T14:09:03.575Z"
   },
   {
    "duration": 78,
    "start_time": "2023-06-27T14:09:03.662Z"
   },
   {
    "duration": 911,
    "start_time": "2023-06-27T14:09:03.742Z"
   },
   {
    "duration": 6,
    "start_time": "2023-06-27T14:09:04.655Z"
   },
   {
    "duration": 54,
    "start_time": "2023-06-27T14:09:04.663Z"
   },
   {
    "duration": 29,
    "start_time": "2023-06-27T14:09:04.719Z"
   },
   {
    "duration": 2900,
    "start_time": "2023-06-27T14:09:04.750Z"
   },
   {
    "duration": 2474,
    "start_time": "2023-06-27T14:09:07.652Z"
   },
   {
    "duration": 1329,
    "start_time": "2023-06-27T14:09:10.128Z"
   },
   {
    "duration": 30,
    "start_time": "2023-06-27T14:09:11.459Z"
   },
   {
    "duration": 297,
    "start_time": "2023-06-27T14:09:11.499Z"
   },
   {
    "duration": 318,
    "start_time": "2023-06-27T14:09:11.799Z"
   },
   {
    "duration": 23,
    "start_time": "2023-06-27T14:09:12.119Z"
   },
   {
    "duration": 90,
    "start_time": "2023-06-27T14:09:12.145Z"
   },
   {
    "duration": 84,
    "start_time": "2023-06-27T14:09:12.237Z"
   },
   {
    "duration": 7,
    "start_time": "2023-06-27T14:09:12.324Z"
   },
   {
    "duration": 21,
    "start_time": "2023-06-27T14:09:12.332Z"
   },
   {
    "duration": 61,
    "start_time": "2023-06-27T14:09:12.355Z"
   },
   {
    "duration": 86,
    "start_time": "2023-06-27T14:09:12.418Z"
   },
   {
    "duration": 20,
    "start_time": "2023-06-27T14:09:12.506Z"
   },
   {
    "duration": 45,
    "start_time": "2023-06-27T14:09:12.528Z"
   },
   {
    "duration": 246,
    "start_time": "2023-06-27T14:09:12.575Z"
   },
   {
    "duration": 249,
    "start_time": "2023-06-27T14:09:12.823Z"
   },
   {
    "duration": 267,
    "start_time": "2023-06-27T14:09:13.074Z"
   },
   {
    "duration": 76,
    "start_time": "2023-06-27T14:09:13.343Z"
   },
   {
    "duration": 80,
    "start_time": "2023-06-27T14:09:13.421Z"
   },
   {
    "duration": 10,
    "start_time": "2023-06-27T14:09:13.503Z"
   },
   {
    "duration": 149,
    "start_time": "2023-06-27T14:09:13.519Z"
   },
   {
    "duration": 71,
    "start_time": "2023-06-27T14:09:13.670Z"
   },
   {
    "duration": 5155,
    "start_time": "2023-06-27T14:09:13.743Z"
   },
   {
    "duration": 10,
    "start_time": "2023-06-27T14:09:18.900Z"
   },
   {
    "duration": 33,
    "start_time": "2023-06-27T14:09:18.911Z"
   },
   {
    "duration": 31,
    "start_time": "2023-06-27T14:09:18.945Z"
   },
   {
    "duration": 90,
    "start_time": "2023-06-27T14:09:18.977Z"
   },
   {
    "duration": 258,
    "start_time": "2023-06-27T14:09:19.069Z"
   },
   {
    "duration": 477,
    "start_time": "2023-06-27T14:09:19.328Z"
   },
   {
    "duration": 13,
    "start_time": "2023-06-27T14:09:30.316Z"
   },
   {
    "duration": 21,
    "start_time": "2023-06-27T14:09:41.643Z"
   },
   {
    "duration": 100,
    "start_time": "2023-06-27T14:10:10.142Z"
   },
   {
    "duration": 2376,
    "start_time": "2023-06-27T14:10:39.564Z"
   },
   {
    "duration": 1601,
    "start_time": "2023-06-27T14:10:41.942Z"
   },
   {
    "duration": 918,
    "start_time": "2023-06-27T14:10:43.545Z"
   },
   {
    "duration": 20,
    "start_time": "2023-06-27T14:10:44.464Z"
   },
   {
    "duration": 144,
    "start_time": "2023-06-27T14:10:44.487Z"
   },
   {
    "duration": 169,
    "start_time": "2023-06-27T14:10:44.633Z"
   },
   {
    "duration": 32,
    "start_time": "2023-06-27T14:10:44.804Z"
   },
   {
    "duration": 61,
    "start_time": "2023-06-27T14:10:44.838Z"
   },
   {
    "duration": 98,
    "start_time": "2023-06-27T14:10:44.902Z"
   },
   {
    "duration": 7,
    "start_time": "2023-06-27T14:10:45.001Z"
   },
   {
    "duration": 109,
    "start_time": "2023-06-27T14:10:45.010Z"
   },
   {
    "duration": 9,
    "start_time": "2023-06-27T14:10:45.121Z"
   },
   {
    "duration": 356,
    "start_time": "2023-06-27T14:10:45.132Z"
   },
   {
    "duration": 126,
    "start_time": "2023-06-27T14:10:45.493Z"
   },
   {
    "duration": 79,
    "start_time": "2023-06-27T14:10:45.622Z"
   },
   {
    "duration": 988,
    "start_time": "2023-06-27T14:10:45.703Z"
   },
   {
    "duration": 11,
    "start_time": "2023-06-27T14:10:46.694Z"
   },
   {
    "duration": 58,
    "start_time": "2023-06-27T14:10:46.706Z"
   },
   {
    "duration": 36,
    "start_time": "2023-06-27T14:10:46.766Z"
   },
   {
    "duration": 2329,
    "start_time": "2023-06-27T14:10:46.804Z"
   },
   {
    "duration": 2346,
    "start_time": "2023-06-27T14:10:49.135Z"
   },
   {
    "duration": 1428,
    "start_time": "2023-06-27T14:10:51.485Z"
   },
   {
    "duration": 30,
    "start_time": "2023-06-27T14:10:52.914Z"
   },
   {
    "duration": 307,
    "start_time": "2023-06-27T14:10:52.946Z"
   },
   {
    "duration": 254,
    "start_time": "2023-06-27T14:10:53.254Z"
   },
   {
    "duration": 27,
    "start_time": "2023-06-27T14:10:53.510Z"
   },
   {
    "duration": 166,
    "start_time": "2023-06-27T14:10:53.539Z"
   },
   {
    "duration": 75,
    "start_time": "2023-06-27T14:10:53.707Z"
   },
   {
    "duration": 21,
    "start_time": "2023-06-27T14:10:53.784Z"
   },
   {
    "duration": 61,
    "start_time": "2023-06-27T14:10:53.806Z"
   },
   {
    "duration": 68,
    "start_time": "2023-06-27T14:10:53.870Z"
   },
   {
    "duration": 147,
    "start_time": "2023-06-27T14:10:53.940Z"
   },
   {
    "duration": 50,
    "start_time": "2023-06-27T14:10:54.089Z"
   },
   {
    "duration": 42,
    "start_time": "2023-06-27T14:10:54.141Z"
   },
   {
    "duration": 318,
    "start_time": "2023-06-27T14:10:54.185Z"
   },
   {
    "duration": 273,
    "start_time": "2023-06-27T14:10:54.505Z"
   },
   {
    "duration": 252,
    "start_time": "2023-06-27T14:10:54.780Z"
   },
   {
    "duration": 78,
    "start_time": "2023-06-27T14:10:55.034Z"
   },
   {
    "duration": 67,
    "start_time": "2023-06-27T14:10:55.114Z"
   },
   {
    "duration": 9,
    "start_time": "2023-06-27T14:10:55.200Z"
   },
   {
    "duration": 85,
    "start_time": "2023-06-27T14:10:55.215Z"
   },
   {
    "duration": 67,
    "start_time": "2023-06-27T14:10:55.302Z"
   },
   {
    "duration": 6129,
    "start_time": "2023-06-27T14:10:55.370Z"
   },
   {
    "duration": 17,
    "start_time": "2023-06-27T14:11:01.502Z"
   },
   {
    "duration": 47,
    "start_time": "2023-06-27T14:11:01.522Z"
   },
   {
    "duration": 142,
    "start_time": "2023-06-27T14:11:01.571Z"
   },
   {
    "duration": 152,
    "start_time": "2023-06-27T14:11:01.715Z"
   },
   {
    "duration": 330,
    "start_time": "2023-06-27T14:11:01.869Z"
   },
   {
    "duration": 753,
    "start_time": "2023-06-27T14:11:02.201Z"
   },
   {
    "duration": 23,
    "start_time": "2023-06-27T14:11:02.956Z"
   },
   {
    "duration": 24,
    "start_time": "2023-06-27T14:11:02.981Z"
   },
   {
    "duration": 28,
    "start_time": "2023-06-27T14:11:03.007Z"
   },
   {
    "duration": 22,
    "start_time": "2023-06-27T14:11:03.037Z"
   },
   {
    "duration": 61,
    "start_time": "2023-06-27T14:11:03.063Z"
   },
   {
    "duration": 27,
    "start_time": "2023-06-27T14:11:03.126Z"
   },
   {
    "duration": 2757256,
    "start_time": "2023-06-27T14:11:03.155Z"
   },
   {
    "duration": 5187,
    "start_time": "2023-06-27T14:57:00.414Z"
   },
   {
    "duration": 598,
    "start_time": "2023-06-27T14:57:05.602Z"
   },
   {
    "duration": 53,
    "start_time": "2023-06-27T14:57:06.201Z"
   },
   {
    "duration": 75,
    "start_time": "2023-06-27T14:57:06.256Z"
   },
   {
    "duration": 76,
    "start_time": "2023-06-27T14:57:06.333Z"
   },
   {
    "duration": 206199,
    "start_time": "2023-06-27T14:57:06.411Z"
   },
   {
    "duration": 4083,
    "start_time": "2023-06-27T15:00:32.612Z"
   },
   {
    "duration": 85,
    "start_time": "2023-06-27T15:00:36.696Z"
   },
   {
    "duration": 5,
    "start_time": "2023-06-27T15:17:04.737Z"
   },
   {
    "duration": 6,
    "start_time": "2023-06-27T15:17:26.212Z"
   },
   {
    "duration": 7,
    "start_time": "2023-06-27T15:28:06.577Z"
   },
   {
    "duration": 4,
    "start_time": "2023-06-27T15:28:08.838Z"
   },
   {
    "duration": 5,
    "start_time": "2023-06-27T15:28:16.087Z"
   },
   {
    "duration": 6,
    "start_time": "2023-06-27T15:28:31.986Z"
   },
   {
    "duration": 7,
    "start_time": "2023-06-27T15:28:34.823Z"
   },
   {
    "duration": 6,
    "start_time": "2023-06-27T15:28:36.892Z"
   },
   {
    "duration": 168141,
    "start_time": "2023-06-27T15:31:59.882Z"
   },
   {
    "duration": 369040,
    "start_time": "2023-06-27T15:35:33.943Z"
   },
   {
    "duration": 4552,
    "start_time": "2023-06-27T15:43:04.539Z"
   },
   {
    "duration": 89,
    "start_time": "2023-06-27T15:43:27.346Z"
   },
   {
    "duration": 566,
    "start_time": "2023-06-27T15:49:27.644Z"
   },
   {
    "duration": 34,
    "start_time": "2023-06-27T15:50:14.330Z"
   },
   {
    "duration": 83,
    "start_time": "2023-06-27T15:57:13.050Z"
   },
   {
    "duration": 4880,
    "start_time": "2023-06-28T13:06:08.836Z"
   },
   {
    "duration": 2207,
    "start_time": "2023-06-28T13:06:13.719Z"
   },
   {
    "duration": 4405,
    "start_time": "2023-06-28T13:06:15.928Z"
   },
   {
    "duration": 20,
    "start_time": "2023-06-28T13:06:20.335Z"
   },
   {
    "duration": 267,
    "start_time": "2023-06-28T13:06:20.359Z"
   },
   {
    "duration": 133,
    "start_time": "2023-06-28T13:06:34.744Z"
   },
   {
    "duration": 44,
    "start_time": "2023-06-28T13:06:36.333Z"
   },
   {
    "duration": 57,
    "start_time": "2023-06-28T13:07:10.905Z"
   },
   {
    "duration": 131,
    "start_time": "2023-06-28T13:07:26.624Z"
   },
   {
    "duration": 10,
    "start_time": "2023-06-28T13:07:26.986Z"
   },
   {
    "duration": 75,
    "start_time": "2023-06-28T13:07:27.189Z"
   },
   {
    "duration": 9,
    "start_time": "2023-06-28T13:07:29.181Z"
   },
   {
    "duration": 437,
    "start_time": "2023-06-28T13:07:34.184Z"
   },
   {
    "duration": 148,
    "start_time": "2023-06-28T13:07:34.625Z"
   },
   {
    "duration": 81,
    "start_time": "2023-06-28T13:07:34.776Z"
   },
   {
    "duration": 1374,
    "start_time": "2023-06-28T13:07:34.860Z"
   },
   {
    "duration": 7,
    "start_time": "2023-06-28T13:07:36.237Z"
   },
   {
    "duration": 52,
    "start_time": "2023-06-28T13:07:36.253Z"
   },
   {
    "duration": 33,
    "start_time": "2023-06-28T13:07:36.308Z"
   },
   {
    "duration": 4613,
    "start_time": "2023-06-28T13:07:36.343Z"
   },
   {
    "duration": 3751,
    "start_time": "2023-06-28T13:07:40.959Z"
   },
   {
    "duration": 2227,
    "start_time": "2023-06-28T13:07:44.712Z"
   },
   {
    "duration": 45,
    "start_time": "2023-06-28T13:07:46.941Z"
   },
   {
    "duration": 455,
    "start_time": "2023-06-28T13:07:46.988Z"
   },
   {
    "duration": 565,
    "start_time": "2023-06-28T13:07:47.445Z"
   },
   {
    "duration": 36,
    "start_time": "2023-06-28T13:07:48.021Z"
   },
   {
    "duration": 176,
    "start_time": "2023-06-28T13:07:48.063Z"
   },
   {
    "duration": 122,
    "start_time": "2023-06-28T13:07:48.243Z"
   },
   {
    "duration": 15,
    "start_time": "2023-06-28T13:07:48.368Z"
   },
   {
    "duration": 54,
    "start_time": "2023-06-28T13:07:48.385Z"
   },
   {
    "duration": 94,
    "start_time": "2023-06-28T13:07:48.445Z"
   },
   {
    "duration": 145,
    "start_time": "2023-06-28T13:07:48.541Z"
   },
   {
    "duration": 40,
    "start_time": "2023-06-28T13:07:48.692Z"
   },
   {
    "duration": 48,
    "start_time": "2023-06-28T13:07:48.734Z"
   },
   {
    "duration": 395,
    "start_time": "2023-06-28T13:07:49.356Z"
   },
   {
    "duration": 437,
    "start_time": "2023-06-28T13:07:50.342Z"
   },
   {
    "duration": 385,
    "start_time": "2023-06-28T13:07:50.782Z"
   },
   {
    "duration": 154,
    "start_time": "2023-06-28T13:07:51.531Z"
   },
   {
    "duration": 70,
    "start_time": "2023-06-28T13:07:52.183Z"
   },
   {
    "duration": 184,
    "start_time": "2023-06-28T13:15:58.177Z"
   },
   {
    "duration": 3279,
    "start_time": "2023-06-28T20:28:12.957Z"
   },
   {
    "duration": 1659,
    "start_time": "2023-06-28T20:28:16.240Z"
   },
   {
    "duration": 1254,
    "start_time": "2023-06-28T20:28:17.901Z"
   },
   {
    "duration": 20,
    "start_time": "2023-06-28T20:28:19.157Z"
   },
   {
    "duration": 132,
    "start_time": "2023-06-28T20:28:19.180Z"
   },
   {
    "duration": 130,
    "start_time": "2023-06-28T20:28:19.314Z"
   },
   {
    "duration": 34,
    "start_time": "2023-06-28T20:28:19.445Z"
   },
   {
    "duration": 51,
    "start_time": "2023-06-28T20:28:19.480Z"
   },
   {
    "duration": 103,
    "start_time": "2023-06-28T20:28:19.533Z"
   },
   {
    "duration": 17,
    "start_time": "2023-06-28T20:28:19.638Z"
   },
   {
    "duration": 75,
    "start_time": "2023-06-28T20:28:23.867Z"
   },
   {
    "duration": 16,
    "start_time": "2023-06-28T20:31:41.092Z"
   },
   {
    "duration": 42,
    "start_time": "2023-06-28T20:31:51.917Z"
   },
   {
    "duration": 7,
    "start_time": "2023-06-28T20:33:59.480Z"
   },
   {
    "duration": 659,
    "start_time": "2023-06-28T20:35:17.910Z"
   },
   {
    "duration": 484,
    "start_time": "2023-06-28T20:36:16.783Z"
   },
   {
    "duration": 57,
    "start_time": "2023-06-28T20:38:02.727Z"
   },
   {
    "duration": 39,
    "start_time": "2023-06-28T20:41:25.788Z"
   },
   {
    "duration": 7,
    "start_time": "2023-06-28T20:41:28.673Z"
   },
   {
    "duration": 2295,
    "start_time": "2023-06-28T20:43:08.352Z"
   },
   {
    "duration": 1559,
    "start_time": "2023-06-28T20:43:10.651Z"
   },
   {
    "duration": 864,
    "start_time": "2023-06-28T20:43:12.211Z"
   },
   {
    "duration": 17,
    "start_time": "2023-06-28T20:43:13.077Z"
   },
   {
    "duration": 149,
    "start_time": "2023-06-28T20:43:13.096Z"
   },
   {
    "duration": 111,
    "start_time": "2023-06-28T20:43:13.252Z"
   },
   {
    "duration": 34,
    "start_time": "2023-06-28T20:43:13.366Z"
   },
   {
    "duration": 62,
    "start_time": "2023-06-28T20:43:13.401Z"
   },
   {
    "duration": 89,
    "start_time": "2023-06-28T20:43:13.465Z"
   },
   {
    "duration": 10,
    "start_time": "2023-06-28T20:43:13.558Z"
   },
   {
    "duration": 58,
    "start_time": "2023-06-28T20:43:13.570Z"
   },
   {
    "duration": 7,
    "start_time": "2023-06-28T20:43:13.629Z"
   },
   {
    "duration": 46,
    "start_time": "2023-06-28T20:43:37.591Z"
   },
   {
    "duration": 7,
    "start_time": "2023-06-28T20:43:38.552Z"
   },
   {
    "duration": 2197,
    "start_time": "2023-06-28T20:46:05.218Z"
   },
   {
    "duration": 1585,
    "start_time": "2023-06-28T20:46:07.417Z"
   },
   {
    "duration": 888,
    "start_time": "2023-06-28T20:46:09.004Z"
   },
   {
    "duration": 20,
    "start_time": "2023-06-28T20:46:09.894Z"
   },
   {
    "duration": 145,
    "start_time": "2023-06-28T20:46:09.917Z"
   },
   {
    "duration": 121,
    "start_time": "2023-06-28T20:46:10.064Z"
   },
   {
    "duration": 35,
    "start_time": "2023-06-28T20:46:10.186Z"
   },
   {
    "duration": 73,
    "start_time": "2023-06-28T20:46:10.222Z"
   },
   {
    "duration": 94,
    "start_time": "2023-06-28T20:46:10.298Z"
   },
   {
    "duration": 7,
    "start_time": "2023-06-28T20:46:10.395Z"
   },
   {
    "duration": 92,
    "start_time": "2023-06-28T20:46:10.404Z"
   },
   {
    "duration": 8,
    "start_time": "2023-06-28T20:46:10.498Z"
   },
   {
    "duration": 52,
    "start_time": "2023-06-28T20:46:10.508Z"
   },
   {
    "duration": 5,
    "start_time": "2023-06-28T20:46:10.563Z"
   },
   {
    "duration": 300,
    "start_time": "2023-06-28T20:46:10.569Z"
   },
   {
    "duration": 94,
    "start_time": "2023-06-28T20:46:10.871Z"
   },
   {
    "duration": 60,
    "start_time": "2023-06-28T20:46:10.968Z"
   },
   {
    "duration": 1042,
    "start_time": "2023-06-28T20:46:11.029Z"
   },
   {
    "duration": 5,
    "start_time": "2023-06-28T20:46:12.073Z"
   },
   {
    "duration": 36,
    "start_time": "2023-06-28T20:46:12.080Z"
   },
   {
    "duration": 47,
    "start_time": "2023-06-28T20:46:12.118Z"
   },
   {
    "duration": 2664,
    "start_time": "2023-06-28T20:46:12.167Z"
   },
   {
    "duration": 2595,
    "start_time": "2023-06-28T20:46:14.832Z"
   },
   {
    "duration": 1549,
    "start_time": "2023-06-28T20:46:17.429Z"
   },
   {
    "duration": 32,
    "start_time": "2023-06-28T20:46:18.980Z"
   },
   {
    "duration": 41,
    "start_time": "2023-06-28T20:46:19.013Z"
   },
   {
    "duration": 76,
    "start_time": "2023-06-28T20:46:19.055Z"
   },
   {
    "duration": 83,
    "start_time": "2023-06-28T20:46:19.132Z"
   },
   {
    "duration": 6,
    "start_time": "2023-06-28T20:46:19.216Z"
   },
   {
    "duration": 29,
    "start_time": "2023-06-28T20:46:19.223Z"
   },
   {
    "duration": 9,
    "start_time": "2023-06-28T20:53:49.245Z"
   },
   {
    "duration": 8,
    "start_time": "2023-06-28T20:53:54.616Z"
   },
   {
    "duration": 6,
    "start_time": "2023-06-28T20:54:00.993Z"
   },
   {
    "duration": 6,
    "start_time": "2023-06-28T20:54:05.902Z"
   },
   {
    "duration": 7,
    "start_time": "2023-06-28T20:54:22.017Z"
   },
   {
    "duration": 2202,
    "start_time": "2023-06-28T21:26:36.168Z"
   },
   {
    "duration": 1539,
    "start_time": "2023-06-28T21:26:38.374Z"
   },
   {
    "duration": 902,
    "start_time": "2023-06-28T21:26:39.914Z"
   },
   {
    "duration": 17,
    "start_time": "2023-06-28T21:26:40.818Z"
   },
   {
    "duration": 138,
    "start_time": "2023-06-28T21:26:40.837Z"
   },
   {
    "duration": 116,
    "start_time": "2023-06-28T21:26:40.977Z"
   },
   {
    "duration": 36,
    "start_time": "2023-06-28T21:26:41.095Z"
   },
   {
    "duration": 67,
    "start_time": "2023-06-28T21:26:41.133Z"
   },
   {
    "duration": 113,
    "start_time": "2023-06-28T21:26:41.202Z"
   },
   {
    "duration": 6,
    "start_time": "2023-06-28T21:26:41.317Z"
   },
   {
    "duration": 80,
    "start_time": "2023-06-28T21:26:41.324Z"
   },
   {
    "duration": 7,
    "start_time": "2023-06-28T21:26:41.406Z"
   },
   {
    "duration": 56,
    "start_time": "2023-06-28T21:26:41.414Z"
   },
   {
    "duration": 7,
    "start_time": "2023-06-28T21:26:41.473Z"
   },
   {
    "duration": 287,
    "start_time": "2023-06-28T21:26:41.482Z"
   },
   {
    "duration": 88,
    "start_time": "2023-06-28T21:26:41.771Z"
   },
   {
    "duration": 62,
    "start_time": "2023-06-28T21:26:41.860Z"
   },
   {
    "duration": 1033,
    "start_time": "2023-06-28T21:26:41.924Z"
   },
   {
    "duration": 6,
    "start_time": "2023-06-28T21:26:42.960Z"
   },
   {
    "duration": 38,
    "start_time": "2023-06-28T21:26:42.968Z"
   },
   {
    "duration": 51,
    "start_time": "2023-06-28T21:26:43.008Z"
   },
   {
    "duration": 2748,
    "start_time": "2023-06-28T21:26:43.060Z"
   },
   {
    "duration": 2656,
    "start_time": "2023-06-28T21:26:45.810Z"
   },
   {
    "duration": 1529,
    "start_time": "2023-06-28T21:26:48.468Z"
   },
   {
    "duration": 31,
    "start_time": "2023-06-28T21:26:49.998Z"
   },
   {
    "duration": 37,
    "start_time": "2023-06-28T21:26:50.031Z"
   },
   {
    "duration": 87,
    "start_time": "2023-06-28T21:26:50.070Z"
   },
   {
    "duration": 74,
    "start_time": "2023-06-28T21:26:50.158Z"
   },
   {
    "duration": 22,
    "start_time": "2023-06-28T21:26:50.234Z"
   },
   {
    "duration": 24,
    "start_time": "2023-06-28T21:26:50.257Z"
   },
   {
    "duration": 52,
    "start_time": "2023-06-28T21:26:50.283Z"
   },
   {
    "duration": 91,
    "start_time": "2023-06-28T21:26:50.337Z"
   },
   {
    "duration": 38,
    "start_time": "2023-06-28T21:26:50.430Z"
   },
   {
    "duration": 31,
    "start_time": "2023-06-28T21:26:50.469Z"
   },
   {
    "duration": 284,
    "start_time": "2023-06-28T21:26:50.502Z"
   },
   {
    "duration": 268,
    "start_time": "2023-06-28T21:26:50.788Z"
   },
   {
    "duration": 275,
    "start_time": "2023-06-28T21:26:51.058Z"
   },
   {
    "duration": 103,
    "start_time": "2023-06-28T21:26:51.336Z"
   },
   {
    "duration": 72,
    "start_time": "2023-06-28T21:26:51.441Z"
   },
   {
    "duration": 161,
    "start_time": "2023-06-28T21:26:51.515Z"
   },
   {
    "duration": 173,
    "start_time": "2023-06-28T21:26:51.680Z"
   },
   {
    "duration": 8,
    "start_time": "2023-06-28T21:26:51.855Z"
   },
   {
    "duration": 68,
    "start_time": "2023-06-28T21:26:51.865Z"
   },
   {
    "duration": 69,
    "start_time": "2023-06-28T21:26:51.936Z"
   },
   {
    "duration": 5072,
    "start_time": "2023-06-28T21:26:52.007Z"
   },
   {
    "duration": 13,
    "start_time": "2023-06-28T21:26:57.080Z"
   },
   {
    "duration": 8,
    "start_time": "2023-06-28T21:26:57.095Z"
   },
   {
    "duration": 6,
    "start_time": "2023-06-28T21:26:57.105Z"
   },
   {
    "duration": 20,
    "start_time": "2023-06-28T21:26:57.112Z"
   },
   {
    "duration": 135,
    "start_time": "2023-06-28T21:26:57.133Z"
   },
   {
    "duration": 255,
    "start_time": "2023-06-28T21:26:57.270Z"
   },
   {
    "duration": 472,
    "start_time": "2023-06-28T21:26:57.527Z"
   },
   {
    "duration": 23,
    "start_time": "2023-06-28T21:26:58.001Z"
   },
   {
    "duration": 9,
    "start_time": "2023-06-28T21:26:58.026Z"
   },
   {
    "duration": 28,
    "start_time": "2023-06-28T21:26:58.037Z"
   },
   {
    "duration": 3,
    "start_time": "2023-06-28T21:26:58.067Z"
   },
   {
    "duration": 9,
    "start_time": "2023-06-28T21:26:58.072Z"
   },
   {
    "duration": 317089,
    "start_time": "2023-06-28T21:26:58.082Z"
   },
   {
    "duration": 5711,
    "start_time": "2023-06-28T21:32:15.173Z"
   },
   {
    "duration": 120,
    "start_time": "2023-06-28T21:32:20.886Z"
   },
   {
    "duration": 66,
    "start_time": "2023-06-28T21:32:21.008Z"
   },
   {
    "duration": 391,
    "start_time": "2023-06-28T21:32:21.076Z"
   },
   {
    "duration": 101,
    "start_time": "2023-06-28T21:32:21.469Z"
   },
   {
    "duration": 316,
    "start_time": "2023-06-28T21:32:21.572Z"
   },
   {
    "duration": 133,
    "start_time": "2023-06-28T21:32:21.890Z"
   },
   {
    "duration": 151,
    "start_time": "2023-06-28T21:32:22.025Z"
   },
   {
    "duration": 7,
    "start_time": "2023-06-28T21:32:22.178Z"
   },
   {
    "duration": 37,
    "start_time": "2023-06-28T21:32:22.187Z"
   },
   {
    "duration": 132,
    "start_time": "2023-06-28T21:32:22.226Z"
   },
   {
    "duration": 232,
    "start_time": "2023-06-28T21:32:22.360Z"
   },
   {
    "duration": 2726,
    "start_time": "2023-06-28T21:33:28.607Z"
   },
   {
    "duration": 1615,
    "start_time": "2023-06-28T21:33:31.336Z"
   },
   {
    "duration": 929,
    "start_time": "2023-06-28T21:33:32.953Z"
   },
   {
    "duration": 20,
    "start_time": "2023-06-28T21:33:33.885Z"
   },
   {
    "duration": 145,
    "start_time": "2023-06-28T21:33:33.907Z"
   },
   {
    "duration": 124,
    "start_time": "2023-06-28T21:33:34.054Z"
   },
   {
    "duration": 34,
    "start_time": "2023-06-28T21:33:34.180Z"
   },
   {
    "duration": 75,
    "start_time": "2023-06-28T21:33:34.216Z"
   },
   {
    "duration": 96,
    "start_time": "2023-06-28T21:33:34.293Z"
   },
   {
    "duration": 7,
    "start_time": "2023-06-28T21:33:34.392Z"
   },
   {
    "duration": 77,
    "start_time": "2023-06-28T21:33:34.401Z"
   },
   {
    "duration": 9,
    "start_time": "2023-06-28T21:33:34.481Z"
   },
   {
    "duration": 60,
    "start_time": "2023-06-28T21:33:34.492Z"
   },
   {
    "duration": 6,
    "start_time": "2023-06-28T21:33:34.554Z"
   },
   {
    "duration": 286,
    "start_time": "2023-06-28T21:33:34.561Z"
   },
   {
    "duration": 78,
    "start_time": "2023-06-28T21:33:34.849Z"
   },
   {
    "duration": 78,
    "start_time": "2023-06-28T21:33:34.929Z"
   },
   {
    "duration": 1044,
    "start_time": "2023-06-28T21:33:35.009Z"
   },
   {
    "duration": 7,
    "start_time": "2023-06-28T21:33:36.055Z"
   },
   {
    "duration": 57,
    "start_time": "2023-06-28T21:33:36.064Z"
   },
   {
    "duration": 37,
    "start_time": "2023-06-28T21:33:36.123Z"
   },
   {
    "duration": 2957,
    "start_time": "2023-06-28T21:33:36.162Z"
   },
   {
    "duration": 2611,
    "start_time": "2023-06-28T21:33:39.121Z"
   },
   {
    "duration": 1482,
    "start_time": "2023-06-28T21:33:41.734Z"
   },
   {
    "duration": 39,
    "start_time": "2023-06-28T21:33:43.218Z"
   },
   {
    "duration": 21,
    "start_time": "2023-06-28T21:33:43.258Z"
   },
   {
    "duration": 84,
    "start_time": "2023-06-28T21:33:43.281Z"
   },
   {
    "duration": 84,
    "start_time": "2023-06-28T21:33:43.369Z"
   },
   {
    "duration": 7,
    "start_time": "2023-06-28T21:33:43.455Z"
   },
   {
    "duration": 15,
    "start_time": "2023-06-28T21:33:43.463Z"
   },
   {
    "duration": 41,
    "start_time": "2023-06-28T21:33:43.480Z"
   },
   {
    "duration": 85,
    "start_time": "2023-06-28T21:33:43.523Z"
   },
   {
    "duration": 18,
    "start_time": "2023-06-28T21:33:43.610Z"
   },
   {
    "duration": 19,
    "start_time": "2023-06-28T21:33:43.651Z"
   },
   {
    "duration": 269,
    "start_time": "2023-06-28T21:33:43.672Z"
   },
   {
    "duration": 256,
    "start_time": "2023-06-28T21:33:43.943Z"
   },
   {
    "duration": 266,
    "start_time": "2023-06-28T21:33:44.201Z"
   },
   {
    "duration": 66,
    "start_time": "2023-06-28T21:33:44.469Z"
   },
   {
    "duration": 83,
    "start_time": "2023-06-28T21:33:44.537Z"
   },
   {
    "duration": 163,
    "start_time": "2023-06-28T21:33:44.623Z"
   },
   {
    "duration": 178,
    "start_time": "2023-06-28T21:33:44.788Z"
   },
   {
    "duration": 8,
    "start_time": "2023-06-28T21:33:44.968Z"
   },
   {
    "duration": 74,
    "start_time": "2023-06-28T21:33:44.978Z"
   },
   {
    "duration": 67,
    "start_time": "2023-06-28T21:33:45.055Z"
   },
   {
    "duration": 5222,
    "start_time": "2023-06-28T21:33:45.125Z"
   },
   {
    "duration": 13,
    "start_time": "2023-06-28T21:33:50.348Z"
   },
   {
    "duration": 22,
    "start_time": "2023-06-28T21:33:50.363Z"
   },
   {
    "duration": 10,
    "start_time": "2023-06-28T21:33:50.387Z"
   },
   {
    "duration": 22,
    "start_time": "2023-06-28T21:33:50.400Z"
   },
   {
    "duration": 145,
    "start_time": "2023-06-28T21:33:50.424Z"
   },
   {
    "duration": 247,
    "start_time": "2023-06-28T21:33:50.571Z"
   },
   {
    "duration": 500,
    "start_time": "2023-06-28T21:33:50.819Z"
   },
   {
    "duration": 36,
    "start_time": "2023-06-28T21:33:51.321Z"
   },
   {
    "duration": 12,
    "start_time": "2023-06-28T21:33:51.358Z"
   },
   {
    "duration": 22,
    "start_time": "2023-06-28T21:33:51.372Z"
   },
   {
    "duration": 5,
    "start_time": "2023-06-28T21:33:51.396Z"
   },
   {
    "duration": 20,
    "start_time": "2023-06-28T21:33:51.403Z"
   },
   {
    "duration": 2755133,
    "start_time": "2023-06-28T21:33:51.425Z"
   },
   {
    "duration": 5997,
    "start_time": "2023-06-28T22:19:46.560Z"
   },
   {
    "duration": 495,
    "start_time": "2023-06-28T22:19:52.559Z"
   },
   {
    "duration": 62,
    "start_time": "2023-06-28T22:19:53.056Z"
   },
   {
    "duration": 208,
    "start_time": "2023-06-28T22:19:53.120Z"
   },
   {
    "duration": 68,
    "start_time": "2023-06-28T22:19:53.330Z"
   },
   {
    "duration": 93,
    "start_time": "2023-06-28T22:19:53.400Z"
   },
   {
    "duration": 76,
    "start_time": "2023-06-28T22:19:53.495Z"
   },
   {
    "duration": 75,
    "start_time": "2023-06-28T22:19:53.573Z"
   },
   {
    "duration": 7,
    "start_time": "2023-06-28T22:19:53.650Z"
   },
   {
    "duration": 26,
    "start_time": "2023-06-28T22:19:53.659Z"
   },
   {
    "duration": 465,
    "start_time": "2023-06-28T22:19:53.687Z"
   },
   {
    "duration": 78,
    "start_time": "2023-06-28T22:19:54.154Z"
   },
   {
    "duration": 5,
    "start_time": "2023-06-28T22:22:09.483Z"
   },
   {
    "duration": 20,
    "start_time": "2023-06-28T22:23:25.701Z"
   },
   {
    "duration": 6,
    "start_time": "2023-06-28T22:23:31.311Z"
   },
   {
    "duration": 2217,
    "start_time": "2023-06-28T22:23:50.854Z"
   },
   {
    "duration": 2414,
    "start_time": "2023-06-28T22:23:53.074Z"
   },
   {
    "duration": 926,
    "start_time": "2023-06-28T22:23:55.490Z"
   },
   {
    "duration": 18,
    "start_time": "2023-06-28T22:23:56.418Z"
   },
   {
    "duration": 144,
    "start_time": "2023-06-28T22:23:56.437Z"
   },
   {
    "duration": 116,
    "start_time": "2023-06-28T22:23:56.583Z"
   },
   {
    "duration": 32,
    "start_time": "2023-06-28T22:23:56.701Z"
   },
   {
    "duration": 62,
    "start_time": "2023-06-28T22:23:56.735Z"
   },
   {
    "duration": 95,
    "start_time": "2023-06-28T22:23:56.799Z"
   },
   {
    "duration": 6,
    "start_time": "2023-06-28T22:23:56.897Z"
   },
   {
    "duration": 75,
    "start_time": "2023-06-28T22:23:56.904Z"
   },
   {
    "duration": 8,
    "start_time": "2023-06-28T22:23:56.980Z"
   },
   {
    "duration": 45,
    "start_time": "2023-06-28T22:23:56.990Z"
   },
   {
    "duration": 18,
    "start_time": "2023-06-28T22:23:57.037Z"
   },
   {
    "duration": 22,
    "start_time": "2023-06-28T22:23:57.056Z"
   },
   {
    "duration": 82,
    "start_time": "2023-06-28T22:23:57.079Z"
   },
   {
    "duration": 249,
    "start_time": "2023-06-28T22:23:57.162Z"
   },
   {
    "duration": 75,
    "start_time": "2023-06-28T22:23:57.412Z"
   },
   {
    "duration": 72,
    "start_time": "2023-06-28T22:23:57.488Z"
   },
   {
    "duration": 1072,
    "start_time": "2023-06-28T22:23:57.562Z"
   },
   {
    "duration": 5,
    "start_time": "2023-06-28T22:23:58.636Z"
   },
   {
    "duration": 37,
    "start_time": "2023-06-28T22:23:58.651Z"
   },
   {
    "duration": 28,
    "start_time": "2023-06-28T22:23:58.690Z"
   },
   {
    "duration": 2699,
    "start_time": "2023-06-28T22:23:58.720Z"
   },
   {
    "duration": 3545,
    "start_time": "2023-06-28T22:24:01.421Z"
   },
   {
    "duration": 1528,
    "start_time": "2023-06-28T22:24:04.967Z"
   },
   {
    "duration": 29,
    "start_time": "2023-06-28T22:24:06.497Z"
   },
   {
    "duration": 36,
    "start_time": "2023-06-28T22:24:06.530Z"
   },
   {
    "duration": 87,
    "start_time": "2023-06-28T22:24:06.568Z"
   },
   {
    "duration": 61,
    "start_time": "2023-06-28T22:24:06.656Z"
   },
   {
    "duration": 5,
    "start_time": "2023-06-28T22:24:06.719Z"
   },
   {
    "duration": 34,
    "start_time": "2023-06-28T22:24:06.726Z"
   },
   {
    "duration": 36,
    "start_time": "2023-06-28T22:24:06.762Z"
   },
   {
    "duration": 81,
    "start_time": "2023-06-28T22:24:06.800Z"
   },
   {
    "duration": 18,
    "start_time": "2023-06-28T22:24:06.883Z"
   },
   {
    "duration": 21,
    "start_time": "2023-06-28T22:24:06.902Z"
   },
   {
    "duration": 275,
    "start_time": "2023-06-28T22:24:06.925Z"
   },
   {
    "duration": 262,
    "start_time": "2023-06-28T22:24:07.201Z"
   },
   {
    "duration": 261,
    "start_time": "2023-06-28T22:24:07.465Z"
   },
   {
    "duration": 70,
    "start_time": "2023-06-28T22:24:07.728Z"
   },
   {
    "duration": 81,
    "start_time": "2023-06-28T22:24:07.800Z"
   },
   {
    "duration": 143,
    "start_time": "2023-06-28T22:24:07.882Z"
   },
   {
    "duration": 166,
    "start_time": "2023-06-28T22:24:08.027Z"
   },
   {
    "duration": 8,
    "start_time": "2023-06-28T22:24:08.195Z"
   },
   {
    "duration": 88,
    "start_time": "2023-06-28T22:24:08.204Z"
   },
   {
    "duration": 70,
    "start_time": "2023-06-28T22:24:08.295Z"
   },
   {
    "duration": 5915,
    "start_time": "2023-06-28T22:24:08.368Z"
   },
   {
    "duration": 13,
    "start_time": "2023-06-28T22:24:14.284Z"
   },
   {
    "duration": 11,
    "start_time": "2023-06-28T22:24:14.298Z"
   },
   {
    "duration": 6,
    "start_time": "2023-06-28T22:24:14.310Z"
   },
   {
    "duration": 23,
    "start_time": "2023-06-28T22:24:14.318Z"
   },
   {
    "duration": 229,
    "start_time": "2023-06-28T22:24:14.343Z"
   },
   {
    "duration": 234,
    "start_time": "2023-06-28T22:24:14.574Z"
   },
   {
    "duration": 472,
    "start_time": "2023-06-28T22:24:14.810Z"
   },
   {
    "duration": 0,
    "start_time": "2023-06-28T22:24:15.284Z"
   },
   {
    "duration": 0,
    "start_time": "2023-06-28T22:24:15.285Z"
   },
   {
    "duration": 0,
    "start_time": "2023-06-28T22:24:15.287Z"
   },
   {
    "duration": 0,
    "start_time": "2023-06-28T22:24:15.288Z"
   },
   {
    "duration": 0,
    "start_time": "2023-06-28T22:24:15.289Z"
   },
   {
    "duration": 0,
    "start_time": "2023-06-28T22:24:15.290Z"
   },
   {
    "duration": 0,
    "start_time": "2023-06-28T22:24:15.291Z"
   },
   {
    "duration": 0,
    "start_time": "2023-06-28T22:24:15.292Z"
   },
   {
    "duration": 0,
    "start_time": "2023-06-28T22:24:15.293Z"
   },
   {
    "duration": 0,
    "start_time": "2023-06-28T22:24:15.294Z"
   },
   {
    "duration": 0,
    "start_time": "2023-06-28T22:24:15.295Z"
   },
   {
    "duration": 0,
    "start_time": "2023-06-28T22:24:15.296Z"
   },
   {
    "duration": 0,
    "start_time": "2023-06-28T22:24:15.297Z"
   },
   {
    "duration": 0,
    "start_time": "2023-06-28T22:24:15.300Z"
   },
   {
    "duration": 0,
    "start_time": "2023-06-28T22:24:15.301Z"
   },
   {
    "duration": 1,
    "start_time": "2023-06-28T22:24:15.302Z"
   },
   {
    "duration": 0,
    "start_time": "2023-06-28T22:24:15.305Z"
   },
   {
    "duration": 0,
    "start_time": "2023-06-28T22:24:15.306Z"
   },
   {
    "duration": 289,
    "start_time": "2023-06-28T22:24:51.052Z"
   },
   {
    "duration": 265,
    "start_time": "2023-06-28T22:24:57.942Z"
   },
   {
    "duration": 2277,
    "start_time": "2023-06-28T22:25:20.346Z"
   },
   {
    "duration": 1560,
    "start_time": "2023-06-28T22:25:22.626Z"
   },
   {
    "duration": 933,
    "start_time": "2023-06-28T22:25:24.187Z"
   },
   {
    "duration": 17,
    "start_time": "2023-06-28T22:25:25.122Z"
   },
   {
    "duration": 130,
    "start_time": "2023-06-28T22:25:25.142Z"
   },
   {
    "duration": 130,
    "start_time": "2023-06-28T22:25:25.274Z"
   },
   {
    "duration": 30,
    "start_time": "2023-06-28T22:25:25.405Z"
   },
   {
    "duration": 62,
    "start_time": "2023-06-28T22:25:25.437Z"
   },
   {
    "duration": 96,
    "start_time": "2023-06-28T22:25:25.501Z"
   },
   {
    "duration": 6,
    "start_time": "2023-06-28T22:25:25.599Z"
   },
   {
    "duration": 91,
    "start_time": "2023-06-28T22:25:25.606Z"
   },
   {
    "duration": 8,
    "start_time": "2023-06-28T22:25:25.698Z"
   },
   {
    "duration": 56,
    "start_time": "2023-06-28T22:25:25.707Z"
   },
   {
    "duration": 6,
    "start_time": "2023-06-28T22:25:25.766Z"
   },
   {
    "duration": 9,
    "start_time": "2023-06-28T22:25:25.774Z"
   },
   {
    "duration": 102,
    "start_time": "2023-06-28T22:25:25.784Z"
   },
   {
    "duration": 505,
    "start_time": "2023-06-28T22:25:25.888Z"
   },
   {
    "duration": 183,
    "start_time": "2023-06-28T22:25:26.395Z"
   },
   {
    "duration": 109,
    "start_time": "2023-06-28T22:25:26.580Z"
   },
   {
    "duration": 1561,
    "start_time": "2023-06-28T22:25:26.691Z"
   },
   {
    "duration": 8,
    "start_time": "2023-06-28T22:25:28.254Z"
   },
   {
    "duration": 40,
    "start_time": "2023-06-28T22:25:28.264Z"
   },
   {
    "duration": 52,
    "start_time": "2023-06-28T22:25:28.307Z"
   },
   {
    "duration": 2671,
    "start_time": "2023-06-28T22:25:28.361Z"
   },
   {
    "duration": 2702,
    "start_time": "2023-06-28T22:25:31.034Z"
   },
   {
    "duration": 1522,
    "start_time": "2023-06-28T22:25:33.738Z"
   },
   {
    "duration": 29,
    "start_time": "2023-06-28T22:25:35.262Z"
   },
   {
    "duration": 30,
    "start_time": "2023-06-28T22:25:35.293Z"
   },
   {
    "duration": 106,
    "start_time": "2023-06-28T22:25:35.326Z"
   },
   {
    "duration": 86,
    "start_time": "2023-06-28T22:25:35.434Z"
   },
   {
    "duration": 6,
    "start_time": "2023-06-28T22:25:35.522Z"
   },
   {
    "duration": 39,
    "start_time": "2023-06-28T22:25:35.529Z"
   },
   {
    "duration": 55,
    "start_time": "2023-06-28T22:25:35.570Z"
   },
   {
    "duration": 72,
    "start_time": "2023-06-28T22:25:35.627Z"
   },
   {
    "duration": 20,
    "start_time": "2023-06-28T22:25:35.701Z"
   },
   {
    "duration": 36,
    "start_time": "2023-06-28T22:25:35.723Z"
   },
   {
    "duration": 291,
    "start_time": "2023-06-28T22:25:35.761Z"
   },
   {
    "duration": 264,
    "start_time": "2023-06-28T22:25:36.053Z"
   },
   {
    "duration": 274,
    "start_time": "2023-06-28T22:25:36.320Z"
   },
   {
    "duration": 77,
    "start_time": "2023-06-28T22:25:36.596Z"
   },
   {
    "duration": 83,
    "start_time": "2023-06-28T22:25:36.679Z"
   },
   {
    "duration": 150,
    "start_time": "2023-06-28T22:25:36.764Z"
   },
   {
    "duration": 182,
    "start_time": "2023-06-28T22:25:36.916Z"
   },
   {
    "duration": 9,
    "start_time": "2023-06-28T22:25:37.100Z"
   },
   {
    "duration": 70,
    "start_time": "2023-06-28T22:25:37.111Z"
   },
   {
    "duration": 54,
    "start_time": "2023-06-28T22:25:37.183Z"
   },
   {
    "duration": 5115,
    "start_time": "2023-06-28T22:25:37.252Z"
   },
   {
    "duration": 12,
    "start_time": "2023-06-28T22:25:42.369Z"
   },
   {
    "duration": 15,
    "start_time": "2023-06-28T22:25:42.384Z"
   },
   {
    "duration": 8,
    "start_time": "2023-06-28T22:25:42.401Z"
   },
   {
    "duration": 21,
    "start_time": "2023-06-28T22:25:42.411Z"
   },
   {
    "duration": 231,
    "start_time": "2023-06-28T22:25:42.434Z"
   },
   {
    "duration": 240,
    "start_time": "2023-06-28T22:25:42.666Z"
   },
   {
    "duration": 481,
    "start_time": "2023-06-28T22:25:42.908Z"
   },
   {
    "duration": 0,
    "start_time": "2023-06-28T22:25:43.390Z"
   },
   {
    "duration": 0,
    "start_time": "2023-06-28T22:25:43.392Z"
   },
   {
    "duration": 0,
    "start_time": "2023-06-28T22:25:43.393Z"
   },
   {
    "duration": 0,
    "start_time": "2023-06-28T22:25:43.394Z"
   },
   {
    "duration": 0,
    "start_time": "2023-06-28T22:25:43.395Z"
   },
   {
    "duration": 0,
    "start_time": "2023-06-28T22:25:43.396Z"
   },
   {
    "duration": 0,
    "start_time": "2023-06-28T22:25:43.398Z"
   },
   {
    "duration": 0,
    "start_time": "2023-06-28T22:25:43.399Z"
   },
   {
    "duration": 0,
    "start_time": "2023-06-28T22:25:43.400Z"
   },
   {
    "duration": 0,
    "start_time": "2023-06-28T22:25:43.401Z"
   },
   {
    "duration": 0,
    "start_time": "2023-06-28T22:25:43.402Z"
   },
   {
    "duration": 0,
    "start_time": "2023-06-28T22:25:43.403Z"
   },
   {
    "duration": 0,
    "start_time": "2023-06-28T22:25:43.405Z"
   },
   {
    "duration": 1,
    "start_time": "2023-06-28T22:25:43.406Z"
   },
   {
    "duration": 0,
    "start_time": "2023-06-28T22:25:43.408Z"
   },
   {
    "duration": 0,
    "start_time": "2023-06-28T22:25:43.409Z"
   },
   {
    "duration": 0,
    "start_time": "2023-06-28T22:25:43.410Z"
   },
   {
    "duration": 0,
    "start_time": "2023-06-28T22:25:43.411Z"
   },
   {
    "duration": 13,
    "start_time": "2023-06-28T22:37:18.286Z"
   },
   {
    "duration": 20,
    "start_time": "2023-06-28T22:38:49.110Z"
   },
   {
    "duration": 2133,
    "start_time": "2023-06-28T22:45:20.555Z"
   },
   {
    "duration": 1493,
    "start_time": "2023-06-28T22:45:22.691Z"
   },
   {
    "duration": 889,
    "start_time": "2023-06-28T22:45:24.186Z"
   },
   {
    "duration": 20,
    "start_time": "2023-06-28T22:45:25.078Z"
   },
   {
    "duration": 128,
    "start_time": "2023-06-28T22:45:25.100Z"
   },
   {
    "duration": 110,
    "start_time": "2023-06-28T22:45:25.230Z"
   },
   {
    "duration": 40,
    "start_time": "2023-06-28T22:45:25.342Z"
   },
   {
    "duration": 68,
    "start_time": "2023-06-28T22:45:25.384Z"
   },
   {
    "duration": 83,
    "start_time": "2023-06-28T22:45:25.454Z"
   },
   {
    "duration": 15,
    "start_time": "2023-06-28T22:45:25.540Z"
   },
   {
    "duration": 62,
    "start_time": "2023-06-28T22:45:25.557Z"
   },
   {
    "duration": 7,
    "start_time": "2023-06-28T22:45:25.621Z"
   },
   {
    "duration": 61,
    "start_time": "2023-06-28T22:45:25.630Z"
   },
   {
    "duration": 5,
    "start_time": "2023-06-28T22:45:25.693Z"
   },
   {
    "duration": 12,
    "start_time": "2023-06-28T22:45:25.700Z"
   },
   {
    "duration": 79,
    "start_time": "2023-06-28T22:45:25.714Z"
   },
   {
    "duration": 253,
    "start_time": "2023-06-28T22:45:25.795Z"
   },
   {
    "duration": 76,
    "start_time": "2023-06-28T22:45:26.052Z"
   },
   {
    "duration": 70,
    "start_time": "2023-06-28T22:45:26.130Z"
   },
   {
    "duration": 1017,
    "start_time": "2023-06-28T22:45:26.202Z"
   },
   {
    "duration": 6,
    "start_time": "2023-06-28T22:45:27.220Z"
   },
   {
    "duration": 46,
    "start_time": "2023-06-28T22:45:27.228Z"
   },
   {
    "duration": 26,
    "start_time": "2023-06-28T22:45:27.276Z"
   },
   {
    "duration": 2608,
    "start_time": "2023-06-28T22:45:27.304Z"
   },
   {
    "duration": 2613,
    "start_time": "2023-06-28T22:45:29.913Z"
   },
   {
    "duration": 1484,
    "start_time": "2023-06-28T22:45:32.528Z"
   },
   {
    "duration": 44,
    "start_time": "2023-06-28T22:45:34.013Z"
   },
   {
    "duration": 21,
    "start_time": "2023-06-28T22:45:34.061Z"
   },
   {
    "duration": 87,
    "start_time": "2023-06-28T22:45:34.083Z"
   },
   {
    "duration": 66,
    "start_time": "2023-06-28T22:45:34.172Z"
   },
   {
    "duration": 16,
    "start_time": "2023-06-28T22:45:34.239Z"
   },
   {
    "duration": 17,
    "start_time": "2023-06-28T22:45:34.257Z"
   },
   {
    "duration": 39,
    "start_time": "2023-06-28T22:45:34.276Z"
   },
   {
    "duration": 85,
    "start_time": "2023-06-28T22:45:34.317Z"
   },
   {
    "duration": 18,
    "start_time": "2023-06-28T22:45:34.404Z"
   },
   {
    "duration": 39,
    "start_time": "2023-06-28T22:45:34.424Z"
   },
   {
    "duration": 263,
    "start_time": "2023-06-28T22:45:34.465Z"
   },
   {
    "duration": 264,
    "start_time": "2023-06-28T22:45:34.730Z"
   },
   {
    "duration": 263,
    "start_time": "2023-06-28T22:45:34.996Z"
   },
   {
    "duration": 70,
    "start_time": "2023-06-28T22:45:35.260Z"
   },
   {
    "duration": 87,
    "start_time": "2023-06-28T22:45:35.332Z"
   },
   {
    "duration": 150,
    "start_time": "2023-06-28T22:45:35.421Z"
   },
   {
    "duration": 158,
    "start_time": "2023-06-28T22:45:35.574Z"
   },
   {
    "duration": 8,
    "start_time": "2023-06-28T22:45:35.734Z"
   },
   {
    "duration": 64,
    "start_time": "2023-06-28T22:45:35.744Z"
   },
   {
    "duration": 65,
    "start_time": "2023-06-28T22:45:35.810Z"
   },
   {
    "duration": 4882,
    "start_time": "2023-06-28T22:45:35.877Z"
   },
   {
    "duration": 13,
    "start_time": "2023-06-28T22:45:40.760Z"
   },
   {
    "duration": 8,
    "start_time": "2023-06-28T22:45:40.774Z"
   },
   {
    "duration": 15,
    "start_time": "2023-06-28T22:45:40.784Z"
   },
   {
    "duration": 20,
    "start_time": "2023-06-28T22:45:40.801Z"
   },
   {
    "duration": 211,
    "start_time": "2023-06-28T22:45:40.823Z"
   },
   {
    "duration": 231,
    "start_time": "2023-06-28T22:45:41.036Z"
   },
   {
    "duration": 481,
    "start_time": "2023-06-28T22:45:41.269Z"
   },
   {
    "duration": 28,
    "start_time": "2023-06-28T22:45:41.752Z"
   },
   {
    "duration": 10,
    "start_time": "2023-06-28T22:45:41.782Z"
   },
   {
    "duration": 21,
    "start_time": "2023-06-28T22:45:41.794Z"
   },
   {
    "duration": 4,
    "start_time": "2023-06-28T22:45:41.818Z"
   },
   {
    "duration": 28,
    "start_time": "2023-06-28T22:45:41.824Z"
   },
   {
    "duration": 38923,
    "start_time": "2023-06-28T22:45:41.855Z"
   },
   {
    "duration": 3805,
    "start_time": "2023-06-28T22:46:20.853Z"
   },
   {
    "duration": 412,
    "start_time": "2023-06-28T22:46:24.660Z"
   },
   {
    "duration": 139,
    "start_time": "2023-06-28T22:46:25.074Z"
   },
   {
    "duration": 59,
    "start_time": "2023-06-28T22:46:25.215Z"
   },
   {
    "duration": 78,
    "start_time": "2023-06-28T22:46:25.276Z"
   },
   {
    "duration": 226566,
    "start_time": "2023-06-28T22:46:25.355Z"
   },
   {
    "duration": 3146,
    "start_time": "2023-06-28T22:50:11.923Z"
   },
   {
    "duration": 83,
    "start_time": "2023-06-28T22:50:15.071Z"
   },
   {
    "duration": 7,
    "start_time": "2023-06-28T22:50:15.155Z"
   },
   {
    "duration": 23,
    "start_time": "2023-06-28T22:50:15.164Z"
   },
   {
    "duration": 472,
    "start_time": "2023-06-28T22:50:15.189Z"
   },
   {
    "duration": 108,
    "start_time": "2023-06-28T22:50:15.663Z"
   },
   {
    "duration": 4993,
    "start_time": "2023-06-29T19:56:26.403Z"
   },
   {
    "duration": 2501,
    "start_time": "2023-06-29T19:56:31.398Z"
   },
   {
    "duration": 5066,
    "start_time": "2023-06-29T19:56:33.907Z"
   },
   {
    "duration": 38,
    "start_time": "2023-06-29T19:56:38.979Z"
   },
   {
    "duration": 299,
    "start_time": "2023-06-29T19:56:39.022Z"
   },
   {
    "duration": 183,
    "start_time": "2023-06-29T19:56:39.328Z"
   },
   {
    "duration": 68,
    "start_time": "2023-06-29T19:56:39.514Z"
   },
   {
    "duration": 125,
    "start_time": "2023-06-29T19:56:39.592Z"
   },
   {
    "duration": 170,
    "start_time": "2023-06-29T19:56:39.725Z"
   },
   {
    "duration": 6,
    "start_time": "2023-06-29T19:56:39.899Z"
   },
   {
    "duration": 139,
    "start_time": "2023-06-29T19:56:39.907Z"
   },
   {
    "duration": 9,
    "start_time": "2023-06-29T19:56:40.048Z"
   },
   {
    "duration": 92,
    "start_time": "2023-06-29T19:56:40.059Z"
   },
   {
    "duration": 7,
    "start_time": "2023-06-29T19:56:40.154Z"
   },
   {
    "duration": 21,
    "start_time": "2023-06-29T19:56:40.163Z"
   },
   {
    "duration": 81,
    "start_time": "2023-06-29T19:56:40.186Z"
   },
   {
    "duration": 415,
    "start_time": "2023-06-29T19:56:40.269Z"
   },
   {
    "duration": 178,
    "start_time": "2023-06-29T19:56:40.686Z"
   },
   {
    "duration": 93,
    "start_time": "2023-06-29T19:56:40.870Z"
   },
   {
    "duration": 1452,
    "start_time": "2023-06-29T19:56:40.969Z"
   },
   {
    "duration": 9,
    "start_time": "2023-06-29T19:56:42.424Z"
   },
   {
    "duration": 97,
    "start_time": "2023-06-29T19:56:42.435Z"
   },
   {
    "duration": 45,
    "start_time": "2023-06-29T19:56:42.550Z"
   },
   {
    "duration": 4660,
    "start_time": "2023-06-29T19:56:43.223Z"
   },
   {
    "duration": 3505,
    "start_time": "2023-06-29T19:56:47.888Z"
   },
   {
    "duration": 2052,
    "start_time": "2023-06-29T19:56:51.399Z"
   },
   {
    "duration": 74,
    "start_time": "2023-06-29T19:56:53.453Z"
   },
   {
    "duration": 38,
    "start_time": "2023-06-29T19:56:53.529Z"
   },
   {
    "duration": 173,
    "start_time": "2023-06-29T19:56:53.573Z"
   },
   {
    "duration": 106,
    "start_time": "2023-06-29T19:56:53.748Z"
   },
   {
    "duration": 9,
    "start_time": "2023-06-29T19:56:53.867Z"
   },
   {
    "duration": 52,
    "start_time": "2023-06-29T19:56:53.878Z"
   },
   {
    "duration": 63,
    "start_time": "2023-06-29T20:03:45.156Z"
   },
   {
    "duration": 179,
    "start_time": "2023-06-29T20:03:45.709Z"
   },
   {
    "duration": 35,
    "start_time": "2023-06-29T20:03:54.708Z"
   },
   {
    "duration": 36,
    "start_time": "2023-06-29T20:03:55.016Z"
   },
   {
    "duration": 434,
    "start_time": "2023-06-29T20:03:55.723Z"
   },
   {
    "duration": 444,
    "start_time": "2023-06-29T20:03:56.159Z"
   },
   {
    "duration": 445,
    "start_time": "2023-06-29T20:03:56.619Z"
   },
   {
    "duration": 171,
    "start_time": "2023-06-29T20:03:57.964Z"
   },
   {
    "duration": 94,
    "start_time": "2023-06-29T20:03:58.451Z"
   },
   {
    "duration": 249,
    "start_time": "2023-06-29T20:04:03.025Z"
   },
   {
    "duration": 275,
    "start_time": "2023-06-29T20:04:03.739Z"
   },
   {
    "duration": 103,
    "start_time": "2023-06-29T20:05:11.580Z"
   }
  ],
  "kernelspec": {
   "display_name": "Python 3 (ipykernel)",
   "language": "python",
   "name": "python3"
  },
  "language_info": {
   "codemirror_mode": {
    "name": "ipython",
    "version": 3
   },
   "file_extension": ".py",
   "mimetype": "text/x-python",
   "name": "python",
   "nbconvert_exporter": "python",
   "pygments_lexer": "ipython3",
   "version": "3.9.17"
  },
  "toc": {
   "base_numbering": 1,
   "nav_menu": {},
   "number_sections": true,
   "sideBar": true,
   "skip_h1_title": true,
   "title_cell": "Определение стоимости автомобилей",
   "title_sidebar": "Contents",
   "toc_cell": true,
   "toc_position": {
    "height": "calc(100% - 180px)",
    "left": "10px",
    "top": "150px",
    "width": "361.391px"
   },
   "toc_section_display": true,
   "toc_window_display": true
  }
 },
 "nbformat": 4,
 "nbformat_minor": 4
}
