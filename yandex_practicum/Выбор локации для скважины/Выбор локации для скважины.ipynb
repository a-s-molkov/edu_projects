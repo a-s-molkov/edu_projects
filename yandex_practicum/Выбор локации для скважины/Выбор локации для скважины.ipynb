{
 "cells": [
  {
   "cell_type": "markdown",
   "metadata": {
    "toc": true
   },
   "source": [
    "<h1>Выбор локации для скважины<span class=\"tocSkip\"></span></h1>\n",
    "<div class=\"toc\"><ul class=\"toc-item\"><li><span><a href=\"#Описание-проекта\" data-toc-modified-id=\"Описание-проекта-1\"><span class=\"toc-item-num\">1&nbsp;&nbsp;</span>Описание проекта</a></span></li><li><span><a href=\"#Описание-данных\" data-toc-modified-id=\"Описание-данных-2\"><span class=\"toc-item-num\">2&nbsp;&nbsp;</span>Описание данных</a></span></li><li><span><a href=\"#Условия-задачи\" data-toc-modified-id=\"Условия-задачи-3\"><span class=\"toc-item-num\">3&nbsp;&nbsp;</span>Условия задачи</a></span></li><li><span><a href=\"#Загрузка-и-подготовка-данных\" data-toc-modified-id=\"Загрузка-и-подготовка-данных-4\"><span class=\"toc-item-num\">4&nbsp;&nbsp;</span>Загрузка и подготовка данных</a></span><ul class=\"toc-item\"><li><span><a href=\"#Загрузка-данных\" data-toc-modified-id=\"Загрузка-данных-4.1\"><span class=\"toc-item-num\">4.1&nbsp;&nbsp;</span>Загрузка данных</a></span></li><li><span><a href=\"#Исследование-распределений-данных\" data-toc-modified-id=\"Исследование-распределений-данных-4.2\"><span class=\"toc-item-num\">4.2&nbsp;&nbsp;</span>Исследование распределений данных</a></span></li><li><span><a href=\"#Разбиение-данных\" data-toc-modified-id=\"Разбиение-данных-4.3\"><span class=\"toc-item-num\">4.3&nbsp;&nbsp;</span>Разбиение данных</a></span></li></ul></li><li><span><a href=\"#Обучение-и-проверка-модели\" data-toc-modified-id=\"Обучение-и-проверка-модели-5\"><span class=\"toc-item-num\">5&nbsp;&nbsp;</span>Обучение и проверка модели</a></span><ul class=\"toc-item\"><li><span><a href=\"#Регион-0\" data-toc-modified-id=\"Регион-0-5.1\"><span class=\"toc-item-num\">5.1&nbsp;&nbsp;</span>Регион 0</a></span></li><li><span><a href=\"#Регион-1\" data-toc-modified-id=\"Регион-1-5.2\"><span class=\"toc-item-num\">5.2&nbsp;&nbsp;</span>Регион 1</a></span></li><li><span><a href=\"#Регион-2\" data-toc-modified-id=\"Регион-2-5.3\"><span class=\"toc-item-num\">5.3&nbsp;&nbsp;</span>Регион 2</a></span></li></ul></li><li><span><a href=\"#Подготовка-к-расчёту-прибыли\" data-toc-modified-id=\"Подготовка-к-расчёту-прибыли-6\"><span class=\"toc-item-num\">6&nbsp;&nbsp;</span>Подготовка к расчёту прибыли</a></span></li><li><span><a href=\"#Расчёт-прибыли-и-рисков\" data-toc-modified-id=\"Расчёт-прибыли-и-рисков-7\"><span class=\"toc-item-num\">7&nbsp;&nbsp;</span>Расчёт прибыли и рисков</a></span></li><li><span><a href=\"#Общий-вывод\" data-toc-modified-id=\"Общий-вывод-8\"><span class=\"toc-item-num\">8&nbsp;&nbsp;</span>Общий вывод</a></span></li></ul></div>"
   ]
  },
  {
   "cell_type": "markdown",
   "metadata": {},
   "source": [
    "## Описание проекта"
   ]
  },
  {
   "cell_type": "markdown",
   "metadata": {},
   "source": [
    "Допустим, вы работаете в добывающей компании «ГлавРосГосНефть». Нужно решить, где бурить новую скважину.\n",
    "\n",
    "Вам предоставлены пробы нефти в трёх регионах: в каждом 10 000 месторождений, где измерили качество нефти и объём её запасов. Постройте модель машинного обучения, которая поможет определить регион, где добыча принесёт наибольшую прибыль. Проанализируйте возможную прибыль и риски техникой *Bootstrap.*\n",
    "\n",
    "Шаги для выбора локации:\n",
    "\n",
    "- В избранном регионе ищут месторождения, для каждого определяют значения признаков;\n",
    "- Строят модель и оценивают объём запасов;\n",
    "- Выбирают месторождения с самым высокими оценками значений. Количество месторождений зависит от бюджета компании и стоимости разработки одной скважины;\n",
    "- Прибыль равна суммарной прибыли отобранных месторождений."
   ]
  },
  {
   "cell_type": "markdown",
   "metadata": {},
   "source": [
    "## Описание данных"
   ]
  },
  {
   "cell_type": "markdown",
   "metadata": {},
   "source": [
    "Данные геологоразведки трёх регионов находятся в файлах.\n",
    "\n",
    "* **id** — уникальный идентификатор скважины;\n",
    "* **f0, f1, f2** — три признака точек (неважно, что они означают, но сами признаки значимы);\n",
    "* **product** — объём запасов в скважине (тыс. баррелей)."
   ]
  },
  {
   "cell_type": "markdown",
   "metadata": {},
   "source": [
    "## Условия задачи"
   ]
  },
  {
   "cell_type": "markdown",
   "metadata": {},
   "source": [
    "* Для обучения модели подходит только линейная регрессия (остальные — недостаточно предсказуемые).\n",
    "* При разведке региона исследуют 500 точек, из которых с помощью машинного обучения выбирают 200 лучших для разработки.\n",
    "* Бюджет на разработку скважин в регионе — 10 млрд рублей.\n",
    "* При нынешних ценах один баррель сырья приносит 450 рублей дохода. Доход с каждой единицы продукта составляет 450 тыс. рублей, поскольку объём указан в тысячах баррелей.\n",
    "* После оценки рисков нужно оставить лишь те регионы, в которых вероятность убытков меньше 2.5%. Среди них выбирают регион с наибольшей средней прибылью.\n",
    "\n",
    "Данные синтетические: детали контрактов и характеристики месторождений не разглашаются."
   ]
  },
  {
   "cell_type": "markdown",
   "metadata": {},
   "source": [
    "## Загрузка и подготовка данных"
   ]
  },
  {
   "cell_type": "code",
   "execution_count": 1,
   "metadata": {},
   "outputs": [],
   "source": [
    "import pandas as pd\n",
    "import numpy as np\n",
    "import matplotlib.pyplot as plt\n",
    "import seaborn as sns\n",
    "\n",
    "from sklearn.linear_model import LinearRegression\n",
    "from sklearn.model_selection import train_test_split, cross_val_score\n",
    "from sklearn.metrics import mean_squared_error"
   ]
  },
  {
   "cell_type": "markdown",
   "metadata": {},
   "source": [
    "### Загрузка данных"
   ]
  },
  {
   "cell_type": "code",
   "execution_count": 2,
   "metadata": {},
   "outputs": [],
   "source": [
    "# функция загрузки данных\n",
    "# на вход: путь к данным\n",
    "def load_df(data):\n",
    "    df = pd.read_csv(data)\n",
    "    display(df.head())\n",
    "    display(df.info())\n",
    "    display(df.describe())\n",
    "    print(\"Количество дубликатов:\", df.duplicated().sum())\n",
    "    return df"
   ]
  },
  {
   "cell_type": "code",
   "execution_count": 3,
   "metadata": {},
   "outputs": [
    {
     "data": {
      "text/html": [
       "<div>\n",
       "<style scoped>\n",
       "    .dataframe tbody tr th:only-of-type {\n",
       "        vertical-align: middle;\n",
       "    }\n",
       "\n",
       "    .dataframe tbody tr th {\n",
       "        vertical-align: top;\n",
       "    }\n",
       "\n",
       "    .dataframe thead th {\n",
       "        text-align: right;\n",
       "    }\n",
       "</style>\n",
       "<table border=\"1\" class=\"dataframe\">\n",
       "  <thead>\n",
       "    <tr style=\"text-align: right;\">\n",
       "      <th></th>\n",
       "      <th>id</th>\n",
       "      <th>f0</th>\n",
       "      <th>f1</th>\n",
       "      <th>f2</th>\n",
       "      <th>product</th>\n",
       "    </tr>\n",
       "  </thead>\n",
       "  <tbody>\n",
       "    <tr>\n",
       "      <th>0</th>\n",
       "      <td>txEyH</td>\n",
       "      <td>0.705745</td>\n",
       "      <td>-0.497823</td>\n",
       "      <td>1.221170</td>\n",
       "      <td>105.280062</td>\n",
       "    </tr>\n",
       "    <tr>\n",
       "      <th>1</th>\n",
       "      <td>2acmU</td>\n",
       "      <td>1.334711</td>\n",
       "      <td>-0.340164</td>\n",
       "      <td>4.365080</td>\n",
       "      <td>73.037750</td>\n",
       "    </tr>\n",
       "    <tr>\n",
       "      <th>2</th>\n",
       "      <td>409Wp</td>\n",
       "      <td>1.022732</td>\n",
       "      <td>0.151990</td>\n",
       "      <td>1.419926</td>\n",
       "      <td>85.265647</td>\n",
       "    </tr>\n",
       "    <tr>\n",
       "      <th>3</th>\n",
       "      <td>iJLyR</td>\n",
       "      <td>-0.032172</td>\n",
       "      <td>0.139033</td>\n",
       "      <td>2.978566</td>\n",
       "      <td>168.620776</td>\n",
       "    </tr>\n",
       "    <tr>\n",
       "      <th>4</th>\n",
       "      <td>Xdl7t</td>\n",
       "      <td>1.988431</td>\n",
       "      <td>0.155413</td>\n",
       "      <td>4.751769</td>\n",
       "      <td>154.036647</td>\n",
       "    </tr>\n",
       "  </tbody>\n",
       "</table>\n",
       "</div>"
      ],
      "text/plain": [
       "      id        f0        f1        f2     product\n",
       "0  txEyH  0.705745 -0.497823  1.221170  105.280062\n",
       "1  2acmU  1.334711 -0.340164  4.365080   73.037750\n",
       "2  409Wp  1.022732  0.151990  1.419926   85.265647\n",
       "3  iJLyR -0.032172  0.139033  2.978566  168.620776\n",
       "4  Xdl7t  1.988431  0.155413  4.751769  154.036647"
      ]
     },
     "metadata": {},
     "output_type": "display_data"
    },
    {
     "name": "stdout",
     "output_type": "stream",
     "text": [
      "<class 'pandas.core.frame.DataFrame'>\n",
      "RangeIndex: 100000 entries, 0 to 99999\n",
      "Data columns (total 5 columns):\n",
      " #   Column   Non-Null Count   Dtype  \n",
      "---  ------   --------------   -----  \n",
      " 0   id       100000 non-null  object \n",
      " 1   f0       100000 non-null  float64\n",
      " 2   f1       100000 non-null  float64\n",
      " 3   f2       100000 non-null  float64\n",
      " 4   product  100000 non-null  float64\n",
      "dtypes: float64(4), object(1)\n",
      "memory usage: 3.8+ MB\n"
     ]
    },
    {
     "data": {
      "text/plain": [
       "None"
      ]
     },
     "metadata": {},
     "output_type": "display_data"
    },
    {
     "data": {
      "text/html": [
       "<div>\n",
       "<style scoped>\n",
       "    .dataframe tbody tr th:only-of-type {\n",
       "        vertical-align: middle;\n",
       "    }\n",
       "\n",
       "    .dataframe tbody tr th {\n",
       "        vertical-align: top;\n",
       "    }\n",
       "\n",
       "    .dataframe thead th {\n",
       "        text-align: right;\n",
       "    }\n",
       "</style>\n",
       "<table border=\"1\" class=\"dataframe\">\n",
       "  <thead>\n",
       "    <tr style=\"text-align: right;\">\n",
       "      <th></th>\n",
       "      <th>f0</th>\n",
       "      <th>f1</th>\n",
       "      <th>f2</th>\n",
       "      <th>product</th>\n",
       "    </tr>\n",
       "  </thead>\n",
       "  <tbody>\n",
       "    <tr>\n",
       "      <th>count</th>\n",
       "      <td>100000.000000</td>\n",
       "      <td>100000.000000</td>\n",
       "      <td>100000.000000</td>\n",
       "      <td>100000.000000</td>\n",
       "    </tr>\n",
       "    <tr>\n",
       "      <th>mean</th>\n",
       "      <td>0.500419</td>\n",
       "      <td>0.250143</td>\n",
       "      <td>2.502647</td>\n",
       "      <td>92.500000</td>\n",
       "    </tr>\n",
       "    <tr>\n",
       "      <th>std</th>\n",
       "      <td>0.871832</td>\n",
       "      <td>0.504433</td>\n",
       "      <td>3.248248</td>\n",
       "      <td>44.288691</td>\n",
       "    </tr>\n",
       "    <tr>\n",
       "      <th>min</th>\n",
       "      <td>-1.408605</td>\n",
       "      <td>-0.848218</td>\n",
       "      <td>-12.088328</td>\n",
       "      <td>0.000000</td>\n",
       "    </tr>\n",
       "    <tr>\n",
       "      <th>25%</th>\n",
       "      <td>-0.072580</td>\n",
       "      <td>-0.200881</td>\n",
       "      <td>0.287748</td>\n",
       "      <td>56.497507</td>\n",
       "    </tr>\n",
       "    <tr>\n",
       "      <th>50%</th>\n",
       "      <td>0.502360</td>\n",
       "      <td>0.250252</td>\n",
       "      <td>2.515969</td>\n",
       "      <td>91.849972</td>\n",
       "    </tr>\n",
       "    <tr>\n",
       "      <th>75%</th>\n",
       "      <td>1.073581</td>\n",
       "      <td>0.700646</td>\n",
       "      <td>4.715088</td>\n",
       "      <td>128.564089</td>\n",
       "    </tr>\n",
       "    <tr>\n",
       "      <th>max</th>\n",
       "      <td>2.362331</td>\n",
       "      <td>1.343769</td>\n",
       "      <td>16.003790</td>\n",
       "      <td>185.364347</td>\n",
       "    </tr>\n",
       "  </tbody>\n",
       "</table>\n",
       "</div>"
      ],
      "text/plain": [
       "                  f0             f1             f2        product\n",
       "count  100000.000000  100000.000000  100000.000000  100000.000000\n",
       "mean        0.500419       0.250143       2.502647      92.500000\n",
       "std         0.871832       0.504433       3.248248      44.288691\n",
       "min        -1.408605      -0.848218     -12.088328       0.000000\n",
       "25%        -0.072580      -0.200881       0.287748      56.497507\n",
       "50%         0.502360       0.250252       2.515969      91.849972\n",
       "75%         1.073581       0.700646       4.715088     128.564089\n",
       "max         2.362331       1.343769      16.003790     185.364347"
      ]
     },
     "metadata": {},
     "output_type": "display_data"
    },
    {
     "name": "stdout",
     "output_type": "stream",
     "text": [
      "Количество дубликатов: 0\n"
     ]
    }
   ],
   "source": [
    "df0 = load_df('/datasets/geo_data_0.csv')"
   ]
  },
  {
   "cell_type": "code",
   "execution_count": 4,
   "metadata": {},
   "outputs": [
    {
     "data": {
      "text/html": [
       "<div>\n",
       "<style scoped>\n",
       "    .dataframe tbody tr th:only-of-type {\n",
       "        vertical-align: middle;\n",
       "    }\n",
       "\n",
       "    .dataframe tbody tr th {\n",
       "        vertical-align: top;\n",
       "    }\n",
       "\n",
       "    .dataframe thead th {\n",
       "        text-align: right;\n",
       "    }\n",
       "</style>\n",
       "<table border=\"1\" class=\"dataframe\">\n",
       "  <thead>\n",
       "    <tr style=\"text-align: right;\">\n",
       "      <th></th>\n",
       "      <th>id</th>\n",
       "      <th>f0</th>\n",
       "      <th>f1</th>\n",
       "      <th>f2</th>\n",
       "      <th>product</th>\n",
       "    </tr>\n",
       "  </thead>\n",
       "  <tbody>\n",
       "    <tr>\n",
       "      <th>0</th>\n",
       "      <td>kBEdx</td>\n",
       "      <td>-15.001348</td>\n",
       "      <td>-8.276000</td>\n",
       "      <td>-0.005876</td>\n",
       "      <td>3.179103</td>\n",
       "    </tr>\n",
       "    <tr>\n",
       "      <th>1</th>\n",
       "      <td>62mP7</td>\n",
       "      <td>14.272088</td>\n",
       "      <td>-3.475083</td>\n",
       "      <td>0.999183</td>\n",
       "      <td>26.953261</td>\n",
       "    </tr>\n",
       "    <tr>\n",
       "      <th>2</th>\n",
       "      <td>vyE1P</td>\n",
       "      <td>6.263187</td>\n",
       "      <td>-5.948386</td>\n",
       "      <td>5.001160</td>\n",
       "      <td>134.766305</td>\n",
       "    </tr>\n",
       "    <tr>\n",
       "      <th>3</th>\n",
       "      <td>KcrkZ</td>\n",
       "      <td>-13.081196</td>\n",
       "      <td>-11.506057</td>\n",
       "      <td>4.999415</td>\n",
       "      <td>137.945408</td>\n",
       "    </tr>\n",
       "    <tr>\n",
       "      <th>4</th>\n",
       "      <td>AHL4O</td>\n",
       "      <td>12.702195</td>\n",
       "      <td>-8.147433</td>\n",
       "      <td>5.004363</td>\n",
       "      <td>134.766305</td>\n",
       "    </tr>\n",
       "  </tbody>\n",
       "</table>\n",
       "</div>"
      ],
      "text/plain": [
       "      id         f0         f1        f2     product\n",
       "0  kBEdx -15.001348  -8.276000 -0.005876    3.179103\n",
       "1  62mP7  14.272088  -3.475083  0.999183   26.953261\n",
       "2  vyE1P   6.263187  -5.948386  5.001160  134.766305\n",
       "3  KcrkZ -13.081196 -11.506057  4.999415  137.945408\n",
       "4  AHL4O  12.702195  -8.147433  5.004363  134.766305"
      ]
     },
     "metadata": {},
     "output_type": "display_data"
    },
    {
     "name": "stdout",
     "output_type": "stream",
     "text": [
      "<class 'pandas.core.frame.DataFrame'>\n",
      "RangeIndex: 100000 entries, 0 to 99999\n",
      "Data columns (total 5 columns):\n",
      " #   Column   Non-Null Count   Dtype  \n",
      "---  ------   --------------   -----  \n",
      " 0   id       100000 non-null  object \n",
      " 1   f0       100000 non-null  float64\n",
      " 2   f1       100000 non-null  float64\n",
      " 3   f2       100000 non-null  float64\n",
      " 4   product  100000 non-null  float64\n",
      "dtypes: float64(4), object(1)\n",
      "memory usage: 3.8+ MB\n"
     ]
    },
    {
     "data": {
      "text/plain": [
       "None"
      ]
     },
     "metadata": {},
     "output_type": "display_data"
    },
    {
     "data": {
      "text/html": [
       "<div>\n",
       "<style scoped>\n",
       "    .dataframe tbody tr th:only-of-type {\n",
       "        vertical-align: middle;\n",
       "    }\n",
       "\n",
       "    .dataframe tbody tr th {\n",
       "        vertical-align: top;\n",
       "    }\n",
       "\n",
       "    .dataframe thead th {\n",
       "        text-align: right;\n",
       "    }\n",
       "</style>\n",
       "<table border=\"1\" class=\"dataframe\">\n",
       "  <thead>\n",
       "    <tr style=\"text-align: right;\">\n",
       "      <th></th>\n",
       "      <th>f0</th>\n",
       "      <th>f1</th>\n",
       "      <th>f2</th>\n",
       "      <th>product</th>\n",
       "    </tr>\n",
       "  </thead>\n",
       "  <tbody>\n",
       "    <tr>\n",
       "      <th>count</th>\n",
       "      <td>100000.000000</td>\n",
       "      <td>100000.000000</td>\n",
       "      <td>100000.000000</td>\n",
       "      <td>100000.000000</td>\n",
       "    </tr>\n",
       "    <tr>\n",
       "      <th>mean</th>\n",
       "      <td>1.141296</td>\n",
       "      <td>-4.796579</td>\n",
       "      <td>2.494541</td>\n",
       "      <td>68.825000</td>\n",
       "    </tr>\n",
       "    <tr>\n",
       "      <th>std</th>\n",
       "      <td>8.965932</td>\n",
       "      <td>5.119872</td>\n",
       "      <td>1.703572</td>\n",
       "      <td>45.944423</td>\n",
       "    </tr>\n",
       "    <tr>\n",
       "      <th>min</th>\n",
       "      <td>-31.609576</td>\n",
       "      <td>-26.358598</td>\n",
       "      <td>-0.018144</td>\n",
       "      <td>0.000000</td>\n",
       "    </tr>\n",
       "    <tr>\n",
       "      <th>25%</th>\n",
       "      <td>-6.298551</td>\n",
       "      <td>-8.267985</td>\n",
       "      <td>1.000021</td>\n",
       "      <td>26.953261</td>\n",
       "    </tr>\n",
       "    <tr>\n",
       "      <th>50%</th>\n",
       "      <td>1.153055</td>\n",
       "      <td>-4.813172</td>\n",
       "      <td>2.011479</td>\n",
       "      <td>57.085625</td>\n",
       "    </tr>\n",
       "    <tr>\n",
       "      <th>75%</th>\n",
       "      <td>8.621015</td>\n",
       "      <td>-1.332816</td>\n",
       "      <td>3.999904</td>\n",
       "      <td>107.813044</td>\n",
       "    </tr>\n",
       "    <tr>\n",
       "      <th>max</th>\n",
       "      <td>29.421755</td>\n",
       "      <td>18.734063</td>\n",
       "      <td>5.019721</td>\n",
       "      <td>137.945408</td>\n",
       "    </tr>\n",
       "  </tbody>\n",
       "</table>\n",
       "</div>"
      ],
      "text/plain": [
       "                  f0             f1             f2        product\n",
       "count  100000.000000  100000.000000  100000.000000  100000.000000\n",
       "mean        1.141296      -4.796579       2.494541      68.825000\n",
       "std         8.965932       5.119872       1.703572      45.944423\n",
       "min       -31.609576     -26.358598      -0.018144       0.000000\n",
       "25%        -6.298551      -8.267985       1.000021      26.953261\n",
       "50%         1.153055      -4.813172       2.011479      57.085625\n",
       "75%         8.621015      -1.332816       3.999904     107.813044\n",
       "max        29.421755      18.734063       5.019721     137.945408"
      ]
     },
     "metadata": {},
     "output_type": "display_data"
    },
    {
     "name": "stdout",
     "output_type": "stream",
     "text": [
      "Количество дубликатов: 0\n"
     ]
    }
   ],
   "source": [
    "df1 = load_df('/datasets/geo_data_1.csv')"
   ]
  },
  {
   "cell_type": "code",
   "execution_count": 5,
   "metadata": {},
   "outputs": [
    {
     "data": {
      "text/html": [
       "<div>\n",
       "<style scoped>\n",
       "    .dataframe tbody tr th:only-of-type {\n",
       "        vertical-align: middle;\n",
       "    }\n",
       "\n",
       "    .dataframe tbody tr th {\n",
       "        vertical-align: top;\n",
       "    }\n",
       "\n",
       "    .dataframe thead th {\n",
       "        text-align: right;\n",
       "    }\n",
       "</style>\n",
       "<table border=\"1\" class=\"dataframe\">\n",
       "  <thead>\n",
       "    <tr style=\"text-align: right;\">\n",
       "      <th></th>\n",
       "      <th>id</th>\n",
       "      <th>f0</th>\n",
       "      <th>f1</th>\n",
       "      <th>f2</th>\n",
       "      <th>product</th>\n",
       "    </tr>\n",
       "  </thead>\n",
       "  <tbody>\n",
       "    <tr>\n",
       "      <th>0</th>\n",
       "      <td>fwXo0</td>\n",
       "      <td>-1.146987</td>\n",
       "      <td>0.963328</td>\n",
       "      <td>-0.828965</td>\n",
       "      <td>27.758673</td>\n",
       "    </tr>\n",
       "    <tr>\n",
       "      <th>1</th>\n",
       "      <td>WJtFt</td>\n",
       "      <td>0.262778</td>\n",
       "      <td>0.269839</td>\n",
       "      <td>-2.530187</td>\n",
       "      <td>56.069697</td>\n",
       "    </tr>\n",
       "    <tr>\n",
       "      <th>2</th>\n",
       "      <td>ovLUW</td>\n",
       "      <td>0.194587</td>\n",
       "      <td>0.289035</td>\n",
       "      <td>-5.586433</td>\n",
       "      <td>62.871910</td>\n",
       "    </tr>\n",
       "    <tr>\n",
       "      <th>3</th>\n",
       "      <td>q6cA6</td>\n",
       "      <td>2.236060</td>\n",
       "      <td>-0.553760</td>\n",
       "      <td>0.930038</td>\n",
       "      <td>114.572842</td>\n",
       "    </tr>\n",
       "    <tr>\n",
       "      <th>4</th>\n",
       "      <td>WPMUX</td>\n",
       "      <td>-0.515993</td>\n",
       "      <td>1.716266</td>\n",
       "      <td>5.899011</td>\n",
       "      <td>149.600746</td>\n",
       "    </tr>\n",
       "  </tbody>\n",
       "</table>\n",
       "</div>"
      ],
      "text/plain": [
       "      id        f0        f1        f2     product\n",
       "0  fwXo0 -1.146987  0.963328 -0.828965   27.758673\n",
       "1  WJtFt  0.262778  0.269839 -2.530187   56.069697\n",
       "2  ovLUW  0.194587  0.289035 -5.586433   62.871910\n",
       "3  q6cA6  2.236060 -0.553760  0.930038  114.572842\n",
       "4  WPMUX -0.515993  1.716266  5.899011  149.600746"
      ]
     },
     "metadata": {},
     "output_type": "display_data"
    },
    {
     "name": "stdout",
     "output_type": "stream",
     "text": [
      "<class 'pandas.core.frame.DataFrame'>\n",
      "RangeIndex: 100000 entries, 0 to 99999\n",
      "Data columns (total 5 columns):\n",
      " #   Column   Non-Null Count   Dtype  \n",
      "---  ------   --------------   -----  \n",
      " 0   id       100000 non-null  object \n",
      " 1   f0       100000 non-null  float64\n",
      " 2   f1       100000 non-null  float64\n",
      " 3   f2       100000 non-null  float64\n",
      " 4   product  100000 non-null  float64\n",
      "dtypes: float64(4), object(1)\n",
      "memory usage: 3.8+ MB\n"
     ]
    },
    {
     "data": {
      "text/plain": [
       "None"
      ]
     },
     "metadata": {},
     "output_type": "display_data"
    },
    {
     "data": {
      "text/html": [
       "<div>\n",
       "<style scoped>\n",
       "    .dataframe tbody tr th:only-of-type {\n",
       "        vertical-align: middle;\n",
       "    }\n",
       "\n",
       "    .dataframe tbody tr th {\n",
       "        vertical-align: top;\n",
       "    }\n",
       "\n",
       "    .dataframe thead th {\n",
       "        text-align: right;\n",
       "    }\n",
       "</style>\n",
       "<table border=\"1\" class=\"dataframe\">\n",
       "  <thead>\n",
       "    <tr style=\"text-align: right;\">\n",
       "      <th></th>\n",
       "      <th>f0</th>\n",
       "      <th>f1</th>\n",
       "      <th>f2</th>\n",
       "      <th>product</th>\n",
       "    </tr>\n",
       "  </thead>\n",
       "  <tbody>\n",
       "    <tr>\n",
       "      <th>count</th>\n",
       "      <td>100000.000000</td>\n",
       "      <td>100000.000000</td>\n",
       "      <td>100000.000000</td>\n",
       "      <td>100000.000000</td>\n",
       "    </tr>\n",
       "    <tr>\n",
       "      <th>mean</th>\n",
       "      <td>0.002023</td>\n",
       "      <td>-0.002081</td>\n",
       "      <td>2.495128</td>\n",
       "      <td>95.000000</td>\n",
       "    </tr>\n",
       "    <tr>\n",
       "      <th>std</th>\n",
       "      <td>1.732045</td>\n",
       "      <td>1.730417</td>\n",
       "      <td>3.473445</td>\n",
       "      <td>44.749921</td>\n",
       "    </tr>\n",
       "    <tr>\n",
       "      <th>min</th>\n",
       "      <td>-8.760004</td>\n",
       "      <td>-7.084020</td>\n",
       "      <td>-11.970335</td>\n",
       "      <td>0.000000</td>\n",
       "    </tr>\n",
       "    <tr>\n",
       "      <th>25%</th>\n",
       "      <td>-1.162288</td>\n",
       "      <td>-1.174820</td>\n",
       "      <td>0.130359</td>\n",
       "      <td>59.450441</td>\n",
       "    </tr>\n",
       "    <tr>\n",
       "      <th>50%</th>\n",
       "      <td>0.009424</td>\n",
       "      <td>-0.009482</td>\n",
       "      <td>2.484236</td>\n",
       "      <td>94.925613</td>\n",
       "    </tr>\n",
       "    <tr>\n",
       "      <th>75%</th>\n",
       "      <td>1.158535</td>\n",
       "      <td>1.163678</td>\n",
       "      <td>4.858794</td>\n",
       "      <td>130.595027</td>\n",
       "    </tr>\n",
       "    <tr>\n",
       "      <th>max</th>\n",
       "      <td>7.238262</td>\n",
       "      <td>7.844801</td>\n",
       "      <td>16.739402</td>\n",
       "      <td>190.029838</td>\n",
       "    </tr>\n",
       "  </tbody>\n",
       "</table>\n",
       "</div>"
      ],
      "text/plain": [
       "                  f0             f1             f2        product\n",
       "count  100000.000000  100000.000000  100000.000000  100000.000000\n",
       "mean        0.002023      -0.002081       2.495128      95.000000\n",
       "std         1.732045       1.730417       3.473445      44.749921\n",
       "min        -8.760004      -7.084020     -11.970335       0.000000\n",
       "25%        -1.162288      -1.174820       0.130359      59.450441\n",
       "50%         0.009424      -0.009482       2.484236      94.925613\n",
       "75%         1.158535       1.163678       4.858794     130.595027\n",
       "max         7.238262       7.844801      16.739402     190.029838"
      ]
     },
     "metadata": {},
     "output_type": "display_data"
    },
    {
     "name": "stdout",
     "output_type": "stream",
     "text": [
      "Количество дубликатов: 0\n"
     ]
    }
   ],
   "source": [
    "df2 = load_df('/datasets/geo_data_2.csv')"
   ]
  },
  {
   "cell_type": "markdown",
   "metadata": {},
   "source": [
    "<div style=\"background-color:black; color:#ffffff; text-align:left; padding:2%\">\n",
    "\n",
    "Дубликаты отсутствуют, пропусков нет, типы данных верные."
   ]
  },
  {
   "cell_type": "markdown",
   "metadata": {},
   "source": [
    "### Исследование распределений данных"
   ]
  },
  {
   "cell_type": "code",
   "execution_count": 6,
   "metadata": {},
   "outputs": [],
   "source": [
    "col = ['f0','f1','f2','product']"
   ]
  },
  {
   "cell_type": "code",
   "execution_count": 7,
   "metadata": {},
   "outputs": [],
   "source": [
    "# функция вывода гистограмм и диаграмм размаха\n",
    "# на вход: датафрейм, нужные столбцы, номер региона\n",
    "def charts(df, col, n_reg):\n",
    "    for i in col:\n",
    "        ax=sns.histplot(df[i],kde=True, bins=50,)\n",
    "        ax.set_title(f'Гистограмма по {i} региона {n_reg}', fontdict = {'fontsize': 16})\n",
    "        ax.set(xlabel=i, ylabel='Количество')\n",
    "        plt.grid()\n",
    "        plt.show()\n",
    "    for i in col:\n",
    "        df.boxplot(column=i,figsize=(14,1), grid=True, vert=False)\n",
    "        plt.title(f'Диаграмма размаха по {i} региона {n_reg}', fontsize=16)\n",
    "        plt.show()"
   ]
  },
  {
   "cell_type": "code",
   "execution_count": 8,
   "metadata": {},
   "outputs": [
    {
     "data": {
      "image/png": "[encoded data removed]",
      "text/plain": [
       "<Figure size 432x288 with 1 Axes>"
      ]
     },
     "metadata": {
      "needs_background": "light"
     },
     "output_type": "display_data"
    },
    {
     "data": {
      "image/png": "[encoded data removed]",
      "text/plain": [
       "<Figure size 432x288 with 1 Axes>"
      ]
     },
     "metadata": {
      "needs_background": "light"
     },
     "output_type": "display_data"
    },
    {
     "data": {
      "image/png": "[encoded data removed]",
      "text/plain": [
       "<Figure size 432x288 with 1 Axes>"
      ]
     },
     "metadata": {
      "needs_background": "light"
     },
     "output_type": "display_data"
    },
    {
     "data": {
      "image/png": "[encoded data removed]",
      "text/plain": [
       "<Figure size 432x288 with 1 Axes>"
      ]
     },
     "metadata": {
      "needs_background": "light"
     },
     "output_type": "display_data"
    },
    {
     "data": {
      "image/png": "[encoded data removed]",
      "text/plain": [
       "<Figure size 1008x72 with 1 Axes>"
      ]
     },
     "metadata": {
      "needs_background": "light"
     },
     "output_type": "display_data"
    },
    {
     "data": {
      "image/png": "[encoded data removed]",
      "text/plain": [
       "<Figure size 1008x72 with 1 Axes>"
      ]
     },
     "metadata": {
      "needs_background": "light"
     },
     "output_type": "display_data"
    },
    {
     "data": {
      "image/png": "[encoded data removed]",
      "text/plain": [
       "<Figure size 1008x72 with 1 Axes>"
      ]
     },
     "metadata": {
      "needs_background": "light"
     },
     "output_type": "display_data"
    },
    {
     "data": {
      "image/png": "[encoded data removed]",
      "text/plain": [
       "<Figure size 1008x72 with 1 Axes>"
      ]
     },
     "metadata": {
      "needs_background": "light"
     },
     "output_type": "display_data"
    }
   ],
   "source": [
    "charts(df0, col, '0')"
   ]
  },
  {
   "cell_type": "code",
   "execution_count": 9,
   "metadata": {},
   "outputs": [
    {
     "data": {
      "image/png": "[encoded data removed]",
      "text/plain": [
       "<Figure size 432x288 with 1 Axes>"
      ]
     },
     "metadata": {
      "needs_background": "light"
     },
     "output_type": "display_data"
    },
    {
     "data": {
      "image/png": "[encoded data removed]",
      "text/plain": [
       "<Figure size 432x288 with 1 Axes>"
      ]
     },
     "metadata": {
      "needs_background": "light"
     },
     "output_type": "display_data"
    },
    {
     "data": {
      "image/png": "[encoded data removed]",
      "text/plain": [
       "<Figure size 432x288 with 1 Axes>"
      ]
     },
     "metadata": {
      "needs_background": "light"
     },
     "output_type": "display_data"
    },
    {
     "data": {
      "image/png": "[encoded data removed]",
      "text/plain": [
       "<Figure size 432x288 with 1 Axes>"
      ]
     },
     "metadata": {
      "needs_background": "light"
     },
     "output_type": "display_data"
    },
    {
     "data": {
      "image/png": "[encoded data removed]",
      "text/plain": [
       "<Figure size 1008x72 with 1 Axes>"
      ]
     },
     "metadata": {
      "needs_background": "light"
     },
     "output_type": "display_data"
    },
    {
     "data": {
      "image/png": "[encoded data removed]",
      "text/plain": [
       "<Figure size 1008x72 with 1 Axes>"
      ]
     },
     "metadata": {
      "needs_background": "light"
     },
     "output_type": "display_data"
    },
    {
     "data": {
      "image/png": "[encoded data removed]",
      "text/plain": [
       "<Figure size 1008x72 with 1 Axes>"
      ]
     },
     "metadata": {
      "needs_background": "light"
     },
     "output_type": "display_data"
    },
    {
     "data": {
      "image/png": "[encoded data removed]",
      "text/plain": [
       "<Figure size 1008x72 with 1 Axes>"
      ]
     },
     "metadata": {
      "needs_background": "light"
     },
     "output_type": "display_data"
    }
   ],
   "source": [
    "charts(df1, col, '1')"
   ]
  },
  {
   "cell_type": "code",
   "execution_count": 10,
   "metadata": {},
   "outputs": [
    {
     "data": {
      "image/png": "[encoded data removed]",
      "text/plain": [
       "<Figure size 432x288 with 1 Axes>"
      ]
     },
     "metadata": {
      "needs_background": "light"
     },
     "output_type": "display_data"
    },
    {
     "data": {
      "image/png": "[encoded data removed]",
      "text/plain": [
       "<Figure size 432x288 with 1 Axes>"
      ]
     },
     "metadata": {
      "needs_background": "light"
     },
     "output_type": "display_data"
    },
    {
     "data": {
      "image/png": "[encoded data removed]",
      "text/plain": [
       "<Figure size 432x288 with 1 Axes>"
      ]
     },
     "metadata": {
      "needs_background": "light"
     },
     "output_type": "display_data"
    },
    {
     "data": {
      "image/png": "[encoded data removed]",
      "text/plain": [
       "<Figure size 432x288 with 1 Axes>"
      ]
     },
     "metadata": {
      "needs_background": "light"
     },
     "output_type": "display_data"
    },
    {
     "data": {
      "image/png": "[encoded data removed]",
      "text/plain": [
       "<Figure size 1008x72 with 1 Axes>"
      ]
     },
     "metadata": {
      "needs_background": "light"
     },
     "output_type": "display_data"
    },
    {
     "data": {
      "image/png": "[encoded data removed]",
      "text/plain": [
       "<Figure size 1008x72 with 1 Axes>"
      ]
     },
     "metadata": {
      "needs_background": "light"
     },
     "output_type": "display_data"
    },
    {
     "data": {
      "image/png": "[encoded data removed]",
      "text/plain": [
       "<Figure size 1008x72 with 1 Axes>"
      ]
     },
     "metadata": {
      "needs_background": "light"
     },
     "output_type": "display_data"
    },
    {
     "data": {
      "image/png": "[encoded data removed]",
      "text/plain": [
       "<Figure size 1008x72 with 1 Axes>"
      ]
     },
     "metadata": {
      "needs_background": "light"
     },
     "output_type": "display_data"
    }
   ],
   "source": [
    "charts(df2, col, '2')"
   ]
  },
  {
   "cell_type": "markdown",
   "metadata": {},
   "source": [
    "<div style=\"background-color:black; color:#ffffff; text-align:left; padding:2%\">\n",
    "    \n",
    "* Распределения некоторых признаков отличаются от нормального. Присутствуют небольшие выбросы.\n",
    "* Масштабы признаков f0, f1, f2 не сильно отличаются друг от друга (меньше одного порядка). Нет необходимости применять масштабирование."
   ]
  },
  {
   "cell_type": "markdown",
   "metadata": {},
   "source": [
    "### Разбиение данных"
   ]
  },
  {
   "cell_type": "code",
   "execution_count": 11,
   "metadata": {},
   "outputs": [],
   "source": [
    "fearures = ['f0','f1','f2']\n",
    "target = ['product']\n",
    "# признаки и целевые для региона 0\n",
    "x_0 = df0[fearures]\n",
    "y_0 = df0[target]\n",
    "# признаки и целевые для региона 1\n",
    "x_1 = df1[fearures]\n",
    "y_1 = df1[target]\n",
    "# признаки и целевые для региона 2\n",
    "x_2 = df2[fearures]\n",
    "y_2 = df2[target]"
   ]
  },
  {
   "cell_type": "markdown",
   "metadata": {},
   "source": [
    "<div style=\"background-color:black; color:#ffffff; text-align:left; padding:2%\">\n",
    "\n",
    "**Вывод по разделу**:\n",
    "\n",
    "* Данные загружены, проверены на дубликаты, пропуски и типы данных. Всё в порядке.\n",
    "* Изучены распределения данных. Некоторые не соответствую нормальному распределению. Присутствуют небольшие выбросы.\n",
    "* Созданы переменные с признаками и целевыми признаками."
   ]
  },
  {
   "cell_type": "markdown",
   "metadata": {},
   "source": [
    "## Обучение и проверка модели"
   ]
  },
  {
   "cell_type": "code",
   "execution_count": 12,
   "metadata": {},
   "outputs": [],
   "source": [
    "# функция для обучения модели линеийной регрессии\n",
    "# на вход: признаки и целевые признаки региона\n",
    "# на выход: предсказания на валидационной выборке и правильные ответы\n",
    "def lin_reg(x, y):\n",
    "    # разделяем на выборки\n",
    "    x_train, x_val, y_train, y_val = train_test_split(x,y, random_state=42, test_size=0.25)\n",
    "    print(x_train.shape)\n",
    "    print(x_val.shape)\n",
    "    print(y_train.shape)\n",
    "    print(y_val.shape)\n",
    "    # обучаем модель\n",
    "    model = LinearRegression()\n",
    "    model.fit(x_train,y_train)\n",
    "    # делаем предсказания, считаем среднее  и RMSE\n",
    "    predictions = model.predict(x_val)\n",
    "    predictions_mean = predictions.mean()\n",
    "    rmse = (mean_squared_error(predictions,y_val)) ** 0.5\n",
    "    \n",
    "    print()\n",
    "    print(f'Средний запас предсказанного сырья: {predictions_mean:.3f}')\n",
    "    print(f'RMSE модели: {rmse:.3f}')\n",
    "    \n",
    "    return predictions, y_val"
   ]
  },
  {
   "cell_type": "markdown",
   "metadata": {},
   "source": [
    "### Регион 0"
   ]
  },
  {
   "cell_type": "code",
   "execution_count": 13,
   "metadata": {},
   "outputs": [
    {
     "name": "stdout",
     "output_type": "stream",
     "text": [
      "(75000, 3)\n",
      "(25000, 3)\n",
      "(75000, 1)\n",
      "(25000, 1)\n",
      "\n",
      "Средний запас предсказанного сырья: 92.399\n",
      "RMSE модели: 37.757\n"
     ]
    }
   ],
   "source": [
    "predictions_0, y_val_0 = lin_reg(x_0, y_0)"
   ]
  },
  {
   "cell_type": "markdown",
   "metadata": {},
   "source": [
    "### Регион 1"
   ]
  },
  {
   "cell_type": "code",
   "execution_count": 14,
   "metadata": {},
   "outputs": [
    {
     "name": "stdout",
     "output_type": "stream",
     "text": [
      "(75000, 3)\n",
      "(25000, 3)\n",
      "(75000, 1)\n",
      "(25000, 1)\n",
      "\n",
      "Средний запас предсказанного сырья: 68.713\n",
      "RMSE модели: 0.890\n"
     ]
    }
   ],
   "source": [
    "predictions_1, y_val_1 = lin_reg(x_1, y_1)"
   ]
  },
  {
   "cell_type": "markdown",
   "metadata": {},
   "source": [
    "### Регион 2"
   ]
  },
  {
   "cell_type": "code",
   "execution_count": 15,
   "metadata": {},
   "outputs": [
    {
     "name": "stdout",
     "output_type": "stream",
     "text": [
      "(75000, 3)\n",
      "(25000, 3)\n",
      "(75000, 1)\n",
      "(25000, 1)\n",
      "\n",
      "Средний запас предсказанного сырья: 94.771\n",
      "RMSE модели: 40.146\n"
     ]
    }
   ],
   "source": [
    "predictions_2, y_val_2 = lin_reg(x_2, y_2)"
   ]
  },
  {
   "cell_type": "markdown",
   "metadata": {},
   "source": [
    "<div style=\"background-color:black; color:#ffffff; text-align:left; padding:2%\">\n",
    "\n",
    "**Вывод по разделу:**\n",
    "\n",
    "В регионах 0 и 2 достаточно высокие средние показатели предсказанного сырья (92.399 и 94.771 соответственно). При этом у них очень высокая RMSE (37.757 и 40.146). Это говорит нам о неточности модели линейной регрессии.\n",
    "\n",
    "В регионе 1 средний показатель предсказанного сырья 68.713, что меньше чем, у регионов 0 и 2. Но при этом маленькая RMSE (0.890). В данном случае модель вышла качественной."
   ]
  },
  {
   "cell_type": "markdown",
   "metadata": {},
   "source": [
    "## Подготовка к расчёту прибыли"
   ]
  },
  {
   "cell_type": "code",
   "execution_count": 16,
   "metadata": {},
   "outputs": [],
   "source": [
    "# объявляем константы\n",
    "BUDGET = 10e9\n",
    "POINTS = 500\n",
    "TOP_POINTS = 200\n",
    "REVENUE_PER_UNIT = 450e3"
   ]
  },
  {
   "cell_type": "code",
   "execution_count": 17,
   "metadata": {},
   "outputs": [
    {
     "name": "stdout",
     "output_type": "stream",
     "text": [
      "Минимальный объём сырья для безубыточной разработки новой скважины: 111.111\n"
     ]
    }
   ],
   "source": [
    "product_min = BUDGET / (TOP_POINTS * REVENUE_PER_UNIT)\n",
    "print(f'Минимальный объём сырья для безубыточной разработки новой скважины: {product_min:.3f}')"
   ]
  },
  {
   "cell_type": "markdown",
   "metadata": {},
   "source": [
    "<div style=\"background-color:black; color:#ffffff; text-align:left; padding:2%\">\n",
    "\n",
    "**Вывод по разделу:**\n",
    "\n",
    "Минимальный средний объём сырья для безубыточной разработки новой скважины составляет 111.111 тыс. баррелей. Это значение рассчитано на 200 скважин.\n",
    "\n",
    "Данное значение превышает средние значения запасов по всем регионам."
   ]
  },
  {
   "cell_type": "markdown",
   "metadata": {},
   "source": [
    "## Расчёт прибыли и рисков "
   ]
  },
  {
   "cell_type": "code",
   "execution_count": 18,
   "metadata": {},
   "outputs": [],
   "source": [
    "# делаем из датафрейма серию\n",
    "y_val_0 = pd.Series(y_val_0['product']).reset_index(drop=True)\n",
    "y_val_1 = pd.Series(y_val_1['product']).reset_index(drop=True)\n",
    "y_val_2 = pd.Series(y_val_2['product']).reset_index(drop=True)\n",
    "# делаем из массива серию\n",
    "predictions_0 = pd.Series(predictions_0.reshape(len(predictions_0),))\n",
    "predictions_1 = pd.Series(predictions_1.reshape(len(predictions_1)))\n",
    "predictions_2 = pd.Series(predictions_2.reshape(len(predictions_2)))"
   ]
  },
  {
   "cell_type": "code",
   "execution_count": 19,
   "metadata": {},
   "outputs": [],
   "source": [
    "state = np.random.RandomState(42)"
   ]
  },
  {
   "cell_type": "code",
   "execution_count": 20,
   "metadata": {},
   "outputs": [],
   "source": [
    "# функция для нахождения прибыли с 200 лучших из 500 случайных скважин\n",
    "# на вход: валидационная выборка, предсказания для региона\n",
    "# на выход: чистая прибыль\n",
    "def income(y_val, pred):\n",
    "    \n",
    "    # создаем серию из 500 случайных скважин, после сортируем и отбираем 200 лучших\n",
    "    sample_pred = pred.sample(n=POINTS, random_state=state)\n",
    "    top_sample_pred = sample_pred.sort_values(ascending=False)[:TOP_POINTS]\n",
    "    top_sample_val = y_val[top_sample_pred.index]\n",
    "    \n",
    "    # находим общую сумму добычи и прибыль\n",
    "    sum_top_sample_val = top_sample_val.sum()\n",
    "    total_income = sum_top_sample_val * REVENUE_PER_UNIT - BUDGET\n",
    "    \n",
    "    return total_income"
   ]
  },
  {
   "cell_type": "code",
   "execution_count": 21,
   "metadata": {},
   "outputs": [],
   "source": [
    "# функция расчета средней прибыли, 95-% доверительного интервала, вероятности убытков\n",
    "# на вход: валидационная выборка, предсказания для региона, номер региона\n",
    "def risks(y_val, pred, reg):\n",
    "    print(f'Регион {reg}')\n",
    "    print('='*10)\n",
    "    \n",
    "    # создаем список из 1000 вариантов прибыли\n",
    "    values_income = []\n",
    "    for i in range(1000):\n",
    "        values_income.append(income(y_val, pred))\n",
    "        \n",
    "    # переводим список в серию и считаем среднюю прибыль    \n",
    "    values_income = pd.Series(values_income)\n",
    "    income_mean = values_income.mean()\n",
    "    print(f'Средняя прибыль: {income_mean:.3f}')\n",
    "    \n",
    "    # находим доверительный интервал через квантили\n",
    "    alpha = 0.05\n",
    "    low_q = values_income.quantile(alpha/2)\n",
    "    high_q = values_income.quantile(1-alpha/2)\n",
    "    print(f'95-% доверительный интервал: ({low_q}; {high_q})')\n",
    "    \n",
    "    # ведем подсчет сколько раз попадается убытки и высчитываем их % от общего количества\n",
    "    losses = (values_income < 0).mean()\n",
    "    \n",
    "    print(f'Вероятность убытков: {losses:.2%}')"
   ]
  },
  {
   "cell_type": "code",
   "execution_count": 22,
   "metadata": {},
   "outputs": [
    {
     "name": "stdout",
     "output_type": "stream",
     "text": [
      "Регион 0\n",
      "==========\n",
      "Средняя прибыль: 408515053.884\n",
      "95-% доверительный интервал: (-138678493.88196224; 952414908.4140642)\n",
      "Вероятность убытков: 7.40%\n"
     ]
    }
   ],
   "source": [
    "risks(y_val_0, predictions_0, 0)"
   ]
  },
  {
   "cell_type": "code",
   "execution_count": 23,
   "metadata": {},
   "outputs": [
    {
     "name": "stdout",
     "output_type": "stream",
     "text": [
      "Регион 1\n",
      "==========\n",
      "Средняя прибыль: 436119513.637\n",
      "95-% доверительный интервал: (28878732.655240346; 865831912.5385565)\n",
      "Вероятность убытков: 1.70%\n"
     ]
    }
   ],
   "source": [
    "risks(y_val_1, predictions_1, 1)"
   ]
  },
  {
   "cell_type": "code",
   "execution_count": 24,
   "metadata": {},
   "outputs": [
    {
     "name": "stdout",
     "output_type": "stream",
     "text": [
      "Регион 2\n",
      "==========\n",
      "Средняя прибыль: 385037868.036\n",
      "95-% доверительный интервал: (-185862734.65718856; 885439396.229598)\n",
      "Вероятность убытков: 8.60%\n"
     ]
    }
   ],
   "source": [
    "risks(y_val_2, predictions_2, 2)"
   ]
  },
  {
   "cell_type": "markdown",
   "metadata": {},
   "source": [
    "<div style=\"background-color:black; color:#ffffff; text-align:left; padding:2%\">\n",
    "\n",
    "**Вывод по разделу:**\n",
    "\n",
    "При оценке 200 лучших из 500 случайных скважин в каждом регионе получены следующие результаты:\n",
    "    \n",
    "* Максимальная возможная средняя прибыль у региона 1.\n",
    "* Только у региона 1 95-% доверительный интервал полностью находится в положительной зоне.\n",
    "* У региона 1 единственного вероятность убытков меньше 2,5%.\n",
    "* Рекомендуется к разработке регион 1."
   ]
  },
  {
   "cell_type": "markdown",
   "metadata": {},
   "source": [
    "## Общий вывод"
   ]
  },
  {
   "cell_type": "markdown",
   "metadata": {},
   "source": [
    "В регионах 0 и 2 достаточно высокие средние показатели предсказанного сырья (92.399 и 94.771 соответственно). При этом у них очень высокая RMSE (37.757 и 40.146). Это говорит нам о неточности модели линейной регрессии.\n",
    "\n",
    "В регионе 1 средний показатель предсказанного сырья 68.713, что меньше чем, у регионов 0 и 2. Но при этом маленькая RMSE (0.890). В данном случае модель вышла качественной.\n",
    "\n",
    "Минимальный средний объём сырья для безубыточной разработки новой скважины составляет 111.111 тыс. баррелей. Это значение рассчитано на 200 скважин.\n",
    "\n",
    "При оценке 200 лучших из 500 случайных скважин в каждом регионе получены следующие результаты:\n",
    "    \n",
    "* Максимальная возможная средняя прибыль у региона 1.\n",
    "* Только у региона 1 95-% доверительный интервал полностью находится в положительной зоне.\n",
    "* У региона 1 единственного вероятность убытков меньше 2,5%.\n",
    "\n",
    "**Рекомендуется к разработке регион 1.**"
   ]
  }
 ],
 "metadata": {
  "ExecuteTimeLog": [
   {
    "duration": 1899,
    "start_time": "2023-05-28T12:00:22.121Z"
   },
   {
    "duration": 697,
    "start_time": "2023-05-28T12:01:57.599Z"
   },
   {
    "duration": 869,
    "start_time": "2023-05-28T12:02:00.567Z"
   },
   {
    "duration": 921,
    "start_time": "2023-05-28T12:02:03.852Z"
   },
   {
    "duration": 4,
    "start_time": "2023-05-28T12:05:15.209Z"
   },
   {
    "duration": 169,
    "start_time": "2023-05-28T12:20:31.217Z"
   },
   {
    "duration": 4,
    "start_time": "2023-05-28T12:21:28.116Z"
   },
   {
    "duration": 24,
    "start_time": "2023-05-28T12:21:32.994Z"
   },
   {
    "duration": 10,
    "start_time": "2023-05-28T12:21:56.885Z"
   },
   {
    "duration": 3,
    "start_time": "2023-05-28T12:24:46.759Z"
   },
   {
    "duration": 6,
    "start_time": "2023-05-28T12:28:49.809Z"
   },
   {
    "duration": 1745,
    "start_time": "2023-05-28T12:29:10.558Z"
   },
   {
    "duration": 5,
    "start_time": "2023-05-28T12:29:57.325Z"
   },
   {
    "duration": 1858,
    "start_time": "2023-05-28T12:29:59.560Z"
   },
   {
    "duration": 1436,
    "start_time": "2023-05-28T12:32:38.098Z"
   },
   {
    "duration": 1741,
    "start_time": "2023-05-28T12:33:11.308Z"
   },
   {
    "duration": 190,
    "start_time": "2023-05-28T12:44:45.616Z"
   },
   {
    "duration": 1483,
    "start_time": "2023-05-28T12:45:02.476Z"
   },
   {
    "duration": 276,
    "start_time": "2023-05-28T12:45:03.962Z"
   },
   {
    "duration": 187,
    "start_time": "2023-05-28T12:45:04.240Z"
   },
   {
    "duration": 205,
    "start_time": "2023-05-28T12:45:04.429Z"
   },
   {
    "duration": 3,
    "start_time": "2023-05-28T12:45:04.636Z"
   },
   {
    "duration": 7,
    "start_time": "2023-05-28T12:45:04.642Z"
   },
   {
    "duration": 1604,
    "start_time": "2023-05-28T12:45:04.651Z"
   },
   {
    "duration": 2526,
    "start_time": "2023-05-28T12:45:06.257Z"
   },
   {
    "duration": 1499,
    "start_time": "2023-05-28T12:45:08.785Z"
   },
   {
    "duration": 6,
    "start_time": "2023-05-28T12:51:14.416Z"
   },
   {
    "duration": 775,
    "start_time": "2023-05-28T12:51:16.661Z"
   },
   {
    "duration": 7,
    "start_time": "2023-05-28T12:52:12.266Z"
   },
   {
    "duration": 918,
    "start_time": "2023-05-28T12:52:14.424Z"
   },
   {
    "duration": 5,
    "start_time": "2023-05-28T12:52:40.484Z"
   },
   {
    "duration": 4489,
    "start_time": "2023-05-28T12:52:42.327Z"
   },
   {
    "duration": 5,
    "start_time": "2023-05-28T12:57:13.750Z"
   },
   {
    "duration": 931,
    "start_time": "2023-05-28T12:57:16.596Z"
   },
   {
    "duration": 7,
    "start_time": "2023-05-28T12:57:45.523Z"
   },
   {
    "duration": 1044,
    "start_time": "2023-05-28T12:57:47.410Z"
   },
   {
    "duration": 6,
    "start_time": "2023-05-28T12:58:11.192Z"
   },
   {
    "duration": 4575,
    "start_time": "2023-05-28T12:58:12.813Z"
   },
   {
    "duration": 5,
    "start_time": "2023-05-28T12:59:46.011Z"
   },
   {
    "duration": 6,
    "start_time": "2023-05-28T12:59:48.157Z"
   },
   {
    "duration": 785,
    "start_time": "2023-05-28T12:59:53.793Z"
   },
   {
    "duration": 5,
    "start_time": "2023-05-28T13:03:51.500Z"
   },
   {
    "duration": 819,
    "start_time": "2023-05-28T13:03:53.858Z"
   },
   {
    "duration": 5,
    "start_time": "2023-05-28T13:04:43.499Z"
   },
   {
    "duration": 4047,
    "start_time": "2023-05-28T13:04:45.055Z"
   },
   {
    "duration": 6,
    "start_time": "2023-05-28T13:05:56.888Z"
   },
   {
    "duration": 926,
    "start_time": "2023-05-28T13:05:58.987Z"
   },
   {
    "duration": 5,
    "start_time": "2023-05-28T13:06:06.170Z"
   },
   {
    "duration": 4151,
    "start_time": "2023-05-28T13:06:07.561Z"
   },
   {
    "duration": 1846,
    "start_time": "2023-05-28T13:10:17.952Z"
   },
   {
    "duration": 292,
    "start_time": "2023-05-28T13:10:19.800Z"
   },
   {
    "duration": 252,
    "start_time": "2023-05-28T13:10:20.095Z"
   },
   {
    "duration": 259,
    "start_time": "2023-05-28T13:10:20.350Z"
   },
   {
    "duration": 3,
    "start_time": "2023-05-28T13:10:20.613Z"
   },
   {
    "duration": 7,
    "start_time": "2023-05-28T13:10:20.619Z"
   },
   {
    "duration": 4573,
    "start_time": "2023-05-28T13:10:20.628Z"
   },
   {
    "duration": 5127,
    "start_time": "2023-05-28T13:10:25.203Z"
   },
   {
    "duration": 5127,
    "start_time": "2023-05-28T13:10:30.333Z"
   },
   {
    "duration": 3,
    "start_time": "2023-05-28T13:14:09.371Z"
   },
   {
    "duration": 216,
    "start_time": "2023-05-28T13:14:33.063Z"
   },
   {
    "duration": 4,
    "start_time": "2023-05-28T13:15:00.140Z"
   },
   {
    "duration": 256,
    "start_time": "2023-05-28T13:15:02.088Z"
   },
   {
    "duration": 218,
    "start_time": "2023-05-28T13:16:09.490Z"
   },
   {
    "duration": 260,
    "start_time": "2023-05-28T13:16:47.180Z"
   },
   {
    "duration": 4,
    "start_time": "2023-05-28T13:16:56.611Z"
   },
   {
    "duration": 1579,
    "start_time": "2023-05-28T13:17:02.632Z"
   },
   {
    "duration": 6,
    "start_time": "2023-05-28T13:17:04.214Z"
   },
   {
    "duration": 315,
    "start_time": "2023-05-28T13:17:04.221Z"
   },
   {
    "duration": 249,
    "start_time": "2023-05-28T13:17:04.537Z"
   },
   {
    "duration": 261,
    "start_time": "2023-05-28T13:17:04.788Z"
   },
   {
    "duration": 4,
    "start_time": "2023-05-28T13:17:05.051Z"
   },
   {
    "duration": 21,
    "start_time": "2023-05-28T13:17:05.056Z"
   },
   {
    "duration": 3963,
    "start_time": "2023-05-28T13:17:05.079Z"
   },
   {
    "duration": 4165,
    "start_time": "2023-05-28T13:17:09.044Z"
   },
   {
    "duration": 4194,
    "start_time": "2023-05-28T13:17:13.211Z"
   },
   {
    "duration": 15,
    "start_time": "2023-05-28T13:26:58.259Z"
   },
   {
    "duration": 1578,
    "start_time": "2023-05-28T13:27:11.896Z"
   },
   {
    "duration": 4,
    "start_time": "2023-05-28T13:27:13.482Z"
   },
   {
    "duration": 284,
    "start_time": "2023-05-28T13:27:13.488Z"
   },
   {
    "duration": 289,
    "start_time": "2023-05-28T13:27:13.775Z"
   },
   {
    "duration": 312,
    "start_time": "2023-05-28T13:27:14.066Z"
   },
   {
    "duration": 15,
    "start_time": "2023-05-28T13:27:14.381Z"
   },
   {
    "duration": 5,
    "start_time": "2023-05-28T13:27:14.398Z"
   },
   {
    "duration": 3846,
    "start_time": "2023-05-28T13:27:14.405Z"
   },
   {
    "duration": 3952,
    "start_time": "2023-05-28T13:27:18.253Z"
   },
   {
    "duration": 4153,
    "start_time": "2023-05-28T13:27:22.208Z"
   },
   {
    "duration": 33,
    "start_time": "2023-05-28T13:27:26.363Z"
   },
   {
    "duration": 2206,
    "start_time": "2023-05-28T14:52:26.194Z"
   },
   {
    "duration": 5,
    "start_time": "2023-05-28T14:52:28.403Z"
   },
   {
    "duration": 755,
    "start_time": "2023-05-28T14:52:28.410Z"
   },
   {
    "duration": 1106,
    "start_time": "2023-05-28T14:52:29.168Z"
   },
   {
    "duration": 730,
    "start_time": "2023-05-28T14:52:30.277Z"
   },
   {
    "duration": 4,
    "start_time": "2023-05-28T14:52:31.010Z"
   },
   {
    "duration": 36,
    "start_time": "2023-05-28T14:52:31.016Z"
   },
   {
    "duration": 4659,
    "start_time": "2023-05-28T14:52:31.054Z"
   },
   {
    "duration": 3894,
    "start_time": "2023-05-28T14:52:35.717Z"
   },
   {
    "duration": 4709,
    "start_time": "2023-05-28T14:52:39.613Z"
   },
   {
    "duration": 18,
    "start_time": "2023-05-28T14:52:44.324Z"
   },
   {
    "duration": 5,
    "start_time": "2023-05-28T15:30:04.693Z"
   },
   {
    "duration": 6,
    "start_time": "2023-05-28T15:31:41.945Z"
   },
   {
    "duration": 108,
    "start_time": "2023-05-28T15:33:49.983Z"
   },
   {
    "duration": 38,
    "start_time": "2023-05-28T15:34:46.400Z"
   },
   {
    "duration": 33,
    "start_time": "2023-05-28T15:35:20.579Z"
   },
   {
    "duration": 41,
    "start_time": "2023-05-28T15:35:59.566Z"
   },
   {
    "duration": 3,
    "start_time": "2023-05-28T16:31:57.213Z"
   },
   {
    "duration": 4,
    "start_time": "2023-05-28T16:32:02.466Z"
   },
   {
    "duration": 3,
    "start_time": "2023-05-28T16:35:06.859Z"
   },
   {
    "duration": 5,
    "start_time": "2023-05-28T16:35:13.687Z"
   },
   {
    "duration": 5,
    "start_time": "2023-05-28T16:39:46.254Z"
   },
   {
    "duration": 3,
    "start_time": "2023-05-28T16:40:16.618Z"
   },
   {
    "duration": 4,
    "start_time": "2023-05-28T16:40:18.354Z"
   },
   {
    "duration": 3,
    "start_time": "2023-05-28T16:40:27.299Z"
   },
   {
    "duration": 1425,
    "start_time": "2023-05-28T16:46:17.253Z"
   },
   {
    "duration": 5,
    "start_time": "2023-05-28T16:46:18.683Z"
   },
   {
    "duration": 660,
    "start_time": "2023-05-28T16:46:18.690Z"
   },
   {
    "duration": 659,
    "start_time": "2023-05-28T16:46:19.353Z"
   },
   {
    "duration": 639,
    "start_time": "2023-05-28T16:46:20.014Z"
   },
   {
    "duration": 3,
    "start_time": "2023-05-28T16:46:20.655Z"
   },
   {
    "duration": 20,
    "start_time": "2023-05-28T16:46:20.660Z"
   },
   {
    "duration": 3898,
    "start_time": "2023-05-28T16:46:20.687Z"
   },
   {
    "duration": 4140,
    "start_time": "2023-05-28T16:46:24.587Z"
   },
   {
    "duration": 4450,
    "start_time": "2023-05-28T16:46:28.730Z"
   },
   {
    "duration": 20,
    "start_time": "2023-05-28T16:46:33.184Z"
   },
   {
    "duration": 7,
    "start_time": "2023-05-28T16:46:33.206Z"
   },
   {
    "duration": 67,
    "start_time": "2023-05-28T16:46:33.215Z"
   },
   {
    "duration": 116,
    "start_time": "2023-05-28T16:46:33.286Z"
   },
   {
    "duration": 206,
    "start_time": "2023-05-28T16:46:33.409Z"
   },
   {
    "duration": 59,
    "start_time": "2023-05-28T16:46:33.623Z"
   },
   {
    "duration": 79,
    "start_time": "2023-05-28T16:46:33.697Z"
   },
   {
    "duration": 53,
    "start_time": "2023-05-28T19:05:52.319Z"
   },
   {
    "duration": 1450,
    "start_time": "2023-05-28T19:05:58.588Z"
   },
   {
    "duration": 3,
    "start_time": "2023-05-28T19:06:00.040Z"
   },
   {
    "duration": 944,
    "start_time": "2023-05-28T19:06:00.044Z"
   },
   {
    "duration": 636,
    "start_time": "2023-05-28T19:06:00.990Z"
   },
   {
    "duration": 622,
    "start_time": "2023-05-28T19:06:01.628Z"
   },
   {
    "duration": 3,
    "start_time": "2023-05-28T19:06:02.251Z"
   },
   {
    "duration": 29,
    "start_time": "2023-05-28T19:06:02.256Z"
   },
   {
    "duration": 3433,
    "start_time": "2023-05-28T19:06:02.287Z"
   },
   {
    "duration": 3345,
    "start_time": "2023-05-28T19:06:05.722Z"
   },
   {
    "duration": 3524,
    "start_time": "2023-05-28T19:06:09.068Z"
   },
   {
    "duration": 11,
    "start_time": "2023-05-28T19:06:12.594Z"
   },
   {
    "duration": 5,
    "start_time": "2023-05-28T19:06:12.607Z"
   },
   {
    "duration": 40,
    "start_time": "2023-05-28T19:06:12.614Z"
   },
   {
    "duration": 203,
    "start_time": "2023-05-28T19:06:12.656Z"
   },
   {
    "duration": 197,
    "start_time": "2023-05-28T19:06:12.861Z"
   },
   {
    "duration": 3,
    "start_time": "2023-05-28T19:06:13.060Z"
   },
   {
    "duration": 4,
    "start_time": "2023-05-28T19:06:13.150Z"
   },
   {
    "duration": 97,
    "start_time": "2023-05-28T19:06:13.156Z"
   },
   {
    "duration": 8,
    "start_time": "2023-05-28T19:06:29.921Z"
   },
   {
    "duration": 109,
    "start_time": "2023-05-28T19:06:55.681Z"
   },
   {
    "duration": 10,
    "start_time": "2023-05-28T19:09:05.942Z"
   },
   {
    "duration": 10,
    "start_time": "2023-05-28T19:09:18.883Z"
   },
   {
    "duration": 5,
    "start_time": "2023-05-28T19:09:30.699Z"
   },
   {
    "duration": 5,
    "start_time": "2023-05-28T19:12:12.370Z"
   },
   {
    "duration": 3,
    "start_time": "2023-05-28T19:51:44.314Z"
   },
   {
    "duration": 2417,
    "start_time": "2023-05-28T21:22:11.184Z"
   },
   {
    "duration": 57,
    "start_time": "2023-05-28T21:22:13.603Z"
   },
   {
    "duration": 1207,
    "start_time": "2023-05-28T21:22:13.662Z"
   },
   {
    "duration": 1343,
    "start_time": "2023-05-28T21:22:14.875Z"
   },
   {
    "duration": 726,
    "start_time": "2023-05-28T21:22:16.220Z"
   },
   {
    "duration": 4,
    "start_time": "2023-05-28T21:22:16.948Z"
   },
   {
    "duration": 23,
    "start_time": "2023-05-28T21:22:16.954Z"
   },
   {
    "duration": 3866,
    "start_time": "2023-05-28T21:22:16.980Z"
   },
   {
    "duration": 4186,
    "start_time": "2023-05-28T21:22:20.847Z"
   },
   {
    "duration": 4166,
    "start_time": "2023-05-28T21:22:25.034Z"
   },
   {
    "duration": 14,
    "start_time": "2023-05-28T21:22:29.202Z"
   },
   {
    "duration": 14,
    "start_time": "2023-05-28T21:22:29.217Z"
   },
   {
    "duration": 72,
    "start_time": "2023-05-28T21:22:29.233Z"
   },
   {
    "duration": 189,
    "start_time": "2023-05-28T21:22:29.309Z"
   },
   {
    "duration": 144,
    "start_time": "2023-05-28T21:22:29.561Z"
   },
   {
    "duration": 4,
    "start_time": "2023-05-28T21:22:29.762Z"
   },
   {
    "duration": 9,
    "start_time": "2023-05-28T21:22:29.771Z"
   },
   {
    "duration": 84,
    "start_time": "2023-05-28T21:22:29.786Z"
   },
   {
    "duration": 13,
    "start_time": "2023-05-28T21:22:29.880Z"
   },
   {
    "duration": 117,
    "start_time": "2023-05-28T21:30:56.605Z"
   },
   {
    "duration": 3,
    "start_time": "2023-05-28T21:31:03.196Z"
   },
   {
    "duration": 30,
    "start_time": "2023-05-28T21:31:04.780Z"
   },
   {
    "duration": 1626,
    "start_time": "2023-05-28T21:31:58.664Z"
   },
   {
    "duration": 4,
    "start_time": "2023-05-28T21:32:00.295Z"
   },
   {
    "duration": 310,
    "start_time": "2023-05-28T21:32:00.301Z"
   },
   {
    "duration": 275,
    "start_time": "2023-05-28T21:32:00.613Z"
   },
   {
    "duration": 277,
    "start_time": "2023-05-28T21:32:00.895Z"
   },
   {
    "duration": 10,
    "start_time": "2023-05-28T21:32:01.186Z"
   },
   {
    "duration": 31,
    "start_time": "2023-05-28T21:32:01.198Z"
   },
   {
    "duration": 4787,
    "start_time": "2023-05-28T21:32:01.232Z"
   },
   {
    "duration": 4127,
    "start_time": "2023-05-28T21:32:06.021Z"
   },
   {
    "duration": 4726,
    "start_time": "2023-05-28T21:32:10.150Z"
   },
   {
    "duration": 14,
    "start_time": "2023-05-28T21:32:14.881Z"
   },
   {
    "duration": 12,
    "start_time": "2023-05-28T21:32:14.897Z"
   },
   {
    "duration": 71,
    "start_time": "2023-05-28T21:32:14.911Z"
   },
   {
    "duration": 280,
    "start_time": "2023-05-28T21:32:14.986Z"
   },
   {
    "duration": 112,
    "start_time": "2023-05-28T21:32:15.275Z"
   },
   {
    "duration": 5,
    "start_time": "2023-05-28T21:32:15.389Z"
   },
   {
    "duration": 21,
    "start_time": "2023-05-28T21:32:15.458Z"
   },
   {
    "duration": 10,
    "start_time": "2023-05-28T21:32:15.481Z"
   },
   {
    "duration": 4,
    "start_time": "2023-05-28T21:32:15.493Z"
   },
   {
    "duration": 201,
    "start_time": "2023-05-28T21:32:15.499Z"
   },
   {
    "duration": 0,
    "start_time": "2023-05-28T21:32:15.702Z"
   },
   {
    "duration": 6,
    "start_time": "2023-05-28T21:33:33.907Z"
   },
   {
    "duration": 9,
    "start_time": "2023-05-28T21:33:36.196Z"
   },
   {
    "duration": 9,
    "start_time": "2023-05-28T21:33:43.187Z"
   },
   {
    "duration": 11,
    "start_time": "2023-05-28T21:33:45.905Z"
   },
   {
    "duration": 9,
    "start_time": "2023-05-28T21:33:58.310Z"
   },
   {
    "duration": 101,
    "start_time": "2023-05-28T21:34:00.607Z"
   },
   {
    "duration": 11,
    "start_time": "2023-05-28T21:34:02.903Z"
   },
   {
    "duration": 15,
    "start_time": "2023-05-28T21:34:04.554Z"
   },
   {
    "duration": 105,
    "start_time": "2023-05-28T21:34:27.207Z"
   },
   {
    "duration": 7,
    "start_time": "2023-05-28T21:34:40.197Z"
   },
   {
    "duration": 110,
    "start_time": "2023-05-28T21:36:25.289Z"
   },
   {
    "duration": 17,
    "start_time": "2023-05-28T21:36:41.308Z"
   },
   {
    "duration": 22,
    "start_time": "2023-05-28T21:36:54.051Z"
   },
   {
    "duration": 4,
    "start_time": "2023-05-28T21:37:25.148Z"
   },
   {
    "duration": 26,
    "start_time": "2023-05-28T21:37:27.423Z"
   },
   {
    "duration": 11,
    "start_time": "2023-05-28T21:38:12.807Z"
   },
   {
    "duration": 18,
    "start_time": "2023-05-28T21:38:28.092Z"
   },
   {
    "duration": 7,
    "start_time": "2023-05-28T21:40:38.298Z"
   },
   {
    "duration": 7,
    "start_time": "2023-05-28T21:41:26.807Z"
   },
   {
    "duration": 11,
    "start_time": "2023-05-28T21:41:29.999Z"
   },
   {
    "duration": 12,
    "start_time": "2023-05-28T21:41:38.188Z"
   },
   {
    "duration": 14,
    "start_time": "2023-05-28T21:42:27.595Z"
   },
   {
    "duration": 1531,
    "start_time": "2023-05-28T21:42:52.060Z"
   },
   {
    "duration": 4,
    "start_time": "2023-05-28T21:42:53.592Z"
   },
   {
    "duration": 282,
    "start_time": "2023-05-28T21:42:53.600Z"
   },
   {
    "duration": 284,
    "start_time": "2023-05-28T21:42:53.891Z"
   },
   {
    "duration": 325,
    "start_time": "2023-05-28T21:42:54.178Z"
   },
   {
    "duration": 3,
    "start_time": "2023-05-28T21:42:54.505Z"
   },
   {
    "duration": 7,
    "start_time": "2023-05-28T21:42:54.511Z"
   },
   {
    "duration": 3900,
    "start_time": "2023-05-28T21:42:54.520Z"
   },
   {
    "duration": 4314,
    "start_time": "2023-05-28T21:42:58.424Z"
   },
   {
    "duration": 4437,
    "start_time": "2023-05-28T21:43:02.739Z"
   },
   {
    "duration": 15,
    "start_time": "2023-05-28T21:43:07.184Z"
   },
   {
    "duration": 7,
    "start_time": "2023-05-28T21:43:07.201Z"
   },
   {
    "duration": 168,
    "start_time": "2023-05-28T21:43:07.211Z"
   },
   {
    "duration": 187,
    "start_time": "2023-05-28T21:43:07.385Z"
   },
   {
    "duration": 131,
    "start_time": "2023-05-28T21:43:07.579Z"
   },
   {
    "duration": 6,
    "start_time": "2023-05-28T21:43:07.760Z"
   },
   {
    "duration": 23,
    "start_time": "2023-05-28T21:43:07.768Z"
   },
   {
    "duration": 64,
    "start_time": "2023-05-28T21:43:07.793Z"
   },
   {
    "duration": 14,
    "start_time": "2023-05-28T21:43:07.864Z"
   },
   {
    "duration": 9,
    "start_time": "2023-05-28T21:43:07.879Z"
   },
   {
    "duration": 114,
    "start_time": "2023-05-28T21:43:07.891Z"
   },
   {
    "duration": 6,
    "start_time": "2023-05-28T21:43:50.000Z"
   },
   {
    "duration": 7,
    "start_time": "2023-05-28T21:43:52.295Z"
   },
   {
    "duration": 8,
    "start_time": "2023-05-28T21:45:12.797Z"
   },
   {
    "duration": 149,
    "start_time": "2023-05-28T21:45:30.196Z"
   },
   {
    "duration": 1560,
    "start_time": "2023-05-28T21:45:35.151Z"
   },
   {
    "duration": 4,
    "start_time": "2023-05-28T21:45:36.714Z"
   },
   {
    "duration": 338,
    "start_time": "2023-05-28T21:45:36.720Z"
   },
   {
    "duration": 258,
    "start_time": "2023-05-28T21:45:37.063Z"
   },
   {
    "duration": 261,
    "start_time": "2023-05-28T21:45:37.324Z"
   },
   {
    "duration": 3,
    "start_time": "2023-05-28T21:45:37.587Z"
   },
   {
    "duration": 11,
    "start_time": "2023-05-28T21:45:37.591Z"
   },
   {
    "duration": 4401,
    "start_time": "2023-05-28T21:45:37.604Z"
   },
   {
    "duration": 4131,
    "start_time": "2023-05-28T21:45:42.006Z"
   },
   {
    "duration": 4470,
    "start_time": "2023-05-28T21:45:46.139Z"
   },
   {
    "duration": 15,
    "start_time": "2023-05-28T21:45:50.614Z"
   },
   {
    "duration": 7,
    "start_time": "2023-05-28T21:45:50.631Z"
   },
   {
    "duration": 141,
    "start_time": "2023-05-28T21:45:50.639Z"
   },
   {
    "duration": 116,
    "start_time": "2023-05-28T21:45:50.791Z"
   },
   {
    "duration": 249,
    "start_time": "2023-05-28T21:45:50.909Z"
   },
   {
    "duration": 9,
    "start_time": "2023-05-28T21:45:51.168Z"
   },
   {
    "duration": 13,
    "start_time": "2023-05-28T21:45:51.183Z"
   },
   {
    "duration": 206,
    "start_time": "2023-05-28T21:45:51.262Z"
   },
   {
    "duration": 0,
    "start_time": "2023-05-28T21:45:51.475Z"
   },
   {
    "duration": 0,
    "start_time": "2023-05-28T21:45:51.477Z"
   },
   {
    "duration": 0,
    "start_time": "2023-05-28T21:45:51.479Z"
   },
   {
    "duration": 1690,
    "start_time": "2023-05-28T21:50:13.925Z"
   },
   {
    "duration": 4,
    "start_time": "2023-05-28T21:50:15.618Z"
   },
   {
    "duration": 319,
    "start_time": "2023-05-28T21:50:15.624Z"
   },
   {
    "duration": 302,
    "start_time": "2023-05-28T21:50:15.945Z"
   },
   {
    "duration": 300,
    "start_time": "2023-05-28T21:50:16.250Z"
   },
   {
    "duration": 9,
    "start_time": "2023-05-28T21:50:16.557Z"
   },
   {
    "duration": 9,
    "start_time": "2023-05-28T21:50:16.568Z"
   },
   {
    "duration": 3992,
    "start_time": "2023-05-28T21:50:16.579Z"
   },
   {
    "duration": 3948,
    "start_time": "2023-05-28T21:50:20.576Z"
   },
   {
    "duration": 4121,
    "start_time": "2023-05-28T21:50:24.526Z"
   },
   {
    "duration": 22,
    "start_time": "2023-05-28T21:50:28.650Z"
   },
   {
    "duration": 8,
    "start_time": "2023-05-28T21:50:28.677Z"
   },
   {
    "duration": 83,
    "start_time": "2023-05-28T21:50:28.687Z"
   },
   {
    "duration": 118,
    "start_time": "2023-05-28T21:50:28.772Z"
   },
   {
    "duration": 125,
    "start_time": "2023-05-28T21:50:28.958Z"
   },
   {
    "duration": 72,
    "start_time": "2023-05-28T21:50:29.086Z"
   },
   {
    "duration": 16,
    "start_time": "2023-05-28T21:50:29.160Z"
   },
   {
    "duration": 81,
    "start_time": "2023-05-28T21:50:29.178Z"
   },
   {
    "duration": 12,
    "start_time": "2023-05-28T21:50:29.261Z"
   },
   {
    "duration": 7,
    "start_time": "2023-05-28T21:50:29.276Z"
   },
   {
    "duration": 93,
    "start_time": "2023-05-28T21:50:29.285Z"
   },
   {
    "duration": 8,
    "start_time": "2023-05-28T21:54:14.271Z"
   },
   {
    "duration": 7,
    "start_time": "2023-05-28T21:54:16.093Z"
   },
   {
    "duration": 8,
    "start_time": "2023-05-28T21:56:30.879Z"
   },
   {
    "duration": 8,
    "start_time": "2023-05-28T21:56:34.310Z"
   },
   {
    "duration": 7,
    "start_time": "2023-05-28T21:56:36.276Z"
   },
   {
    "duration": 8,
    "start_time": "2023-05-28T21:58:25.888Z"
   },
   {
    "duration": 9,
    "start_time": "2023-05-28T21:58:36.781Z"
   },
   {
    "duration": 13,
    "start_time": "2023-05-28T21:59:05.553Z"
   },
   {
    "duration": 7,
    "start_time": "2023-05-28T21:59:07.680Z"
   },
   {
    "duration": 7,
    "start_time": "2023-05-28T22:10:42.953Z"
   },
   {
    "duration": 3,
    "start_time": "2023-05-28T22:17:25.080Z"
   },
   {
    "duration": 151,
    "start_time": "2023-05-28T22:18:26.658Z"
   },
   {
    "duration": 1481,
    "start_time": "2023-05-28T22:20:55.788Z"
   },
   {
    "duration": 5,
    "start_time": "2023-05-28T22:20:57.273Z"
   },
   {
    "duration": 295,
    "start_time": "2023-05-28T22:20:57.282Z"
   },
   {
    "duration": 287,
    "start_time": "2023-05-28T22:20:57.579Z"
   },
   {
    "duration": 275,
    "start_time": "2023-05-28T22:20:57.874Z"
   },
   {
    "duration": 5,
    "start_time": "2023-05-28T22:20:58.158Z"
   },
   {
    "duration": 12,
    "start_time": "2023-05-28T22:20:58.165Z"
   },
   {
    "duration": 4313,
    "start_time": "2023-05-28T22:20:58.179Z"
   },
   {
    "duration": 4298,
    "start_time": "2023-05-28T22:21:02.494Z"
   },
   {
    "duration": 4033,
    "start_time": "2023-05-28T22:21:06.794Z"
   },
   {
    "duration": 17,
    "start_time": "2023-05-28T22:21:10.830Z"
   },
   {
    "duration": 16,
    "start_time": "2023-05-28T22:21:10.849Z"
   },
   {
    "duration": 112,
    "start_time": "2023-05-28T22:21:10.878Z"
   },
   {
    "duration": 95,
    "start_time": "2023-05-28T22:21:11.062Z"
   },
   {
    "duration": 221,
    "start_time": "2023-05-28T22:21:11.163Z"
   },
   {
    "duration": 3,
    "start_time": "2023-05-28T22:21:11.457Z"
   },
   {
    "duration": 15,
    "start_time": "2023-05-28T22:21:11.466Z"
   },
   {
    "duration": 8,
    "start_time": "2023-05-28T22:21:11.483Z"
   },
   {
    "duration": 7,
    "start_time": "2023-05-28T22:21:11.493Z"
   },
   {
    "duration": 5,
    "start_time": "2023-05-28T22:21:11.502Z"
   },
   {
    "duration": 15,
    "start_time": "2023-05-28T22:21:11.509Z"
   },
   {
    "duration": 6,
    "start_time": "2023-05-28T22:21:15.444Z"
   },
   {
    "duration": 7,
    "start_time": "2023-05-28T22:21:17.794Z"
   },
   {
    "duration": 109,
    "start_time": "2023-05-28T22:27:45.744Z"
   },
   {
    "duration": 6,
    "start_time": "2023-05-28T22:27:52.989Z"
   },
   {
    "duration": 1637,
    "start_time": "2023-05-28T22:29:57.190Z"
   },
   {
    "duration": 3,
    "start_time": "2023-05-28T22:29:58.830Z"
   },
   {
    "duration": 360,
    "start_time": "2023-05-28T22:29:58.835Z"
   },
   {
    "duration": 232,
    "start_time": "2023-05-28T22:29:59.197Z"
   },
   {
    "duration": 266,
    "start_time": "2023-05-28T22:29:59.432Z"
   },
   {
    "duration": 3,
    "start_time": "2023-05-28T22:29:59.700Z"
   },
   {
    "duration": 8,
    "start_time": "2023-05-28T22:29:59.705Z"
   },
   {
    "duration": 4687,
    "start_time": "2023-05-28T22:29:59.714Z"
   },
   {
    "duration": 4129,
    "start_time": "2023-05-28T22:30:04.403Z"
   },
   {
    "duration": 4852,
    "start_time": "2023-05-28T22:30:08.534Z"
   },
   {
    "duration": 15,
    "start_time": "2023-05-28T22:30:13.388Z"
   },
   {
    "duration": 8,
    "start_time": "2023-05-28T22:30:13.405Z"
   },
   {
    "duration": 79,
    "start_time": "2023-05-28T22:30:13.415Z"
   },
   {
    "duration": 194,
    "start_time": "2023-05-28T22:30:13.497Z"
   },
   {
    "duration": 206,
    "start_time": "2023-05-28T22:30:13.694Z"
   },
   {
    "duration": 5,
    "start_time": "2023-05-28T22:30:13.959Z"
   },
   {
    "duration": 15,
    "start_time": "2023-05-28T22:30:13.973Z"
   },
   {
    "duration": 22,
    "start_time": "2023-05-28T22:30:14.056Z"
   },
   {
    "duration": 10,
    "start_time": "2023-05-28T22:30:14.081Z"
   },
   {
    "duration": 17,
    "start_time": "2023-05-28T22:30:14.093Z"
   },
   {
    "duration": 7,
    "start_time": "2023-05-28T22:30:14.112Z"
   },
   {
    "duration": 1526,
    "start_time": "2023-05-28T22:30:14.122Z"
   },
   {
    "duration": 1235,
    "start_time": "2023-05-28T22:30:15.651Z"
   },
   {
    "duration": 1231,
    "start_time": "2023-05-28T22:30:16.888Z"
   },
   {
    "duration": 6,
    "start_time": "2023-05-28T22:30:46.552Z"
   },
   {
    "duration": 1296,
    "start_time": "2023-05-28T22:30:48.142Z"
   },
   {
    "duration": 1286,
    "start_time": "2023-05-28T22:30:50.192Z"
   },
   {
    "duration": 1219,
    "start_time": "2023-05-28T22:30:52.359Z"
   },
   {
    "duration": 1208,
    "start_time": "2023-05-28T22:30:56.437Z"
   },
   {
    "duration": 1507,
    "start_time": "2023-05-28T22:31:00.809Z"
   },
   {
    "duration": 1249,
    "start_time": "2023-05-28T22:31:04.703Z"
   },
   {
    "duration": 1284,
    "start_time": "2023-05-28T22:31:08.084Z"
   },
   {
    "duration": 1356,
    "start_time": "2023-05-28T22:31:11.386Z"
   },
   {
    "duration": 12,
    "start_time": "2023-05-28T22:33:47.752Z"
   },
   {
    "duration": 156,
    "start_time": "2023-05-28T22:33:49.343Z"
   },
   {
    "duration": 1277,
    "start_time": "2023-05-28T22:33:56.240Z"
   },
   {
    "duration": 6,
    "start_time": "2023-05-28T22:34:03.200Z"
   },
   {
    "duration": 1351,
    "start_time": "2023-05-28T22:34:04.983Z"
   },
   {
    "duration": 7,
    "start_time": "2023-05-28T22:34:16.537Z"
   },
   {
    "duration": 1243,
    "start_time": "2023-05-28T22:34:18.838Z"
   },
   {
    "duration": 7,
    "start_time": "2023-05-28T22:34:25.610Z"
   },
   {
    "duration": 1360,
    "start_time": "2023-05-28T22:34:27.838Z"
   },
   {
    "duration": 1331,
    "start_time": "2023-05-28T22:35:00.123Z"
   },
   {
    "duration": 1447,
    "start_time": "2023-05-28T22:35:02.941Z"
   },
   {
    "duration": 1564,
    "start_time": "2023-05-28T22:35:32.149Z"
   },
   {
    "duration": 4,
    "start_time": "2023-05-28T22:35:33.715Z"
   },
   {
    "duration": 353,
    "start_time": "2023-05-28T22:35:33.721Z"
   },
   {
    "duration": 341,
    "start_time": "2023-05-28T22:35:34.088Z"
   },
   {
    "duration": 274,
    "start_time": "2023-05-28T22:35:34.432Z"
   },
   {
    "duration": 3,
    "start_time": "2023-05-28T22:35:34.708Z"
   },
   {
    "duration": 6,
    "start_time": "2023-05-28T22:35:34.713Z"
   },
   {
    "duration": 4163,
    "start_time": "2023-05-28T22:35:34.721Z"
   },
   {
    "duration": 3999,
    "start_time": "2023-05-28T22:35:38.886Z"
   },
   {
    "duration": 3928,
    "start_time": "2023-05-28T22:35:42.888Z"
   },
   {
    "duration": 16,
    "start_time": "2023-05-28T22:35:46.818Z"
   },
   {
    "duration": 5,
    "start_time": "2023-05-28T22:35:46.837Z"
   },
   {
    "duration": 46,
    "start_time": "2023-05-28T22:35:46.857Z"
   },
   {
    "duration": 176,
    "start_time": "2023-05-28T22:35:46.906Z"
   },
   {
    "duration": 176,
    "start_time": "2023-05-28T22:35:47.090Z"
   },
   {
    "duration": 7,
    "start_time": "2023-05-28T22:35:47.275Z"
   },
   {
    "duration": 76,
    "start_time": "2023-05-28T22:35:47.290Z"
   },
   {
    "duration": 11,
    "start_time": "2023-05-28T22:35:47.368Z"
   },
   {
    "duration": 14,
    "start_time": "2023-05-28T22:35:47.381Z"
   },
   {
    "duration": 16,
    "start_time": "2023-05-28T22:35:47.397Z"
   },
   {
    "duration": 6,
    "start_time": "2023-05-28T22:35:47.415Z"
   },
   {
    "duration": 1214,
    "start_time": "2023-05-28T22:35:47.423Z"
   },
   {
    "duration": 1194,
    "start_time": "2023-05-28T22:35:48.640Z"
   },
   {
    "duration": 1177,
    "start_time": "2023-05-28T22:35:49.835Z"
   },
   {
    "duration": 12,
    "start_time": "2023-05-28T22:43:33.752Z"
   },
   {
    "duration": 1442,
    "start_time": "2023-05-28T22:43:35.615Z"
   },
   {
    "duration": 1331,
    "start_time": "2023-05-28T22:43:53.111Z"
   },
   {
    "duration": 1359,
    "start_time": "2023-05-28T22:43:56.615Z"
   },
   {
    "duration": 1684,
    "start_time": "2023-05-28T22:48:25.315Z"
   },
   {
    "duration": 6,
    "start_time": "2023-05-28T22:48:27.004Z"
   },
   {
    "duration": 338,
    "start_time": "2023-05-28T22:48:27.016Z"
   },
   {
    "duration": 290,
    "start_time": "2023-05-28T22:48:27.356Z"
   },
   {
    "duration": 292,
    "start_time": "2023-05-28T22:48:27.649Z"
   },
   {
    "duration": 4,
    "start_time": "2023-05-28T22:48:27.943Z"
   },
   {
    "duration": 45,
    "start_time": "2023-05-28T22:48:27.948Z"
   },
   {
    "duration": 4620,
    "start_time": "2023-05-28T22:48:27.994Z"
   },
   {
    "duration": 4494,
    "start_time": "2023-05-28T22:48:32.617Z"
   },
   {
    "duration": 4597,
    "start_time": "2023-05-28T22:48:37.119Z"
   },
   {
    "duration": 11,
    "start_time": "2023-05-28T22:48:41.720Z"
   },
   {
    "duration": 6,
    "start_time": "2023-05-28T22:48:41.733Z"
   },
   {
    "duration": 66,
    "start_time": "2023-05-28T22:48:41.741Z"
   },
   {
    "duration": 78,
    "start_time": "2023-05-28T22:48:41.810Z"
   },
   {
    "duration": 197,
    "start_time": "2023-05-28T22:48:41.893Z"
   },
   {
    "duration": 56,
    "start_time": "2023-05-28T22:48:42.100Z"
   },
   {
    "duration": 37,
    "start_time": "2023-05-28T22:48:42.163Z"
   },
   {
    "duration": 22,
    "start_time": "2023-05-28T22:48:42.202Z"
   },
   {
    "duration": 4,
    "start_time": "2023-05-28T22:48:42.227Z"
   },
   {
    "duration": 10,
    "start_time": "2023-05-28T22:48:42.232Z"
   },
   {
    "duration": 16,
    "start_time": "2023-05-28T22:48:42.244Z"
   },
   {
    "duration": 1429,
    "start_time": "2023-05-28T22:48:42.267Z"
   },
   {
    "duration": 1426,
    "start_time": "2023-05-28T22:48:43.701Z"
   },
   {
    "duration": 1336,
    "start_time": "2023-05-28T22:48:45.130Z"
   },
   {
    "duration": 1615,
    "start_time": "2023-05-29T10:03:51.892Z"
   },
   {
    "duration": 6,
    "start_time": "2023-05-29T10:03:53.515Z"
   },
   {
    "duration": 701,
    "start_time": "2023-05-29T10:03:53.523Z"
   },
   {
    "duration": 722,
    "start_time": "2023-05-29T10:03:54.238Z"
   },
   {
    "duration": 761,
    "start_time": "2023-05-29T10:03:54.962Z"
   },
   {
    "duration": 3,
    "start_time": "2023-05-29T10:03:55.724Z"
   },
   {
    "duration": 5,
    "start_time": "2023-05-29T10:03:55.728Z"
   },
   {
    "duration": 3290,
    "start_time": "2023-05-29T10:03:55.734Z"
   },
   {
    "duration": 3371,
    "start_time": "2023-05-29T10:03:59.028Z"
   },
   {
    "duration": 3619,
    "start_time": "2023-05-29T10:04:02.400Z"
   },
   {
    "duration": 17,
    "start_time": "2023-05-29T10:04:06.027Z"
   },
   {
    "duration": 17,
    "start_time": "2023-05-29T10:04:06.045Z"
   },
   {
    "duration": 61,
    "start_time": "2023-05-29T10:04:06.063Z"
   },
   {
    "duration": 183,
    "start_time": "2023-05-29T10:04:06.130Z"
   },
   {
    "duration": 106,
    "start_time": "2023-05-29T10:04:06.315Z"
   },
   {
    "duration": 6,
    "start_time": "2023-05-29T10:04:06.426Z"
   },
   {
    "duration": 80,
    "start_time": "2023-05-29T10:04:06.438Z"
   },
   {
    "duration": 12,
    "start_time": "2023-05-29T10:04:06.525Z"
   },
   {
    "duration": 3,
    "start_time": "2023-05-29T10:04:06.541Z"
   },
   {
    "duration": 5,
    "start_time": "2023-05-29T10:04:06.546Z"
   },
   {
    "duration": 64,
    "start_time": "2023-05-29T10:04:06.552Z"
   },
   {
    "duration": 1041,
    "start_time": "2023-05-29T10:04:06.620Z"
   },
   {
    "duration": 1053,
    "start_time": "2023-05-29T10:04:07.663Z"
   },
   {
    "duration": 1030,
    "start_time": "2023-05-29T10:04:08.717Z"
   },
   {
    "duration": 1633,
    "start_time": "2023-05-29T13:31:04.724Z"
   },
   {
    "duration": 3,
    "start_time": "2023-05-29T13:31:06.359Z"
   },
   {
    "duration": 970,
    "start_time": "2023-05-29T13:31:06.364Z"
   },
   {
    "duration": 708,
    "start_time": "2023-05-29T13:31:07.336Z"
   },
   {
    "duration": 662,
    "start_time": "2023-05-29T13:31:08.045Z"
   },
   {
    "duration": 3,
    "start_time": "2023-05-29T13:31:08.708Z"
   },
   {
    "duration": 4,
    "start_time": "2023-05-29T13:31:08.713Z"
   },
   {
    "duration": 3527,
    "start_time": "2023-05-29T13:31:08.718Z"
   },
   {
    "duration": 3597,
    "start_time": "2023-05-29T13:31:12.247Z"
   },
   {
    "duration": 4024,
    "start_time": "2023-05-29T13:31:15.848Z"
   },
   {
    "duration": 13,
    "start_time": "2023-05-29T13:31:19.889Z"
   },
   {
    "duration": 12,
    "start_time": "2023-05-29T13:31:19.904Z"
   },
   {
    "duration": 67,
    "start_time": "2023-05-29T13:31:19.918Z"
   },
   {
    "duration": 112,
    "start_time": "2023-05-29T13:31:19.987Z"
   },
   {
    "duration": 200,
    "start_time": "2023-05-29T13:31:20.100Z"
   },
   {
    "duration": 82,
    "start_time": "2023-05-29T13:31:20.302Z"
   },
   {
    "duration": 7,
    "start_time": "2023-05-29T13:31:20.388Z"
   },
   {
    "duration": 89,
    "start_time": "2023-05-29T13:31:20.396Z"
   },
   {
    "duration": 15,
    "start_time": "2023-05-29T13:31:20.487Z"
   },
   {
    "duration": 5,
    "start_time": "2023-05-29T13:31:20.504Z"
   },
   {
    "duration": 15,
    "start_time": "2023-05-29T13:31:20.510Z"
   },
   {
    "duration": 1120,
    "start_time": "2023-05-29T13:31:20.527Z"
   },
   {
    "duration": 1105,
    "start_time": "2023-05-29T13:31:21.649Z"
   },
   {
    "duration": 1077,
    "start_time": "2023-05-29T13:31:22.755Z"
   },
   {
    "duration": 1353,
    "start_time": "2023-05-29T13:31:49.255Z"
   },
   {
    "duration": 4,
    "start_time": "2023-05-29T13:31:50.610Z"
   },
   {
    "duration": 233,
    "start_time": "2023-05-29T13:31:50.616Z"
   },
   {
    "duration": 217,
    "start_time": "2023-05-29T13:31:50.850Z"
   },
   {
    "duration": 220,
    "start_time": "2023-05-29T13:31:51.070Z"
   },
   {
    "duration": 2,
    "start_time": "2023-05-29T13:31:51.292Z"
   },
   {
    "duration": 19,
    "start_time": "2023-05-29T13:31:51.296Z"
   },
   {
    "duration": 3450,
    "start_time": "2023-05-29T13:31:51.317Z"
   },
   {
    "duration": 3481,
    "start_time": "2023-05-29T13:31:54.768Z"
   },
   {
    "duration": 3574,
    "start_time": "2023-05-29T13:31:58.250Z"
   },
   {
    "duration": 13,
    "start_time": "2023-05-29T13:32:01.826Z"
   },
   {
    "duration": 30,
    "start_time": "2023-05-29T13:32:01.841Z"
   },
   {
    "duration": 110,
    "start_time": "2023-05-29T13:32:01.873Z"
   },
   {
    "duration": 112,
    "start_time": "2023-05-29T13:32:01.986Z"
   },
   {
    "duration": 197,
    "start_time": "2023-05-29T13:32:02.101Z"
   },
   {
    "duration": 5,
    "start_time": "2023-05-29T13:32:02.300Z"
   },
   {
    "duration": 84,
    "start_time": "2023-05-29T13:32:02.306Z"
   },
   {
    "duration": 97,
    "start_time": "2023-05-29T13:32:02.392Z"
   },
   {
    "duration": 34,
    "start_time": "2023-05-29T13:32:02.491Z"
   },
   {
    "duration": 7,
    "start_time": "2023-05-29T13:32:02.527Z"
   },
   {
    "duration": 9,
    "start_time": "2023-05-29T13:32:02.535Z"
   },
   {
    "duration": 1150,
    "start_time": "2023-05-29T13:32:02.546Z"
   },
   {
    "duration": 1088,
    "start_time": "2023-05-29T13:32:03.697Z"
   },
   {
    "duration": 1167,
    "start_time": "2023-05-29T13:32:04.793Z"
   }
  ],
  "kernelspec": {
   "display_name": "Python 3 (ipykernel)",
   "language": "python",
   "name": "python3"
  },
  "language_info": {
   "codemirror_mode": {
    "name": "ipython",
    "version": 3
   },
   "file_extension": ".py",
   "mimetype": "text/x-python",
   "name": "python",
   "nbconvert_exporter": "python",
   "pygments_lexer": "ipython3",
   "version": "3.9.17"
  },
  "toc": {
   "base_numbering": 1,
   "nav_menu": {},
   "number_sections": true,
   "sideBar": true,
   "skip_h1_title": true,
   "title_cell": "Выбор локации для скважины",
   "title_sidebar": "Contents",
   "toc_cell": true,
   "toc_position": {
    "height": "calc(100% - 180px)",
    "left": "10px",
    "top": "150px",
    "width": "374.391px"
   },
   "toc_section_display": true,
   "toc_window_display": true
  }
 },
 "nbformat": 4,
 "nbformat_minor": 4
}
