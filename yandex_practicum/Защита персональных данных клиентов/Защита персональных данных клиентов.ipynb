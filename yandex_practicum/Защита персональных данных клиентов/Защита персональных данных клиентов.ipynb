{
 "cells": [
  {
   "cell_type": "markdown",
   "metadata": {
    "toc": true
   },
   "source": [
    "<h1>Защита персональных данных клиентов<span class=\"tocSkip\"></span></h1>\n",
    "<div class=\"toc\"><ul class=\"toc-item\"><li><span><a href=\"#Описание-проекта\" data-toc-modified-id=\"Описание-проекта-1\"><span class=\"toc-item-num\">1&nbsp;&nbsp;</span>Описание проекта</a></span></li><li><span><a href=\"#Описание-данных\" data-toc-modified-id=\"Описание-данных-2\"><span class=\"toc-item-num\">2&nbsp;&nbsp;</span>Описание данных</a></span></li><li><span><a href=\"#Загрузка-данных\" data-toc-modified-id=\"Загрузка-данных-3\"><span class=\"toc-item-num\">3&nbsp;&nbsp;</span>Загрузка данных</a></span></li><li><span><a href=\"#Умножение-матриц\" data-toc-modified-id=\"Умножение-матриц-4\"><span class=\"toc-item-num\">4&nbsp;&nbsp;</span>Умножение матриц</a></span></li><li><span><a href=\"#Алгоритм-преобразования\" data-toc-modified-id=\"Алгоритм-преобразования-5\"><span class=\"toc-item-num\">5&nbsp;&nbsp;</span>Алгоритм преобразования</a></span></li><li><span><a href=\"#Проверка-алгоритма\" data-toc-modified-id=\"Проверка-алгоритма-6\"><span class=\"toc-item-num\">6&nbsp;&nbsp;</span>Проверка алгоритма</a></span><ul class=\"toc-item\"><li><span><a href=\"#Без-преобразования-признаков\" data-toc-modified-id=\"Без-преобразования-признаков-6.1\"><span class=\"toc-item-num\">6.1&nbsp;&nbsp;</span>Без преобразования признаков</a></span><ul class=\"toc-item\"><li><span><a href=\"#Признаки-в-исходном-виде\" data-toc-modified-id=\"Признаки-в-исходном-виде-6.1.1\"><span class=\"toc-item-num\">6.1.1&nbsp;&nbsp;</span>Признаки в исходном виде</a></span></li><li><span><a href=\"#Признаки-отмасштабированы\" data-toc-modified-id=\"Признаки-отмасштабированы-6.1.2\"><span class=\"toc-item-num\">6.1.2&nbsp;&nbsp;</span>Признаки отмасштабированы</a></span></li></ul></li><li><span><a href=\"#С-преобразованием-признаков\" data-toc-modified-id=\"С-преобразованием-признаков-6.2\"><span class=\"toc-item-num\">6.2&nbsp;&nbsp;</span>С преобразованием признаков</a></span><ul class=\"toc-item\"><li><span><a href=\"#Признаки-в-исходном-виде\" data-toc-modified-id=\"Признаки-в-исходном-виде-6.2.1\"><span class=\"toc-item-num\">6.2.1&nbsp;&nbsp;</span>Признаки в исходном виде</a></span></li><li><span><a href=\"#Признаки-отмасштабированы\" data-toc-modified-id=\"Признаки-отмасштабированы-6.2.2\"><span class=\"toc-item-num\">6.2.2&nbsp;&nbsp;</span>Признаки отмасштабированы</a></span></li></ul></li></ul></li><li><span><a href=\"#Общий-вывод\" data-toc-modified-id=\"Общий-вывод-7\"><span class=\"toc-item-num\">7&nbsp;&nbsp;</span>Общий вывод</a></span></li></ul></div>"
   ]
  },
  {
   "cell_type": "markdown",
   "metadata": {},
   "source": [
    "## Описание проекта"
   ]
  },
  {
   "cell_type": "markdown",
   "metadata": {},
   "source": [
    "Вам нужно защитить данные клиентов страховой компании «Хоть потоп». Разработайте такой метод преобразования данных, чтобы по ним было сложно восстановить персональную информацию. Обоснуйте корректность его работы.\n",
    "\n",
    "Нужно защитить данные, чтобы при преобразовании качество моделей машинного обучения не ухудшилось. Подбирать наилучшую модель не требуется."
   ]
  },
  {
   "cell_type": "markdown",
   "metadata": {},
   "source": [
    "## Описание данных"
   ]
  },
  {
   "cell_type": "markdown",
   "metadata": {},
   "source": [
    "* **Признаки:** пол, возраст и зарплата застрахованного, количество членов его семьи.\n",
    "* **Целевой признак:** количество страховых выплат клиенту за последние 5 лет."
   ]
  },
  {
   "cell_type": "markdown",
   "metadata": {},
   "source": [
    "## Загрузка данных"
   ]
  },
  {
   "cell_type": "code",
   "execution_count": 1,
   "metadata": {},
   "outputs": [
    {
     "name": "stdout",
     "output_type": "stream",
     "text": [
      "Requirement already satisfied: phik in /opt/conda/lib/python3.9/site-packages (0.12.3)\n",
      "Requirement already satisfied: pandas>=0.25.1 in /opt/conda/lib/python3.9/site-packages (from phik) (1.2.4)\n",
      "Requirement already satisfied: joblib>=0.14.1 in /opt/conda/lib/python3.9/site-packages (from phik) (1.1.0)\n",
      "Requirement already satisfied: scipy>=1.5.2 in /opt/conda/lib/python3.9/site-packages (from phik) (1.9.1)\n",
      "Requirement already satisfied: numpy>=1.18.0 in /opt/conda/lib/python3.9/site-packages (from phik) (1.21.1)\n",
      "Requirement already satisfied: matplotlib>=2.2.3 in /opt/conda/lib/python3.9/site-packages (from phik) (3.3.4)\n",
      "Requirement already satisfied: cycler>=0.10 in /opt/conda/lib/python3.9/site-packages (from matplotlib>=2.2.3->phik) (0.11.0)\n",
      "Requirement already satisfied: pillow>=6.2.0 in /opt/conda/lib/python3.9/site-packages (from matplotlib>=2.2.3->phik) (8.4.0)\n",
      "Requirement already satisfied: python-dateutil>=2.1 in /opt/conda/lib/python3.9/site-packages (from matplotlib>=2.2.3->phik) (2.8.1)\n",
      "Requirement already satisfied: pyparsing!=2.0.4,!=2.1.2,!=2.1.6,>=2.0.3 in /opt/conda/lib/python3.9/site-packages (from matplotlib>=2.2.3->phik) (2.4.7)\n",
      "Requirement already satisfied: kiwisolver>=1.0.1 in /opt/conda/lib/python3.9/site-packages (from matplotlib>=2.2.3->phik) (1.4.4)\n",
      "Requirement already satisfied: pytz>=2017.3 in /opt/conda/lib/python3.9/site-packages (from pandas>=0.25.1->phik) (2021.1)\n",
      "Requirement already satisfied: six>=1.5 in /opt/conda/lib/python3.9/site-packages (from python-dateutil>=2.1->matplotlib>=2.2.3->phik) (1.16.0)\n",
      "Note: you may need to restart the kernel to use updated packages.\n"
     ]
    }
   ],
   "source": [
    "pip install phik"
   ]
  },
  {
   "cell_type": "code",
   "execution_count": 2,
   "metadata": {},
   "outputs": [],
   "source": [
    "import numpy as np\n",
    "import pandas as pd\n",
    "import matplotlib.pyplot as plt\n",
    "import seaborn as sns\n",
    "import phik\n",
    "from sklearn.metrics import r2_score\n",
    "from sklearn.linear_model import LinearRegression\n",
    "from sklearn.model_selection import train_test_split\n",
    "from sklearn.preprocessing import StandardScaler"
   ]
  },
  {
   "cell_type": "code",
   "execution_count": 3,
   "metadata": {},
   "outputs": [],
   "source": [
    "df = pd.read_csv('/datasets/insurance.csv')"
   ]
  },
  {
   "cell_type": "code",
   "execution_count": 4,
   "metadata": {},
   "outputs": [
    {
     "data": {
      "text/html": [
       "<div>\n",
       "<style scoped>\n",
       "    .dataframe tbody tr th:only-of-type {\n",
       "        vertical-align: middle;\n",
       "    }\n",
       "\n",
       "    .dataframe tbody tr th {\n",
       "        vertical-align: top;\n",
       "    }\n",
       "\n",
       "    .dataframe thead th {\n",
       "        text-align: right;\n",
       "    }\n",
       "</style>\n",
       "<table border=\"1\" class=\"dataframe\">\n",
       "  <thead>\n",
       "    <tr style=\"text-align: right;\">\n",
       "      <th></th>\n",
       "      <th>Пол</th>\n",
       "      <th>Возраст</th>\n",
       "      <th>Зарплата</th>\n",
       "      <th>Члены семьи</th>\n",
       "      <th>Страховые выплаты</th>\n",
       "    </tr>\n",
       "  </thead>\n",
       "  <tbody>\n",
       "    <tr>\n",
       "      <th>0</th>\n",
       "      <td>1</td>\n",
       "      <td>41.0</td>\n",
       "      <td>49600.0</td>\n",
       "      <td>1</td>\n",
       "      <td>0</td>\n",
       "    </tr>\n",
       "    <tr>\n",
       "      <th>1</th>\n",
       "      <td>0</td>\n",
       "      <td>46.0</td>\n",
       "      <td>38000.0</td>\n",
       "      <td>1</td>\n",
       "      <td>1</td>\n",
       "    </tr>\n",
       "    <tr>\n",
       "      <th>2</th>\n",
       "      <td>0</td>\n",
       "      <td>29.0</td>\n",
       "      <td>21000.0</td>\n",
       "      <td>0</td>\n",
       "      <td>0</td>\n",
       "    </tr>\n",
       "    <tr>\n",
       "      <th>3</th>\n",
       "      <td>0</td>\n",
       "      <td>21.0</td>\n",
       "      <td>41700.0</td>\n",
       "      <td>2</td>\n",
       "      <td>0</td>\n",
       "    </tr>\n",
       "    <tr>\n",
       "      <th>4</th>\n",
       "      <td>1</td>\n",
       "      <td>28.0</td>\n",
       "      <td>26100.0</td>\n",
       "      <td>0</td>\n",
       "      <td>0</td>\n",
       "    </tr>\n",
       "    <tr>\n",
       "      <th>5</th>\n",
       "      <td>1</td>\n",
       "      <td>43.0</td>\n",
       "      <td>41000.0</td>\n",
       "      <td>2</td>\n",
       "      <td>1</td>\n",
       "    </tr>\n",
       "    <tr>\n",
       "      <th>6</th>\n",
       "      <td>1</td>\n",
       "      <td>39.0</td>\n",
       "      <td>39700.0</td>\n",
       "      <td>2</td>\n",
       "      <td>0</td>\n",
       "    </tr>\n",
       "    <tr>\n",
       "      <th>7</th>\n",
       "      <td>1</td>\n",
       "      <td>25.0</td>\n",
       "      <td>38600.0</td>\n",
       "      <td>4</td>\n",
       "      <td>0</td>\n",
       "    </tr>\n",
       "    <tr>\n",
       "      <th>8</th>\n",
       "      <td>1</td>\n",
       "      <td>36.0</td>\n",
       "      <td>49700.0</td>\n",
       "      <td>1</td>\n",
       "      <td>0</td>\n",
       "    </tr>\n",
       "    <tr>\n",
       "      <th>9</th>\n",
       "      <td>1</td>\n",
       "      <td>32.0</td>\n",
       "      <td>51700.0</td>\n",
       "      <td>1</td>\n",
       "      <td>0</td>\n",
       "    </tr>\n",
       "  </tbody>\n",
       "</table>\n",
       "</div>"
      ],
      "text/plain": [
       "   Пол  Возраст  Зарплата  Члены семьи  Страховые выплаты\n",
       "0    1     41.0   49600.0            1                  0\n",
       "1    0     46.0   38000.0            1                  1\n",
       "2    0     29.0   21000.0            0                  0\n",
       "3    0     21.0   41700.0            2                  0\n",
       "4    1     28.0   26100.0            0                  0\n",
       "5    1     43.0   41000.0            2                  1\n",
       "6    1     39.0   39700.0            2                  0\n",
       "7    1     25.0   38600.0            4                  0\n",
       "8    1     36.0   49700.0            1                  0\n",
       "9    1     32.0   51700.0            1                  0"
      ]
     },
     "execution_count": 4,
     "metadata": {},
     "output_type": "execute_result"
    }
   ],
   "source": [
    "df.head(10)"
   ]
  },
  {
   "cell_type": "code",
   "execution_count": 5,
   "metadata": {},
   "outputs": [
    {
     "name": "stdout",
     "output_type": "stream",
     "text": [
      "<class 'pandas.core.frame.DataFrame'>\n",
      "RangeIndex: 5000 entries, 0 to 4999\n",
      "Data columns (total 5 columns):\n",
      " #   Column             Non-Null Count  Dtype  \n",
      "---  ------             --------------  -----  \n",
      " 0   Пол                5000 non-null   int64  \n",
      " 1   Возраст            5000 non-null   float64\n",
      " 2   Зарплата           5000 non-null   float64\n",
      " 3   Члены семьи        5000 non-null   int64  \n",
      " 4   Страховые выплаты  5000 non-null   int64  \n",
      "dtypes: float64(2), int64(3)\n",
      "memory usage: 195.4 KB\n"
     ]
    }
   ],
   "source": [
    "df.info()"
   ]
  },
  {
   "cell_type": "code",
   "execution_count": 6,
   "metadata": {},
   "outputs": [
    {
     "data": {
      "text/html": [
       "<div>\n",
       "<style scoped>\n",
       "    .dataframe tbody tr th:only-of-type {\n",
       "        vertical-align: middle;\n",
       "    }\n",
       "\n",
       "    .dataframe tbody tr th {\n",
       "        vertical-align: top;\n",
       "    }\n",
       "\n",
       "    .dataframe thead th {\n",
       "        text-align: right;\n",
       "    }\n",
       "</style>\n",
       "<table border=\"1\" class=\"dataframe\">\n",
       "  <thead>\n",
       "    <tr style=\"text-align: right;\">\n",
       "      <th></th>\n",
       "      <th>Пол</th>\n",
       "      <th>Возраст</th>\n",
       "      <th>Зарплата</th>\n",
       "      <th>Члены семьи</th>\n",
       "      <th>Страховые выплаты</th>\n",
       "    </tr>\n",
       "  </thead>\n",
       "  <tbody>\n",
       "    <tr>\n",
       "      <th>count</th>\n",
       "      <td>5000.000000</td>\n",
       "      <td>5000.000000</td>\n",
       "      <td>5000.000000</td>\n",
       "      <td>5000.000000</td>\n",
       "      <td>5000.000000</td>\n",
       "    </tr>\n",
       "    <tr>\n",
       "      <th>mean</th>\n",
       "      <td>0.499000</td>\n",
       "      <td>30.952800</td>\n",
       "      <td>39916.360000</td>\n",
       "      <td>1.194200</td>\n",
       "      <td>0.148000</td>\n",
       "    </tr>\n",
       "    <tr>\n",
       "      <th>std</th>\n",
       "      <td>0.500049</td>\n",
       "      <td>8.440807</td>\n",
       "      <td>9900.083569</td>\n",
       "      <td>1.091387</td>\n",
       "      <td>0.463183</td>\n",
       "    </tr>\n",
       "    <tr>\n",
       "      <th>min</th>\n",
       "      <td>0.000000</td>\n",
       "      <td>18.000000</td>\n",
       "      <td>5300.000000</td>\n",
       "      <td>0.000000</td>\n",
       "      <td>0.000000</td>\n",
       "    </tr>\n",
       "    <tr>\n",
       "      <th>25%</th>\n",
       "      <td>0.000000</td>\n",
       "      <td>24.000000</td>\n",
       "      <td>33300.000000</td>\n",
       "      <td>0.000000</td>\n",
       "      <td>0.000000</td>\n",
       "    </tr>\n",
       "    <tr>\n",
       "      <th>50%</th>\n",
       "      <td>0.000000</td>\n",
       "      <td>30.000000</td>\n",
       "      <td>40200.000000</td>\n",
       "      <td>1.000000</td>\n",
       "      <td>0.000000</td>\n",
       "    </tr>\n",
       "    <tr>\n",
       "      <th>75%</th>\n",
       "      <td>1.000000</td>\n",
       "      <td>37.000000</td>\n",
       "      <td>46600.000000</td>\n",
       "      <td>2.000000</td>\n",
       "      <td>0.000000</td>\n",
       "    </tr>\n",
       "    <tr>\n",
       "      <th>max</th>\n",
       "      <td>1.000000</td>\n",
       "      <td>65.000000</td>\n",
       "      <td>79000.000000</td>\n",
       "      <td>6.000000</td>\n",
       "      <td>5.000000</td>\n",
       "    </tr>\n",
       "  </tbody>\n",
       "</table>\n",
       "</div>"
      ],
      "text/plain": [
       "               Пол      Возраст      Зарплата  Члены семьи  Страховые выплаты\n",
       "count  5000.000000  5000.000000   5000.000000  5000.000000        5000.000000\n",
       "mean      0.499000    30.952800  39916.360000     1.194200           0.148000\n",
       "std       0.500049     8.440807   9900.083569     1.091387           0.463183\n",
       "min       0.000000    18.000000   5300.000000     0.000000           0.000000\n",
       "25%       0.000000    24.000000  33300.000000     0.000000           0.000000\n",
       "50%       0.000000    30.000000  40200.000000     1.000000           0.000000\n",
       "75%       1.000000    37.000000  46600.000000     2.000000           0.000000\n",
       "max       1.000000    65.000000  79000.000000     6.000000           5.000000"
      ]
     },
     "execution_count": 6,
     "metadata": {},
     "output_type": "execute_result"
    }
   ],
   "source": [
    "df.describe()"
   ]
  },
  {
   "cell_type": "code",
   "execution_count": 7,
   "metadata": {},
   "outputs": [],
   "source": [
    "# преобразование типов данных\n",
    "df[['Пол','Возраст','Члены семьи', 'Страховые выплаты']] = \\\n",
    "df[['Пол','Возраст','Члены семьи', 'Страховые выплаты']].astype('int8')"
   ]
  },
  {
   "cell_type": "code",
   "execution_count": 8,
   "metadata": {},
   "outputs": [
    {
     "data": {
      "text/plain": [
       "153"
      ]
     },
     "execution_count": 8,
     "metadata": {},
     "output_type": "execute_result"
    }
   ],
   "source": [
    "# проверка на дубликаты\n",
    "df.duplicated().sum()"
   ]
  },
  {
   "cell_type": "code",
   "execution_count": 9,
   "metadata": {},
   "outputs": [],
   "source": [
    "df = df.drop_duplicates()"
   ]
  },
  {
   "cell_type": "code",
   "execution_count": 10,
   "metadata": {},
   "outputs": [
    {
     "name": "stdout",
     "output_type": "stream",
     "text": [
      "<class 'pandas.core.frame.DataFrame'>\n",
      "Int64Index: 4847 entries, 0 to 4999\n",
      "Data columns (total 5 columns):\n",
      " #   Column             Non-Null Count  Dtype  \n",
      "---  ------             --------------  -----  \n",
      " 0   Пол                4847 non-null   int8   \n",
      " 1   Возраст            4847 non-null   int8   \n",
      " 2   Зарплата           4847 non-null   float64\n",
      " 3   Члены семьи        4847 non-null   int8   \n",
      " 4   Страховые выплаты  4847 non-null   int8   \n",
      "dtypes: float64(1), int8(4)\n",
      "memory usage: 94.7 KB\n"
     ]
    }
   ],
   "source": [
    "df.info()"
   ]
  },
  {
   "cell_type": "code",
   "execution_count": 11,
   "metadata": {},
   "outputs": [
    {
     "data": {
      "image/png": "[encoded data removed]",
      "text/plain": [
       "<Figure size 360x360 with 1 Axes>"
      ]
     },
     "metadata": {},
     "output_type": "display_data"
    }
   ],
   "source": [
    "df['Пол'].value_counts().plot(kind='pie', figsize=(5,5), autopct='%.2f%%')\n",
    "plt.title('Распределение клиентов по половому признаку', fontsize=16);"
   ]
  },
  {
   "cell_type": "code",
   "execution_count": 12,
   "metadata": {},
   "outputs": [
    {
     "data": {
      "image/png": "[encoded data removed]",
      "text/plain": [
       "<Figure size 576x432 with 1 Axes>"
      ]
     },
     "metadata": {
      "needs_background": "light"
     },
     "output_type": "display_data"
    }
   ],
   "source": [
    "df.groupby('Члены семьи')['Члены семьи'].count().plot(kind='bar', grid=True, rot=0, figsize=(8,6))\n",
    "plt.title('Распределение клиентов по количеству членов семьи', fontsize=16);"
   ]
  },
  {
   "cell_type": "code",
   "execution_count": 13,
   "metadata": {},
   "outputs": [
    {
     "data": {
      "image/png": "[encoded data removed]",
      "text/plain": [
       "<Figure size 576x432 with 1 Axes>"
      ]
     },
     "metadata": {
      "needs_background": "light"
     },
     "output_type": "display_data"
    }
   ],
   "source": [
    "df.groupby('Страховые выплаты')['Страховые выплаты'].count().plot(kind='bar', grid=True, rot=0, figsize=(8,6))\n",
    "plt.title('Распределение клиентов по количеству страховых выплат', fontsize=16);"
   ]
  },
  {
   "cell_type": "code",
   "execution_count": 14,
   "metadata": {},
   "outputs": [
    {
     "data": {
      "image/png": "[encoded data removed]",
      "text/plain": [
       "<Figure size 1224x576 with 2 Axes>"
      ]
     },
     "metadata": {
      "needs_background": "light"
     },
     "output_type": "display_data"
    }
   ],
   "source": [
    "df[['Возраст','Зарплата']].hist(bins=50, figsize=(17,8));"
   ]
  },
  {
   "cell_type": "code",
   "execution_count": 15,
   "metadata": {},
   "outputs": [
    {
     "data": {
      "image/png": "[encoded data removed]",
      "text/plain": [
       "<Figure size 1152x144 with 1 Axes>"
      ]
     },
     "metadata": {
      "needs_background": "light"
     },
     "output_type": "display_data"
    }
   ],
   "source": [
    "df['Возраст'].plot(kind='box',vert=False, grid=True, figsize=(16,2));"
   ]
  },
  {
   "cell_type": "code",
   "execution_count": 16,
   "metadata": {},
   "outputs": [
    {
     "data": {
      "image/png": "[encoded data removed]",
      "text/plain": [
       "<Figure size 1152x144 with 1 Axes>"
      ]
     },
     "metadata": {
      "needs_background": "light"
     },
     "output_type": "display_data"
    }
   ],
   "source": [
    "df['Зарплата'].plot(kind='box',vert=False, grid=True, figsize=(16,2));"
   ]
  },
  {
   "cell_type": "code",
   "execution_count": 17,
   "metadata": {},
   "outputs": [
    {
     "data": {
      "text/html": [
       "<div>\n",
       "<style scoped>\n",
       "    .dataframe tbody tr th:only-of-type {\n",
       "        vertical-align: middle;\n",
       "    }\n",
       "\n",
       "    .dataframe tbody tr th {\n",
       "        vertical-align: top;\n",
       "    }\n",
       "\n",
       "    .dataframe thead th {\n",
       "        text-align: right;\n",
       "    }\n",
       "</style>\n",
       "<table border=\"1\" class=\"dataframe\">\n",
       "  <thead>\n",
       "    <tr style=\"text-align: right;\">\n",
       "      <th></th>\n",
       "      <th>Пол</th>\n",
       "      <th>Возраст</th>\n",
       "      <th>Зарплата</th>\n",
       "      <th>Члены семьи</th>\n",
       "      <th>Страховые выплаты</th>\n",
       "    </tr>\n",
       "  </thead>\n",
       "  <tbody>\n",
       "    <tr>\n",
       "      <th>Пол</th>\n",
       "      <td>1.000000</td>\n",
       "      <td>0.001953</td>\n",
       "      <td>0.015456</td>\n",
       "      <td>-0.007315</td>\n",
       "      <td>0.011565</td>\n",
       "    </tr>\n",
       "    <tr>\n",
       "      <th>Возраст</th>\n",
       "      <td>0.001953</td>\n",
       "      <td>1.000000</td>\n",
       "      <td>-0.017386</td>\n",
       "      <td>-0.009064</td>\n",
       "      <td>0.654964</td>\n",
       "    </tr>\n",
       "    <tr>\n",
       "      <th>Зарплата</th>\n",
       "      <td>0.015456</td>\n",
       "      <td>-0.017386</td>\n",
       "      <td>1.000000</td>\n",
       "      <td>-0.031687</td>\n",
       "      <td>-0.013123</td>\n",
       "    </tr>\n",
       "    <tr>\n",
       "      <th>Члены семьи</th>\n",
       "      <td>-0.007315</td>\n",
       "      <td>-0.009064</td>\n",
       "      <td>-0.031687</td>\n",
       "      <td>1.000000</td>\n",
       "      <td>-0.039303</td>\n",
       "    </tr>\n",
       "    <tr>\n",
       "      <th>Страховые выплаты</th>\n",
       "      <td>0.011565</td>\n",
       "      <td>0.654964</td>\n",
       "      <td>-0.013123</td>\n",
       "      <td>-0.039303</td>\n",
       "      <td>1.000000</td>\n",
       "    </tr>\n",
       "  </tbody>\n",
       "</table>\n",
       "</div>"
      ],
      "text/plain": [
       "                        Пол   Возраст  Зарплата  Члены семьи  \\\n",
       "Пол                1.000000  0.001953  0.015456    -0.007315   \n",
       "Возраст            0.001953  1.000000 -0.017386    -0.009064   \n",
       "Зарплата           0.015456 -0.017386  1.000000    -0.031687   \n",
       "Члены семьи       -0.007315 -0.009064 -0.031687     1.000000   \n",
       "Страховые выплаты  0.011565  0.654964 -0.013123    -0.039303   \n",
       "\n",
       "                   Страховые выплаты  \n",
       "Пол                         0.011565  \n",
       "Возраст                     0.654964  \n",
       "Зарплата                   -0.013123  \n",
       "Члены семьи                -0.039303  \n",
       "Страховые выплаты           1.000000  "
      ]
     },
     "execution_count": 17,
     "metadata": {},
     "output_type": "execute_result"
    }
   ],
   "source": [
    "df.corr()"
   ]
  },
  {
   "cell_type": "code",
   "execution_count": 18,
   "metadata": {},
   "outputs": [
    {
     "data": {
      "image/png": "[encoded data removed]",
      "text/plain": [
       "<Figure size 432x288 with 2 Axes>"
      ]
     },
     "metadata": {
      "needs_background": "light"
     },
     "output_type": "display_data"
    }
   ],
   "source": [
    "sns.heatmap(df.corr(), cmap='coolwarm', annot=True)\n",
    "plt.xticks(rotation=45);"
   ]
  },
  {
   "cell_type": "code",
   "execution_count": 19,
   "metadata": {},
   "outputs": [
    {
     "name": "stdout",
     "output_type": "stream",
     "text": [
      "interval columns not set, guessing: ['Пол', 'Возраст', 'Зарплата', 'Члены семьи', 'Страховые выплаты']\n"
     ]
    },
    {
     "data": {
      "text/html": [
       "<div>\n",
       "<style scoped>\n",
       "    .dataframe tbody tr th:only-of-type {\n",
       "        vertical-align: middle;\n",
       "    }\n",
       "\n",
       "    .dataframe tbody tr th {\n",
       "        vertical-align: top;\n",
       "    }\n",
       "\n",
       "    .dataframe thead th {\n",
       "        text-align: right;\n",
       "    }\n",
       "</style>\n",
       "<table border=\"1\" class=\"dataframe\">\n",
       "  <thead>\n",
       "    <tr style=\"text-align: right;\">\n",
       "      <th></th>\n",
       "      <th>Пол</th>\n",
       "      <th>Возраст</th>\n",
       "      <th>Зарплата</th>\n",
       "      <th>Члены семьи</th>\n",
       "      <th>Страховые выплаты</th>\n",
       "    </tr>\n",
       "  </thead>\n",
       "  <tbody>\n",
       "    <tr>\n",
       "      <th>Пол</th>\n",
       "      <td>1.000000</td>\n",
       "      <td>0.000000</td>\n",
       "      <td>0.000000</td>\n",
       "      <td>0.0</td>\n",
       "      <td>0.035338</td>\n",
       "    </tr>\n",
       "    <tr>\n",
       "      <th>Возраст</th>\n",
       "      <td>0.000000</td>\n",
       "      <td>1.000000</td>\n",
       "      <td>0.065398</td>\n",
       "      <td>0.0</td>\n",
       "      <td>0.884910</td>\n",
       "    </tr>\n",
       "    <tr>\n",
       "      <th>Зарплата</th>\n",
       "      <td>0.000000</td>\n",
       "      <td>0.065398</td>\n",
       "      <td>1.000000</td>\n",
       "      <td>0.0</td>\n",
       "      <td>0.000000</td>\n",
       "    </tr>\n",
       "    <tr>\n",
       "      <th>Члены семьи</th>\n",
       "      <td>0.000000</td>\n",
       "      <td>0.000000</td>\n",
       "      <td>0.000000</td>\n",
       "      <td>1.0</td>\n",
       "      <td>0.000000</td>\n",
       "    </tr>\n",
       "    <tr>\n",
       "      <th>Страховые выплаты</th>\n",
       "      <td>0.035338</td>\n",
       "      <td>0.884910</td>\n",
       "      <td>0.000000</td>\n",
       "      <td>0.0</td>\n",
       "      <td>1.000000</td>\n",
       "    </tr>\n",
       "  </tbody>\n",
       "</table>\n",
       "</div>"
      ],
      "text/plain": [
       "                        Пол   Возраст  Зарплата  Члены семьи  \\\n",
       "Пол                1.000000  0.000000  0.000000          0.0   \n",
       "Возраст            0.000000  1.000000  0.065398          0.0   \n",
       "Зарплата           0.000000  0.065398  1.000000          0.0   \n",
       "Члены семьи        0.000000  0.000000  0.000000          1.0   \n",
       "Страховые выплаты  0.035338  0.884910  0.000000          0.0   \n",
       "\n",
       "                   Страховые выплаты  \n",
       "Пол                         0.035338  \n",
       "Возраст                     0.884910  \n",
       "Зарплата                    0.000000  \n",
       "Члены семьи                 0.000000  \n",
       "Страховые выплаты           1.000000  "
      ]
     },
     "execution_count": 19,
     "metadata": {},
     "output_type": "execute_result"
    }
   ],
   "source": [
    "df.phik_matrix()"
   ]
  },
  {
   "cell_type": "code",
   "execution_count": 20,
   "metadata": {},
   "outputs": [
    {
     "name": "stdout",
     "output_type": "stream",
     "text": [
      "interval columns not set, guessing: ['Пол', 'Возраст', 'Зарплата', 'Члены семьи', 'Страховые выплаты']\n"
     ]
    },
    {
     "data": {
      "image/png": "[encoded data removed]",
      "text/plain": [
       "<Figure size 432x288 with 2 Axes>"
      ]
     },
     "metadata": {
      "needs_background": "light"
     },
     "output_type": "display_data"
    }
   ],
   "source": [
    "sns.heatmap(df.phik_matrix(), cmap='coolwarm', annot=True)\n",
    "plt.xticks(rotation=45);"
   ]
  },
  {
   "cell_type": "code",
   "execution_count": 21,
   "metadata": {},
   "outputs": [],
   "source": [
    "features = df.drop('Страховые выплаты', axis=1)\n",
    "target = df['Страховые выплаты']"
   ]
  },
  {
   "cell_type": "code",
   "execution_count": 22,
   "metadata": {},
   "outputs": [
    {
     "name": "stdout",
     "output_type": "stream",
     "text": [
      "(4847, 4)\n"
     ]
    },
    {
     "data": {
      "text/plain": [
       "(4847,)"
      ]
     },
     "execution_count": 22,
     "metadata": {},
     "output_type": "execute_result"
    }
   ],
   "source": [
    "print(features.shape)\n",
    "target.shape"
   ]
  },
  {
   "cell_type": "markdown",
   "metadata": {},
   "source": [
    "<div style=\"background-color:black; color:#ffffff; text-align:left; padding:2%\">\n",
    "\n",
    "**Вывод по разделу:**\n",
    "\n",
    "* Данные загружены, изменены типы данных для экономии памяти, удалены дубликаты.\n",
    "* Проверены распределения данных. В некоторых столбцах есть небольшие выбросы.\n",
    "* Проверена корреляция признаков. Наибольшая взаимосвязь у количества страховых выплат с возрастом и полом клиентов.\n",
    "* Созданы признаки и целевой признак."
   ]
  },
  {
   "cell_type": "markdown",
   "metadata": {},
   "source": [
    "## Умножение матриц"
   ]
  },
  {
   "cell_type": "markdown",
   "metadata": {},
   "source": [
    "Обозначения:\n",
    "\n",
    "- $X$ — матрица признаков (нулевой столбец состоит из единиц)\n",
    "\n",
    "- $y$ — вектор целевого признака\n",
    "\n",
    "- $P$ — матрица, на которую умножаются признаки\n",
    "\n",
    "- $w$ — вектор весов линейной регрессии (нулевой элемент равен сдвигу)"
   ]
  },
  {
   "cell_type": "markdown",
   "metadata": {},
   "source": [
    "Предсказания:\n",
    "\n",
    "$$\n",
    "a = Xw\n",
    "$$\n",
    "\n",
    "Задача обучения:\n",
    "\n",
    "$$\n",
    "w = \\arg\\min_w MSE(Xw, y)\n",
    "$$\n",
    "\n",
    "Формула обучения:\n",
    "\n",
    "$$\n",
    "w = (X^T X)^{-1} X^T y\n",
    "$$"
   ]
  },
  {
   "cell_type": "markdown",
   "metadata": {},
   "source": [
    "**Вопрос:** Признаки умножают на обратимую матрицу. Изменится ли качество линейной регрессии?\n",
    "\n",
    "**Ответ:** не изменится.\n",
    "\n",
    "**Обоснование:** \n",
    "\n",
    "Для краткости записи обозначим умножение матрицы $X$ признаков на обратимую матрицу $P$ буквой $Z$:\n",
    "\n",
    "$$\n",
    "Z = XP\n",
    "$$\n",
    "\n",
    "Предсказания:\n",
    "\n",
    "$$\n",
    "a_1 = Zw_1\n",
    "$$\n",
    "\n",
    "Формула обучения:\n",
    "\n",
    "$$\n",
    "w_1 = (Z^T Z)^{-1} Z^T y\n",
    "$$\n",
    "\n",
    "Подставляем $w_1$:\n",
    "\n",
    "$$\n",
    "a_1 = Z(Z^T Z)^{-1} Z^T y\n",
    "$$\n",
    "\n",
    "Раскрываем уравнение:\n",
    "$$\n",
    "a_1 = (XP)((XP)^T (XP))^{-1} (XP)^T y\n",
    "$$\n",
    "\n",
    "Свойство транспонирования матриц:\n",
    "$$\n",
    "(AB)^T = B^T A^T\n",
    "$$\n",
    "Свойство невырожденных квадратных матриц:\n",
    "$$\n",
    "(AB)^{-1} = B^{-1} A^{-1}\n",
    "$$\n",
    "\n",
    "Докажем равенство $a = a_1$:\n",
    "\n",
    "$$\n",
    "X(X^T X)^{-1} X^T y = XP((XP)^T (XP))^{-1} (XP)^T y\n",
    "$$\n",
    "\n",
    "$$\n",
    "X(X^T X)^{-1} X^T y = XP(XP)^{-1} ((XP)^T)^{-1} (XP)^T y\n",
    "$$\n",
    "\n",
    "$$\n",
    "X(X^T X)^{-1} X^T y = XPP^{-1} (X^T X)^{-1} (P^T)^{-1} P^T X^T y\n",
    "$$\n",
    "\n",
    "$PP^{-1} = E$ и $P^T (P^T)^{-1} = E$. Умножение на единичную матрицу ничего не меняет. Сокращаем лишнее:\n",
    "\n",
    "$$\n",
    "X(X^T X)^{-1} X^T y = XE (X^T X)^{-1} EX^T y\n",
    "$$\n",
    "\n",
    "$$\n",
    "X(X^T X)^{-1} X^T y = X(X^T X)^{-1} X^T y\n",
    "$$\n",
    "\n",
    "**Вывод:**\n",
    "Как видим, $a$ осталось неизменным.\n",
    "\n",
    "**Вопрос:** как связаны параметры линейной регрессии в исходной задаче и в преобразованной?\n",
    "\n",
    "**Ответ:**\n",
    "\n",
    "$$\n",
    "w = (X^T X)^{-1} X^T y\n",
    "$$  \n",
    "    \n",
    "$$\n",
    "w_1 = ((XP)^T XP)^{-1} (XP)^T y\n",
    "$$ \n",
    "\n",
    "$$\n",
    "w_1 = ((XP)^T XP)^{-1} (XP)^T y = (XP)^{-1} ((XP)^T)^{-1} P^T X^T y = (XP)^{-1} (P^T X^T)^{-1} P^T X^T y = \n",
    "$$\n",
    "\n",
    "$$\n",
    "= P^{-1} (X^T X)^{-1} (P^T)^{-1} P^T X^T y = P^{-1} (X^T X)^{-1} EX^T y = P^{-1} (X^T X)^{-1} X^T y\n",
    "$$\n",
    "\n",
    "$$\n",
    "\\frac{w_1}{w} = \\frac{P^{-1} (X^T X)^{-1} X^T y} {(X^T X)^{-1} X^T y} = P^{-1}\n",
    "$$"
   ]
  },
  {
   "cell_type": "markdown",
   "metadata": {},
   "source": [
    "<div style=\"background-color:black; color:#ffffff; text-align:left; padding:2%\">\n",
    "\n",
    "Проверим коэффициенты, получаемые в линейной регрессии и по формуле."
   ]
  },
  {
   "cell_type": "code",
   "execution_count": 23,
   "metadata": {},
   "outputs": [
    {
     "data": {
      "text/plain": [
       "array([ 9.46018141e-03,  3.61640081e-02, -1.38991363e-07, -1.42517371e-02])"
      ]
     },
     "execution_count": 23,
     "metadata": {},
     "output_type": "execute_result"
    }
   ],
   "source": [
    "model = LinearRegression()\n",
    "model.fit(features, target)\n",
    "model.coef_"
   ]
  },
  {
   "cell_type": "code",
   "execution_count": 24,
   "metadata": {},
   "outputs": [
    {
     "data": {
      "text/plain": [
       "array([ 9.46018141e-03,  3.61640081e-02, -1.38991363e-07, -1.42517371e-02])"
      ]
     },
     "execution_count": 24,
     "metadata": {},
     "output_type": "execute_result"
    }
   ],
   "source": [
    "X = np.concatenate((np.ones((features.shape[0], 1)), features), axis=1)\n",
    "y = target\n",
    "w = np.linalg.inv(X.T.dot(X)).dot(X.T).dot(y)\n",
    "w[1:]"
   ]
  },
  {
   "cell_type": "markdown",
   "metadata": {},
   "source": [
    "<div style=\"background-color:black; color:#ffffff; text-align:left; padding:2%\">\n",
    "\n",
    "**Вывод по разделу:**\n",
    "    \n",
    "Приведено доказательство того, что умножение признаков на обратимую матрицу не влияет на обучение. Коэффициенты, получаемые в линейной регрессии и по формуле, совпадают."
   ]
  },
  {
   "cell_type": "markdown",
   "metadata": {},
   "source": [
    "## Алгоритм преобразования"
   ]
  },
  {
   "cell_type": "markdown",
   "metadata": {},
   "source": [
    "<div style=\"background-color:black; color:#ffffff; text-align:left; padding:2%\">\n",
    "\n",
    "Я правильно понял, что тут надо расписать алгоритм из прошлого пункта?"
   ]
  },
  {
   "cell_type": "markdown",
   "metadata": {},
   "source": [
    "**Алгоритм**\n",
    "\n",
    "1. Составляем случайную матрицу $P$ размером $n\\times n$, где $n$ - количество признаков.\n",
    "2. Проверяем обратима ли матрица $P$ . Для этого её детерминант должен быть не равен 0. Если детерминант равен 0, то составляем новую матрицу до тех пор, пока получим нужную.\n",
    "3. Преобразуем признаки умножением на обратимую матрицу, получаем $Z = XP$.\n",
    "4. Применяем алгоритм на преобразованных признаках."
   ]
  },
  {
   "cell_type": "markdown",
   "metadata": {},
   "source": [
    "**Обоснование**\n",
    "\n",
    "Применение данного алгоритма имеет смысл, т.к. он не влияет на модель (см. доказательство в п. 4). "
   ]
  },
  {
   "cell_type": "markdown",
   "metadata": {},
   "source": [
    "<div style=\"background-color:black; color:#ffffff; text-align:left; padding:2%\">\n",
    "\n",
    "**Вывод по разделу:**\n",
    "    \n",
    "Описан алгоритм преобразования."
   ]
  },
  {
   "cell_type": "markdown",
   "metadata": {},
   "source": [
    "## Проверка алгоритма"
   ]
  },
  {
   "cell_type": "code",
   "execution_count": 25,
   "metadata": {},
   "outputs": [],
   "source": [
    "features_train, features_valid, target_train, target_valid = train_test_split(\n",
    "    features, target, test_size=0.25, random_state=42)"
   ]
  },
  {
   "cell_type": "markdown",
   "metadata": {},
   "source": [
    "<div style=\"background-color:black; color:#ffffff; text-align:left; padding:2%\">\n",
    "\n",
    "Проверим модель на 4 вариантах данных:\n",
    "1. Без преобразования признаков:\n",
    "    1.1. В исходном виде;\n",
    "    1.2. Отмасштабированныхl\n",
    "2. С преобразованными признаками:\n",
    "    2.1. В исходном виде;\n",
    "    2.2. Отмасштабированными. "
   ]
  },
  {
   "cell_type": "markdown",
   "metadata": {},
   "source": [
    "### Без преобразования признаков"
   ]
  },
  {
   "cell_type": "markdown",
   "metadata": {},
   "source": [
    "#### Признаки в исходном виде"
   ]
  },
  {
   "cell_type": "code",
   "execution_count": 26,
   "metadata": {},
   "outputs": [
    {
     "name": "stdout",
     "output_type": "stream",
     "text": [
      "Коэффициенты w: [-2.21584488e-04  3.55031492e-02  2.91658179e-07 -1.57513454e-02]\n",
      "R2 = 0.44346\n"
     ]
    }
   ],
   "source": [
    "model = LinearRegression()\n",
    "model.fit(features_train, target_train)\n",
    "print('Коэффициенты w:', model.coef_)\n",
    "print(f'R2 = {r2_score(target_valid, model.predict(features_valid)):.5f}')"
   ]
  },
  {
   "cell_type": "markdown",
   "metadata": {},
   "source": [
    "#### Признаки отмасштабированы"
   ]
  },
  {
   "cell_type": "code",
   "execution_count": 27,
   "metadata": {},
   "outputs": [
    {
     "name": "stdout",
     "output_type": "stream",
     "text": [
      "Коэффициенты w: [-1.10792206e-04  2.99943692e-01  2.94043920e-03 -1.74839609e-02]\n",
      "R2 = 0.44346\n"
     ]
    }
   ],
   "source": [
    "scaler = StandardScaler()\n",
    "scaler.fit(features_train)\n",
    "col = features_train.columns\n",
    "\n",
    "features_train_scaler = pd.DataFrame(scaler.transform(features_train), columns=col)\n",
    "features_valid_scaler = pd.DataFrame(scaler.transform(features_valid), columns=col)\n",
    "\n",
    "model = LinearRegression()\n",
    "model.fit(features_train_scaler, target_train)\n",
    "print('Коэффициенты w:', model.coef_)\n",
    "print(f'R2 = {r2_score(target_valid, model.predict(features_valid_scaler)):.5f}')"
   ]
  },
  {
   "cell_type": "markdown",
   "metadata": {},
   "source": [
    "### С преобразованием признаков"
   ]
  },
  {
   "cell_type": "code",
   "execution_count": 28,
   "metadata": {},
   "outputs": [],
   "source": [
    "# функция преобразования признаков\n",
    "def conversion_features(features):\n",
    "    n = features.shape[1]\n",
    "    matrix = np.random.randint(1, 100, (n, n))\n",
    "    det = np.linalg.det(matrix)\n",
    "    while det == 0:\n",
    "        matrix = np.random.randint(1, 100, (n, n))\n",
    "        det = np.linalg.det(matrix)\n",
    "    conv_features = features @ matrix\n",
    "    return conv_features, matrix"
   ]
  },
  {
   "cell_type": "code",
   "execution_count": 29,
   "metadata": {},
   "outputs": [],
   "source": [
    "new_features, matrix = conversion_features(features)"
   ]
  },
  {
   "cell_type": "code",
   "execution_count": 30,
   "metadata": {},
   "outputs": [],
   "source": [
    "new_features.columns = features.columns"
   ]
  },
  {
   "cell_type": "code",
   "execution_count": 31,
   "metadata": {},
   "outputs": [
    {
     "data": {
      "text/html": [
       "<div>\n",
       "<style scoped>\n",
       "    .dataframe tbody tr th:only-of-type {\n",
       "        vertical-align: middle;\n",
       "    }\n",
       "\n",
       "    .dataframe tbody tr th {\n",
       "        vertical-align: top;\n",
       "    }\n",
       "\n",
       "    .dataframe thead th {\n",
       "        text-align: right;\n",
       "    }\n",
       "</style>\n",
       "<table border=\"1\" class=\"dataframe\">\n",
       "  <thead>\n",
       "    <tr style=\"text-align: right;\">\n",
       "      <th></th>\n",
       "      <th>Пол</th>\n",
       "      <th>Возраст</th>\n",
       "      <th>Зарплата</th>\n",
       "      <th>Члены семьи</th>\n",
       "    </tr>\n",
       "  </thead>\n",
       "  <tbody>\n",
       "    <tr>\n",
       "      <th>0</th>\n",
       "      <td>1</td>\n",
       "      <td>41</td>\n",
       "      <td>49600.0</td>\n",
       "      <td>1</td>\n",
       "    </tr>\n",
       "    <tr>\n",
       "      <th>1</th>\n",
       "      <td>0</td>\n",
       "      <td>46</td>\n",
       "      <td>38000.0</td>\n",
       "      <td>1</td>\n",
       "    </tr>\n",
       "    <tr>\n",
       "      <th>2</th>\n",
       "      <td>0</td>\n",
       "      <td>29</td>\n",
       "      <td>21000.0</td>\n",
       "      <td>0</td>\n",
       "    </tr>\n",
       "    <tr>\n",
       "      <th>3</th>\n",
       "      <td>0</td>\n",
       "      <td>21</td>\n",
       "      <td>41700.0</td>\n",
       "      <td>2</td>\n",
       "    </tr>\n",
       "    <tr>\n",
       "      <th>4</th>\n",
       "      <td>1</td>\n",
       "      <td>28</td>\n",
       "      <td>26100.0</td>\n",
       "      <td>0</td>\n",
       "    </tr>\n",
       "  </tbody>\n",
       "</table>\n",
       "</div>"
      ],
      "text/plain": [
       "   Пол  Возраст  Зарплата  Члены семьи\n",
       "0    1       41   49600.0            1\n",
       "1    0       46   38000.0            1\n",
       "2    0       29   21000.0            0\n",
       "3    0       21   41700.0            2\n",
       "4    1       28   26100.0            0"
      ]
     },
     "metadata": {},
     "output_type": "display_data"
    },
    {
     "data": {
      "text/html": [
       "<div>\n",
       "<style scoped>\n",
       "    .dataframe tbody tr th:only-of-type {\n",
       "        vertical-align: middle;\n",
       "    }\n",
       "\n",
       "    .dataframe tbody tr th {\n",
       "        vertical-align: top;\n",
       "    }\n",
       "\n",
       "    .dataframe thead th {\n",
       "        text-align: right;\n",
       "    }\n",
       "</style>\n",
       "<table border=\"1\" class=\"dataframe\">\n",
       "  <thead>\n",
       "    <tr style=\"text-align: right;\">\n",
       "      <th></th>\n",
       "      <th>Пол</th>\n",
       "      <th>Возраст</th>\n",
       "      <th>Зарплата</th>\n",
       "      <th>Члены семьи</th>\n",
       "    </tr>\n",
       "  </thead>\n",
       "  <tbody>\n",
       "    <tr>\n",
       "      <th>0</th>\n",
       "      <td>2728682.0</td>\n",
       "      <td>3820102.0</td>\n",
       "      <td>2482354.0</td>\n",
       "      <td>1044885.0</td>\n",
       "    </tr>\n",
       "    <tr>\n",
       "      <th>1</th>\n",
       "      <td>2090673.0</td>\n",
       "      <td>2926922.0</td>\n",
       "      <td>1902577.0</td>\n",
       "      <td>801628.0</td>\n",
       "    </tr>\n",
       "    <tr>\n",
       "      <th>2</th>\n",
       "      <td>1155377.0</td>\n",
       "      <td>1617580.0</td>\n",
       "      <td>1051595.0</td>\n",
       "      <td>443233.0</td>\n",
       "    </tr>\n",
       "    <tr>\n",
       "      <th>3</th>\n",
       "      <td>2293923.0</td>\n",
       "      <td>3211324.0</td>\n",
       "      <td>2086249.0</td>\n",
       "      <td>877489.0</td>\n",
       "    </tr>\n",
       "    <tr>\n",
       "      <th>4</th>\n",
       "      <td>1435938.0</td>\n",
       "      <td>2010340.0</td>\n",
       "      <td>1306592.0</td>\n",
       "      <td>550298.0</td>\n",
       "    </tr>\n",
       "  </tbody>\n",
       "</table>\n",
       "</div>"
      ],
      "text/plain": [
       "         Пол    Возраст   Зарплата  Члены семьи\n",
       "0  2728682.0  3820102.0  2482354.0    1044885.0\n",
       "1  2090673.0  2926922.0  1902577.0     801628.0\n",
       "2  1155377.0  1617580.0  1051595.0     443233.0\n",
       "3  2293923.0  3211324.0  2086249.0     877489.0\n",
       "4  1435938.0  2010340.0  1306592.0     550298.0"
      ]
     },
     "metadata": {},
     "output_type": "display_data"
    },
    {
     "data": {
      "text/plain": [
       "array([[74, 80, 52, 42],\n",
       "       [13, 20, 55, 77],\n",
       "       [55, 77, 50, 21],\n",
       "       [75,  2, 47, 86]])"
      ]
     },
     "execution_count": 31,
     "metadata": {},
     "output_type": "execute_result"
    }
   ],
   "source": [
    "display(features.head())\n",
    "display(new_features.head())\n",
    "matrix"
   ]
  },
  {
   "cell_type": "code",
   "execution_count": 32,
   "metadata": {},
   "outputs": [],
   "source": [
    "new_features_train, new_features_valid, new_target_train, new_target_valid = train_test_split(\n",
    "    new_features, target, test_size=0.25, random_state=42)"
   ]
  },
  {
   "cell_type": "markdown",
   "metadata": {},
   "source": [
    "#### Признаки в исходном виде"
   ]
  },
  {
   "cell_type": "code",
   "execution_count": 33,
   "metadata": {},
   "outputs": [
    {
     "name": "stdout",
     "output_type": "stream",
     "text": [
      "Коэффициенты w: [-0.00079146  0.00057451 -0.00028748  0.00065082]\n",
      "R2 = 0.44346\n"
     ]
    }
   ],
   "source": [
    "model = LinearRegression()\n",
    "model.fit(new_features_train, new_target_train)\n",
    "print('Коэффициенты w:', model.coef_)\n",
    "print(f'R2 = {r2_score(new_target_valid, model.predict(new_features_valid)):.5f}')"
   ]
  },
  {
   "cell_type": "markdown",
   "metadata": {},
   "source": [
    "#### Признаки отмасштабированы"
   ]
  },
  {
   "cell_type": "code",
   "execution_count": 34,
   "metadata": {},
   "outputs": [
    {
     "name": "stdout",
     "output_type": "stream",
     "text": [
      "Коэффициенты w: [-438.86184739  445.99265346 -144.91590524  137.7869815 ]\n",
      "R2 = 0.44346\n"
     ]
    }
   ],
   "source": [
    "scaler = StandardScaler()\n",
    "scaler.fit(new_features_train)\n",
    "col = new_features_train.columns\n",
    "\n",
    "new_features_train_scaler = pd.DataFrame(scaler.transform(new_features_train), columns=col)\n",
    "new_features_valid_scaler = pd.DataFrame(scaler.transform(new_features_valid), columns=col)\n",
    "\n",
    "model = LinearRegression()\n",
    "model.fit(new_features_train_scaler, new_target_train)\n",
    "print('Коэффициенты w:', model.coef_)\n",
    "print(f'R2 = {r2_score(new_target_valid, model.predict(new_features_valid_scaler)):.5f}')"
   ]
  },
  {
   "cell_type": "markdown",
   "metadata": {},
   "source": [
    "<div style=\"background-color:black; color:#ffffff; text-align:left; padding:2%\">\n",
    "    \n",
    "**Вывод по разделу:**\n",
    "\n",
    "* Созданы обучающие и валидационные выборки.\n",
    "* Проверены 4 варианта модели с разными признаками. У всех получился одинаковый показатель $R^2 = 0,44346$. Коэффициенты $w$ у всех моделей отличаются."
   ]
  },
  {
   "cell_type": "markdown",
   "metadata": {},
   "source": [
    "## Общий вывод"
   ]
  },
  {
   "cell_type": "markdown",
   "metadata": {},
   "source": [
    "* Данные загружены, изменены типы данных для экономии памяти, удалены дубликаты.\n",
    "* Проверены распределения данных. В некоторых столбцах есть небольшие выбросы.\n",
    "* Проверена корреляция признаков. Наибольшая взаимосвязь у количества страховых выплат с возрастом и полом клиентов.\n",
    "* Созданы признаки и целевой признак, из которых получены обучающие и валидационные выборки.\n",
    "* Приведено доказательство того, что умножение признаков на обратимую матрицу не влияет на обучение. Коэффициенты, получаемые в линейной регрессии и по формуле, совпадают.\n",
    "* Описан алгоритм преобразования.\n",
    "* Проверены 4 варианта модели с разными признаками (без преобразования / с преобразованием, в исходном виде / отмасштабированные). У всех получился одинаковый показатель $R^2 = 0,44346$. Коэффициенты $w$ у всех моделей отличаются."
   ]
  }
 ],
 "metadata": {
  "ExecuteTimeLog": [
   {
    "duration": 412,
    "start_time": "2023-06-16T21:07:50.721Z"
   },
   {
    "duration": 1145,
    "start_time": "2023-06-16T21:07:57.630Z"
   },
   {
    "duration": 100,
    "start_time": "2023-06-16T21:08:25.390Z"
   },
   {
    "duration": 12,
    "start_time": "2023-06-16T21:08:33.685Z"
   },
   {
    "duration": 17,
    "start_time": "2023-06-16T21:08:48.422Z"
   },
   {
    "duration": 29,
    "start_time": "2023-06-16T21:09:00.637Z"
   },
   {
    "duration": 4797,
    "start_time": "2023-06-18T11:01:50.991Z"
   },
   {
    "duration": 137,
    "start_time": "2023-06-18T11:01:55.791Z"
   },
   {
    "duration": 15,
    "start_time": "2023-06-18T11:01:55.930Z"
   },
   {
    "duration": 19,
    "start_time": "2023-06-18T11:01:55.946Z"
   },
   {
    "duration": 22,
    "start_time": "2023-06-18T11:01:55.968Z"
   },
   {
    "duration": 4,
    "start_time": "2023-06-18T11:04:34.890Z"
   },
   {
    "duration": 7,
    "start_time": "2023-06-18T11:05:09.363Z"
   },
   {
    "duration": 40,
    "start_time": "2023-06-18T11:05:15.379Z"
   },
   {
    "duration": 13,
    "start_time": "2023-06-18T11:05:22.250Z"
   },
   {
    "duration": 536,
    "start_time": "2023-06-18T11:06:28.424Z"
   },
   {
    "duration": 494,
    "start_time": "2023-06-18T11:06:55.636Z"
   },
   {
    "duration": 596,
    "start_time": "2023-06-18T11:07:03.319Z"
   },
   {
    "duration": 692,
    "start_time": "2023-06-18T11:07:09.996Z"
   },
   {
    "duration": 929,
    "start_time": "2023-06-18T11:07:24.996Z"
   },
   {
    "duration": 1252,
    "start_time": "2023-06-18T11:07:48.892Z"
   },
   {
    "duration": 5,
    "start_time": "2023-06-18T11:08:31.957Z"
   },
   {
    "duration": 1487,
    "start_time": "2023-06-18T11:08:39.870Z"
   },
   {
    "duration": 163,
    "start_time": "2023-06-18T11:10:35.974Z"
   },
   {
    "duration": 126,
    "start_time": "2023-06-18T11:10:50.331Z"
   },
   {
    "duration": 118,
    "start_time": "2023-06-18T11:10:56.561Z"
   },
   {
    "duration": 448,
    "start_time": "2023-06-18T11:11:38.764Z"
   },
   {
    "duration": 102,
    "start_time": "2023-06-18T11:11:56.661Z"
   },
   {
    "duration": 83,
    "start_time": "2023-06-18T11:14:01.845Z"
   },
   {
    "duration": 128,
    "start_time": "2023-06-18T11:14:06.255Z"
   },
   {
    "duration": 142,
    "start_time": "2023-06-18T11:15:00.121Z"
   },
   {
    "duration": 145,
    "start_time": "2023-06-18T11:15:31.227Z"
   },
   {
    "duration": 0,
    "start_time": "2023-06-18T11:16:50.868Z"
   },
   {
    "duration": 128,
    "start_time": "2023-06-18T11:16:54.129Z"
   },
   {
    "duration": 24,
    "start_time": "2023-06-18T11:17:25.642Z"
   },
   {
    "duration": 14,
    "start_time": "2023-06-18T11:17:37.855Z"
   },
   {
    "duration": 32,
    "start_time": "2023-06-18T11:17:50.091Z"
   },
   {
    "duration": 209,
    "start_time": "2023-06-18T11:18:26.017Z"
   },
   {
    "duration": 170,
    "start_time": "2023-06-18T11:19:09.178Z"
   },
   {
    "duration": 184,
    "start_time": "2023-06-18T11:19:15.245Z"
   },
   {
    "duration": 158,
    "start_time": "2023-06-18T11:20:14.719Z"
   },
   {
    "duration": 497,
    "start_time": "2023-06-18T11:21:35.532Z"
   },
   {
    "duration": 143,
    "start_time": "2023-06-18T11:21:40.960Z"
   },
   {
    "duration": 351,
    "start_time": "2023-06-18T11:22:52.925Z"
   },
   {
    "duration": 458,
    "start_time": "2023-06-18T11:23:05.395Z"
   },
   {
    "duration": 471,
    "start_time": "2023-06-18T11:23:14.858Z"
   },
   {
    "duration": 236,
    "start_time": "2023-06-18T11:24:22.589Z"
   },
   {
    "duration": 14,
    "start_time": "2023-06-18T11:24:46.562Z"
   },
   {
    "duration": 154,
    "start_time": "2023-06-18T11:25:05.195Z"
   },
   {
    "duration": 104,
    "start_time": "2023-06-18T11:25:45.426Z"
   },
   {
    "duration": 104,
    "start_time": "2023-06-18T11:26:06.948Z"
   },
   {
    "duration": 160,
    "start_time": "2023-06-18T11:26:32.455Z"
   },
   {
    "duration": 1454,
    "start_time": "2023-06-18T11:26:56.795Z"
   },
   {
    "duration": 33,
    "start_time": "2023-06-18T11:26:58.251Z"
   },
   {
    "duration": 56,
    "start_time": "2023-06-18T11:26:58.286Z"
   },
   {
    "duration": 21,
    "start_time": "2023-06-18T11:26:58.347Z"
   },
   {
    "duration": 28,
    "start_time": "2023-06-18T11:26:58.369Z"
   },
   {
    "duration": 50,
    "start_time": "2023-06-18T11:26:58.398Z"
   },
   {
    "duration": 13,
    "start_time": "2023-06-18T11:26:58.450Z"
   },
   {
    "duration": 116,
    "start_time": "2023-06-18T11:26:58.464Z"
   },
   {
    "duration": 156,
    "start_time": "2023-06-18T11:26:58.581Z"
   },
   {
    "duration": 134,
    "start_time": "2023-06-18T11:26:58.747Z"
   },
   {
    "duration": 328,
    "start_time": "2023-06-18T11:26:58.882Z"
   },
   {
    "duration": 153,
    "start_time": "2023-06-18T11:26:59.211Z"
   },
   {
    "duration": 104,
    "start_time": "2023-06-18T11:26:59.365Z"
   },
   {
    "duration": 7,
    "start_time": "2023-06-18T11:38:06.384Z"
   },
   {
    "duration": 19,
    "start_time": "2023-06-18T11:38:56.728Z"
   },
   {
    "duration": 5,
    "start_time": "2023-06-18T11:39:33.054Z"
   },
   {
    "duration": 22,
    "start_time": "2023-06-18T11:39:46.799Z"
   },
   {
    "duration": 1345,
    "start_time": "2023-06-18T11:40:39.577Z"
   },
   {
    "duration": 31,
    "start_time": "2023-06-18T11:40:40.942Z"
   },
   {
    "duration": 12,
    "start_time": "2023-06-18T11:40:40.974Z"
   },
   {
    "duration": 67,
    "start_time": "2023-06-18T11:40:40.988Z"
   },
   {
    "duration": 41,
    "start_time": "2023-06-18T11:40:41.056Z"
   },
   {
    "duration": 26,
    "start_time": "2023-06-18T11:40:41.099Z"
   },
   {
    "duration": 24,
    "start_time": "2023-06-18T11:40:41.126Z"
   },
   {
    "duration": 6,
    "start_time": "2023-06-18T11:40:41.151Z"
   },
   {
    "duration": 14,
    "start_time": "2023-06-18T11:40:41.158Z"
   },
   {
    "duration": 121,
    "start_time": "2023-06-18T11:40:41.174Z"
   },
   {
    "duration": 163,
    "start_time": "2023-06-18T11:40:41.296Z"
   },
   {
    "duration": 185,
    "start_time": "2023-06-18T11:40:41.461Z"
   },
   {
    "duration": 390,
    "start_time": "2023-06-18T11:40:41.647Z"
   },
   {
    "duration": 185,
    "start_time": "2023-06-18T11:40:42.038Z"
   },
   {
    "duration": 120,
    "start_time": "2023-06-18T11:40:42.230Z"
   },
   {
    "duration": 143,
    "start_time": "2023-06-18T11:54:53.221Z"
   },
   {
    "duration": 273,
    "start_time": "2023-06-18T11:55:27.221Z"
   },
   {
    "duration": 39,
    "start_time": "2023-06-18T11:56:43.698Z"
   },
   {
    "duration": 14,
    "start_time": "2023-06-18T11:56:51.957Z"
   },
   {
    "duration": 21,
    "start_time": "2023-06-18T11:57:05.204Z"
   },
   {
    "duration": 6,
    "start_time": "2023-06-18T11:57:39.022Z"
   },
   {
    "duration": 7,
    "start_time": "2023-06-18T11:57:54.099Z"
   },
   {
    "duration": 19,
    "start_time": "2023-06-18T12:02:34.614Z"
   },
   {
    "duration": 4829,
    "start_time": "2023-06-18T12:03:02.455Z"
   },
   {
    "duration": 47,
    "start_time": "2023-06-18T12:03:16.431Z"
   },
   {
    "duration": 85,
    "start_time": "2023-06-18T12:03:25.645Z"
   },
   {
    "duration": 2559,
    "start_time": "2023-06-18T12:03:30.213Z"
   },
   {
    "duration": 6,
    "start_time": "2023-06-18T12:03:41.650Z"
   },
   {
    "duration": 128,
    "start_time": "2023-06-18T12:04:04.691Z"
   },
   {
    "duration": 10,
    "start_time": "2023-06-18T12:05:08.671Z"
   },
   {
    "duration": 18,
    "start_time": "2023-06-18T12:08:38.695Z"
   },
   {
    "duration": 395,
    "start_time": "2023-06-18T12:11:08.226Z"
   },
   {
    "duration": 27,
    "start_time": "2023-06-18T12:11:25.922Z"
   },
   {
    "duration": 424,
    "start_time": "2023-06-18T12:12:45.323Z"
   },
   {
    "duration": 391,
    "start_time": "2023-06-18T12:14:16.850Z"
   },
   {
    "duration": 557,
    "start_time": "2023-06-18T12:14:36.022Z"
   },
   {
    "duration": 499,
    "start_time": "2023-06-18T12:14:53.987Z"
   },
   {
    "duration": 388,
    "start_time": "2023-06-18T12:15:05.189Z"
   },
   {
    "duration": 493,
    "start_time": "2023-06-18T12:15:15.288Z"
   },
   {
    "duration": 2558,
    "start_time": "2023-06-18T12:15:43.598Z"
   },
   {
    "duration": 1891,
    "start_time": "2023-06-18T12:15:46.162Z"
   },
   {
    "duration": 40,
    "start_time": "2023-06-18T12:15:48.058Z"
   },
   {
    "duration": 37,
    "start_time": "2023-06-18T12:15:48.107Z"
   },
   {
    "duration": 35,
    "start_time": "2023-06-18T12:15:48.150Z"
   },
   {
    "duration": 46,
    "start_time": "2023-06-18T12:15:48.187Z"
   },
   {
    "duration": 54,
    "start_time": "2023-06-18T12:15:48.234Z"
   },
   {
    "duration": 39,
    "start_time": "2023-06-18T12:15:48.289Z"
   },
   {
    "duration": 54,
    "start_time": "2023-06-18T12:15:48.337Z"
   },
   {
    "duration": 22,
    "start_time": "2023-06-18T12:15:48.393Z"
   },
   {
    "duration": 164,
    "start_time": "2023-06-18T12:15:48.417Z"
   },
   {
    "duration": 144,
    "start_time": "2023-06-18T12:15:48.582Z"
   },
   {
    "duration": 158,
    "start_time": "2023-06-18T12:15:48.727Z"
   },
   {
    "duration": 410,
    "start_time": "2023-06-18T12:15:48.887Z"
   },
   {
    "duration": 171,
    "start_time": "2023-06-18T12:15:49.298Z"
   },
   {
    "duration": 127,
    "start_time": "2023-06-18T12:15:49.470Z"
   },
   {
    "duration": 58,
    "start_time": "2023-06-18T12:15:49.599Z"
   },
   {
    "duration": 473,
    "start_time": "2023-06-18T12:15:49.664Z"
   },
   {
    "duration": 112,
    "start_time": "2023-06-18T12:15:50.141Z"
   },
   {
    "duration": 475,
    "start_time": "2023-06-18T12:15:50.258Z"
   },
   {
    "duration": 8,
    "start_time": "2023-06-18T12:15:50.737Z"
   },
   {
    "duration": 10,
    "start_time": "2023-06-18T12:17:41.131Z"
   },
   {
    "duration": 4171,
    "start_time": "2023-06-18T14:50:12.527Z"
   },
   {
    "duration": 2002,
    "start_time": "2023-06-18T14:50:16.701Z"
   },
   {
    "duration": 128,
    "start_time": "2023-06-18T14:50:18.709Z"
   },
   {
    "duration": 21,
    "start_time": "2023-06-18T14:50:18.840Z"
   },
   {
    "duration": 16,
    "start_time": "2023-06-18T14:50:18.863Z"
   },
   {
    "duration": 29,
    "start_time": "2023-06-18T14:50:18.881Z"
   },
   {
    "duration": 7,
    "start_time": "2023-06-18T14:50:18.913Z"
   },
   {
    "duration": 10,
    "start_time": "2023-06-18T14:50:18.922Z"
   },
   {
    "duration": 32,
    "start_time": "2023-06-18T14:50:18.934Z"
   },
   {
    "duration": 13,
    "start_time": "2023-06-18T14:50:18.968Z"
   },
   {
    "duration": 133,
    "start_time": "2023-06-18T14:50:18.983Z"
   },
   {
    "duration": 183,
    "start_time": "2023-06-18T14:50:19.118Z"
   },
   {
    "duration": 251,
    "start_time": "2023-06-18T14:50:19.303Z"
   },
   {
    "duration": 588,
    "start_time": "2023-06-18T14:50:19.558Z"
   },
   {
    "duration": 261,
    "start_time": "2023-06-18T14:50:20.147Z"
   },
   {
    "duration": 170,
    "start_time": "2023-06-18T14:50:20.410Z"
   },
   {
    "duration": 16,
    "start_time": "2023-06-18T14:50:20.591Z"
   },
   {
    "duration": 463,
    "start_time": "2023-06-18T14:50:20.609Z"
   },
   {
    "duration": 120,
    "start_time": "2023-06-18T14:50:21.074Z"
   },
   {
    "duration": 625,
    "start_time": "2023-06-18T14:50:21.196Z"
   },
   {
    "duration": 8,
    "start_time": "2023-06-18T14:50:21.823Z"
   },
   {
    "duration": 12,
    "start_time": "2023-06-18T14:50:21.833Z"
   },
   {
    "duration": 24,
    "start_time": "2023-06-18T15:43:20.633Z"
   },
   {
    "duration": 4,
    "start_time": "2023-06-18T15:44:04.420Z"
   },
   {
    "duration": 6,
    "start_time": "2023-06-18T15:44:04.983Z"
   },
   {
    "duration": 9,
    "start_time": "2023-06-18T15:44:32.317Z"
   },
   {
    "duration": 7,
    "start_time": "2023-06-18T15:45:58.317Z"
   },
   {
    "duration": 9,
    "start_time": "2023-06-18T15:46:18.130Z"
   },
   {
    "duration": 1507,
    "start_time": "2023-06-18T20:52:30.867Z"
   },
   {
    "duration": 3168,
    "start_time": "2023-06-18T21:14:48.804Z"
   },
   {
    "duration": 1511,
    "start_time": "2023-06-18T21:14:51.974Z"
   },
   {
    "duration": 94,
    "start_time": "2023-06-18T21:14:53.487Z"
   },
   {
    "duration": 15,
    "start_time": "2023-06-18T21:14:53.584Z"
   },
   {
    "duration": 13,
    "start_time": "2023-06-18T21:14:53.601Z"
   },
   {
    "duration": 32,
    "start_time": "2023-06-18T21:14:53.616Z"
   },
   {
    "duration": 7,
    "start_time": "2023-06-18T21:14:53.651Z"
   },
   {
    "duration": 10,
    "start_time": "2023-06-18T21:14:53.659Z"
   },
   {
    "duration": 16,
    "start_time": "2023-06-18T21:14:53.671Z"
   },
   {
    "duration": 24,
    "start_time": "2023-06-18T21:14:53.690Z"
   },
   {
    "duration": 103,
    "start_time": "2023-06-18T21:14:53.716Z"
   },
   {
    "duration": 163,
    "start_time": "2023-06-18T21:14:53.821Z"
   },
   {
    "duration": 169,
    "start_time": "2023-06-18T21:14:53.987Z"
   },
   {
    "duration": 516,
    "start_time": "2023-06-18T21:14:54.157Z"
   },
   {
    "duration": 117,
    "start_time": "2023-06-18T21:14:54.675Z"
   },
   {
    "duration": 136,
    "start_time": "2023-06-18T21:14:54.794Z"
   },
   {
    "duration": 20,
    "start_time": "2023-06-18T21:14:54.932Z"
   },
   {
    "duration": 406,
    "start_time": "2023-06-18T21:14:54.954Z"
   },
   {
    "duration": 117,
    "start_time": "2023-06-18T21:14:55.362Z"
   },
   {
    "duration": 441,
    "start_time": "2023-06-18T21:14:55.482Z"
   },
   {
    "duration": 5,
    "start_time": "2023-06-18T21:14:55.925Z"
   },
   {
    "duration": 22,
    "start_time": "2023-06-18T21:14:55.932Z"
   },
   {
    "duration": 19,
    "start_time": "2023-06-18T21:14:55.956Z"
   },
   {
    "duration": 14,
    "start_time": "2023-06-18T21:14:55.977Z"
   },
   {
    "duration": 70,
    "start_time": "2023-06-18T21:14:55.995Z"
   },
   {
    "duration": 57,
    "start_time": "2023-06-18T21:22:31.435Z"
   },
   {
    "duration": 11,
    "start_time": "2023-06-18T21:22:37.988Z"
   },
   {
    "duration": 11,
    "start_time": "2023-06-18T21:23:02.679Z"
   },
   {
    "duration": 14,
    "start_time": "2023-06-18T21:23:13.436Z"
   },
   {
    "duration": 11,
    "start_time": "2023-06-18T21:23:31.740Z"
   },
   {
    "duration": 3,
    "start_time": "2023-06-18T21:25:19.792Z"
   },
   {
    "duration": 24,
    "start_time": "2023-06-18T21:27:50.477Z"
   },
   {
    "duration": 16,
    "start_time": "2023-06-18T21:28:06.547Z"
   },
   {
    "duration": 69,
    "start_time": "2023-06-18T23:01:10.835Z"
   },
   {
    "duration": 4,
    "start_time": "2023-06-18T23:01:20.840Z"
   },
   {
    "duration": 5,
    "start_time": "2023-06-18T23:02:59.199Z"
   },
   {
    "duration": 15,
    "start_time": "2023-06-18T23:03:33.606Z"
   },
   {
    "duration": 6,
    "start_time": "2023-06-18T23:04:37.962Z"
   },
   {
    "duration": 10,
    "start_time": "2023-06-18T23:05:15.398Z"
   },
   {
    "duration": 4,
    "start_time": "2023-06-18T23:06:14.063Z"
   },
   {
    "duration": 28,
    "start_time": "2023-06-18T23:06:15.840Z"
   },
   {
    "duration": 5,
    "start_time": "2023-06-18T23:06:23.764Z"
   },
   {
    "duration": 9,
    "start_time": "2023-06-18T23:06:27.199Z"
   },
   {
    "duration": 23,
    "start_time": "2023-06-18T23:07:26.838Z"
   },
   {
    "duration": 2057,
    "start_time": "2023-06-18T23:07:40.945Z"
   },
   {
    "duration": 1417,
    "start_time": "2023-06-18T23:07:43.005Z"
   },
   {
    "duration": 42,
    "start_time": "2023-06-18T23:07:44.423Z"
   },
   {
    "duration": 13,
    "start_time": "2023-06-18T23:07:44.467Z"
   },
   {
    "duration": 11,
    "start_time": "2023-06-18T23:07:44.483Z"
   },
   {
    "duration": 25,
    "start_time": "2023-06-18T23:07:44.495Z"
   },
   {
    "duration": 5,
    "start_time": "2023-06-18T23:07:44.522Z"
   },
   {
    "duration": 10,
    "start_time": "2023-06-18T23:07:44.528Z"
   },
   {
    "duration": 16,
    "start_time": "2023-06-18T23:07:44.540Z"
   },
   {
    "duration": 23,
    "start_time": "2023-06-18T23:07:44.557Z"
   },
   {
    "duration": 102,
    "start_time": "2023-06-18T23:07:44.582Z"
   },
   {
    "duration": 161,
    "start_time": "2023-06-18T23:07:44.686Z"
   },
   {
    "duration": 147,
    "start_time": "2023-06-18T23:07:44.860Z"
   },
   {
    "duration": 498,
    "start_time": "2023-06-18T23:07:45.010Z"
   },
   {
    "duration": 104,
    "start_time": "2023-06-18T23:07:45.510Z"
   },
   {
    "duration": 124,
    "start_time": "2023-06-18T23:07:45.617Z"
   },
   {
    "duration": 20,
    "start_time": "2023-06-18T23:07:45.743Z"
   },
   {
    "duration": 374,
    "start_time": "2023-06-18T23:07:45.766Z"
   },
   {
    "duration": 99,
    "start_time": "2023-06-18T23:07:46.141Z"
   },
   {
    "duration": 461,
    "start_time": "2023-06-18T23:07:46.252Z"
   },
   {
    "duration": 5,
    "start_time": "2023-06-18T23:07:46.715Z"
   },
   {
    "duration": 11,
    "start_time": "2023-06-18T23:07:46.722Z"
   },
   {
    "duration": 23,
    "start_time": "2023-06-18T23:07:46.734Z"
   },
   {
    "duration": 18,
    "start_time": "2023-06-18T23:07:46.759Z"
   },
   {
    "duration": 75,
    "start_time": "2023-06-18T23:07:46.779Z"
   },
   {
    "duration": 118,
    "start_time": "2023-06-18T23:07:46.857Z"
   },
   {
    "duration": 17,
    "start_time": "2023-06-18T23:07:46.977Z"
   },
   {
    "duration": 3,
    "start_time": "2023-06-18T23:07:46.996Z"
   },
   {
    "duration": 8,
    "start_time": "2023-06-18T23:07:47.001Z"
   },
   {
    "duration": 6,
    "start_time": "2023-06-18T23:07:47.010Z"
   },
   {
    "duration": 22,
    "start_time": "2023-06-18T23:07:47.018Z"
   },
   {
    "duration": 11,
    "start_time": "2023-06-18T23:07:47.054Z"
   },
   {
    "duration": 18,
    "start_time": "2023-06-18T23:07:47.066Z"
   },
   {
    "duration": 21,
    "start_time": "2023-06-18T23:07:47.086Z"
   },
   {
    "duration": 1970,
    "start_time": "2023-06-18T23:18:10.006Z"
   },
   {
    "duration": 1486,
    "start_time": "2023-06-18T23:18:11.979Z"
   },
   {
    "duration": 29,
    "start_time": "2023-06-18T23:18:13.467Z"
   },
   {
    "duration": 15,
    "start_time": "2023-06-18T23:18:13.498Z"
   },
   {
    "duration": 11,
    "start_time": "2023-06-18T23:18:13.514Z"
   },
   {
    "duration": 26,
    "start_time": "2023-06-18T23:18:13.527Z"
   },
   {
    "duration": 6,
    "start_time": "2023-06-18T23:18:13.555Z"
   },
   {
    "duration": 14,
    "start_time": "2023-06-18T23:18:13.563Z"
   },
   {
    "duration": 11,
    "start_time": "2023-06-18T23:18:13.579Z"
   },
   {
    "duration": 16,
    "start_time": "2023-06-18T23:18:13.593Z"
   },
   {
    "duration": 118,
    "start_time": "2023-06-18T23:18:13.611Z"
   },
   {
    "duration": 153,
    "start_time": "2023-06-18T23:18:13.731Z"
   },
   {
    "duration": 154,
    "start_time": "2023-06-18T23:18:13.885Z"
   },
   {
    "duration": 463,
    "start_time": "2023-06-18T23:18:14.042Z"
   },
   {
    "duration": 106,
    "start_time": "2023-06-18T23:18:14.506Z"
   },
   {
    "duration": 115,
    "start_time": "2023-06-18T23:18:14.613Z"
   },
   {
    "duration": 10,
    "start_time": "2023-06-18T23:18:14.731Z"
   },
   {
    "duration": 361,
    "start_time": "2023-06-18T23:18:14.752Z"
   },
   {
    "duration": 104,
    "start_time": "2023-06-18T23:18:15.115Z"
   },
   {
    "duration": 474,
    "start_time": "2023-06-18T23:18:15.221Z"
   },
   {
    "duration": 4,
    "start_time": "2023-06-18T23:18:15.697Z"
   },
   {
    "duration": 44,
    "start_time": "2023-06-18T23:18:15.703Z"
   },
   {
    "duration": 55,
    "start_time": "2023-06-18T23:18:15.749Z"
   },
   {
    "duration": 37,
    "start_time": "2023-06-18T23:18:15.806Z"
   },
   {
    "duration": 106,
    "start_time": "2023-06-18T23:18:15.846Z"
   },
   {
    "duration": 40,
    "start_time": "2023-06-18T23:18:15.955Z"
   },
   {
    "duration": 67,
    "start_time": "2023-06-18T23:18:15.996Z"
   },
   {
    "duration": 4,
    "start_time": "2023-06-18T23:18:16.066Z"
   },
   {
    "duration": 9,
    "start_time": "2023-06-18T23:18:16.072Z"
   },
   {
    "duration": 14,
    "start_time": "2023-06-18T23:18:16.083Z"
   },
   {
    "duration": 23,
    "start_time": "2023-06-18T23:18:16.099Z"
   },
   {
    "duration": 7,
    "start_time": "2023-06-18T23:18:16.124Z"
   },
   {
    "duration": 22,
    "start_time": "2023-06-18T23:18:16.132Z"
   },
   {
    "duration": 23,
    "start_time": "2023-06-18T23:18:16.156Z"
   },
   {
    "duration": 3784,
    "start_time": "2023-06-19T02:41:11.683Z"
   },
   {
    "duration": 3531,
    "start_time": "2023-06-19T02:41:15.470Z"
   },
   {
    "duration": 97,
    "start_time": "2023-06-19T02:41:19.003Z"
   },
   {
    "duration": 14,
    "start_time": "2023-06-19T02:41:19.102Z"
   },
   {
    "duration": 27,
    "start_time": "2023-06-19T02:41:19.118Z"
   },
   {
    "duration": 38,
    "start_time": "2023-06-19T02:41:19.147Z"
   },
   {
    "duration": 14,
    "start_time": "2023-06-19T02:41:19.187Z"
   },
   {
    "duration": 37,
    "start_time": "2023-06-19T02:41:19.203Z"
   },
   {
    "duration": 26,
    "start_time": "2023-06-19T02:41:19.242Z"
   },
   {
    "duration": 16,
    "start_time": "2023-06-19T02:41:19.273Z"
   },
   {
    "duration": 127,
    "start_time": "2023-06-19T02:41:19.291Z"
   },
   {
    "duration": 208,
    "start_time": "2023-06-19T02:41:19.421Z"
   },
   {
    "duration": 198,
    "start_time": "2023-06-19T02:41:19.631Z"
   },
   {
    "duration": 587,
    "start_time": "2023-06-19T02:41:19.831Z"
   },
   {
    "duration": 117,
    "start_time": "2023-06-19T02:41:20.420Z"
   },
   {
    "duration": 133,
    "start_time": "2023-06-19T02:41:20.539Z"
   },
   {
    "duration": 13,
    "start_time": "2023-06-19T02:41:20.673Z"
   },
   {
    "duration": 467,
    "start_time": "2023-06-19T02:41:20.688Z"
   },
   {
    "duration": 117,
    "start_time": "2023-06-19T02:41:21.157Z"
   },
   {
    "duration": 621,
    "start_time": "2023-06-19T02:41:21.276Z"
   },
   {
    "duration": 6,
    "start_time": "2023-06-19T02:41:21.899Z"
   },
   {
    "duration": 9,
    "start_time": "2023-06-19T02:41:21.914Z"
   },
   {
    "duration": 23,
    "start_time": "2023-06-19T02:41:21.928Z"
   },
   {
    "duration": 13,
    "start_time": "2023-06-19T02:41:21.953Z"
   },
   {
    "duration": 11,
    "start_time": "2023-06-19T02:41:22.012Z"
   },
   {
    "duration": 95,
    "start_time": "2023-06-19T02:41:22.026Z"
   },
   {
    "duration": 25,
    "start_time": "2023-06-19T02:41:22.123Z"
   },
   {
    "duration": 5,
    "start_time": "2023-06-19T02:41:22.152Z"
   },
   {
    "duration": 7,
    "start_time": "2023-06-19T02:41:22.159Z"
   },
   {
    "duration": 8,
    "start_time": "2023-06-19T02:41:22.168Z"
   },
   {
    "duration": 55,
    "start_time": "2023-06-19T02:41:22.178Z"
   },
   {
    "duration": 71,
    "start_time": "2023-06-19T02:41:22.235Z"
   },
   {
    "duration": 38,
    "start_time": "2023-06-19T02:41:22.309Z"
   },
   {
    "duration": 23,
    "start_time": "2023-06-19T02:41:22.349Z"
   },
   {
    "duration": 62,
    "start_time": "2023-06-19T13:00:25.557Z"
   },
   {
    "duration": 3149,
    "start_time": "2023-06-19T13:00:36.432Z"
   },
   {
    "duration": 1673,
    "start_time": "2023-06-19T13:00:39.584Z"
   },
   {
    "duration": 92,
    "start_time": "2023-06-19T13:00:41.259Z"
   },
   {
    "duration": 13,
    "start_time": "2023-06-19T13:00:41.352Z"
   },
   {
    "duration": 22,
    "start_time": "2023-06-19T13:00:41.367Z"
   },
   {
    "duration": 31,
    "start_time": "2023-06-19T13:00:41.390Z"
   },
   {
    "duration": 5,
    "start_time": "2023-06-19T13:00:41.423Z"
   },
   {
    "duration": 17,
    "start_time": "2023-06-19T13:00:41.429Z"
   },
   {
    "duration": 5,
    "start_time": "2023-06-19T13:00:41.448Z"
   },
   {
    "duration": 27,
    "start_time": "2023-06-19T13:00:41.455Z"
   },
   {
    "duration": 106,
    "start_time": "2023-06-19T13:00:41.483Z"
   },
   {
    "duration": 144,
    "start_time": "2023-06-19T13:00:41.591Z"
   },
   {
    "duration": 177,
    "start_time": "2023-06-19T13:00:41.736Z"
   },
   {
    "duration": 476,
    "start_time": "2023-06-19T13:00:41.917Z"
   },
   {
    "duration": 102,
    "start_time": "2023-06-19T13:00:42.394Z"
   },
   {
    "duration": 111,
    "start_time": "2023-06-19T13:00:42.497Z"
   },
   {
    "duration": 11,
    "start_time": "2023-06-19T13:00:42.609Z"
   },
   {
    "duration": 443,
    "start_time": "2023-06-19T13:00:42.622Z"
   },
   {
    "duration": 136,
    "start_time": "2023-06-19T13:00:43.068Z"
   },
   {
    "duration": 420,
    "start_time": "2023-06-19T13:00:43.206Z"
   },
   {
    "duration": 4,
    "start_time": "2023-06-19T13:00:43.627Z"
   },
   {
    "duration": 17,
    "start_time": "2023-06-19T13:00:43.633Z"
   },
   {
    "duration": 523,
    "start_time": "2023-06-19T13:00:43.652Z"
   },
   {
    "duration": 14,
    "start_time": "2023-06-19T13:00:44.177Z"
   },
   {
    "duration": 16,
    "start_time": "2023-06-19T13:00:44.280Z"
   },
   {
    "duration": 71,
    "start_time": "2023-06-19T13:00:44.302Z"
   },
   {
    "duration": 93,
    "start_time": "2023-06-19T13:00:44.386Z"
   },
   {
    "duration": 15,
    "start_time": "2023-06-19T13:00:44.482Z"
   },
   {
    "duration": 4,
    "start_time": "2023-06-19T13:00:44.498Z"
   },
   {
    "duration": 7,
    "start_time": "2023-06-19T13:00:44.503Z"
   },
   {
    "duration": 5,
    "start_time": "2023-06-19T13:00:44.512Z"
   },
   {
    "duration": 24,
    "start_time": "2023-06-19T13:00:44.518Z"
   },
   {
    "duration": 27,
    "start_time": "2023-06-19T13:00:44.544Z"
   },
   {
    "duration": 14,
    "start_time": "2023-06-19T13:00:44.573Z"
   },
   {
    "duration": 15,
    "start_time": "2023-06-19T13:00:44.589Z"
   },
   {
    "duration": 357,
    "start_time": "2023-06-19T13:00:56.825Z"
   },
   {
    "duration": 2142,
    "start_time": "2023-06-19T13:42:56.260Z"
   },
   {
    "duration": 1342,
    "start_time": "2023-06-19T13:42:58.404Z"
   },
   {
    "duration": 35,
    "start_time": "2023-06-19T13:42:59.748Z"
   },
   {
    "duration": 14,
    "start_time": "2023-06-19T13:42:59.787Z"
   },
   {
    "duration": 11,
    "start_time": "2023-06-19T13:42:59.803Z"
   },
   {
    "duration": 26,
    "start_time": "2023-06-19T13:42:59.816Z"
   },
   {
    "duration": 9,
    "start_time": "2023-06-19T13:42:59.844Z"
   },
   {
    "duration": 28,
    "start_time": "2023-06-19T13:42:59.855Z"
   },
   {
    "duration": 15,
    "start_time": "2023-06-19T13:42:59.884Z"
   },
   {
    "duration": 10,
    "start_time": "2023-06-19T13:42:59.902Z"
   },
   {
    "duration": 99,
    "start_time": "2023-06-19T13:42:59.913Z"
   },
   {
    "duration": 158,
    "start_time": "2023-06-19T13:43:00.013Z"
   },
   {
    "duration": 150,
    "start_time": "2023-06-19T13:43:00.173Z"
   },
   {
    "duration": 458,
    "start_time": "2023-06-19T13:43:00.324Z"
   },
   {
    "duration": 105,
    "start_time": "2023-06-19T13:43:00.784Z"
   },
   {
    "duration": 109,
    "start_time": "2023-06-19T13:43:00.890Z"
   },
   {
    "duration": 10,
    "start_time": "2023-06-19T13:43:01.000Z"
   },
   {
    "duration": 411,
    "start_time": "2023-06-19T13:43:01.011Z"
   },
   {
    "duration": 108,
    "start_time": "2023-06-19T13:43:01.424Z"
   },
   {
    "duration": 469,
    "start_time": "2023-06-19T13:43:01.534Z"
   },
   {
    "duration": 4,
    "start_time": "2023-06-19T13:43:02.005Z"
   },
   {
    "duration": 78,
    "start_time": "2023-06-19T13:43:02.010Z"
   },
   {
    "duration": 37,
    "start_time": "2023-06-19T13:43:02.089Z"
   },
   {
    "duration": 70,
    "start_time": "2023-06-19T13:43:02.128Z"
   },
   {
    "duration": 73,
    "start_time": "2023-06-19T13:43:02.201Z"
   },
   {
    "duration": 106,
    "start_time": "2023-06-19T13:43:02.275Z"
   },
   {
    "duration": 20,
    "start_time": "2023-06-19T13:43:02.383Z"
   },
   {
    "duration": 6,
    "start_time": "2023-06-19T13:43:02.406Z"
   },
   {
    "duration": 33,
    "start_time": "2023-06-19T13:43:02.413Z"
   },
   {
    "duration": 19,
    "start_time": "2023-06-19T13:43:02.447Z"
   },
   {
    "duration": 29,
    "start_time": "2023-06-19T13:43:02.471Z"
   },
   {
    "duration": 18,
    "start_time": "2023-06-19T13:43:02.502Z"
   },
   {
    "duration": 23,
    "start_time": "2023-06-19T13:43:02.522Z"
   },
   {
    "duration": 44,
    "start_time": "2023-06-19T13:43:02.547Z"
   }
  ],
  "kernelspec": {
   "display_name": "Python 3 (ipykernel)",
   "language": "python",
   "name": "python3"
  },
  "language_info": {
   "codemirror_mode": {
    "name": "ipython",
    "version": 3
   },
   "file_extension": ".py",
   "mimetype": "text/x-python",
   "name": "python",
   "nbconvert_exporter": "python",
   "pygments_lexer": "ipython3",
   "version": "3.9.17"
  },
  "toc": {
   "base_numbering": 1,
   "nav_menu": {},
   "number_sections": true,
   "sideBar": true,
   "skip_h1_title": true,
   "title_cell": "Защита персональных данных клиентов",
   "title_sidebar": "Contents",
   "toc_cell": true,
   "toc_position": {
    "height": "calc(100% - 180px)",
    "left": "10px",
    "top": "150px",
    "width": "313.391px"
   },
   "toc_section_display": true,
   "toc_window_display": true
  }
 },
 "nbformat": 4,
 "nbformat_minor": 4
}
