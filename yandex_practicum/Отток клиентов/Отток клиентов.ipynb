{
 "cells": [
  {
   "cell_type": "markdown",
   "metadata": {
    "toc": true
   },
   "source": [
    "<h1>Содержание<span class=\"tocSkip\"></span></h1>\n",
    "<div class=\"toc\"><ul class=\"toc-item\"><li><span><a href=\"#Описание-проекта\" data-toc-modified-id=\"Описание-проекта-1\"><span class=\"toc-item-num\">1&nbsp;&nbsp;</span>Описание проекта</a></span></li><li><span><a href=\"#Описание-данных\" data-toc-modified-id=\"Описание-данных-2\"><span class=\"toc-item-num\">2&nbsp;&nbsp;</span>Описание данных</a></span></li><li><span><a href=\"#Подготовка-данных\" data-toc-modified-id=\"Подготовка-данных-3\"><span class=\"toc-item-num\">3&nbsp;&nbsp;</span>Подготовка данных</a></span><ul class=\"toc-item\"><li><span><a href=\"#Проверка-дубликатов,-удаление-лишних-данных,-заполнение-пропусков\" data-toc-modified-id=\"Проверка-дубликатов,-удаление-лишних-данных,-заполнение-пропусков-3.1\"><span class=\"toc-item-num\">3.1&nbsp;&nbsp;</span>Проверка дубликатов, удаление лишних данных, заполнение пропусков</a></span></li><li><span><a href=\"#Проверка-распределения-данных\" data-toc-modified-id=\"Проверка-распределения-данных-3.2\"><span class=\"toc-item-num\">3.2&nbsp;&nbsp;</span>Проверка распределения данных</a></span></li><li><span><a href=\"#Разделение-данных,-масштабирование,-дамми-признаки,-типы-данных\" data-toc-modified-id=\"Разделение-данных,-масштабирование,-дамми-признаки,-типы-данных-3.3\"><span class=\"toc-item-num\">3.3&nbsp;&nbsp;</span>Разделение данных, масштабирование, дамми-признаки, типы данных</a></span></li></ul></li><li><span><a href=\"#Исследование-задачи\" data-toc-modified-id=\"Исследование-задачи-4\"><span class=\"toc-item-num\">4&nbsp;&nbsp;</span>Исследование задачи</a></span><ul class=\"toc-item\"><li><span><a href=\"#Решающее-дерево\" data-toc-modified-id=\"Решающее-дерево-4.1\"><span class=\"toc-item-num\">4.1&nbsp;&nbsp;</span>Решающее дерево</a></span></li><li><span><a href=\"#Случайный-лес\" data-toc-modified-id=\"Случайный-лес-4.2\"><span class=\"toc-item-num\">4.2&nbsp;&nbsp;</span>Случайный лес</a></span></li><li><span><a href=\"#Логистическая-регрессия\" data-toc-modified-id=\"Логистическая-регрессия-4.3\"><span class=\"toc-item-num\">4.3&nbsp;&nbsp;</span>Логистическая регрессия</a></span></li></ul></li><li><span><a href=\"#Борьба-с-дисбалансом\" data-toc-modified-id=\"Борьба-с-дисбалансом-5\"><span class=\"toc-item-num\">5&nbsp;&nbsp;</span>Борьба с дисбалансом</a></span><ul class=\"toc-item\"><li><span><a href=\"#Взвешивание-классов\" data-toc-modified-id=\"Взвешивание-классов-5.1\"><span class=\"toc-item-num\">5.1&nbsp;&nbsp;</span>Взвешивание классов</a></span><ul class=\"toc-item\"><li><span><a href=\"#Решающее-дерево\" data-toc-modified-id=\"Решающее-дерево-5.1.1\"><span class=\"toc-item-num\">5.1.1&nbsp;&nbsp;</span>Решающее дерево</a></span></li><li><span><a href=\"#Случайный-лес\" data-toc-modified-id=\"Случайный-лес-5.1.2\"><span class=\"toc-item-num\">5.1.2&nbsp;&nbsp;</span>Случайный лес</a></span></li><li><span><a href=\"#Логистическая-регрессия\" data-toc-modified-id=\"Логистическая-регрессия-5.1.3\"><span class=\"toc-item-num\">5.1.3&nbsp;&nbsp;</span>Логистическая регрессия</a></span></li></ul></li><li><span><a href=\"#Увеличение-и-уменьшение-выборки\" data-toc-modified-id=\"Увеличение-и-уменьшение-выборки-5.2\"><span class=\"toc-item-num\">5.2&nbsp;&nbsp;</span>Увеличение и уменьшение выборки</a></span><ul class=\"toc-item\"><li><span><a href=\"#Решающее-дерево\" data-toc-modified-id=\"Решающее-дерево-5.2.1\"><span class=\"toc-item-num\">5.2.1&nbsp;&nbsp;</span>Решающее дерево</a></span></li><li><span><a href=\"#Случайный-лес\" data-toc-modified-id=\"Случайный-лес-5.2.2\"><span class=\"toc-item-num\">5.2.2&nbsp;&nbsp;</span>Случайный лес</a></span></li><li><span><a href=\"#Логистическая-регрессия\" data-toc-modified-id=\"Логистическая-регрессия-5.2.3\"><span class=\"toc-item-num\">5.2.3&nbsp;&nbsp;</span>Логистическая регрессия</a></span></li></ul></li><li><span><a href=\"#Изменение-порога-у-модели-случайного-дерева\" data-toc-modified-id=\"Изменение-порога-у-модели-случайного-дерева-5.3\"><span class=\"toc-item-num\">5.3&nbsp;&nbsp;</span>Изменение порога у модели случайного дерева</a></span></li></ul></li><li><span><a href=\"#Тестирование-модели\" data-toc-modified-id=\"Тестирование-модели-6\"><span class=\"toc-item-num\">6&nbsp;&nbsp;</span>Тестирование модели</a></span></li><li><span><a href=\"#Общий-вывод\" data-toc-modified-id=\"Общий-вывод-7\"><span class=\"toc-item-num\">7&nbsp;&nbsp;</span>Общий вывод</a></span></li></ul></div>"
   ]
  },
  {
   "cell_type": "markdown",
   "metadata": {},
   "source": [
    "# Отток клиентов"
   ]
  },
  {
   "cell_type": "markdown",
   "metadata": {},
   "source": [
    "## Описание проекта"
   ]
  },
  {
   "cell_type": "markdown",
   "metadata": {},
   "source": [
    "Из «Бета-Банка» стали уходить клиенты. Каждый месяц. Немного, но заметно. Банковские маркетологи посчитали: сохранять текущих клиентов дешевле, чем привлекать новых.\n",
    "\n",
    "Нужно спрогнозировать, уйдёт клиент из банка в ближайшее время или нет. Вам предоставлены исторические данные о поведении клиентов и расторжении договоров с банком. \n",
    "\n",
    "Постройте модель с предельно большим значением *F1*-меры. Чтобы сдать проект успешно, нужно довести метрику до 0.59. Проверьте *F1*-меру на тестовой выборке самостоятельно.\n",
    "\n",
    "Дополнительно измеряйте *AUC-ROC*, сравнивайте её значение с *F1*-мерой.\n",
    "\n",
    "Источник данных: [https://www.kaggle.com/barelydedicated/bank-customer-churn-modeling](https://www.kaggle.com/barelydedicated/bank-customer-churn-modeling)"
   ]
  },
  {
   "cell_type": "markdown",
   "metadata": {},
   "source": [
    "## Описание данных"
   ]
  },
  {
   "cell_type": "markdown",
   "metadata": {},
   "source": [
    "<u>**Признаки:**</u>\n",
    "* **RowNumber** — индекс строки в данных\n",
    "* **CustomerId** — уникальный идентификатор клиента\n",
    "* **Surname** — фамилия\n",
    "* **CreditScore** — кредитный рейтинг\n",
    "* **Geography** — страна проживания\n",
    "* **Gender** — пол\n",
    "* **Age** — возраст\n",
    "* **Tenure** — сколько лет человек является клиентом банка\n",
    "* **Balance** — баланс на счёте\n",
    "* **NumOfProducts** — количество продуктов банка, используемых клиентом\n",
    "* **HasCrCard** — наличие кредитной карты\n",
    "* **IsActiveMember** — активность клиента\n",
    "* **EstimatedSalary** — предполагаемая зарплата\n",
    "\n",
    "<u>**Целевой признак:**</u>\n",
    "* **Exited** — факт ухода клиента"
   ]
  },
  {
   "cell_type": "markdown",
   "metadata": {},
   "source": [
    "## Подготовка данных"
   ]
  },
  {
   "cell_type": "code",
   "execution_count": 1,
   "metadata": {},
   "outputs": [],
   "source": [
    "import pandas as pd\n",
    "import numpy as np\n",
    "import matplotlib.pyplot as plt\n",
    "import seaborn as sns\n",
    "\n",
    "from sklearn.metrics import f1_score, roc_auc_score\n",
    "from sklearn.preprocessing import StandardScaler, OneHotEncoder\n",
    "from sklearn.model_selection import train_test_split\n",
    "from sklearn.tree import DecisionTreeClassifier\n",
    "from sklearn.ensemble import RandomForestClassifier\n",
    "from sklearn.linear_model import LogisticRegression\n",
    "from sklearn.utils import shuffle\n",
    "from sklearn.dummy import DummyClassifier"
   ]
  },
  {
   "cell_type": "code",
   "execution_count": 2,
   "metadata": {},
   "outputs": [],
   "source": [
    "df = pd.read_csv('/datasets/Churn.csv')"
   ]
  },
  {
   "cell_type": "code",
   "execution_count": 3,
   "metadata": {},
   "outputs": [
    {
     "data": {
      "text/html": [
       "<div>\n",
       "<style scoped>\n",
       "    .dataframe tbody tr th:only-of-type {\n",
       "        vertical-align: middle;\n",
       "    }\n",
       "\n",
       "    .dataframe tbody tr th {\n",
       "        vertical-align: top;\n",
       "    }\n",
       "\n",
       "    .dataframe thead th {\n",
       "        text-align: right;\n",
       "    }\n",
       "</style>\n",
       "<table border=\"1\" class=\"dataframe\">\n",
       "  <thead>\n",
       "    <tr style=\"text-align: right;\">\n",
       "      <th></th>\n",
       "      <th>RowNumber</th>\n",
       "      <th>CustomerId</th>\n",
       "      <th>Surname</th>\n",
       "      <th>CreditScore</th>\n",
       "      <th>Geography</th>\n",
       "      <th>Gender</th>\n",
       "      <th>Age</th>\n",
       "      <th>Tenure</th>\n",
       "      <th>Balance</th>\n",
       "      <th>NumOfProducts</th>\n",
       "      <th>HasCrCard</th>\n",
       "      <th>IsActiveMember</th>\n",
       "      <th>EstimatedSalary</th>\n",
       "      <th>Exited</th>\n",
       "    </tr>\n",
       "  </thead>\n",
       "  <tbody>\n",
       "    <tr>\n",
       "      <th>0</th>\n",
       "      <td>1</td>\n",
       "      <td>15634602</td>\n",
       "      <td>Hargrave</td>\n",
       "      <td>619</td>\n",
       "      <td>France</td>\n",
       "      <td>Female</td>\n",
       "      <td>42</td>\n",
       "      <td>2.0</td>\n",
       "      <td>0.00</td>\n",
       "      <td>1</td>\n",
       "      <td>1</td>\n",
       "      <td>1</td>\n",
       "      <td>101348.88</td>\n",
       "      <td>1</td>\n",
       "    </tr>\n",
       "    <tr>\n",
       "      <th>1</th>\n",
       "      <td>2</td>\n",
       "      <td>15647311</td>\n",
       "      <td>Hill</td>\n",
       "      <td>608</td>\n",
       "      <td>Spain</td>\n",
       "      <td>Female</td>\n",
       "      <td>41</td>\n",
       "      <td>1.0</td>\n",
       "      <td>83807.86</td>\n",
       "      <td>1</td>\n",
       "      <td>0</td>\n",
       "      <td>1</td>\n",
       "      <td>112542.58</td>\n",
       "      <td>0</td>\n",
       "    </tr>\n",
       "    <tr>\n",
       "      <th>2</th>\n",
       "      <td>3</td>\n",
       "      <td>15619304</td>\n",
       "      <td>Onio</td>\n",
       "      <td>502</td>\n",
       "      <td>France</td>\n",
       "      <td>Female</td>\n",
       "      <td>42</td>\n",
       "      <td>8.0</td>\n",
       "      <td>159660.80</td>\n",
       "      <td>3</td>\n",
       "      <td>1</td>\n",
       "      <td>0</td>\n",
       "      <td>113931.57</td>\n",
       "      <td>1</td>\n",
       "    </tr>\n",
       "    <tr>\n",
       "      <th>3</th>\n",
       "      <td>4</td>\n",
       "      <td>15701354</td>\n",
       "      <td>Boni</td>\n",
       "      <td>699</td>\n",
       "      <td>France</td>\n",
       "      <td>Female</td>\n",
       "      <td>39</td>\n",
       "      <td>1.0</td>\n",
       "      <td>0.00</td>\n",
       "      <td>2</td>\n",
       "      <td>0</td>\n",
       "      <td>0</td>\n",
       "      <td>93826.63</td>\n",
       "      <td>0</td>\n",
       "    </tr>\n",
       "    <tr>\n",
       "      <th>4</th>\n",
       "      <td>5</td>\n",
       "      <td>15737888</td>\n",
       "      <td>Mitchell</td>\n",
       "      <td>850</td>\n",
       "      <td>Spain</td>\n",
       "      <td>Female</td>\n",
       "      <td>43</td>\n",
       "      <td>2.0</td>\n",
       "      <td>125510.82</td>\n",
       "      <td>1</td>\n",
       "      <td>1</td>\n",
       "      <td>1</td>\n",
       "      <td>79084.10</td>\n",
       "      <td>0</td>\n",
       "    </tr>\n",
       "    <tr>\n",
       "      <th>5</th>\n",
       "      <td>6</td>\n",
       "      <td>15574012</td>\n",
       "      <td>Chu</td>\n",
       "      <td>645</td>\n",
       "      <td>Spain</td>\n",
       "      <td>Male</td>\n",
       "      <td>44</td>\n",
       "      <td>8.0</td>\n",
       "      <td>113755.78</td>\n",
       "      <td>2</td>\n",
       "      <td>1</td>\n",
       "      <td>0</td>\n",
       "      <td>149756.71</td>\n",
       "      <td>1</td>\n",
       "    </tr>\n",
       "    <tr>\n",
       "      <th>6</th>\n",
       "      <td>7</td>\n",
       "      <td>15592531</td>\n",
       "      <td>Bartlett</td>\n",
       "      <td>822</td>\n",
       "      <td>France</td>\n",
       "      <td>Male</td>\n",
       "      <td>50</td>\n",
       "      <td>7.0</td>\n",
       "      <td>0.00</td>\n",
       "      <td>2</td>\n",
       "      <td>1</td>\n",
       "      <td>1</td>\n",
       "      <td>10062.80</td>\n",
       "      <td>0</td>\n",
       "    </tr>\n",
       "    <tr>\n",
       "      <th>7</th>\n",
       "      <td>8</td>\n",
       "      <td>15656148</td>\n",
       "      <td>Obinna</td>\n",
       "      <td>376</td>\n",
       "      <td>Germany</td>\n",
       "      <td>Female</td>\n",
       "      <td>29</td>\n",
       "      <td>4.0</td>\n",
       "      <td>115046.74</td>\n",
       "      <td>4</td>\n",
       "      <td>1</td>\n",
       "      <td>0</td>\n",
       "      <td>119346.88</td>\n",
       "      <td>1</td>\n",
       "    </tr>\n",
       "    <tr>\n",
       "      <th>8</th>\n",
       "      <td>9</td>\n",
       "      <td>15792365</td>\n",
       "      <td>He</td>\n",
       "      <td>501</td>\n",
       "      <td>France</td>\n",
       "      <td>Male</td>\n",
       "      <td>44</td>\n",
       "      <td>4.0</td>\n",
       "      <td>142051.07</td>\n",
       "      <td>2</td>\n",
       "      <td>0</td>\n",
       "      <td>1</td>\n",
       "      <td>74940.50</td>\n",
       "      <td>0</td>\n",
       "    </tr>\n",
       "    <tr>\n",
       "      <th>9</th>\n",
       "      <td>10</td>\n",
       "      <td>15592389</td>\n",
       "      <td>H?</td>\n",
       "      <td>684</td>\n",
       "      <td>France</td>\n",
       "      <td>Male</td>\n",
       "      <td>27</td>\n",
       "      <td>2.0</td>\n",
       "      <td>134603.88</td>\n",
       "      <td>1</td>\n",
       "      <td>1</td>\n",
       "      <td>1</td>\n",
       "      <td>71725.73</td>\n",
       "      <td>0</td>\n",
       "    </tr>\n",
       "  </tbody>\n",
       "</table>\n",
       "</div>"
      ],
      "text/plain": [
       "   RowNumber  CustomerId   Surname  CreditScore Geography  Gender  Age  \\\n",
       "0          1    15634602  Hargrave          619    France  Female   42   \n",
       "1          2    15647311      Hill          608     Spain  Female   41   \n",
       "2          3    15619304      Onio          502    France  Female   42   \n",
       "3          4    15701354      Boni          699    France  Female   39   \n",
       "4          5    15737888  Mitchell          850     Spain  Female   43   \n",
       "5          6    15574012       Chu          645     Spain    Male   44   \n",
       "6          7    15592531  Bartlett          822    France    Male   50   \n",
       "7          8    15656148    Obinna          376   Germany  Female   29   \n",
       "8          9    15792365        He          501    France    Male   44   \n",
       "9         10    15592389        H?          684    France    Male   27   \n",
       "\n",
       "   Tenure    Balance  NumOfProducts  HasCrCard  IsActiveMember  \\\n",
       "0     2.0       0.00              1          1               1   \n",
       "1     1.0   83807.86              1          0               1   \n",
       "2     8.0  159660.80              3          1               0   \n",
       "3     1.0       0.00              2          0               0   \n",
       "4     2.0  125510.82              1          1               1   \n",
       "5     8.0  113755.78              2          1               0   \n",
       "6     7.0       0.00              2          1               1   \n",
       "7     4.0  115046.74              4          1               0   \n",
       "8     4.0  142051.07              2          0               1   \n",
       "9     2.0  134603.88              1          1               1   \n",
       "\n",
       "   EstimatedSalary  Exited  \n",
       "0        101348.88       1  \n",
       "1        112542.58       0  \n",
       "2        113931.57       1  \n",
       "3         93826.63       0  \n",
       "4         79084.10       0  \n",
       "5        149756.71       1  \n",
       "6         10062.80       0  \n",
       "7        119346.88       1  \n",
       "8         74940.50       0  \n",
       "9         71725.73       0  "
      ]
     },
     "execution_count": 3,
     "metadata": {},
     "output_type": "execute_result"
    }
   ],
   "source": [
    "df.head(10)"
   ]
  },
  {
   "cell_type": "code",
   "execution_count": 4,
   "metadata": {},
   "outputs": [
    {
     "name": "stdout",
     "output_type": "stream",
     "text": [
      "<class 'pandas.core.frame.DataFrame'>\n",
      "RangeIndex: 10000 entries, 0 to 9999\n",
      "Data columns (total 14 columns):\n",
      " #   Column           Non-Null Count  Dtype  \n",
      "---  ------           --------------  -----  \n",
      " 0   RowNumber        10000 non-null  int64  \n",
      " 1   CustomerId       10000 non-null  int64  \n",
      " 2   Surname          10000 non-null  object \n",
      " 3   CreditScore      10000 non-null  int64  \n",
      " 4   Geography        10000 non-null  object \n",
      " 5   Gender           10000 non-null  object \n",
      " 6   Age              10000 non-null  int64  \n",
      " 7   Tenure           9091 non-null   float64\n",
      " 8   Balance          10000 non-null  float64\n",
      " 9   NumOfProducts    10000 non-null  int64  \n",
      " 10  HasCrCard        10000 non-null  int64  \n",
      " 11  IsActiveMember   10000 non-null  int64  \n",
      " 12  EstimatedSalary  10000 non-null  float64\n",
      " 13  Exited           10000 non-null  int64  \n",
      "dtypes: float64(3), int64(8), object(3)\n",
      "memory usage: 1.1+ MB\n"
     ]
    }
   ],
   "source": [
    "df.info()"
   ]
  },
  {
   "cell_type": "markdown",
   "metadata": {},
   "source": [
    "### Проверка дубликатов, удаление лишних данных, заполнение пропусков"
   ]
  },
  {
   "cell_type": "code",
   "execution_count": 5,
   "metadata": {},
   "outputs": [
    {
     "data": {
      "text/plain": [
       "0"
      ]
     },
     "execution_count": 5,
     "metadata": {},
     "output_type": "execute_result"
    }
   ],
   "source": [
    "# проверка дубликатов пользователей\n",
    "df.duplicated('CustomerId').sum()"
   ]
  },
  {
   "cell_type": "markdown",
   "metadata": {},
   "source": [
    "<div style=\"background-color:black; color:#ffffff; text-align:left; padding:2%\">\n",
    "\n",
    "Столбцы ***RowNumber***, ***CustomerId***, ***Surname*** в данной задаче не несут для нас никакой ценности, поэтому удаляем их."
   ]
  },
  {
   "cell_type": "code",
   "execution_count": 6,
   "metadata": {},
   "outputs": [],
   "source": [
    "# удаляем лишние столбцы\n",
    "df = df.drop(columns=['RowNumber','CustomerId','Surname'])"
   ]
  },
  {
   "cell_type": "markdown",
   "metadata": {},
   "source": [
    "<div style=\"background-color:black; color:#ffffff; text-align:left; padding:2%\">\n",
    "\n",
    "Строки с пропусками в столбце ***Tenure*** удаляем, т.к. они составляют примерно 9% от всех данных, что допустимо."
   ]
  },
  {
   "cell_type": "code",
   "execution_count": 7,
   "metadata": {},
   "outputs": [],
   "source": [
    "# удаляем данные с пропусками\n",
    "df = df.loc[~df['Tenure'].isna()]\n",
    "df = df.reset_index(drop=True)"
   ]
  },
  {
   "cell_type": "code",
   "execution_count": 8,
   "metadata": {},
   "outputs": [
    {
     "name": "stdout",
     "output_type": "stream",
     "text": [
      "<class 'pandas.core.frame.DataFrame'>\n",
      "RangeIndex: 9091 entries, 0 to 9090\n",
      "Data columns (total 11 columns):\n",
      " #   Column           Non-Null Count  Dtype  \n",
      "---  ------           --------------  -----  \n",
      " 0   CreditScore      9091 non-null   int64  \n",
      " 1   Geography        9091 non-null   object \n",
      " 2   Gender           9091 non-null   object \n",
      " 3   Age              9091 non-null   int64  \n",
      " 4   Tenure           9091 non-null   float64\n",
      " 5   Balance          9091 non-null   float64\n",
      " 6   NumOfProducts    9091 non-null   int64  \n",
      " 7   HasCrCard        9091 non-null   int64  \n",
      " 8   IsActiveMember   9091 non-null   int64  \n",
      " 9   EstimatedSalary  9091 non-null   float64\n",
      " 10  Exited           9091 non-null   int64  \n",
      "dtypes: float64(3), int64(6), object(2)\n",
      "memory usage: 781.4+ KB\n"
     ]
    }
   ],
   "source": [
    "df.info()"
   ]
  },
  {
   "cell_type": "markdown",
   "metadata": {},
   "source": [
    "### Проверка распределения данных"
   ]
  },
  {
   "cell_type": "code",
   "execution_count": 9,
   "metadata": {},
   "outputs": [
    {
     "data": {
      "text/html": [
       "<div>\n",
       "<style scoped>\n",
       "    .dataframe tbody tr th:only-of-type {\n",
       "        vertical-align: middle;\n",
       "    }\n",
       "\n",
       "    .dataframe tbody tr th {\n",
       "        vertical-align: top;\n",
       "    }\n",
       "\n",
       "    .dataframe thead th {\n",
       "        text-align: right;\n",
       "    }\n",
       "</style>\n",
       "<table border=\"1\" class=\"dataframe\">\n",
       "  <thead>\n",
       "    <tr style=\"text-align: right;\">\n",
       "      <th></th>\n",
       "      <th>CreditScore</th>\n",
       "      <th>Age</th>\n",
       "      <th>Tenure</th>\n",
       "      <th>Balance</th>\n",
       "      <th>NumOfProducts</th>\n",
       "      <th>HasCrCard</th>\n",
       "      <th>IsActiveMember</th>\n",
       "      <th>EstimatedSalary</th>\n",
       "      <th>Exited</th>\n",
       "    </tr>\n",
       "  </thead>\n",
       "  <tbody>\n",
       "    <tr>\n",
       "      <th>count</th>\n",
       "      <td>9091.000000</td>\n",
       "      <td>9091.000000</td>\n",
       "      <td>9091.000000</td>\n",
       "      <td>9091.000000</td>\n",
       "      <td>9091.000000</td>\n",
       "      <td>9091.000000</td>\n",
       "      <td>9091.000000</td>\n",
       "      <td>9091.000000</td>\n",
       "      <td>9091.000000</td>\n",
       "    </tr>\n",
       "    <tr>\n",
       "      <th>mean</th>\n",
       "      <td>650.736553</td>\n",
       "      <td>38.949181</td>\n",
       "      <td>4.997690</td>\n",
       "      <td>76522.740015</td>\n",
       "      <td>1.530195</td>\n",
       "      <td>0.704983</td>\n",
       "      <td>0.515565</td>\n",
       "      <td>100181.214924</td>\n",
       "      <td>0.203938</td>\n",
       "    </tr>\n",
       "    <tr>\n",
       "      <th>std</th>\n",
       "      <td>96.410471</td>\n",
       "      <td>10.555581</td>\n",
       "      <td>2.894723</td>\n",
       "      <td>62329.528576</td>\n",
       "      <td>0.581003</td>\n",
       "      <td>0.456076</td>\n",
       "      <td>0.499785</td>\n",
       "      <td>57624.755647</td>\n",
       "      <td>0.402946</td>\n",
       "    </tr>\n",
       "    <tr>\n",
       "      <th>min</th>\n",
       "      <td>350.000000</td>\n",
       "      <td>18.000000</td>\n",
       "      <td>0.000000</td>\n",
       "      <td>0.000000</td>\n",
       "      <td>1.000000</td>\n",
       "      <td>0.000000</td>\n",
       "      <td>0.000000</td>\n",
       "      <td>11.580000</td>\n",
       "      <td>0.000000</td>\n",
       "    </tr>\n",
       "    <tr>\n",
       "      <th>25%</th>\n",
       "      <td>584.000000</td>\n",
       "      <td>32.000000</td>\n",
       "      <td>2.000000</td>\n",
       "      <td>0.000000</td>\n",
       "      <td>1.000000</td>\n",
       "      <td>0.000000</td>\n",
       "      <td>0.000000</td>\n",
       "      <td>51227.745000</td>\n",
       "      <td>0.000000</td>\n",
       "    </tr>\n",
       "    <tr>\n",
       "      <th>50%</th>\n",
       "      <td>652.000000</td>\n",
       "      <td>37.000000</td>\n",
       "      <td>5.000000</td>\n",
       "      <td>97318.250000</td>\n",
       "      <td>1.000000</td>\n",
       "      <td>1.000000</td>\n",
       "      <td>1.000000</td>\n",
       "      <td>100240.200000</td>\n",
       "      <td>0.000000</td>\n",
       "    </tr>\n",
       "    <tr>\n",
       "      <th>75%</th>\n",
       "      <td>717.000000</td>\n",
       "      <td>44.000000</td>\n",
       "      <td>7.000000</td>\n",
       "      <td>127561.890000</td>\n",
       "      <td>2.000000</td>\n",
       "      <td>1.000000</td>\n",
       "      <td>1.000000</td>\n",
       "      <td>149567.210000</td>\n",
       "      <td>0.000000</td>\n",
       "    </tr>\n",
       "    <tr>\n",
       "      <th>max</th>\n",
       "      <td>850.000000</td>\n",
       "      <td>92.000000</td>\n",
       "      <td>10.000000</td>\n",
       "      <td>250898.090000</td>\n",
       "      <td>4.000000</td>\n",
       "      <td>1.000000</td>\n",
       "      <td>1.000000</td>\n",
       "      <td>199992.480000</td>\n",
       "      <td>1.000000</td>\n",
       "    </tr>\n",
       "  </tbody>\n",
       "</table>\n",
       "</div>"
      ],
      "text/plain": [
       "       CreditScore          Age       Tenure        Balance  NumOfProducts  \\\n",
       "count  9091.000000  9091.000000  9091.000000    9091.000000    9091.000000   \n",
       "mean    650.736553    38.949181     4.997690   76522.740015       1.530195   \n",
       "std      96.410471    10.555581     2.894723   62329.528576       0.581003   \n",
       "min     350.000000    18.000000     0.000000       0.000000       1.000000   \n",
       "25%     584.000000    32.000000     2.000000       0.000000       1.000000   \n",
       "50%     652.000000    37.000000     5.000000   97318.250000       1.000000   \n",
       "75%     717.000000    44.000000     7.000000  127561.890000       2.000000   \n",
       "max     850.000000    92.000000    10.000000  250898.090000       4.000000   \n",
       "\n",
       "         HasCrCard  IsActiveMember  EstimatedSalary       Exited  \n",
       "count  9091.000000     9091.000000      9091.000000  9091.000000  \n",
       "mean      0.704983        0.515565    100181.214924     0.203938  \n",
       "std       0.456076        0.499785     57624.755647     0.402946  \n",
       "min       0.000000        0.000000        11.580000     0.000000  \n",
       "25%       0.000000        0.000000     51227.745000     0.000000  \n",
       "50%       1.000000        1.000000    100240.200000     0.000000  \n",
       "75%       1.000000        1.000000    149567.210000     0.000000  \n",
       "max       1.000000        1.000000    199992.480000     1.000000  "
      ]
     },
     "execution_count": 9,
     "metadata": {},
     "output_type": "execute_result"
    }
   ],
   "source": [
    "df.describe()"
   ]
  },
  {
   "cell_type": "code",
   "execution_count": 10,
   "metadata": {},
   "outputs": [
    {
     "data": {
      "image/png": "[encoded data removed]",
      "text/plain": [
       "<Figure size 360x360 with 1 Axes>"
      ]
     },
     "metadata": {},
     "output_type": "display_data"
    }
   ],
   "source": [
    "df['Gender'].value_counts().plot(kind='pie', figsize=(5,5), autopct='%.2f%%')\n",
    "plt.title('Распределение клиентов по половому признаку', fontsize=16);"
   ]
  },
  {
   "cell_type": "code",
   "execution_count": 11,
   "metadata": {},
   "outputs": [
    {
     "data": {
      "image/png": "[encoded data removed]",
      "text/plain": [
       "<Figure size 360x360 with 1 Axes>"
      ]
     },
     "metadata": {},
     "output_type": "display_data"
    }
   ],
   "source": [
    "df['HasCrCard'].value_counts().plot(kind='pie', figsize=(5,5), autopct='%.2f%%')\n",
    "plt.title('Распределение клиентов по наличию кредитной карты', fontsize=16);"
   ]
  },
  {
   "cell_type": "code",
   "execution_count": 12,
   "metadata": {},
   "outputs": [
    {
     "data": {
      "image/png": "[encoded data removed]",
      "text/plain": [
       "<Figure size 360x360 with 1 Axes>"
      ]
     },
     "metadata": {},
     "output_type": "display_data"
    }
   ],
   "source": [
    "df['IsActiveMember'].value_counts().plot(kind='pie', figsize=(5,5), autopct='%.2f%%')\n",
    "plt.title('Распределение клиентов по активности клиентов', fontsize=16);"
   ]
  },
  {
   "cell_type": "code",
   "execution_count": 13,
   "metadata": {},
   "outputs": [
    {
     "data": {
      "image/png": "[encoded data removed]",
      "text/plain": [
       "<Figure size 360x360 with 1 Axes>"
      ]
     },
     "metadata": {},
     "output_type": "display_data"
    }
   ],
   "source": [
    "df['Exited'].value_counts().plot(kind='pie', figsize=(5,5), autopct='%.2f%%')\n",
    "plt.title('Распределение клиентов по факту ухода клиента', fontsize=16);"
   ]
  },
  {
   "cell_type": "code",
   "execution_count": 14,
   "metadata": {},
   "outputs": [
    {
     "data": {
      "image/png": "[encoded data removed]",
      "text/plain": [
       "<Figure size 1008x504 with 1 Axes>"
      ]
     },
     "metadata": {
      "needs_background": "light"
     },
     "output_type": "display_data"
    },
    {
     "data": {
      "image/png": "[encoded data removed]",
      "text/plain": [
       "<Figure size 1008x504 with 1 Axes>"
      ]
     },
     "metadata": {
      "needs_background": "light"
     },
     "output_type": "display_data"
    },
    {
     "data": {
      "image/png": "[encoded data removed]",
      "text/plain": [
       "<Figure size 1008x504 with 1 Axes>"
      ]
     },
     "metadata": {
      "needs_background": "light"
     },
     "output_type": "display_data"
    },
    {
     "data": {
      "image/png": "[encoded data removed]",
      "text/plain": [
       "<Figure size 1008x504 with 1 Axes>"
      ]
     },
     "metadata": {
      "needs_background": "light"
     },
     "output_type": "display_data"
    }
   ],
   "source": [
    "for i in ['CreditScore','Age','Balance','EstimatedSalary']:\n",
    "    df[i].hist(figsize=(14,7), bins=50, grid=True)\n",
    "    plt.title(f'Гистограмма по {i}', fontsize=16)\n",
    "    plt.xlabel(i)\n",
    "    plt.ylabel('Количество клиентов')\n",
    "    plt.show()"
   ]
  },
  {
   "cell_type": "code",
   "execution_count": 15,
   "metadata": {},
   "outputs": [
    {
     "data": {
      "image/png": "[encoded data removed]",
      "text/plain": [
       "<Figure size 1008x504 with 1 Axes>"
      ]
     },
     "metadata": {
      "needs_background": "light"
     },
     "output_type": "display_data"
    },
    {
     "data": {
      "image/png": "[encoded data removed]",
      "text/plain": [
       "<Figure size 1008x504 with 1 Axes>"
      ]
     },
     "metadata": {
      "needs_background": "light"
     },
     "output_type": "display_data"
    },
    {
     "data": {
      "image/png": "[encoded data removed]",
      "text/plain": [
       "<Figure size 1008x504 with 1 Axes>"
      ]
     },
     "metadata": {
      "needs_background": "light"
     },
     "output_type": "display_data"
    }
   ],
   "source": [
    "for i in ['Geography','Tenure','NumOfProducts']:\n",
    "    df.groupby(i)[i].count().plot(kind='bar',figsize=(14,7), grid=True, rot=0)\n",
    "    plt.title(f'Гистограмма по {i}', fontsize=16)\n",
    "    plt.xlabel(i)\n",
    "    plt.ylabel('Количество клиентов')\n",
    "    plt.show()"
   ]
  },
  {
   "cell_type": "code",
   "execution_count": 16,
   "metadata": {},
   "outputs": [
    {
     "data": {
      "image/png": "[encoded data removed]",
      "text/plain": [
       "<Figure size 1008x72 with 1 Axes>"
      ]
     },
     "metadata": {
      "needs_background": "light"
     },
     "output_type": "display_data"
    },
    {
     "data": {
      "image/png": "[encoded data removed]",
      "text/plain": [
       "<Figure size 1008x72 with 1 Axes>"
      ]
     },
     "metadata": {
      "needs_background": "light"
     },
     "output_type": "display_data"
    },
    {
     "data": {
      "image/png": "[encoded data removed]",
      "text/plain": [
       "<Figure size 1008x72 with 1 Axes>"
      ]
     },
     "metadata": {
      "needs_background": "light"
     },
     "output_type": "display_data"
    },
    {
     "data": {
      "image/png": "[encoded data removed]",
      "text/plain": [
       "<Figure size 1008x72 with 1 Axes>"
      ]
     },
     "metadata": {
      "needs_background": "light"
     },
     "output_type": "display_data"
    },
    {
     "data": {
      "image/png": "[encoded data removed]",
      "text/plain": [
       "<Figure size 1008x72 with 1 Axes>"
      ]
     },
     "metadata": {
      "needs_background": "light"
     },
     "output_type": "display_data"
    },
    {
     "data": {
      "image/png": "[encoded data removed]",
      "text/plain": [
       "<Figure size 1008x72 with 1 Axes>"
      ]
     },
     "metadata": {
      "needs_background": "light"
     },
     "output_type": "display_data"
    }
   ],
   "source": [
    "for i in ['CreditScore','Age','Balance','EstimatedSalary','Tenure','NumOfProducts']:\n",
    "    df.boxplot(column=i,figsize=(14,1), grid=True, vert=False)\n",
    "    plt.title(f'Диаграмма размаха по {i}', fontsize=16)\n",
    "    plt.show()"
   ]
  },
  {
   "cell_type": "markdown",
   "metadata": {},
   "source": [
    "<div style=\"background-color:black; color:#ffffff; text-align:left; padding:2%\">\n",
    "\n",
    "* Есть перекосы в соотношении данных в столбцах **HasCrCard**, **Exited**, **NumOfProducts**.\n",
    "* В стобце CreditScore данные в целом распределны нормально, но есть выброс в районе максимального рейтинга.\n",
    "* Похожая ситуация с **Balance**, только выброс находится возле нуля."
   ]
  },
  {
   "cell_type": "markdown",
   "metadata": {},
   "source": [
    "### Разделение данных, масштабирование, дамми-признаки, типы данных"
   ]
  },
  {
   "cell_type": "markdown",
   "metadata": {},
   "source": [
    "<div style=\"background-color:black; color:#ffffff; text-align:left; padding:2%\">\n",
    "    \n",
    "Произведём масштабирование признаков при помощи StandardScaler. А также получим дамми-признаки."
   ]
  },
  {
   "cell_type": "code",
   "execution_count": 17,
   "metadata": {},
   "outputs": [
    {
     "name": "stdout",
     "output_type": "stream",
     "text": [
      "(9091,)\n"
     ]
    },
    {
     "data": {
      "text/plain": [
       "(9091, 10)"
      ]
     },
     "execution_count": 17,
     "metadata": {},
     "output_type": "execute_result"
    }
   ],
   "source": [
    "target = df['Exited']\n",
    "features = df.drop('Exited', axis=1)\n",
    "print(target.shape)\n",
    "features.shape"
   ]
  },
  {
   "cell_type": "code",
   "execution_count": 18,
   "metadata": {},
   "outputs": [
    {
     "data": {
      "text/plain": [
       "Index(['CreditScore', 'Geography', 'Gender', 'Age', 'Tenure', 'Balance',\n",
       "       'NumOfProducts', 'HasCrCard', 'IsActiveMember', 'EstimatedSalary'],\n",
       "      dtype='object')"
      ]
     },
     "execution_count": 18,
     "metadata": {},
     "output_type": "execute_result"
    }
   ],
   "source": [
    "features.columns"
   ]
  },
  {
   "cell_type": "code",
   "execution_count": 19,
   "metadata": {
    "scrolled": true
   },
   "outputs": [
    {
     "name": "stdout",
     "output_type": "stream",
     "text": [
      "(5454, 10)\n",
      "(1818, 10)\n",
      "(1819, 10)\n",
      "(5454,)\n",
      "(1818,)\n"
     ]
    },
    {
     "data": {
      "text/plain": [
       "(1819,)"
      ]
     },
     "execution_count": 19,
     "metadata": {},
     "output_type": "execute_result"
    }
   ],
   "source": [
    "features_x, features_test, target_x, target_test = train_test_split(\n",
    "    features, target, test_size=0.2, random_state=12345, stratify=target)\n",
    "\n",
    "features_train, features_valid, target_train, target_valid = train_test_split(\n",
    "    features_x, target_x, test_size=0.25, random_state=12345, stratify=target_x)\n",
    "\n",
    "features_train = features_train.reset_index(drop=True)\n",
    "features_valid = features_valid.reset_index(drop=True)\n",
    "features_test = features_test.reset_index(drop=True)\n",
    "\n",
    "target_train = target_train.reset_index(drop=True)\n",
    "target_valid = target_valid.reset_index(drop=True)\n",
    "target_test = target_test.reset_index(drop=True)\n",
    "\n",
    "\n",
    "print(features_train.shape)\n",
    "print(features_valid.shape)\n",
    "print(features_test.shape)\n",
    "print(target_train.shape)\n",
    "print(target_valid.shape)\n",
    "print(target_test.shape)"
   ]
  },
  {
   "cell_type": "code",
   "execution_count": 20,
   "metadata": {},
   "outputs": [
    {
     "data": {
      "text/html": [
       "<div>\n",
       "<style scoped>\n",
       "    .dataframe tbody tr th:only-of-type {\n",
       "        vertical-align: middle;\n",
       "    }\n",
       "\n",
       "    .dataframe tbody tr th {\n",
       "        vertical-align: top;\n",
       "    }\n",
       "\n",
       "    .dataframe thead th {\n",
       "        text-align: right;\n",
       "    }\n",
       "</style>\n",
       "<table border=\"1\" class=\"dataframe\">\n",
       "  <thead>\n",
       "    <tr style=\"text-align: right;\">\n",
       "      <th></th>\n",
       "      <th>x0_Germany</th>\n",
       "      <th>x0_Spain</th>\n",
       "      <th>x1_Male</th>\n",
       "    </tr>\n",
       "  </thead>\n",
       "  <tbody>\n",
       "    <tr>\n",
       "      <th>0</th>\n",
       "      <td>0</td>\n",
       "      <td>0</td>\n",
       "      <td>0</td>\n",
       "    </tr>\n",
       "    <tr>\n",
       "      <th>1</th>\n",
       "      <td>0</td>\n",
       "      <td>0</td>\n",
       "      <td>1</td>\n",
       "    </tr>\n",
       "    <tr>\n",
       "      <th>2</th>\n",
       "      <td>0</td>\n",
       "      <td>0</td>\n",
       "      <td>0</td>\n",
       "    </tr>\n",
       "    <tr>\n",
       "      <th>3</th>\n",
       "      <td>0</td>\n",
       "      <td>0</td>\n",
       "      <td>1</td>\n",
       "    </tr>\n",
       "    <tr>\n",
       "      <th>4</th>\n",
       "      <td>0</td>\n",
       "      <td>0</td>\n",
       "      <td>1</td>\n",
       "    </tr>\n",
       "  </tbody>\n",
       "</table>\n",
       "</div>"
      ],
      "text/plain": [
       "   x0_Germany  x0_Spain  x1_Male\n",
       "0           0         0        0\n",
       "1           0         0        1\n",
       "2           0         0        0\n",
       "3           0         0        1\n",
       "4           0         0        1"
      ]
     },
     "metadata": {},
     "output_type": "display_data"
    },
    {
     "data": {
      "text/html": [
       "<div>\n",
       "<style scoped>\n",
       "    .dataframe tbody tr th:only-of-type {\n",
       "        vertical-align: middle;\n",
       "    }\n",
       "\n",
       "    .dataframe tbody tr th {\n",
       "        vertical-align: top;\n",
       "    }\n",
       "\n",
       "    .dataframe thead th {\n",
       "        text-align: right;\n",
       "    }\n",
       "</style>\n",
       "<table border=\"1\" class=\"dataframe\">\n",
       "  <thead>\n",
       "    <tr style=\"text-align: right;\">\n",
       "      <th></th>\n",
       "      <th>x0_Germany</th>\n",
       "      <th>x0_Spain</th>\n",
       "      <th>x1_Male</th>\n",
       "    </tr>\n",
       "  </thead>\n",
       "  <tbody>\n",
       "    <tr>\n",
       "      <th>0</th>\n",
       "      <td>1</td>\n",
       "      <td>0</td>\n",
       "      <td>0</td>\n",
       "    </tr>\n",
       "    <tr>\n",
       "      <th>1</th>\n",
       "      <td>0</td>\n",
       "      <td>0</td>\n",
       "      <td>1</td>\n",
       "    </tr>\n",
       "    <tr>\n",
       "      <th>2</th>\n",
       "      <td>0</td>\n",
       "      <td>0</td>\n",
       "      <td>1</td>\n",
       "    </tr>\n",
       "    <tr>\n",
       "      <th>3</th>\n",
       "      <td>0</td>\n",
       "      <td>0</td>\n",
       "      <td>1</td>\n",
       "    </tr>\n",
       "    <tr>\n",
       "      <th>4</th>\n",
       "      <td>0</td>\n",
       "      <td>0</td>\n",
       "      <td>0</td>\n",
       "    </tr>\n",
       "  </tbody>\n",
       "</table>\n",
       "</div>"
      ],
      "text/plain": [
       "   x0_Germany  x0_Spain  x1_Male\n",
       "0           1         0        0\n",
       "1           0         0        1\n",
       "2           0         0        1\n",
       "3           0         0        1\n",
       "4           0         0        0"
      ]
     },
     "metadata": {},
     "output_type": "display_data"
    },
    {
     "data": {
      "text/html": [
       "<div>\n",
       "<style scoped>\n",
       "    .dataframe tbody tr th:only-of-type {\n",
       "        vertical-align: middle;\n",
       "    }\n",
       "\n",
       "    .dataframe tbody tr th {\n",
       "        vertical-align: top;\n",
       "    }\n",
       "\n",
       "    .dataframe thead th {\n",
       "        text-align: right;\n",
       "    }\n",
       "</style>\n",
       "<table border=\"1\" class=\"dataframe\">\n",
       "  <thead>\n",
       "    <tr style=\"text-align: right;\">\n",
       "      <th></th>\n",
       "      <th>x0_Germany</th>\n",
       "      <th>x0_Spain</th>\n",
       "      <th>x1_Male</th>\n",
       "    </tr>\n",
       "  </thead>\n",
       "  <tbody>\n",
       "    <tr>\n",
       "      <th>0</th>\n",
       "      <td>1</td>\n",
       "      <td>0</td>\n",
       "      <td>1</td>\n",
       "    </tr>\n",
       "    <tr>\n",
       "      <th>1</th>\n",
       "      <td>0</td>\n",
       "      <td>0</td>\n",
       "      <td>1</td>\n",
       "    </tr>\n",
       "    <tr>\n",
       "      <th>2</th>\n",
       "      <td>1</td>\n",
       "      <td>0</td>\n",
       "      <td>0</td>\n",
       "    </tr>\n",
       "    <tr>\n",
       "      <th>3</th>\n",
       "      <td>0</td>\n",
       "      <td>0</td>\n",
       "      <td>1</td>\n",
       "    </tr>\n",
       "    <tr>\n",
       "      <th>4</th>\n",
       "      <td>1</td>\n",
       "      <td>0</td>\n",
       "      <td>1</td>\n",
       "    </tr>\n",
       "  </tbody>\n",
       "</table>\n",
       "</div>"
      ],
      "text/plain": [
       "   x0_Germany  x0_Spain  x1_Male\n",
       "0           1         0        1\n",
       "1           0         0        1\n",
       "2           1         0        0\n",
       "3           0         0        1\n",
       "4           1         0        1"
      ]
     },
     "execution_count": 20,
     "metadata": {},
     "output_type": "execute_result"
    }
   ],
   "source": [
    "# получение дамми-признаков\n",
    "onehotencoder = OneHotEncoder(drop='first', sparse=False)\n",
    "onehotencoder.fit(features_train[['Geography','Gender']])\n",
    "\n",
    "encoder_df_train = pd.DataFrame(onehotencoder.transform(features_train[['Geography','Gender']]), dtype='int8')\n",
    "encoder_df_train.columns = onehotencoder.get_feature_names()\n",
    "\n",
    "encoder_df_valid = pd.DataFrame(onehotencoder.transform(features_valid[['Geography','Gender']]), dtype='int8')\n",
    "encoder_df_valid.columns = onehotencoder.get_feature_names()\n",
    "\n",
    "encoder_df_test = pd.DataFrame(onehotencoder.transform(features_test[['Geography','Gender']]), dtype='int8')\n",
    "encoder_df_test.columns = onehotencoder.get_feature_names()\n",
    "\n",
    "display(encoder_df_train.head())\n",
    "display(encoder_df_valid.head())\n",
    "encoder_df_test.head()"
   ]
  },
  {
   "cell_type": "code",
   "execution_count": 21,
   "metadata": {},
   "outputs": [
    {
     "data": {
      "text/html": [
       "<div>\n",
       "<style scoped>\n",
       "    .dataframe tbody tr th:only-of-type {\n",
       "        vertical-align: middle;\n",
       "    }\n",
       "\n",
       "    .dataframe tbody tr th {\n",
       "        vertical-align: top;\n",
       "    }\n",
       "\n",
       "    .dataframe thead th {\n",
       "        text-align: right;\n",
       "    }\n",
       "</style>\n",
       "<table border=\"1\" class=\"dataframe\">\n",
       "  <thead>\n",
       "    <tr style=\"text-align: right;\">\n",
       "      <th></th>\n",
       "      <th>CreditScore</th>\n",
       "      <th>Age</th>\n",
       "      <th>Tenure</th>\n",
       "      <th>Balance</th>\n",
       "      <th>NumOfProducts</th>\n",
       "      <th>HasCrCard</th>\n",
       "      <th>IsActiveMember</th>\n",
       "      <th>EstimatedSalary</th>\n",
       "      <th>x0_Germany</th>\n",
       "      <th>x0_Spain</th>\n",
       "      <th>x1_Male</th>\n",
       "    </tr>\n",
       "  </thead>\n",
       "  <tbody>\n",
       "    <tr>\n",
       "      <th>0</th>\n",
       "      <td>678</td>\n",
       "      <td>28</td>\n",
       "      <td>4.0</td>\n",
       "      <td>0.00</td>\n",
       "      <td>2</td>\n",
       "      <td>1</td>\n",
       "      <td>1</td>\n",
       "      <td>144423.17</td>\n",
       "      <td>0</td>\n",
       "      <td>0</td>\n",
       "      <td>0</td>\n",
       "    </tr>\n",
       "    <tr>\n",
       "      <th>1</th>\n",
       "      <td>735</td>\n",
       "      <td>41</td>\n",
       "      <td>7.0</td>\n",
       "      <td>179904.00</td>\n",
       "      <td>1</td>\n",
       "      <td>1</td>\n",
       "      <td>1</td>\n",
       "      <td>137180.95</td>\n",
       "      <td>0</td>\n",
       "      <td>0</td>\n",
       "      <td>1</td>\n",
       "    </tr>\n",
       "    <tr>\n",
       "      <th>2</th>\n",
       "      <td>639</td>\n",
       "      <td>31</td>\n",
       "      <td>3.0</td>\n",
       "      <td>98360.03</td>\n",
       "      <td>1</td>\n",
       "      <td>0</td>\n",
       "      <td>0</td>\n",
       "      <td>20973.80</td>\n",
       "      <td>0</td>\n",
       "      <td>0</td>\n",
       "      <td>0</td>\n",
       "    </tr>\n",
       "    <tr>\n",
       "      <th>3</th>\n",
       "      <td>521</td>\n",
       "      <td>38</td>\n",
       "      <td>5.0</td>\n",
       "      <td>110641.18</td>\n",
       "      <td>1</td>\n",
       "      <td>0</td>\n",
       "      <td>1</td>\n",
       "      <td>136507.69</td>\n",
       "      <td>0</td>\n",
       "      <td>0</td>\n",
       "      <td>1</td>\n",
       "    </tr>\n",
       "    <tr>\n",
       "      <th>4</th>\n",
       "      <td>735</td>\n",
       "      <td>50</td>\n",
       "      <td>2.0</td>\n",
       "      <td>0.00</td>\n",
       "      <td>2</td>\n",
       "      <td>0</td>\n",
       "      <td>1</td>\n",
       "      <td>147075.69</td>\n",
       "      <td>0</td>\n",
       "      <td>0</td>\n",
       "      <td>1</td>\n",
       "    </tr>\n",
       "  </tbody>\n",
       "</table>\n",
       "</div>"
      ],
      "text/plain": [
       "   CreditScore  Age  Tenure    Balance  NumOfProducts  HasCrCard  \\\n",
       "0          678   28     4.0       0.00              2          1   \n",
       "1          735   41     7.0  179904.00              1          1   \n",
       "2          639   31     3.0   98360.03              1          0   \n",
       "3          521   38     5.0  110641.18              1          0   \n",
       "4          735   50     2.0       0.00              2          0   \n",
       "\n",
       "   IsActiveMember  EstimatedSalary  x0_Germany  x0_Spain  x1_Male  \n",
       "0               1        144423.17           0         0        0  \n",
       "1               1        137180.95           0         0        1  \n",
       "2               0         20973.80           0         0        0  \n",
       "3               1        136507.69           0         0        1  \n",
       "4               1        147075.69           0         0        1  "
      ]
     },
     "metadata": {},
     "output_type": "display_data"
    },
    {
     "data": {
      "text/html": [
       "<div>\n",
       "<style scoped>\n",
       "    .dataframe tbody tr th:only-of-type {\n",
       "        vertical-align: middle;\n",
       "    }\n",
       "\n",
       "    .dataframe tbody tr th {\n",
       "        vertical-align: top;\n",
       "    }\n",
       "\n",
       "    .dataframe thead th {\n",
       "        text-align: right;\n",
       "    }\n",
       "</style>\n",
       "<table border=\"1\" class=\"dataframe\">\n",
       "  <thead>\n",
       "    <tr style=\"text-align: right;\">\n",
       "      <th></th>\n",
       "      <th>CreditScore</th>\n",
       "      <th>Age</th>\n",
       "      <th>Tenure</th>\n",
       "      <th>Balance</th>\n",
       "      <th>NumOfProducts</th>\n",
       "      <th>HasCrCard</th>\n",
       "      <th>IsActiveMember</th>\n",
       "      <th>EstimatedSalary</th>\n",
       "      <th>x0_Germany</th>\n",
       "      <th>x0_Spain</th>\n",
       "      <th>x1_Male</th>\n",
       "    </tr>\n",
       "  </thead>\n",
       "  <tbody>\n",
       "    <tr>\n",
       "      <th>0</th>\n",
       "      <td>619</td>\n",
       "      <td>41</td>\n",
       "      <td>5.0</td>\n",
       "      <td>92467.58</td>\n",
       "      <td>1</td>\n",
       "      <td>1</td>\n",
       "      <td>0</td>\n",
       "      <td>38270.47</td>\n",
       "      <td>1</td>\n",
       "      <td>0</td>\n",
       "      <td>0</td>\n",
       "    </tr>\n",
       "    <tr>\n",
       "      <th>1</th>\n",
       "      <td>668</td>\n",
       "      <td>72</td>\n",
       "      <td>2.0</td>\n",
       "      <td>0.00</td>\n",
       "      <td>2</td>\n",
       "      <td>1</td>\n",
       "      <td>1</td>\n",
       "      <td>70783.61</td>\n",
       "      <td>0</td>\n",
       "      <td>0</td>\n",
       "      <td>1</td>\n",
       "    </tr>\n",
       "    <tr>\n",
       "      <th>2</th>\n",
       "      <td>532</td>\n",
       "      <td>60</td>\n",
       "      <td>5.0</td>\n",
       "      <td>76705.87</td>\n",
       "      <td>2</td>\n",
       "      <td>0</td>\n",
       "      <td>1</td>\n",
       "      <td>13889.73</td>\n",
       "      <td>0</td>\n",
       "      <td>0</td>\n",
       "      <td>1</td>\n",
       "    </tr>\n",
       "    <tr>\n",
       "      <th>3</th>\n",
       "      <td>625</td>\n",
       "      <td>43</td>\n",
       "      <td>8.0</td>\n",
       "      <td>201696.07</td>\n",
       "      <td>1</td>\n",
       "      <td>1</td>\n",
       "      <td>0</td>\n",
       "      <td>133020.90</td>\n",
       "      <td>0</td>\n",
       "      <td>0</td>\n",
       "      <td>1</td>\n",
       "    </tr>\n",
       "    <tr>\n",
       "      <th>4</th>\n",
       "      <td>516</td>\n",
       "      <td>47</td>\n",
       "      <td>6.0</td>\n",
       "      <td>109387.33</td>\n",
       "      <td>1</td>\n",
       "      <td>0</td>\n",
       "      <td>0</td>\n",
       "      <td>121365.45</td>\n",
       "      <td>0</td>\n",
       "      <td>0</td>\n",
       "      <td>0</td>\n",
       "    </tr>\n",
       "  </tbody>\n",
       "</table>\n",
       "</div>"
      ],
      "text/plain": [
       "   CreditScore  Age  Tenure    Balance  NumOfProducts  HasCrCard  \\\n",
       "0          619   41     5.0   92467.58              1          1   \n",
       "1          668   72     2.0       0.00              2          1   \n",
       "2          532   60     5.0   76705.87              2          0   \n",
       "3          625   43     8.0  201696.07              1          1   \n",
       "4          516   47     6.0  109387.33              1          0   \n",
       "\n",
       "   IsActiveMember  EstimatedSalary  x0_Germany  x0_Spain  x1_Male  \n",
       "0               0         38270.47           1         0        0  \n",
       "1               1         70783.61           0         0        1  \n",
       "2               1         13889.73           0         0        1  \n",
       "3               0        133020.90           0         0        1  \n",
       "4               0        121365.45           0         0        0  "
      ]
     },
     "metadata": {},
     "output_type": "display_data"
    },
    {
     "data": {
      "text/html": [
       "<div>\n",
       "<style scoped>\n",
       "    .dataframe tbody tr th:only-of-type {\n",
       "        vertical-align: middle;\n",
       "    }\n",
       "\n",
       "    .dataframe tbody tr th {\n",
       "        vertical-align: top;\n",
       "    }\n",
       "\n",
       "    .dataframe thead th {\n",
       "        text-align: right;\n",
       "    }\n",
       "</style>\n",
       "<table border=\"1\" class=\"dataframe\">\n",
       "  <thead>\n",
       "    <tr style=\"text-align: right;\">\n",
       "      <th></th>\n",
       "      <th>CreditScore</th>\n",
       "      <th>Age</th>\n",
       "      <th>Tenure</th>\n",
       "      <th>Balance</th>\n",
       "      <th>NumOfProducts</th>\n",
       "      <th>HasCrCard</th>\n",
       "      <th>IsActiveMember</th>\n",
       "      <th>EstimatedSalary</th>\n",
       "      <th>x0_Germany</th>\n",
       "      <th>x0_Spain</th>\n",
       "      <th>x1_Male</th>\n",
       "    </tr>\n",
       "  </thead>\n",
       "  <tbody>\n",
       "    <tr>\n",
       "      <th>0</th>\n",
       "      <td>480</td>\n",
       "      <td>44</td>\n",
       "      <td>10.0</td>\n",
       "      <td>129608.57</td>\n",
       "      <td>1</td>\n",
       "      <td>1</td>\n",
       "      <td>0</td>\n",
       "      <td>5472.70</td>\n",
       "      <td>1</td>\n",
       "      <td>0</td>\n",
       "      <td>1</td>\n",
       "    </tr>\n",
       "    <tr>\n",
       "      <th>1</th>\n",
       "      <td>762</td>\n",
       "      <td>31</td>\n",
       "      <td>7.0</td>\n",
       "      <td>117687.35</td>\n",
       "      <td>1</td>\n",
       "      <td>1</td>\n",
       "      <td>1</td>\n",
       "      <td>159344.43</td>\n",
       "      <td>0</td>\n",
       "      <td>0</td>\n",
       "      <td>1</td>\n",
       "    </tr>\n",
       "    <tr>\n",
       "      <th>2</th>\n",
       "      <td>466</td>\n",
       "      <td>56</td>\n",
       "      <td>2.0</td>\n",
       "      <td>111920.13</td>\n",
       "      <td>3</td>\n",
       "      <td>1</td>\n",
       "      <td>0</td>\n",
       "      <td>197634.11</td>\n",
       "      <td>1</td>\n",
       "      <td>0</td>\n",
       "      <td>0</td>\n",
       "    </tr>\n",
       "    <tr>\n",
       "      <th>3</th>\n",
       "      <td>559</td>\n",
       "      <td>28</td>\n",
       "      <td>3.0</td>\n",
       "      <td>141099.43</td>\n",
       "      <td>1</td>\n",
       "      <td>1</td>\n",
       "      <td>1</td>\n",
       "      <td>15607.27</td>\n",
       "      <td>0</td>\n",
       "      <td>0</td>\n",
       "      <td>1</td>\n",
       "    </tr>\n",
       "    <tr>\n",
       "      <th>4</th>\n",
       "      <td>728</td>\n",
       "      <td>39</td>\n",
       "      <td>6.0</td>\n",
       "      <td>152182.83</td>\n",
       "      <td>1</td>\n",
       "      <td>0</td>\n",
       "      <td>0</td>\n",
       "      <td>161203.60</td>\n",
       "      <td>1</td>\n",
       "      <td>0</td>\n",
       "      <td>1</td>\n",
       "    </tr>\n",
       "  </tbody>\n",
       "</table>\n",
       "</div>"
      ],
      "text/plain": [
       "   CreditScore  Age  Tenure    Balance  NumOfProducts  HasCrCard  \\\n",
       "0          480   44    10.0  129608.57              1          1   \n",
       "1          762   31     7.0  117687.35              1          1   \n",
       "2          466   56     2.0  111920.13              3          1   \n",
       "3          559   28     3.0  141099.43              1          1   \n",
       "4          728   39     6.0  152182.83              1          0   \n",
       "\n",
       "   IsActiveMember  EstimatedSalary  x0_Germany  x0_Spain  x1_Male  \n",
       "0               0          5472.70           1         0        1  \n",
       "1               1        159344.43           0         0        1  \n",
       "2               0        197634.11           1         0        0  \n",
       "3               1         15607.27           0         0        1  \n",
       "4               0        161203.60           1         0        1  "
      ]
     },
     "execution_count": 21,
     "metadata": {},
     "output_type": "execute_result"
    }
   ],
   "source": [
    "\n",
    "features_train = features_train.join(encoder_df_train)\n",
    "features_train = features_train.drop(['Geography','Gender'], axis=1)\n",
    "\n",
    "features_valid = features_valid.join(encoder_df_valid)\n",
    "features_valid = features_valid.drop(['Geography','Gender'], axis=1)\n",
    "\n",
    "features_test = features_test.join(encoder_df_test)\n",
    "features_test = features_test.drop(['Geography','Gender'], axis=1)\n",
    "\n",
    "display(features_train.head())\n",
    "display(features_valid.head())\n",
    "features_test.head()"
   ]
  },
  {
   "cell_type": "code",
   "execution_count": 22,
   "metadata": {},
   "outputs": [],
   "source": [
    "# масштабирование признаков\n",
    "scaler = StandardScaler()\n",
    "scaler.fit(features_train)\n",
    "col = features_train.columns\n",
    "\n",
    "features_train = pd.DataFrame(scaler.transform(features_train), columns=col)\n",
    "\n",
    "features_valid = pd.DataFrame(scaler.transform(features_valid), columns=col)\n",
    "\n",
    "features_test = pd.DataFrame(scaler.transform(features_test), columns=col)"
   ]
  },
  {
   "cell_type": "code",
   "execution_count": 23,
   "metadata": {},
   "outputs": [
    {
     "data": {
      "text/html": [
       "<div>\n",
       "<style scoped>\n",
       "    .dataframe tbody tr th:only-of-type {\n",
       "        vertical-align: middle;\n",
       "    }\n",
       "\n",
       "    .dataframe tbody tr th {\n",
       "        vertical-align: top;\n",
       "    }\n",
       "\n",
       "    .dataframe thead th {\n",
       "        text-align: right;\n",
       "    }\n",
       "</style>\n",
       "<table border=\"1\" class=\"dataframe\">\n",
       "  <thead>\n",
       "    <tr style=\"text-align: right;\">\n",
       "      <th></th>\n",
       "      <th>CreditScore</th>\n",
       "      <th>Age</th>\n",
       "      <th>Tenure</th>\n",
       "      <th>Balance</th>\n",
       "      <th>NumOfProducts</th>\n",
       "      <th>HasCrCard</th>\n",
       "      <th>IsActiveMember</th>\n",
       "      <th>EstimatedSalary</th>\n",
       "      <th>x0_Germany</th>\n",
       "      <th>x0_Spain</th>\n",
       "      <th>x1_Male</th>\n",
       "    </tr>\n",
       "  </thead>\n",
       "  <tbody>\n",
       "    <tr>\n",
       "      <th>0</th>\n",
       "      <td>0.273332</td>\n",
       "      <td>-1.028943</td>\n",
       "      <td>-0.344468</td>\n",
       "      <td>-1.224804</td>\n",
       "      <td>0.790519</td>\n",
       "      <td>0.643184</td>\n",
       "      <td>0.967169</td>\n",
       "      <td>0.776365</td>\n",
       "      <td>-0.588502</td>\n",
       "      <td>-0.567328</td>\n",
       "      <td>-1.093459</td>\n",
       "    </tr>\n",
       "    <tr>\n",
       "      <th>1</th>\n",
       "      <td>0.867258</td>\n",
       "      <td>0.197898</td>\n",
       "      <td>0.688936</td>\n",
       "      <td>1.669480</td>\n",
       "      <td>-0.916326</td>\n",
       "      <td>0.643184</td>\n",
       "      <td>0.967169</td>\n",
       "      <td>0.650528</td>\n",
       "      <td>-0.588502</td>\n",
       "      <td>-0.567328</td>\n",
       "      <td>0.914529</td>\n",
       "    </tr>\n",
       "    <tr>\n",
       "      <th>2</th>\n",
       "      <td>-0.133038</td>\n",
       "      <td>-0.745826</td>\n",
       "      <td>-0.688936</td>\n",
       "      <td>0.357605</td>\n",
       "      <td>-0.916326</td>\n",
       "      <td>-1.554765</td>\n",
       "      <td>-1.033946</td>\n",
       "      <td>-1.368629</td>\n",
       "      <td>-0.588502</td>\n",
       "      <td>-0.567328</td>\n",
       "      <td>-1.093459</td>\n",
       "    </tr>\n",
       "    <tr>\n",
       "      <th>3</th>\n",
       "      <td>-1.362568</td>\n",
       "      <td>-0.085219</td>\n",
       "      <td>0.000000</td>\n",
       "      <td>0.555184</td>\n",
       "      <td>-0.916326</td>\n",
       "      <td>-1.554765</td>\n",
       "      <td>0.967169</td>\n",
       "      <td>0.638830</td>\n",
       "      <td>-0.588502</td>\n",
       "      <td>-0.567328</td>\n",
       "      <td>0.914529</td>\n",
       "    </tr>\n",
       "    <tr>\n",
       "      <th>4</th>\n",
       "      <td>0.867258</td>\n",
       "      <td>1.047250</td>\n",
       "      <td>-1.033403</td>\n",
       "      <td>-1.224804</td>\n",
       "      <td>0.790519</td>\n",
       "      <td>-1.554765</td>\n",
       "      <td>0.967169</td>\n",
       "      <td>0.822454</td>\n",
       "      <td>-0.588502</td>\n",
       "      <td>-0.567328</td>\n",
       "      <td>0.914529</td>\n",
       "    </tr>\n",
       "  </tbody>\n",
       "</table>\n",
       "</div>"
      ],
      "text/plain": [
       "   CreditScore       Age    Tenure   Balance  NumOfProducts  HasCrCard  \\\n",
       "0     0.273332 -1.028943 -0.344468 -1.224804       0.790519   0.643184   \n",
       "1     0.867258  0.197898  0.688936  1.669480      -0.916326   0.643184   \n",
       "2    -0.133038 -0.745826 -0.688936  0.357605      -0.916326  -1.554765   \n",
       "3    -1.362568 -0.085219  0.000000  0.555184      -0.916326  -1.554765   \n",
       "4     0.867258  1.047250 -1.033403 -1.224804       0.790519  -1.554765   \n",
       "\n",
       "   IsActiveMember  EstimatedSalary  x0_Germany  x0_Spain   x1_Male  \n",
       "0        0.967169         0.776365   -0.588502 -0.567328 -1.093459  \n",
       "1        0.967169         0.650528   -0.588502 -0.567328  0.914529  \n",
       "2       -1.033946        -1.368629   -0.588502 -0.567328 -1.093459  \n",
       "3        0.967169         0.638830   -0.588502 -0.567328  0.914529  \n",
       "4        0.967169         0.822454   -0.588502 -0.567328  0.914529  "
      ]
     },
     "metadata": {},
     "output_type": "display_data"
    },
    {
     "data": {
      "text/html": [
       "<div>\n",
       "<style scoped>\n",
       "    .dataframe tbody tr th:only-of-type {\n",
       "        vertical-align: middle;\n",
       "    }\n",
       "\n",
       "    .dataframe tbody tr th {\n",
       "        vertical-align: top;\n",
       "    }\n",
       "\n",
       "    .dataframe thead th {\n",
       "        text-align: right;\n",
       "    }\n",
       "</style>\n",
       "<table border=\"1\" class=\"dataframe\">\n",
       "  <thead>\n",
       "    <tr style=\"text-align: right;\">\n",
       "      <th></th>\n",
       "      <th>CreditScore</th>\n",
       "      <th>Age</th>\n",
       "      <th>Tenure</th>\n",
       "      <th>Balance</th>\n",
       "      <th>NumOfProducts</th>\n",
       "      <th>HasCrCard</th>\n",
       "      <th>IsActiveMember</th>\n",
       "      <th>EstimatedSalary</th>\n",
       "      <th>x0_Germany</th>\n",
       "      <th>x0_Spain</th>\n",
       "      <th>x1_Male</th>\n",
       "    </tr>\n",
       "  </thead>\n",
       "  <tbody>\n",
       "    <tr>\n",
       "      <th>count</th>\n",
       "      <td>5.454000e+03</td>\n",
       "      <td>5.454000e+03</td>\n",
       "      <td>5.454000e+03</td>\n",
       "      <td>5.454000e+03</td>\n",
       "      <td>5.454000e+03</td>\n",
       "      <td>5.454000e+03</td>\n",
       "      <td>5.454000e+03</td>\n",
       "      <td>5.454000e+03</td>\n",
       "      <td>5.454000e+03</td>\n",
       "      <td>5.454000e+03</td>\n",
       "      <td>5.454000e+03</td>\n",
       "    </tr>\n",
       "    <tr>\n",
       "      <th>mean</th>\n",
       "      <td>-3.484968e-16</td>\n",
       "      <td>-1.563350e-17</td>\n",
       "      <td>-1.302792e-18</td>\n",
       "      <td>6.774518e-17</td>\n",
       "      <td>7.165356e-18</td>\n",
       "      <td>-1.107373e-17</td>\n",
       "      <td>-1.433071e-16</td>\n",
       "      <td>-2.553472e-16</td>\n",
       "      <td>2.279886e-17</td>\n",
       "      <td>-1.302792e-18</td>\n",
       "      <td>-1.224624e-16</td>\n",
       "    </tr>\n",
       "    <tr>\n",
       "      <th>std</th>\n",
       "      <td>1.000092e+00</td>\n",
       "      <td>1.000092e+00</td>\n",
       "      <td>1.000092e+00</td>\n",
       "      <td>1.000092e+00</td>\n",
       "      <td>1.000092e+00</td>\n",
       "      <td>1.000092e+00</td>\n",
       "      <td>1.000092e+00</td>\n",
       "      <td>1.000092e+00</td>\n",
       "      <td>1.000092e+00</td>\n",
       "      <td>1.000092e+00</td>\n",
       "      <td>1.000092e+00</td>\n",
       "    </tr>\n",
       "    <tr>\n",
       "      <th>min</th>\n",
       "      <td>-3.144345e+00</td>\n",
       "      <td>-1.972667e+00</td>\n",
       "      <td>-1.722339e+00</td>\n",
       "      <td>-1.224804e+00</td>\n",
       "      <td>-9.163257e-01</td>\n",
       "      <td>-1.554765e+00</td>\n",
       "      <td>-1.033946e+00</td>\n",
       "      <td>-1.731494e+00</td>\n",
       "      <td>-5.885017e-01</td>\n",
       "      <td>-5.673283e-01</td>\n",
       "      <td>-1.093459e+00</td>\n",
       "    </tr>\n",
       "    <tr>\n",
       "      <th>25%</th>\n",
       "      <td>-6.852846e-01</td>\n",
       "      <td>-6.514534e-01</td>\n",
       "      <td>-1.033403e+00</td>\n",
       "      <td>-1.224804e+00</td>\n",
       "      <td>-9.163257e-01</td>\n",
       "      <td>-1.554765e+00</td>\n",
       "      <td>-1.033946e+00</td>\n",
       "      <td>-8.462717e-01</td>\n",
       "      <td>-5.885017e-01</td>\n",
       "      <td>-5.673283e-01</td>\n",
       "      <td>-1.093459e+00</td>\n",
       "    </tr>\n",
       "    <tr>\n",
       "      <th>50%</th>\n",
       "      <td>2.325816e-02</td>\n",
       "      <td>-1.795914e-01</td>\n",
       "      <td>0.000000e+00</td>\n",
       "      <td>3.357129e-01</td>\n",
       "      <td>-9.163257e-01</td>\n",
       "      <td>6.431841e-01</td>\n",
       "      <td>9.671686e-01</td>\n",
       "      <td>1.644572e-03</td>\n",
       "      <td>-5.885017e-01</td>\n",
       "      <td>-5.673283e-01</td>\n",
       "      <td>9.145292e-01</td>\n",
       "    </tr>\n",
       "    <tr>\n",
       "      <th>75%</th>\n",
       "      <td>6.797022e-01</td>\n",
       "      <td>4.810155e-01</td>\n",
       "      <td>6.889356e-01</td>\n",
       "      <td>8.225578e-01</td>\n",
       "      <td>7.905187e-01</td>\n",
       "      <td>6.431841e-01</td>\n",
       "      <td>9.671686e-01</td>\n",
       "      <td>8.636044e-01</td>\n",
       "      <td>1.699230e+00</td>\n",
       "      <td>-5.673283e-01</td>\n",
       "      <td>9.145292e-01</td>\n",
       "    </tr>\n",
       "    <tr>\n",
       "      <th>max</th>\n",
       "      <td>2.065529e+00</td>\n",
       "      <td>4.350284e+00</td>\n",
       "      <td>1.722339e+00</td>\n",
       "      <td>2.811628e+00</td>\n",
       "      <td>4.204207e+00</td>\n",
       "      <td>6.431841e-01</td>\n",
       "      <td>9.671686e-01</td>\n",
       "      <td>1.741531e+00</td>\n",
       "      <td>1.699230e+00</td>\n",
       "      <td>1.762648e+00</td>\n",
       "      <td>9.145292e-01</td>\n",
       "    </tr>\n",
       "  </tbody>\n",
       "</table>\n",
       "</div>"
      ],
      "text/plain": [
       "        CreditScore           Age        Tenure       Balance  NumOfProducts  \\\n",
       "count  5.454000e+03  5.454000e+03  5.454000e+03  5.454000e+03   5.454000e+03   \n",
       "mean  -3.484968e-16 -1.563350e-17 -1.302792e-18  6.774518e-17   7.165356e-18   \n",
       "std    1.000092e+00  1.000092e+00  1.000092e+00  1.000092e+00   1.000092e+00   \n",
       "min   -3.144345e+00 -1.972667e+00 -1.722339e+00 -1.224804e+00  -9.163257e-01   \n",
       "25%   -6.852846e-01 -6.514534e-01 -1.033403e+00 -1.224804e+00  -9.163257e-01   \n",
       "50%    2.325816e-02 -1.795914e-01  0.000000e+00  3.357129e-01  -9.163257e-01   \n",
       "75%    6.797022e-01  4.810155e-01  6.889356e-01  8.225578e-01   7.905187e-01   \n",
       "max    2.065529e+00  4.350284e+00  1.722339e+00  2.811628e+00   4.204207e+00   \n",
       "\n",
       "          HasCrCard  IsActiveMember  EstimatedSalary    x0_Germany  \\\n",
       "count  5.454000e+03    5.454000e+03     5.454000e+03  5.454000e+03   \n",
       "mean  -1.107373e-17   -1.433071e-16    -2.553472e-16  2.279886e-17   \n",
       "std    1.000092e+00    1.000092e+00     1.000092e+00  1.000092e+00   \n",
       "min   -1.554765e+00   -1.033946e+00    -1.731494e+00 -5.885017e-01   \n",
       "25%   -1.554765e+00   -1.033946e+00    -8.462717e-01 -5.885017e-01   \n",
       "50%    6.431841e-01    9.671686e-01     1.644572e-03 -5.885017e-01   \n",
       "75%    6.431841e-01    9.671686e-01     8.636044e-01  1.699230e+00   \n",
       "max    6.431841e-01    9.671686e-01     1.741531e+00  1.699230e+00   \n",
       "\n",
       "           x0_Spain       x1_Male  \n",
       "count  5.454000e+03  5.454000e+03  \n",
       "mean  -1.302792e-18 -1.224624e-16  \n",
       "std    1.000092e+00  1.000092e+00  \n",
       "min   -5.673283e-01 -1.093459e+00  \n",
       "25%   -5.673283e-01 -1.093459e+00  \n",
       "50%   -5.673283e-01  9.145292e-01  \n",
       "75%   -5.673283e-01  9.145292e-01  \n",
       "max    1.762648e+00  9.145292e-01  "
      ]
     },
     "execution_count": 23,
     "metadata": {},
     "output_type": "execute_result"
    }
   ],
   "source": [
    "display(features_train.head())\n",
    "features_train.describe()"
   ]
  },
  {
   "cell_type": "code",
   "execution_count": 24,
   "metadata": {},
   "outputs": [
    {
     "name": "stdout",
     "output_type": "stream",
     "text": [
      "<class 'pandas.core.frame.DataFrame'>\n",
      "RangeIndex: 5454 entries, 0 to 5453\n",
      "Data columns (total 11 columns):\n",
      " #   Column           Non-Null Count  Dtype  \n",
      "---  ------           --------------  -----  \n",
      " 0   CreditScore      5454 non-null   float64\n",
      " 1   Age              5454 non-null   float64\n",
      " 2   Tenure           5454 non-null   float64\n",
      " 3   Balance          5454 non-null   float64\n",
      " 4   NumOfProducts    5454 non-null   float64\n",
      " 5   HasCrCard        5454 non-null   float64\n",
      " 6   IsActiveMember   5454 non-null   float64\n",
      " 7   EstimatedSalary  5454 non-null   float64\n",
      " 8   x0_Germany       5454 non-null   float64\n",
      " 9   x0_Spain         5454 non-null   float64\n",
      " 10  x1_Male          5454 non-null   float64\n",
      "dtypes: float64(11)\n",
      "memory usage: 468.8 KB\n"
     ]
    }
   ],
   "source": [
    "features_train.info()"
   ]
  },
  {
   "cell_type": "markdown",
   "metadata": {},
   "source": [
    "<div style=\"background-color:black; color:#ffffff; text-align:left; padding:2%\">\n",
    "\n",
    "**Вывод по разделу:**\n",
    "    \n",
    "1. Удалены лишние столбцы и пропуски.\n",
    "2. Обнаружен дисбаланс в целевом признаке ***Exited***, соотношение примерно 1:4.\n",
    "3. Численные признаки отмасштабированы, получены дамми-признаки для столбцов ***Geography*** и ***Gender***.\n",
    "4. Созданы обучающая, валидационная и тестовая выборки в соотношении 3:1:1 соответственно. Далее обучаем модели без учета дисбаланса."
   ]
  },
  {
   "cell_type": "markdown",
   "metadata": {},
   "source": [
    "## Исследование задачи"
   ]
  },
  {
   "cell_type": "markdown",
   "metadata": {},
   "source": [
    "### Решающее дерево"
   ]
  },
  {
   "cell_type": "code",
   "execution_count": 25,
   "metadata": {},
   "outputs": [],
   "source": [
    "# функция решающего дерева\n",
    "def dec_tree(f, t, cw=None, md=11, ms=11, ml=11):    \n",
    "    best_f1_dtc = 0\n",
    "    for crt in ['gini', 'entropy']:\n",
    "        for depth in range(2,md):\n",
    "            for spl in range(2,ms):\n",
    "                for lf in range(2,ml):\n",
    "                    #инициируем модель\n",
    "                    model = DecisionTreeClassifier(criterion=crt, \n",
    "                                                   max_depth=depth, \n",
    "                                                   min_samples_split=spl, \n",
    "                                                   min_samples_leaf=lf,\n",
    "                                                   class_weight=cw,\n",
    "                                                   random_state=12345)\n",
    "                    # обучаем модель\n",
    "                    model.fit(f, t)\n",
    "                    # предсказываем на валидационной выборке\n",
    "                    predict_valid = model.predict(features_valid)\n",
    "                    # определяем f1\n",
    "                    f1 = f1_score(target_valid, predict_valid)\n",
    "                    if f1 > best_f1_dtc:\n",
    "                        best_f1_dtc = f1\n",
    "                        best_model_dtc = model\n",
    "                        best_f1_param_dtc = [crt, depth, spl, lf]\n",
    "                        \n",
    "    prob_val_dtc = best_model_dtc.predict_proba(features_valid)\n",
    "    prob_one_val_dtc = prob_val_dtc[:,1]            \n",
    "    print(f'F1-мера лучшей модели: {best_f1_dtc:.3f}')\n",
    "    print(f'AUC-ROC лучшей модели: {roc_auc_score(target_valid, prob_one_val_dtc):.3f}')\n",
    "    print('Параметры лучшей модели:')\n",
    "    print(f'criterion = {best_f1_param_dtc[0]}')\n",
    "    print(f'max_depth = {best_f1_param_dtc[1]}')\n",
    "    print(f'min_samples_split = {best_f1_param_dtc[2]}')\n",
    "    print(f'min_samples_leaf = {best_f1_param_dtc[3]}')"
   ]
  },
  {
   "cell_type": "code",
   "execution_count": 26,
   "metadata": {},
   "outputs": [
    {
     "name": "stdout",
     "output_type": "stream",
     "text": [
      "F1-мера лучшей модели: 0.571\n",
      "AUC-ROC лучшей модели: 0.837\n",
      "Параметры лучшей модели:\n",
      "criterion = entropy\n",
      "max_depth = 7\n",
      "min_samples_split = 2\n",
      "min_samples_leaf = 7\n"
     ]
    }
   ],
   "source": [
    "dec_tree(features_train, target_train, cw=None, md=9, ms=5, ml=9)"
   ]
  },
  {
   "cell_type": "markdown",
   "metadata": {},
   "source": [
    "### Случайный лес"
   ]
  },
  {
   "cell_type": "code",
   "execution_count": 27,
   "metadata": {
    "scrolled": true
   },
   "outputs": [],
   "source": [
    "# функция случайного леса\n",
    "def rand_forest_cl(f, t, cw=None, md=11, ms=11, ml=5, ne=5):\n",
    "    best_f1_rfc = 0\n",
    "    for crt in ['gini', 'entropy']:\n",
    "        for depth in range(2,md):\n",
    "            for spl in range(2,ms):\n",
    "                for lf in range(2,ml):\n",
    "                    for n_est in range(2,ne):\n",
    "                        # инициализация модели\n",
    "                        model_rfc = RandomForestClassifier(criterion=crt, \n",
    "                                                           max_depth=depth,\n",
    "                                                           min_samples_split=spl,\n",
    "                                                           min_samples_leaf=lf,\n",
    "                                                           n_estimators=n_est,\n",
    "                                                           class_weight=cw,\n",
    "                                                           random_state=12345)\n",
    "                        # обучение обучающей выборке\n",
    "                        model_rfc.fit(f, t)\n",
    "                        # предсказания на валидационной выборке\n",
    "                        predict_valid = model_rfc.predict(features_valid)\n",
    "                        # вычисление доли правильных ответов\n",
    "                        f1 = f1_score(target_valid, predict_valid)\n",
    "                        if f1 > best_f1_rfc:\n",
    "                            best_f1_rfc = f1\n",
    "                            best_model_rfc = model_rfc\n",
    "                            best_param_rfc =[crt, depth, spl, lf, n_est]\n",
    "    prob_val_rfc = best_model_rfc.predict_proba(features_valid)\n",
    "    prob_one_val_rfc = prob_val_rfc[:,1]                \n",
    "    print(f'F1-мера лучшей модели: {best_f1_rfc:.3f}')\n",
    "    print(f'AUC-ROC лучшей модели: {roc_auc_score(target_valid, prob_one_val_rfc):.3f}')\n",
    "    print('Параметры лучшей модели:')\n",
    "    print(f'criterion = {best_param_rfc[0]}')\n",
    "    print(f'max_depth = {best_param_rfc[1]}')\n",
    "    print(f'min_samples_split = {best_param_rfc[2]}')\n",
    "    print(f'min_samples_leaf = {best_param_rfc[3]}')\n",
    "    print(f'n_estimators = {best_param_rfc[4]}')"
   ]
  },
  {
   "cell_type": "code",
   "execution_count": 28,
   "metadata": {},
   "outputs": [
    {
     "name": "stdout",
     "output_type": "stream",
     "text": [
      "F1-мера лучшей модели: 0.583\n",
      "AUC-ROC лучшей модели: 0.823\n",
      "Параметры лучшей модели:\n",
      "criterion = gini\n",
      "max_depth = 10\n",
      "min_samples_split = 5\n",
      "min_samples_leaf = 2\n",
      "n_estimators = 3\n"
     ]
    }
   ],
   "source": [
    "rand_forest_cl(features_train, target_train, cw=None, md=11, ms=11, ml=5, ne=5)"
   ]
  },
  {
   "cell_type": "markdown",
   "metadata": {},
   "source": [
    "### Логистическая регрессия"
   ]
  },
  {
   "cell_type": "code",
   "execution_count": 29,
   "metadata": {},
   "outputs": [],
   "source": [
    "def log_regression(f, t, cw=None):    \n",
    "    best_f1_lr = 0\n",
    "    c_array = np.linspace(0.01, 1, 100)\n",
    "    for sol in ['lbfgs', 'liblinear']:\n",
    "        for n_c in c_array:\n",
    "            for n_iter in range(200,401,100):\n",
    "                model_lr = LogisticRegression(\n",
    "                    solver=sol,\n",
    "                    max_iter=n_iter,\n",
    "                    C=n_c,\n",
    "                    class_weight=cw,\n",
    "                    random_state=12345)\n",
    "                model_lr.fit(f, t)\n",
    "                predict_valid = model_lr.predict(features_valid)\n",
    "                f1 = f1_score(target_valid, predict_valid)\n",
    "                if f1 > best_f1_lr:\n",
    "                    best_f1_lr = f1\n",
    "                    best_model_lr = model_lr\n",
    "                    best_parameters_lr =[sol, n_c, n_iter]\n",
    "    prob_val_lr = best_model_lr.predict_proba(features_valid)\n",
    "    prob_one_val_lr = prob_val_lr[:,1]\n",
    "    print(f'Лучшее значение доли правильных ответов: {best_f1_lr:.3f}')\n",
    "    print(f'AUC-ROC лучшей модели: {roc_auc_score(target_valid, prob_one_val_lr):.3f}')\n",
    "    print('Параметры лучшей модели:')\n",
    "    print(f'solver = {best_parameters_lr[0]}')\n",
    "    print(f'C = {best_parameters_lr[1]}')\n",
    "    print(f'max_iter = {best_parameters_lr[2]}')"
   ]
  },
  {
   "cell_type": "code",
   "execution_count": 30,
   "metadata": {},
   "outputs": [
    {
     "name": "stdout",
     "output_type": "stream",
     "text": [
      "Лучшее значение доли правильных ответов: 0.284\n",
      "AUC-ROC лучшей модели: 0.758\n",
      "Параметры лучшей модели:\n",
      "solver = liblinear\n",
      "C = 0.12\n",
      "max_iter = 200\n"
     ]
    }
   ],
   "source": [
    "log_regression(features_train, target_train, cw=None)"
   ]
  },
  {
   "cell_type": "markdown",
   "metadata": {},
   "source": [
    "<div style=\"background-color:black; color:#ffffff; text-align:left; padding:2%\">\n",
    "\n",
    "**Вывод по разделу:**\n",
    "    \n",
    "Лучше всего, если судить по показателю F1, работает модель случайного леса, чуть хуже решающее дерево. По AUC-ROC у них ситуация обратная. Логистическая регрессия проиграла по всем параметрам."
   ]
  },
  {
   "cell_type": "markdown",
   "metadata": {},
   "source": [
    "## Борьба с дисбалансом"
   ]
  },
  {
   "cell_type": "markdown",
   "metadata": {},
   "source": [
    "### Взвешивание классов"
   ]
  },
  {
   "cell_type": "markdown",
   "metadata": {},
   "source": [
    "#### Решающее дерево"
   ]
  },
  {
   "cell_type": "code",
   "execution_count": 31,
   "metadata": {},
   "outputs": [
    {
     "name": "stdout",
     "output_type": "stream",
     "text": [
      "F1-мера лучшей модели: 0.573\n",
      "AUC-ROC лучшей модели: 0.833\n",
      "Параметры лучшей модели:\n",
      "criterion = gini\n",
      "max_depth = 7\n",
      "min_samples_split = 2\n",
      "min_samples_leaf = 3\n"
     ]
    }
   ],
   "source": [
    "dec_tree(features_train, target_train, cw='balanced', md=9, ms=5, ml=7)"
   ]
  },
  {
   "cell_type": "markdown",
   "metadata": {},
   "source": [
    "#### Случайный лес"
   ]
  },
  {
   "cell_type": "code",
   "execution_count": 32,
   "metadata": {},
   "outputs": [
    {
     "name": "stdout",
     "output_type": "stream",
     "text": [
      "F1-мера лучшей модели: 0.596\n",
      "AUC-ROC лучшей модели: 0.839\n",
      "Параметры лучшей модели:\n",
      "criterion = entropy\n",
      "max_depth = 9\n",
      "min_samples_split = 2\n",
      "min_samples_leaf = 4\n",
      "n_estimators = 3\n"
     ]
    }
   ],
   "source": [
    "rand_forest_cl(features_train, target_train, cw='balanced', md=11, ms=8, ml=5, ne=5)"
   ]
  },
  {
   "cell_type": "markdown",
   "metadata": {},
   "source": [
    "#### Логистическая регрессия"
   ]
  },
  {
   "cell_type": "code",
   "execution_count": 33,
   "metadata": {},
   "outputs": [
    {
     "name": "stdout",
     "output_type": "stream",
     "text": [
      "Лучшее значение доли правильных ответов: 0.497\n",
      "AUC-ROC лучшей модели: 0.762\n",
      "Параметры лучшей модели:\n",
      "solver = lbfgs\n",
      "C = 0.01\n",
      "max_iter = 200\n"
     ]
    }
   ],
   "source": [
    "log_regression(features_train, target_train, cw='balanced')"
   ]
  },
  {
   "cell_type": "markdown",
   "metadata": {},
   "source": [
    "<div style=\"background-color:black; color:#ffffff; text-align:left; padding:2%\">\n",
    "\n",
    "Взвешивание классов практически не повлияло на решающее дерево и случайный лес, но дало ощутимый прирост качества логистической регрессии."
   ]
  },
  {
   "cell_type": "markdown",
   "metadata": {},
   "source": [
    "### Увеличение и уменьшение выборки"
   ]
  },
  {
   "cell_type": "code",
   "execution_count": 34,
   "metadata": {},
   "outputs": [],
   "source": [
    "def upsample(features, target):\n",
    "    features_zeros = features[target == 0]\n",
    "    features_ones = features[target == 1]\n",
    "    target_zeros = target[target == 0]\n",
    "    target_ones = target[target == 1]\n",
    "    \n",
    "    repeat = len(target_zeros)//len(target_ones) # коэффициент увеличения\n",
    "    \n",
    "    features_upsampled = pd.concat([features_zeros] + [features_ones] * repeat)\n",
    "    target_upsampled = pd.concat([target_zeros] + [target_ones] * repeat)\n",
    "    \n",
    "    features_upsampled, target_upsampled = shuffle(\n",
    "        features_upsampled, target_upsampled, random_state=12345)\n",
    "    \n",
    "    return features_upsampled, target_upsampled"
   ]
  },
  {
   "cell_type": "code",
   "execution_count": 35,
   "metadata": {},
   "outputs": [],
   "source": [
    "# функция уменьшения выборки\n",
    "# у нас класс \"1\" в меньшенстве, значит уменьшаем класс \"0\"\n",
    "# на вход принимаются признаки, целевой признак\n",
    "def downsample(features, target):\n",
    "    features_zeros = features[target == 0]\n",
    "    features_ones = features[target == 1]\n",
    "    target_zeros = target[target == 0]\n",
    "    target_ones = target[target == 1]\n",
    "    \n",
    "    fraction = len(target_ones)/len(target_zeros) # коэффициент уменьшения\n",
    "    \n",
    "    features_downsampled = pd.concat(\n",
    "        [features_zeros.sample(frac=fraction, random_state=12345)] + [features_ones])\n",
    "    \n",
    "    target_downsampled = pd.concat(\n",
    "        [target_zeros.sample(frac=fraction, random_state=12345)] + [target_ones])\n",
    "    \n",
    "    features_downsampled, target_downsampled = shuffle(\n",
    "        features_downsampled, target_downsampled, random_state=12345)\n",
    "    \n",
    "    return features_downsampled, target_downsampled"
   ]
  },
  {
   "cell_type": "code",
   "execution_count": 36,
   "metadata": {},
   "outputs": [],
   "source": [
    "# создаем новые выборки\n",
    "features_train_upsampled, target_train_upsampled = upsample(features_train, target_train)\n",
    "features_train_downsampled, target_train_downsampled = downsample(features_train, target_train)"
   ]
  },
  {
   "cell_type": "markdown",
   "metadata": {},
   "source": [
    "#### Решающее дерево"
   ]
  },
  {
   "cell_type": "code",
   "execution_count": 37,
   "metadata": {},
   "outputs": [
    {
     "name": "stdout",
     "output_type": "stream",
     "text": [
      "F1-мера лучшей модели: 0.589\n",
      "AUC-ROC лучшей модели: 0.838\n",
      "Параметры лучшей модели:\n",
      "criterion = gini\n",
      "max_depth = 5\n",
      "min_samples_split = 2\n",
      "min_samples_leaf = 3\n"
     ]
    }
   ],
   "source": [
    "# увеличенная выборка\n",
    "dec_tree(features_train_upsampled, target_train_upsampled.ravel(), cw=None, md=9, ms=5, ml=7)"
   ]
  },
  {
   "cell_type": "code",
   "execution_count": 38,
   "metadata": {},
   "outputs": [
    {
     "name": "stdout",
     "output_type": "stream",
     "text": [
      "F1-мера лучшей модели: 0.562\n",
      "AUC-ROC лучшей модели: 0.829\n",
      "Параметры лучшей модели:\n",
      "criterion = entropy\n",
      "max_depth = 6\n",
      "min_samples_split = 2\n",
      "min_samples_leaf = 2\n"
     ]
    }
   ],
   "source": [
    "# уменьшенная выборка\n",
    "dec_tree(features_train_downsampled, target_train_downsampled, cw=None, md=9, ms=5, ml=7)"
   ]
  },
  {
   "cell_type": "markdown",
   "metadata": {},
   "source": [
    "#### Случайный лес"
   ]
  },
  {
   "cell_type": "code",
   "execution_count": 39,
   "metadata": {
    "scrolled": true
   },
   "outputs": [
    {
     "name": "stdout",
     "output_type": "stream",
     "text": [
      "F1-мера лучшей модели: 0.605\n",
      "AUC-ROC лучшей модели: 0.844\n",
      "Параметры лучшей модели:\n",
      "criterion = entropy\n",
      "max_depth = 10\n",
      "min_samples_split = 2\n",
      "min_samples_leaf = 4\n",
      "n_estimators = 4\n"
     ]
    }
   ],
   "source": [
    "# увеличенная выборка\n",
    "rand_forest_cl(features_train_upsampled, target_train_upsampled, cw=None, md=11, ms=8, ml=5, ne=5)"
   ]
  },
  {
   "cell_type": "code",
   "execution_count": 40,
   "metadata": {},
   "outputs": [
    {
     "name": "stdout",
     "output_type": "stream",
     "text": [
      "F1-мера лучшей модели: 0.564\n",
      "AUC-ROC лучшей модели: 0.830\n",
      "Параметры лучшей модели:\n",
      "criterion = gini\n",
      "max_depth = 6\n",
      "min_samples_split = 2\n",
      "min_samples_leaf = 2\n",
      "n_estimators = 4\n"
     ]
    }
   ],
   "source": [
    "# уменьшенная выборка\n",
    "rand_forest_cl(features_train_downsampled, target_train_downsampled, cw=None, md=11, ms=8, ml=5, ne=5)"
   ]
  },
  {
   "cell_type": "markdown",
   "metadata": {},
   "source": [
    "#### Логистическая регрессия"
   ]
  },
  {
   "cell_type": "code",
   "execution_count": 41,
   "metadata": {},
   "outputs": [
    {
     "name": "stdout",
     "output_type": "stream",
     "text": [
      "Лучшее значение доли правильных ответов: 0.485\n",
      "AUC-ROC лучшей модели: 0.761\n",
      "Параметры лучшей модели:\n",
      "solver = liblinear\n",
      "C = 0.02\n",
      "max_iter = 200\n"
     ]
    }
   ],
   "source": [
    "# увеличенная выборка\n",
    "log_regression(features_train_upsampled, target_train_upsampled, cw=None)"
   ]
  },
  {
   "cell_type": "code",
   "execution_count": 42,
   "metadata": {},
   "outputs": [
    {
     "name": "stdout",
     "output_type": "stream",
     "text": [
      "Лучшее значение доли правильных ответов: 0.491\n",
      "AUC-ROC лучшей модели: 0.761\n",
      "Параметры лучшей модели:\n",
      "solver = lbfgs\n",
      "C = 0.02\n",
      "max_iter = 200\n"
     ]
    }
   ],
   "source": [
    "# уменьшенная выборка\n",
    "log_regression(features_train_downsampled, target_train_downsampled, cw=None)"
   ]
  },
  {
   "cell_type": "markdown",
   "metadata": {},
   "source": [
    "<div style=\"background-color:black; color:#ffffff; text-align:left; padding:2%\">\n",
    "\n",
    "Лучше всего себя показала модель случайного леса. На ней поэкспериментируем с изменением порога."
   ]
  },
  {
   "cell_type": "markdown",
   "metadata": {},
   "source": [
    "### Изменение порога у модели случайного дерева"
   ]
  },
  {
   "cell_type": "code",
   "execution_count": 43,
   "metadata": {},
   "outputs": [
    {
     "name": "stdout",
     "output_type": "stream",
     "text": [
      "При пороге 0.290 F1-мера лучшей модели: 0.606\n",
      "AUC-ROC лучшей модели: 0.761\n",
      "Параметры лучшей модели:\n",
      "criterion = gini\n",
      "max_depth = 8\n",
      "min_samples_split = 2\n",
      "min_samples_leaf = 5\n",
      "n_estimators = 2\n"
     ]
    }
   ],
   "source": [
    "best_f1_all_rfc = 0\n",
    "for crt in ['gini', 'entropy']:\n",
    "    for depth in range(8,11):\n",
    "        for spl in range(2,5):\n",
    "            for lf in range(2,6):\n",
    "                for n_est in range(2,5):\n",
    "                    best_f1_rfc = 0\n",
    "                    model_rfc = RandomForestClassifier(criterion=crt, \n",
    "                                                       max_depth=depth,\n",
    "                                                       min_samples_split=spl,\n",
    "                                                       min_samples_leaf=lf,\n",
    "                                                       n_estimators=n_est,\n",
    "                                                       class_weight=None,\n",
    "                                                       random_state=12345)\n",
    "                    # обучение обучающей выборке\n",
    "                    model_rfc.fit(features_train, target_train)\n",
    "                    # предсказания вероятностей на валидационной выборке\n",
    "                    probabilities_valid = model_rfc.predict_proba(features_valid)\n",
    "                    probabilities_one_valid = probabilities_valid[:, 1]\n",
    "                    # перебор порога и получение лучшей модели\n",
    "                    for threshold in np.arange(0.2, 0.5, 0.01):\n",
    "                        predicted_valid = probabilities_one_valid > threshold \n",
    "                        f1 = f1_score(target_valid, predicted_valid)\n",
    "                        # выбор лучшего порога в данной итерации модели\n",
    "                        if f1 > best_f1_rfc:\n",
    "                            best_f1_rfc = f1\n",
    "                            best_threshold = threshold\n",
    "                    # выбор лучшей модели        \n",
    "                    if best_f1_rfc > best_f1_all_rfc:\n",
    "                        best_f1_all_rfc = best_f1_rfc\n",
    "                        best_all_threshold = best_threshold\n",
    "                        best_model_all_rfc = model_rfc\n",
    "                        best_param_all_rfc =[crt, depth, spl, lf, n_est]\n",
    "                            \n",
    "prob_val_rfc = best_model_all_rfc.predict_proba(features_valid)\n",
    "prob_one_val_rfc = prob_val_rfc[:,1] > best_all_threshold\n",
    "\n",
    "print(f'При пороге {best_all_threshold:.3f} F1-мера лучшей модели: {best_f1_all_rfc:.3f}')\n",
    "print(f'AUC-ROC лучшей модели: {roc_auc_score(target_valid, prob_one_val_rfc):.3f}')\n",
    "print('Параметры лучшей модели:')\n",
    "print(f'criterion = {best_param_all_rfc[0]}')\n",
    "print(f'max_depth = {best_param_all_rfc[1]}')\n",
    "print(f'min_samples_split = {best_param_all_rfc[2]}')\n",
    "print(f'min_samples_leaf = {best_param_all_rfc[3]}')\n",
    "print(f'n_estimators = {best_param_all_rfc[4]}')"
   ]
  },
  {
   "cell_type": "markdown",
   "metadata": {},
   "source": [
    "<div style=\"background-color:black; color:#ffffff; text-align:left; padding:2%\">\n",
    "\n",
    "**Вывод по разделу:**\n",
    "    \n",
    "Примерно одинаково хорошо себя показали модель случайного леса при изменении порога до 0.29 (F1 = 0.606, AUC-ROC = 0.761) и эта же модель при увеличении выборки (F1 = 0.605, AUC-ROC = 0.844)."
   ]
  },
  {
   "cell_type": "markdown",
   "metadata": {},
   "source": [
    "## Тестирование модели"
   ]
  },
  {
   "cell_type": "code",
   "execution_count": 47,
   "metadata": {},
   "outputs": [
    {
     "name": "stdout",
     "output_type": "stream",
     "text": [
      "F1 = 0.571\n"
     ]
    }
   ],
   "source": [
    "prob_test_rfc = best_model_all_rfc.predict_proba(features_test)\n",
    "prob_one_test_rfc = prob_test_rfc[:,1]\n",
    "predicted_test = prob_one_test_rfc > 0.29\n",
    "f1 = f1_score(target_test, predicted_test)\n",
    "print(f'F1 = {f1:.3f}')"
   ]
  },
  {
   "cell_type": "code",
   "execution_count": 44,
   "metadata": {},
   "outputs": [
    {
     "name": "stdout",
     "output_type": "stream",
     "text": [
      "F1 = 0.599\n"
     ]
    }
   ],
   "source": [
    "# тестирование модели с увеличенной выборкой\n",
    "model = RandomForestClassifier(criterion='gini', \n",
    "                               max_depth=8, \n",
    "                               min_samples_split=2, \n",
    "                               min_samples_leaf=4,\n",
    "                               n_estimators=4,\n",
    "                               random_state=12345)\n",
    "\n",
    "model.fit(features_train_upsampled, target_train_upsampled)\n",
    "predict_test = model.predict(features_test)\n",
    "f1 = f1_score(target_test, predict_test)\n",
    "print(f'F1 = {f1:.3f}')"
   ]
  },
  {
   "cell_type": "markdown",
   "metadata": {},
   "source": [
    "<div style=\"background-color:black; color:#ffffff; text-align:left; padding:2%\">\n",
    "\n",
    "**Вывод по разделу:**\n",
    "    \n",
    "Лучше всего себя показывает модель случайного леса, обученная на увеличенной выборке. У этого варианта F1 немного меньше, чем у модели с измененным порогом, но при этом ощутимо больше AUC-ROC. Модель с измененным порогом провалилась на тестовой выборке."
   ]
  },
  {
   "cell_type": "markdown",
   "metadata": {},
   "source": [
    "## Общий вывод"
   ]
  },
  {
   "cell_type": "markdown",
   "metadata": {},
   "source": [
    "1. Данные загружены, обработаны, пропуски заполнены. Отмасштабированы признаки, созданы дамми-признаки.\n",
    "2. Проведено исследование данных, выявлен дисбаланс в целевом признаке.\n",
    "3. Исследована задача, проверены различные способы борьбы с дисбалансом.\n",
    "\n",
    "По итогу, лучшая модель, которая проходит по минимальному порогу F1 = 0.59 - случайный лес, обученный на увеличенной выборке. \n",
    "\n",
    "Модель с измененным порогом, несмотря на больший, чем у модели, обученной на увеличенной выборке, показатель F1, провалилась во время теста. Это можно было ожидать, так как у этих моделей есть ощутимая разница по AUC-ROC. \n",
    "\n",
    "Параметры лучшей модели:\n",
    "\n",
    "* criterion = entropy\n",
    "* max_depth = 10\n",
    "* min_samples_split = 2\n",
    "* min_samples_leaf = 4\n",
    "* n_estimators = 4"
   ]
  }
 ],
 "metadata": {
  "ExecuteTimeLog": [
   {
    "duration": 1483,
    "start_time": "2023-05-20T15:15:06.214Z"
   },
   {
    "duration": 79,
    "start_time": "2023-05-20T15:15:11.769Z"
   },
   {
    "duration": 20,
    "start_time": "2023-05-20T15:15:30.883Z"
   },
   {
    "duration": 15,
    "start_time": "2023-05-20T15:15:52.082Z"
   },
   {
    "duration": 42,
    "start_time": "2023-05-20T15:16:05.428Z"
   },
   {
    "duration": 63,
    "start_time": "2023-05-20T15:19:12.660Z"
   },
   {
    "duration": 6,
    "start_time": "2023-05-20T15:33:49.614Z"
   },
   {
    "duration": 123,
    "start_time": "2023-05-20T15:39:00.496Z"
   },
   {
    "duration": 5,
    "start_time": "2023-05-20T15:39:11.767Z"
   },
   {
    "duration": 32,
    "start_time": "2023-05-20T15:39:56.198Z"
   },
   {
    "duration": 4,
    "start_time": "2023-05-20T15:54:34.560Z"
   },
   {
    "duration": 49,
    "start_time": "2023-05-20T15:55:00.463Z"
   },
   {
    "duration": 10,
    "start_time": "2023-05-20T15:58:07.674Z"
   },
   {
    "duration": 10,
    "start_time": "2023-05-20T15:58:11.415Z"
   },
   {
    "duration": 205,
    "start_time": "2023-05-20T16:09:27.300Z"
   },
   {
    "duration": 237,
    "start_time": "2023-05-20T16:09:38.213Z"
   },
   {
    "duration": 186,
    "start_time": "2023-05-20T16:09:45.072Z"
   },
   {
    "duration": 86,
    "start_time": "2023-05-20T16:10:23.990Z"
   },
   {
    "duration": 88,
    "start_time": "2023-05-20T16:10:41.182Z"
   },
   {
    "duration": 139,
    "start_time": "2023-05-20T16:10:47.518Z"
   },
   {
    "duration": 95,
    "start_time": "2023-05-20T16:12:07.770Z"
   },
   {
    "duration": 159,
    "start_time": "2023-05-20T16:12:14.679Z"
   },
   {
    "duration": 151,
    "start_time": "2023-05-20T16:13:15.665Z"
   },
   {
    "duration": 81,
    "start_time": "2023-05-20T16:14:07.208Z"
   },
   {
    "duration": 78,
    "start_time": "2023-05-20T16:15:13.963Z"
   },
   {
    "duration": 83,
    "start_time": "2023-05-20T16:15:43.561Z"
   },
   {
    "duration": 85,
    "start_time": "2023-05-20T16:16:05.414Z"
   },
   {
    "duration": 5,
    "start_time": "2023-05-20T16:19:39.369Z"
   },
   {
    "duration": 179,
    "start_time": "2023-05-20T16:24:06.668Z"
   },
   {
    "duration": 915,
    "start_time": "2023-05-20T16:24:17.316Z"
   },
   {
    "duration": 1063,
    "start_time": "2023-05-20T16:25:12.677Z"
   },
   {
    "duration": 780,
    "start_time": "2023-05-20T16:25:30.292Z"
   },
   {
    "duration": 11,
    "start_time": "2023-05-20T16:28:14.053Z"
   },
   {
    "duration": 11,
    "start_time": "2023-05-20T16:29:21.765Z"
   },
   {
    "duration": 628,
    "start_time": "2023-05-20T16:29:30.207Z"
   },
   {
    "duration": 440,
    "start_time": "2023-05-20T16:29:45.103Z"
   },
   {
    "duration": 406,
    "start_time": "2023-05-20T16:30:08.453Z"
   },
   {
    "duration": 482,
    "start_time": "2023-05-20T16:33:11.765Z"
   },
   {
    "duration": 525,
    "start_time": "2023-05-20T16:34:00.816Z"
   },
   {
    "duration": 408,
    "start_time": "2023-05-20T16:35:03.772Z"
   },
   {
    "duration": 419,
    "start_time": "2023-05-20T16:35:31.175Z"
   },
   {
    "duration": 696,
    "start_time": "2023-05-20T16:36:17.057Z"
   },
   {
    "duration": 1202,
    "start_time": "2023-05-20T16:36:51.054Z"
   },
   {
    "duration": 39,
    "start_time": "2023-05-20T16:36:52.258Z"
   },
   {
    "duration": 16,
    "start_time": "2023-05-20T16:36:52.299Z"
   },
   {
    "duration": 11,
    "start_time": "2023-05-20T16:36:52.316Z"
   },
   {
    "duration": 4,
    "start_time": "2023-05-20T16:36:52.330Z"
   },
   {
    "duration": 4,
    "start_time": "2023-05-20T16:36:52.335Z"
   },
   {
    "duration": 8,
    "start_time": "2023-05-20T16:36:52.340Z"
   },
   {
    "duration": 25,
    "start_time": "2023-05-20T16:36:52.349Z"
   },
   {
    "duration": 37,
    "start_time": "2023-05-20T16:36:52.376Z"
   },
   {
    "duration": 102,
    "start_time": "2023-05-20T16:36:52.415Z"
   },
   {
    "duration": 95,
    "start_time": "2023-05-20T16:36:52.519Z"
   },
   {
    "duration": 85,
    "start_time": "2023-05-20T16:36:52.615Z"
   },
   {
    "duration": 80,
    "start_time": "2023-05-20T16:36:52.701Z"
   },
   {
    "duration": 4,
    "start_time": "2023-05-20T16:36:52.795Z"
   },
   {
    "duration": 858,
    "start_time": "2023-05-20T16:36:52.800Z"
   },
   {
    "duration": 405,
    "start_time": "2023-05-20T16:36:53.660Z"
   },
   {
    "duration": 711,
    "start_time": "2023-05-20T16:36:54.066Z"
   },
   {
    "duration": 1602,
    "start_time": "2023-05-20T17:58:52.313Z"
   },
   {
    "duration": 82,
    "start_time": "2023-05-20T17:58:53.917Z"
   },
   {
    "duration": 26,
    "start_time": "2023-05-20T17:58:54.001Z"
   },
   {
    "duration": 33,
    "start_time": "2023-05-20T17:58:54.030Z"
   },
   {
    "duration": 23,
    "start_time": "2023-05-20T17:58:54.066Z"
   },
   {
    "duration": 46,
    "start_time": "2023-05-20T17:58:54.090Z"
   },
   {
    "duration": 33,
    "start_time": "2023-05-20T17:58:54.137Z"
   },
   {
    "duration": 21,
    "start_time": "2023-05-20T17:58:54.172Z"
   },
   {
    "duration": 83,
    "start_time": "2023-05-20T17:58:54.195Z"
   },
   {
    "duration": 111,
    "start_time": "2023-05-20T17:58:54.279Z"
   },
   {
    "duration": 118,
    "start_time": "2023-05-20T17:58:54.392Z"
   },
   {
    "duration": 105,
    "start_time": "2023-05-20T17:58:54.512Z"
   },
   {
    "duration": 110,
    "start_time": "2023-05-20T17:58:54.619Z"
   },
   {
    "duration": 1143,
    "start_time": "2023-05-20T17:58:54.731Z"
   },
   {
    "duration": 578,
    "start_time": "2023-05-20T17:58:55.876Z"
   },
   {
    "duration": 1000,
    "start_time": "2023-05-20T17:58:56.456Z"
   },
   {
    "duration": 37,
    "start_time": "2023-05-20T18:09:45.279Z"
   },
   {
    "duration": 3,
    "start_time": "2023-05-20T18:15:03.861Z"
   },
   {
    "duration": 24,
    "start_time": "2023-05-20T18:21:02.619Z"
   },
   {
    "duration": 57,
    "start_time": "2023-05-20T18:24:47.666Z"
   },
   {
    "duration": 1577,
    "start_time": "2023-05-20T18:25:32.584Z"
   },
   {
    "duration": 46,
    "start_time": "2023-05-20T18:25:34.163Z"
   },
   {
    "duration": 28,
    "start_time": "2023-05-20T18:25:34.214Z"
   },
   {
    "duration": 15,
    "start_time": "2023-05-20T18:25:34.244Z"
   },
   {
    "duration": 6,
    "start_time": "2023-05-20T18:25:34.263Z"
   },
   {
    "duration": 31,
    "start_time": "2023-05-20T18:25:34.271Z"
   },
   {
    "duration": 6,
    "start_time": "2023-05-20T18:25:34.304Z"
   },
   {
    "duration": 22,
    "start_time": "2023-05-20T18:25:34.313Z"
   },
   {
    "duration": 40,
    "start_time": "2023-05-20T18:25:34.337Z"
   },
   {
    "duration": 148,
    "start_time": "2023-05-20T18:25:34.378Z"
   },
   {
    "duration": 126,
    "start_time": "2023-05-20T18:25:34.528Z"
   },
   {
    "duration": 113,
    "start_time": "2023-05-20T18:25:34.656Z"
   },
   {
    "duration": 144,
    "start_time": "2023-05-20T18:25:34.771Z"
   },
   {
    "duration": 1079,
    "start_time": "2023-05-20T18:25:34.918Z"
   },
   {
    "duration": 531,
    "start_time": "2023-05-20T18:25:36.005Z"
   },
   {
    "duration": 994,
    "start_time": "2023-05-20T18:25:36.538Z"
   },
   {
    "duration": 81,
    "start_time": "2023-05-20T18:25:37.534Z"
   },
   {
    "duration": 21,
    "start_time": "2023-05-20T18:28:57.465Z"
   },
   {
    "duration": 1597,
    "start_time": "2023-05-20T18:30:38.325Z"
   },
   {
    "duration": 45,
    "start_time": "2023-05-20T18:30:39.924Z"
   },
   {
    "duration": 22,
    "start_time": "2023-05-20T18:30:39.970Z"
   },
   {
    "duration": 21,
    "start_time": "2023-05-20T18:30:39.994Z"
   },
   {
    "duration": 8,
    "start_time": "2023-05-20T18:30:40.018Z"
   },
   {
    "duration": 7,
    "start_time": "2023-05-20T18:30:40.028Z"
   },
   {
    "duration": 19,
    "start_time": "2023-05-20T18:30:40.037Z"
   },
   {
    "duration": 16,
    "start_time": "2023-05-20T18:30:40.058Z"
   },
   {
    "duration": 56,
    "start_time": "2023-05-20T18:30:40.076Z"
   },
   {
    "duration": 135,
    "start_time": "2023-05-20T18:30:40.133Z"
   },
   {
    "duration": 115,
    "start_time": "2023-05-20T18:30:40.270Z"
   },
   {
    "duration": 143,
    "start_time": "2023-05-20T18:30:40.387Z"
   },
   {
    "duration": 123,
    "start_time": "2023-05-20T18:30:40.532Z"
   },
   {
    "duration": 1161,
    "start_time": "2023-05-20T18:30:40.660Z"
   },
   {
    "duration": 582,
    "start_time": "2023-05-20T18:30:41.834Z"
   },
   {
    "duration": 929,
    "start_time": "2023-05-20T18:30:42.418Z"
   },
   {
    "duration": 85,
    "start_time": "2023-05-20T18:30:43.348Z"
   },
   {
    "duration": 22,
    "start_time": "2023-05-20T18:30:43.435Z"
   },
   {
    "duration": 20,
    "start_time": "2023-05-20T18:30:52.417Z"
   },
   {
    "duration": 21,
    "start_time": "2023-05-20T18:33:01.982Z"
   },
   {
    "duration": 17,
    "start_time": "2023-05-20T18:33:28.059Z"
   },
   {
    "duration": 1378,
    "start_time": "2023-05-20T18:34:26.853Z"
   },
   {
    "duration": 39,
    "start_time": "2023-05-20T18:34:28.233Z"
   },
   {
    "duration": 17,
    "start_time": "2023-05-20T18:34:28.274Z"
   },
   {
    "duration": 18,
    "start_time": "2023-05-20T18:34:28.293Z"
   },
   {
    "duration": 8,
    "start_time": "2023-05-20T18:34:28.315Z"
   },
   {
    "duration": 7,
    "start_time": "2023-05-20T18:34:28.325Z"
   },
   {
    "duration": 12,
    "start_time": "2023-05-20T18:34:28.334Z"
   },
   {
    "duration": 12,
    "start_time": "2023-05-20T18:34:28.348Z"
   },
   {
    "duration": 41,
    "start_time": "2023-05-20T18:34:28.361Z"
   },
   {
    "duration": 117,
    "start_time": "2023-05-20T18:34:28.404Z"
   },
   {
    "duration": 109,
    "start_time": "2023-05-20T18:34:28.523Z"
   },
   {
    "duration": 101,
    "start_time": "2023-05-20T18:34:28.634Z"
   },
   {
    "duration": 105,
    "start_time": "2023-05-20T18:34:28.737Z"
   },
   {
    "duration": 974,
    "start_time": "2023-05-20T18:34:28.845Z"
   },
   {
    "duration": 463,
    "start_time": "2023-05-20T18:34:29.821Z"
   },
   {
    "duration": 805,
    "start_time": "2023-05-20T18:34:30.285Z"
   },
   {
    "duration": 78,
    "start_time": "2023-05-20T18:34:31.092Z"
   },
   {
    "duration": 41,
    "start_time": "2023-05-20T18:34:31.172Z"
   },
   {
    "duration": 21,
    "start_time": "2023-05-20T18:34:31.215Z"
   },
   {
    "duration": 37,
    "start_time": "2023-05-20T18:34:31.238Z"
   },
   {
    "duration": 44,
    "start_time": "2023-05-20T20:48:35.311Z"
   },
   {
    "duration": 1360,
    "start_time": "2023-05-20T20:48:50.063Z"
   },
   {
    "duration": 80,
    "start_time": "2023-05-20T20:48:51.426Z"
   },
   {
    "duration": 16,
    "start_time": "2023-05-20T20:48:51.507Z"
   },
   {
    "duration": 18,
    "start_time": "2023-05-20T20:48:51.524Z"
   },
   {
    "duration": 5,
    "start_time": "2023-05-20T20:48:51.545Z"
   },
   {
    "duration": 5,
    "start_time": "2023-05-20T20:48:51.551Z"
   },
   {
    "duration": 16,
    "start_time": "2023-05-20T20:48:51.557Z"
   },
   {
    "duration": 17,
    "start_time": "2023-05-20T20:48:51.574Z"
   },
   {
    "duration": 28,
    "start_time": "2023-05-20T20:48:51.593Z"
   },
   {
    "duration": 105,
    "start_time": "2023-05-20T20:48:51.622Z"
   },
   {
    "duration": 84,
    "start_time": "2023-05-20T20:48:51.728Z"
   },
   {
    "duration": 88,
    "start_time": "2023-05-20T20:48:51.813Z"
   },
   {
    "duration": 83,
    "start_time": "2023-05-20T20:48:51.903Z"
   },
   {
    "duration": 768,
    "start_time": "2023-05-20T20:48:51.988Z"
   },
   {
    "duration": 400,
    "start_time": "2023-05-20T20:48:52.758Z"
   },
   {
    "duration": 650,
    "start_time": "2023-05-20T20:48:53.160Z"
   },
   {
    "duration": 45,
    "start_time": "2023-05-20T20:48:53.812Z"
   },
   {
    "duration": 27,
    "start_time": "2023-05-20T20:48:53.858Z"
   },
   {
    "duration": 9,
    "start_time": "2023-05-20T20:48:53.887Z"
   },
   {
    "duration": 11,
    "start_time": "2023-05-20T20:48:53.897Z"
   },
   {
    "duration": 5,
    "start_time": "2023-05-20T20:48:53.909Z"
   },
   {
    "duration": 4,
    "start_time": "2023-05-20T20:49:09.976Z"
   },
   {
    "duration": 8,
    "start_time": "2023-05-20T20:49:16.980Z"
   },
   {
    "duration": 7,
    "start_time": "2023-05-20T20:50:45.610Z"
   },
   {
    "duration": 10,
    "start_time": "2023-05-20T20:53:56.105Z"
   },
   {
    "duration": 11,
    "start_time": "2023-05-20T20:54:01.864Z"
   },
   {
    "duration": 10,
    "start_time": "2023-05-20T20:54:37.531Z"
   },
   {
    "duration": 1187,
    "start_time": "2023-05-20T20:56:21.633Z"
   },
   {
    "duration": 39,
    "start_time": "2023-05-20T20:56:22.822Z"
   },
   {
    "duration": 15,
    "start_time": "2023-05-20T20:56:22.862Z"
   },
   {
    "duration": 10,
    "start_time": "2023-05-20T20:56:22.879Z"
   },
   {
    "duration": 4,
    "start_time": "2023-05-20T20:56:22.891Z"
   },
   {
    "duration": 13,
    "start_time": "2023-05-20T20:56:22.897Z"
   },
   {
    "duration": 5,
    "start_time": "2023-05-20T20:56:22.912Z"
   },
   {
    "duration": 24,
    "start_time": "2023-05-20T20:56:22.918Z"
   },
   {
    "duration": 28,
    "start_time": "2023-05-20T20:56:22.944Z"
   },
   {
    "duration": 91,
    "start_time": "2023-05-20T20:56:22.974Z"
   },
   {
    "duration": 82,
    "start_time": "2023-05-20T20:56:23.067Z"
   },
   {
    "duration": 80,
    "start_time": "2023-05-20T20:56:23.151Z"
   },
   {
    "duration": 84,
    "start_time": "2023-05-20T20:56:23.233Z"
   },
   {
    "duration": 751,
    "start_time": "2023-05-20T20:56:23.319Z"
   },
   {
    "duration": 397,
    "start_time": "2023-05-20T20:56:24.071Z"
   },
   {
    "duration": 612,
    "start_time": "2023-05-20T20:56:24.469Z"
   },
   {
    "duration": 45,
    "start_time": "2023-05-20T20:56:25.085Z"
   },
   {
    "duration": 16,
    "start_time": "2023-05-20T20:56:25.131Z"
   },
   {
    "duration": 37,
    "start_time": "2023-05-20T20:56:25.148Z"
   },
   {
    "duration": 12,
    "start_time": "2023-05-20T20:56:25.187Z"
   },
   {
    "duration": 5,
    "start_time": "2023-05-20T20:56:25.200Z"
   },
   {
    "duration": 9,
    "start_time": "2023-05-20T20:56:25.206Z"
   },
   {
    "duration": 38,
    "start_time": "2023-05-20T21:08:32.506Z"
   },
   {
    "duration": 26031,
    "start_time": "2023-05-20T21:24:47.607Z"
   },
   {
    "duration": 25434,
    "start_time": "2023-05-20T21:25:26.465Z"
   },
   {
    "duration": 4997,
    "start_time": "2023-05-20T21:28:20.695Z"
   },
   {
    "duration": 25396,
    "start_time": "2023-05-20T21:36:56.067Z"
   },
   {
    "duration": 1263,
    "start_time": "2023-05-20T21:40:27.055Z"
   },
   {
    "duration": 39,
    "start_time": "2023-05-20T21:40:28.320Z"
   },
   {
    "duration": 16,
    "start_time": "2023-05-20T21:40:28.361Z"
   },
   {
    "duration": 11,
    "start_time": "2023-05-20T21:40:28.379Z"
   },
   {
    "duration": 9,
    "start_time": "2023-05-20T21:40:28.393Z"
   },
   {
    "duration": 11,
    "start_time": "2023-05-20T21:40:28.403Z"
   },
   {
    "duration": 21,
    "start_time": "2023-05-20T21:40:28.416Z"
   },
   {
    "duration": 11,
    "start_time": "2023-05-20T21:40:28.438Z"
   },
   {
    "duration": 28,
    "start_time": "2023-05-20T21:40:28.450Z"
   },
   {
    "duration": 88,
    "start_time": "2023-05-20T21:40:28.479Z"
   },
   {
    "duration": 82,
    "start_time": "2023-05-20T21:40:28.569Z"
   },
   {
    "duration": 86,
    "start_time": "2023-05-20T21:40:28.652Z"
   },
   {
    "duration": 87,
    "start_time": "2023-05-20T21:40:28.740Z"
   },
   {
    "duration": 759,
    "start_time": "2023-05-20T21:40:28.830Z"
   },
   {
    "duration": 379,
    "start_time": "2023-05-20T21:40:29.590Z"
   },
   {
    "duration": 640,
    "start_time": "2023-05-20T21:40:29.970Z"
   },
   {
    "duration": 46,
    "start_time": "2023-05-20T21:40:30.611Z"
   },
   {
    "duration": 30,
    "start_time": "2023-05-20T21:40:30.658Z"
   },
   {
    "duration": 19,
    "start_time": "2023-05-20T21:40:30.689Z"
   },
   {
    "duration": 32,
    "start_time": "2023-05-20T21:40:30.709Z"
   },
   {
    "duration": 27,
    "start_time": "2023-05-20T21:40:30.742Z"
   },
   {
    "duration": 32,
    "start_time": "2023-05-20T21:40:30.771Z"
   },
   {
    "duration": 5202,
    "start_time": "2023-05-20T21:40:30.804Z"
   },
   {
    "duration": 395305,
    "start_time": "2023-05-20T21:40:36.008Z"
   },
   {
    "duration": 5493,
    "start_time": "2023-05-20T22:14:16.278Z"
   },
   {
    "duration": 5402,
    "start_time": "2023-05-20T22:19:38.912Z"
   },
   {
    "duration": 5164,
    "start_time": "2023-05-20T22:20:39.155Z"
   },
   {
    "duration": 22,
    "start_time": "2023-05-20T22:23:19.828Z"
   },
   {
    "duration": 1293,
    "start_time": "2023-05-20T22:23:59.372Z"
   },
   {
    "duration": 39,
    "start_time": "2023-05-20T22:24:00.667Z"
   },
   {
    "duration": 16,
    "start_time": "2023-05-20T22:24:00.708Z"
   },
   {
    "duration": 16,
    "start_time": "2023-05-20T22:24:00.725Z"
   },
   {
    "duration": 12,
    "start_time": "2023-05-20T22:24:00.744Z"
   },
   {
    "duration": 18,
    "start_time": "2023-05-20T22:24:00.757Z"
   },
   {
    "duration": 26,
    "start_time": "2023-05-20T22:24:00.776Z"
   },
   {
    "duration": 38,
    "start_time": "2023-05-20T22:24:00.803Z"
   },
   {
    "duration": 47,
    "start_time": "2023-05-20T22:24:00.842Z"
   },
   {
    "duration": 94,
    "start_time": "2023-05-20T22:24:00.890Z"
   },
   {
    "duration": 77,
    "start_time": "2023-05-20T22:24:00.985Z"
   },
   {
    "duration": 80,
    "start_time": "2023-05-20T22:24:01.063Z"
   },
   {
    "duration": 84,
    "start_time": "2023-05-20T22:24:01.145Z"
   },
   {
    "duration": 777,
    "start_time": "2023-05-20T22:24:01.231Z"
   },
   {
    "duration": 397,
    "start_time": "2023-05-20T22:24:02.009Z"
   },
   {
    "duration": 629,
    "start_time": "2023-05-20T22:24:02.408Z"
   },
   {
    "duration": 51,
    "start_time": "2023-05-20T22:24:03.038Z"
   },
   {
    "duration": 15,
    "start_time": "2023-05-20T22:24:03.090Z"
   },
   {
    "duration": 10,
    "start_time": "2023-05-20T22:24:03.106Z"
   },
   {
    "duration": 11,
    "start_time": "2023-05-20T22:24:03.117Z"
   },
   {
    "duration": 5,
    "start_time": "2023-05-20T22:24:03.129Z"
   },
   {
    "duration": 8,
    "start_time": "2023-05-20T22:24:03.136Z"
   },
   {
    "duration": 5165,
    "start_time": "2023-05-20T22:24:03.145Z"
   },
   {
    "duration": 26058,
    "start_time": "2023-05-20T22:24:08.311Z"
   },
   {
    "duration": 1945,
    "start_time": "2023-05-21T15:40:32.730Z"
   },
   {
    "duration": 179,
    "start_time": "2023-05-21T15:40:34.677Z"
   },
   {
    "duration": 19,
    "start_time": "2023-05-21T15:40:34.858Z"
   },
   {
    "duration": 30,
    "start_time": "2023-05-21T15:40:34.878Z"
   },
   {
    "duration": 50,
    "start_time": "2023-05-21T15:40:34.911Z"
   },
   {
    "duration": 18,
    "start_time": "2023-05-21T15:40:34.963Z"
   },
   {
    "duration": 4,
    "start_time": "2023-05-21T15:40:34.983Z"
   },
   {
    "duration": 15,
    "start_time": "2023-05-21T15:40:34.989Z"
   },
   {
    "duration": 81,
    "start_time": "2023-05-21T15:40:35.007Z"
   },
   {
    "duration": 208,
    "start_time": "2023-05-21T15:40:35.090Z"
   },
   {
    "duration": 192,
    "start_time": "2023-05-21T15:40:35.300Z"
   },
   {
    "duration": 198,
    "start_time": "2023-05-21T15:40:35.494Z"
   },
   {
    "duration": 190,
    "start_time": "2023-05-21T15:40:35.694Z"
   },
   {
    "duration": 1010,
    "start_time": "2023-05-21T15:40:35.887Z"
   },
   {
    "duration": 504,
    "start_time": "2023-05-21T15:40:36.898Z"
   },
   {
    "duration": 838,
    "start_time": "2023-05-21T15:40:37.404Z"
   },
   {
    "duration": 66,
    "start_time": "2023-05-21T15:40:38.244Z"
   },
   {
    "duration": 20,
    "start_time": "2023-05-21T15:40:38.312Z"
   },
   {
    "duration": 31,
    "start_time": "2023-05-21T15:40:38.334Z"
   },
   {
    "duration": 22,
    "start_time": "2023-05-21T15:40:38.367Z"
   },
   {
    "duration": 10,
    "start_time": "2023-05-21T15:40:38.391Z"
   },
   {
    "duration": 14,
    "start_time": "2023-05-21T15:40:38.403Z"
   },
   {
    "duration": 736,
    "start_time": "2023-05-21T15:40:38.419Z"
   },
   {
    "duration": 0,
    "start_time": "2023-05-21T15:40:39.158Z"
   },
   {
    "duration": 0,
    "start_time": "2023-05-21T15:40:39.159Z"
   },
   {
    "duration": 1677,
    "start_time": "2023-05-21T15:42:59.282Z"
   },
   {
    "duration": 47,
    "start_time": "2023-05-21T15:43:00.962Z"
   },
   {
    "duration": 33,
    "start_time": "2023-05-21T15:43:01.011Z"
   },
   {
    "duration": 65,
    "start_time": "2023-05-21T15:43:01.046Z"
   },
   {
    "duration": 47,
    "start_time": "2023-05-21T15:43:01.114Z"
   },
   {
    "duration": 47,
    "start_time": "2023-05-21T15:43:01.164Z"
   },
   {
    "duration": 77,
    "start_time": "2023-05-21T15:43:01.213Z"
   },
   {
    "duration": 64,
    "start_time": "2023-05-21T15:43:01.292Z"
   },
   {
    "duration": 64,
    "start_time": "2023-05-21T15:43:01.357Z"
   },
   {
    "duration": 131,
    "start_time": "2023-05-21T15:43:01.423Z"
   },
   {
    "duration": 137,
    "start_time": "2023-05-21T15:43:01.557Z"
   },
   {
    "duration": 115,
    "start_time": "2023-05-21T15:43:01.697Z"
   },
   {
    "duration": 130,
    "start_time": "2023-05-21T15:43:01.815Z"
   },
   {
    "duration": 1021,
    "start_time": "2023-05-21T15:43:01.948Z"
   },
   {
    "duration": 487,
    "start_time": "2023-05-21T15:43:02.971Z"
   },
   {
    "duration": 824,
    "start_time": "2023-05-21T15:43:03.460Z"
   },
   {
    "duration": 73,
    "start_time": "2023-05-21T15:43:04.286Z"
   },
   {
    "duration": 21,
    "start_time": "2023-05-21T15:43:04.361Z"
   },
   {
    "duration": 11,
    "start_time": "2023-05-21T15:43:04.384Z"
   },
   {
    "duration": 15,
    "start_time": "2023-05-21T15:43:04.397Z"
   },
   {
    "duration": 44,
    "start_time": "2023-05-21T15:43:04.414Z"
   },
   {
    "duration": 11,
    "start_time": "2023-05-21T15:43:04.460Z"
   },
   {
    "duration": 5803,
    "start_time": "2023-05-21T15:43:04.472Z"
   },
   {
    "duration": 30062,
    "start_time": "2023-05-21T15:43:10.277Z"
   },
   {
    "duration": 18000,
    "start_time": "2023-05-21T15:43:40.340Z"
   },
   {
    "duration": 3058496,
    "start_time": "2023-05-21T15:44:23.362Z"
   },
   {
    "duration": 1455,
    "start_time": "2023-05-21T16:36:35.797Z"
   },
   {
    "duration": 41,
    "start_time": "2023-05-21T16:36:37.254Z"
   },
   {
    "duration": 19,
    "start_time": "2023-05-21T16:36:37.297Z"
   },
   {
    "duration": 15,
    "start_time": "2023-05-21T16:36:37.318Z"
   },
   {
    "duration": 7,
    "start_time": "2023-05-21T16:36:37.335Z"
   },
   {
    "duration": 14,
    "start_time": "2023-05-21T16:36:37.344Z"
   },
   {
    "duration": 9,
    "start_time": "2023-05-21T16:36:37.360Z"
   },
   {
    "duration": 12,
    "start_time": "2023-05-21T16:36:37.371Z"
   },
   {
    "duration": 47,
    "start_time": "2023-05-21T16:36:37.385Z"
   },
   {
    "duration": 129,
    "start_time": "2023-05-21T16:36:37.434Z"
   },
   {
    "duration": 103,
    "start_time": "2023-05-21T16:36:37.565Z"
   },
   {
    "duration": 98,
    "start_time": "2023-05-21T16:36:37.670Z"
   },
   {
    "duration": 111,
    "start_time": "2023-05-21T16:36:37.769Z"
   },
   {
    "duration": 1014,
    "start_time": "2023-05-21T16:36:37.883Z"
   },
   {
    "duration": 523,
    "start_time": "2023-05-21T16:36:38.899Z"
   },
   {
    "duration": 761,
    "start_time": "2023-05-21T16:36:39.423Z"
   },
   {
    "duration": 71,
    "start_time": "2023-05-21T16:36:40.186Z"
   },
   {
    "duration": 21,
    "start_time": "2023-05-21T16:36:40.259Z"
   },
   {
    "duration": 11,
    "start_time": "2023-05-21T16:36:40.282Z"
   },
   {
    "duration": 32,
    "start_time": "2023-05-21T16:36:40.295Z"
   },
   {
    "duration": 6,
    "start_time": "2023-05-21T16:36:40.329Z"
   },
   {
    "duration": 26,
    "start_time": "2023-05-21T16:36:40.336Z"
   },
   {
    "duration": 5407,
    "start_time": "2023-05-21T16:36:40.364Z"
   },
   {
    "duration": 29532,
    "start_time": "2023-05-21T16:36:45.773Z"
   },
   {
    "duration": 764350,
    "start_time": "2023-05-21T16:37:15.307Z"
   },
   {
    "duration": 109826,
    "start_time": "2023-05-21T16:52:57.142Z"
   },
   {
    "duration": 1632,
    "start_time": "2023-05-22T18:28:26.845Z"
   },
   {
    "duration": 342,
    "start_time": "2023-05-22T18:28:28.479Z"
   },
   {
    "duration": 19,
    "start_time": "2023-05-22T18:28:28.822Z"
   },
   {
    "duration": 14,
    "start_time": "2023-05-22T18:28:28.843Z"
   },
   {
    "duration": 5,
    "start_time": "2023-05-22T18:28:28.859Z"
   },
   {
    "duration": 3,
    "start_time": "2023-05-22T18:28:28.866Z"
   },
   {
    "duration": 6,
    "start_time": "2023-05-22T18:28:28.871Z"
   },
   {
    "duration": 13,
    "start_time": "2023-05-22T18:28:28.879Z"
   },
   {
    "duration": 34,
    "start_time": "2023-05-22T18:28:28.894Z"
   },
   {
    "duration": 127,
    "start_time": "2023-05-22T18:28:28.930Z"
   },
   {
    "duration": 92,
    "start_time": "2023-05-22T18:28:29.058Z"
   },
   {
    "duration": 90,
    "start_time": "2023-05-22T18:28:29.152Z"
   },
   {
    "duration": 101,
    "start_time": "2023-05-22T18:28:29.243Z"
   },
   {
    "duration": 979,
    "start_time": "2023-05-22T18:28:29.347Z"
   },
   {
    "duration": 466,
    "start_time": "2023-05-22T18:28:30.327Z"
   },
   {
    "duration": 746,
    "start_time": "2023-05-22T18:28:30.794Z"
   },
   {
    "duration": 70,
    "start_time": "2023-05-22T18:28:31.542Z"
   },
   {
    "duration": 19,
    "start_time": "2023-05-22T18:28:31.614Z"
   },
   {
    "duration": 38,
    "start_time": "2023-05-22T18:28:31.634Z"
   },
   {
    "duration": 22,
    "start_time": "2023-05-22T18:28:31.674Z"
   },
   {
    "duration": 7,
    "start_time": "2023-05-22T18:28:31.698Z"
   },
   {
    "duration": 13,
    "start_time": "2023-05-22T18:28:31.707Z"
   },
   {
    "duration": 5468,
    "start_time": "2023-05-22T18:28:31.722Z"
   },
   {
    "duration": 29512,
    "start_time": "2023-05-22T18:28:37.192Z"
   },
   {
    "duration": 113375,
    "start_time": "2023-05-22T18:29:06.705Z"
   },
   {
    "duration": 28980,
    "start_time": "2023-05-22T19:36:42.738Z"
   },
   {
    "duration": 33040,
    "start_time": "2023-05-22T19:38:47.014Z"
   },
   {
    "duration": 111416,
    "start_time": "2023-05-22T19:42:24.472Z"
   },
   {
    "duration": 4,
    "start_time": "2023-05-22T19:59:55.344Z"
   },
   {
    "duration": 4,
    "start_time": "2023-05-22T20:04:18.305Z"
   },
   {
    "duration": 12,
    "start_time": "2023-05-22T20:07:28.708Z"
   },
   {
    "duration": 28614,
    "start_time": "2023-05-22T20:10:13.124Z"
   },
   {
    "duration": 7,
    "start_time": "2023-05-22T20:16:28.527Z"
   },
   {
    "duration": 71,
    "start_time": "2023-05-22T20:16:42.416Z"
   },
   {
    "duration": 4707,
    "start_time": "2023-05-22T20:17:01.428Z"
   },
   {
    "duration": 77,
    "start_time": "2023-05-22T20:19:01.943Z"
   },
   {
    "duration": 9,
    "start_time": "2023-05-22T20:19:42.137Z"
   },
   {
    "duration": 81,
    "start_time": "2023-05-22T20:20:20.721Z"
   },
   {
    "duration": 80,
    "start_time": "2023-05-22T20:20:26.418Z"
   },
   {
    "duration": 106,
    "start_time": "2023-05-22T20:20:33.819Z"
   },
   {
    "duration": 88,
    "start_time": "2023-05-22T20:21:40.865Z"
   },
   {
    "duration": 9,
    "start_time": "2023-05-22T20:22:47.745Z"
   },
   {
    "duration": 8731,
    "start_time": "2023-05-22T20:22:49.731Z"
   },
   {
    "duration": 7,
    "start_time": "2023-05-22T20:23:12.460Z"
   },
   {
    "duration": 31080,
    "start_time": "2023-05-22T20:23:16.764Z"
   },
   {
    "duration": 6,
    "start_time": "2023-05-22T20:27:05.707Z"
   },
   {
    "duration": 106624,
    "start_time": "2023-05-22T20:27:22.860Z"
   },
   {
    "duration": 3677,
    "start_time": "2023-05-22T20:30:17.605Z"
   },
   {
    "duration": 16609,
    "start_time": "2023-05-22T20:31:02.007Z"
   },
   {
    "duration": 20323,
    "start_time": "2023-05-22T20:31:29.575Z"
   },
   {
    "duration": 119548,
    "start_time": "2023-05-22T20:32:17.632Z"
   },
   {
    "duration": 3579,
    "start_time": "2023-05-22T20:35:52.670Z"
   },
   {
    "duration": 3972,
    "start_time": "2023-05-22T20:36:11.026Z"
   },
   {
    "duration": 3652,
    "start_time": "2023-05-22T20:36:27.457Z"
   },
   {
    "duration": 20609,
    "start_time": "2023-05-22T20:37:08.754Z"
   },
   {
    "duration": 18,
    "start_time": "2023-05-22T20:37:50.331Z"
   },
   {
    "duration": 22974,
    "start_time": "2023-05-22T20:37:55.699Z"
   },
   {
    "duration": 20953,
    "start_time": "2023-05-22T20:38:36.402Z"
   },
   {
    "duration": 71410,
    "start_time": "2023-05-22T20:39:40.874Z"
   },
   {
    "duration": 14456,
    "start_time": "2023-05-22T20:41:01.433Z"
   },
   {
    "duration": 1418,
    "start_time": "2023-05-22T20:41:33.398Z"
   },
   {
    "duration": 41,
    "start_time": "2023-05-22T20:41:34.818Z"
   },
   {
    "duration": 20,
    "start_time": "2023-05-22T20:41:34.861Z"
   },
   {
    "duration": 15,
    "start_time": "2023-05-22T20:41:34.883Z"
   },
   {
    "duration": 7,
    "start_time": "2023-05-22T20:41:34.900Z"
   },
   {
    "duration": 4,
    "start_time": "2023-05-22T20:41:34.908Z"
   },
   {
    "duration": 5,
    "start_time": "2023-05-22T20:41:34.914Z"
   },
   {
    "duration": 13,
    "start_time": "2023-05-22T20:41:34.921Z"
   },
   {
    "duration": 73,
    "start_time": "2023-05-22T20:41:34.935Z"
   },
   {
    "duration": 119,
    "start_time": "2023-05-22T20:41:35.011Z"
   },
   {
    "duration": 101,
    "start_time": "2023-05-22T20:41:35.131Z"
   },
   {
    "duration": 101,
    "start_time": "2023-05-22T20:41:35.234Z"
   },
   {
    "duration": 104,
    "start_time": "2023-05-22T20:41:35.337Z"
   },
   {
    "duration": 991,
    "start_time": "2023-05-22T20:41:35.443Z"
   },
   {
    "duration": 452,
    "start_time": "2023-05-22T20:41:36.436Z"
   },
   {
    "duration": 835,
    "start_time": "2023-05-22T20:41:36.889Z"
   },
   {
    "duration": 72,
    "start_time": "2023-05-22T20:41:37.726Z"
   },
   {
    "duration": 19,
    "start_time": "2023-05-22T20:41:37.799Z"
   },
   {
    "duration": 11,
    "start_time": "2023-05-22T20:41:37.820Z"
   },
   {
    "duration": 13,
    "start_time": "2023-05-22T20:41:37.832Z"
   },
   {
    "duration": 32,
    "start_time": "2023-05-22T20:41:37.847Z"
   },
   {
    "duration": 13,
    "start_time": "2023-05-22T20:41:37.881Z"
   },
   {
    "duration": 9,
    "start_time": "2023-05-22T20:41:37.896Z"
   },
   {
    "duration": 4713,
    "start_time": "2023-05-22T20:41:37.907Z"
   },
   {
    "duration": 7,
    "start_time": "2023-05-22T20:41:42.621Z"
   },
   {
    "duration": 29501,
    "start_time": "2023-05-22T20:41:42.630Z"
   },
   {
    "duration": 6,
    "start_time": "2023-05-22T20:42:12.132Z"
   },
   {
    "duration": 128641,
    "start_time": "2023-05-22T20:42:12.141Z"
   },
   {
    "duration": 3674,
    "start_time": "2023-05-22T20:44:20.785Z"
   },
   {
    "duration": 20552,
    "start_time": "2023-05-22T20:44:24.461Z"
   },
   {
    "duration": 147163,
    "start_time": "2023-05-22T20:44:45.015Z"
   },
   {
    "duration": 6,
    "start_time": "2023-05-22T20:47:12.181Z"
   },
   {
    "duration": 97,
    "start_time": "2023-05-22T20:47:12.192Z"
   },
   {
    "duration": 21,
    "start_time": "2023-05-22T20:47:12.293Z"
   },
   {
    "duration": 3896,
    "start_time": "2023-05-22T20:47:12.316Z"
   },
   {
    "duration": 22060,
    "start_time": "2023-05-22T20:47:16.215Z"
   },
   {
    "duration": 140109,
    "start_time": "2023-05-22T20:47:38.278Z"
   },
   {
    "duration": 147788,
    "start_time": "2023-05-22T20:50:44.193Z"
   },
   {
    "duration": 265204,
    "start_time": "2023-05-22T20:53:34.586Z"
   },
   {
    "duration": 3258,
    "start_time": "2023-05-22T21:00:09.813Z"
   },
   {
    "duration": 18842,
    "start_time": "2023-05-22T21:00:34.790Z"
   },
   {
    "duration": 170211,
    "start_time": "2023-05-22T21:01:19.767Z"
   },
   {
    "duration": 6,
    "start_time": "2023-05-22T21:23:08.801Z"
   },
   {
    "duration": 127,
    "start_time": "2023-05-22T21:26:47.113Z"
   },
   {
    "duration": 49,
    "start_time": "2023-05-22T21:26:57.389Z"
   },
   {
    "duration": 58,
    "start_time": "2023-05-22T21:31:34.773Z"
   },
   {
    "duration": 52,
    "start_time": "2023-05-22T21:32:07.862Z"
   },
   {
    "duration": 56,
    "start_time": "2023-05-22T21:32:35.712Z"
   },
   {
    "duration": 52,
    "start_time": "2023-05-22T21:32:44.318Z"
   },
   {
    "duration": 60,
    "start_time": "2023-05-22T21:32:49.423Z"
   },
   {
    "duration": 77,
    "start_time": "2023-05-22T21:51:01.335Z"
   },
   {
    "duration": 76,
    "start_time": "2023-05-22T21:51:42.479Z"
   },
   {
    "duration": 14950,
    "start_time": "2023-05-22T21:53:17.257Z"
   },
   {
    "duration": 15020,
    "start_time": "2023-05-22T21:54:04.616Z"
   },
   {
    "duration": 20378,
    "start_time": "2023-05-22T21:55:09.009Z"
   },
   {
    "duration": 18404,
    "start_time": "2023-05-22T21:55:45.410Z"
   },
   {
    "duration": 29177,
    "start_time": "2023-05-22T21:56:14.562Z"
   },
   {
    "duration": 48916,
    "start_time": "2023-05-22T21:58:28.935Z"
   },
   {
    "duration": 1399,
    "start_time": "2023-05-22T22:01:58.643Z"
   },
   {
    "duration": 41,
    "start_time": "2023-05-22T22:02:00.044Z"
   },
   {
    "duration": 20,
    "start_time": "2023-05-22T22:02:00.087Z"
   },
   {
    "duration": 28,
    "start_time": "2023-05-22T22:02:00.109Z"
   },
   {
    "duration": 32,
    "start_time": "2023-05-22T22:02:00.139Z"
   },
   {
    "duration": 10,
    "start_time": "2023-05-22T22:02:00.173Z"
   },
   {
    "duration": 36,
    "start_time": "2023-05-22T22:02:00.184Z"
   },
   {
    "duration": 31,
    "start_time": "2023-05-22T22:02:00.222Z"
   },
   {
    "duration": 36,
    "start_time": "2023-05-22T22:02:00.256Z"
   },
   {
    "duration": 118,
    "start_time": "2023-05-22T22:02:00.293Z"
   },
   {
    "duration": 113,
    "start_time": "2023-05-22T22:02:00.413Z"
   },
   {
    "duration": 101,
    "start_time": "2023-05-22T22:02:00.528Z"
   },
   {
    "duration": 102,
    "start_time": "2023-05-22T22:02:00.631Z"
   },
   {
    "duration": 954,
    "start_time": "2023-05-22T22:02:00.736Z"
   },
   {
    "duration": 457,
    "start_time": "2023-05-22T22:02:01.692Z"
   },
   {
    "duration": 780,
    "start_time": "2023-05-22T22:02:02.150Z"
   },
   {
    "duration": 68,
    "start_time": "2023-05-22T22:02:02.932Z"
   },
   {
    "duration": 19,
    "start_time": "2023-05-22T22:02:03.002Z"
   },
   {
    "duration": 10,
    "start_time": "2023-05-22T22:02:03.022Z"
   },
   {
    "duration": 13,
    "start_time": "2023-05-22T22:02:03.034Z"
   },
   {
    "duration": 32,
    "start_time": "2023-05-22T22:02:03.048Z"
   },
   {
    "duration": 12,
    "start_time": "2023-05-22T22:02:03.082Z"
   },
   {
    "duration": 7,
    "start_time": "2023-05-22T22:02:03.095Z"
   },
   {
    "duration": 4740,
    "start_time": "2023-05-22T22:02:03.103Z"
   },
   {
    "duration": 5,
    "start_time": "2023-05-22T22:02:07.845Z"
   },
   {
    "duration": 30362,
    "start_time": "2023-05-22T22:02:07.852Z"
   },
   {
    "duration": 5,
    "start_time": "2023-05-22T22:02:38.217Z"
   },
   {
    "duration": 106258,
    "start_time": "2023-05-22T22:02:38.224Z"
   },
   {
    "duration": 3928,
    "start_time": "2023-05-22T22:04:24.484Z"
   },
   {
    "duration": 19920,
    "start_time": "2023-05-22T22:04:28.413Z"
   },
   {
    "duration": 109447,
    "start_time": "2023-05-22T22:04:48.335Z"
   },
   {
    "duration": 95,
    "start_time": "2023-05-22T22:06:37.784Z"
   },
   {
    "duration": 15,
    "start_time": "2023-05-22T22:06:37.882Z"
   },
   {
    "duration": 29,
    "start_time": "2023-05-22T22:06:37.899Z"
   },
   {
    "duration": 3937,
    "start_time": "2023-05-22T22:06:37.929Z"
   },
   {
    "duration": 2905,
    "start_time": "2023-05-22T22:06:41.868Z"
   },
   {
    "duration": 20640,
    "start_time": "2023-05-22T22:06:44.778Z"
   },
   {
    "duration": 16891,
    "start_time": "2023-05-22T22:07:05.420Z"
   },
   {
    "duration": 117667,
    "start_time": "2023-05-22T22:07:22.313Z"
   },
   {
    "duration": 115800,
    "start_time": "2023-05-22T22:09:19.983Z"
   },
   {
    "duration": 12936,
    "start_time": "2023-05-22T22:11:15.787Z"
   },
   {
    "duration": 6,
    "start_time": "2023-05-22T22:14:54.916Z"
   },
   {
    "duration": 4747,
    "start_time": "2023-05-22T22:14:57.547Z"
   },
   {
    "duration": 11,
    "start_time": "2023-05-22T22:26:53.222Z"
   },
   {
    "duration": 12,
    "start_time": "2023-05-22T22:28:05.553Z"
   },
   {
    "duration": 111,
    "start_time": "2023-05-22T22:31:21.187Z"
   },
   {
    "duration": 30,
    "start_time": "2023-05-22T22:31:40.531Z"
   },
   {
    "duration": 32,
    "start_time": "2023-05-22T22:33:46.804Z"
   },
   {
    "duration": 9,
    "start_time": "2023-05-22T22:36:42.701Z"
   },
   {
    "duration": 28,
    "start_time": "2023-05-22T22:36:44.613Z"
   },
   {
    "duration": 1463,
    "start_time": "2023-05-22T23:37:26.399Z"
   },
   {
    "duration": 40,
    "start_time": "2023-05-22T23:37:27.864Z"
   },
   {
    "duration": 20,
    "start_time": "2023-05-22T23:37:27.905Z"
   },
   {
    "duration": 15,
    "start_time": "2023-05-22T23:37:27.927Z"
   },
   {
    "duration": 7,
    "start_time": "2023-05-22T23:37:27.943Z"
   },
   {
    "duration": 26,
    "start_time": "2023-05-22T23:37:27.951Z"
   },
   {
    "duration": 6,
    "start_time": "2023-05-22T23:37:27.979Z"
   },
   {
    "duration": 20,
    "start_time": "2023-05-22T23:37:27.987Z"
   },
   {
    "duration": 33,
    "start_time": "2023-05-22T23:37:28.009Z"
   },
   {
    "duration": 104,
    "start_time": "2023-05-22T23:37:28.045Z"
   },
   {
    "duration": 92,
    "start_time": "2023-05-22T23:37:28.150Z"
   },
   {
    "duration": 93,
    "start_time": "2023-05-22T23:37:28.244Z"
   },
   {
    "duration": 101,
    "start_time": "2023-05-22T23:37:28.339Z"
   },
   {
    "duration": 882,
    "start_time": "2023-05-22T23:37:28.442Z"
   },
   {
    "duration": 457,
    "start_time": "2023-05-22T23:37:29.326Z"
   },
   {
    "duration": 760,
    "start_time": "2023-05-22T23:37:29.784Z"
   },
   {
    "duration": 66,
    "start_time": "2023-05-22T23:37:30.546Z"
   },
   {
    "duration": 19,
    "start_time": "2023-05-22T23:37:30.613Z"
   },
   {
    "duration": 36,
    "start_time": "2023-05-22T23:37:30.633Z"
   },
   {
    "duration": 42,
    "start_time": "2023-05-22T23:37:30.671Z"
   },
   {
    "duration": 30,
    "start_time": "2023-05-22T23:37:30.715Z"
   },
   {
    "duration": 39,
    "start_time": "2023-05-22T23:37:30.746Z"
   },
   {
    "duration": 25,
    "start_time": "2023-05-22T23:37:30.786Z"
   },
   {
    "duration": 4688,
    "start_time": "2023-05-22T23:37:30.813Z"
   },
   {
    "duration": 7,
    "start_time": "2023-05-22T23:37:35.503Z"
   },
   {
    "duration": 28539,
    "start_time": "2023-05-22T23:37:35.513Z"
   },
   {
    "duration": 5,
    "start_time": "2023-05-22T23:38:04.054Z"
   },
   {
    "duration": 104123,
    "start_time": "2023-05-22T23:38:04.063Z"
   },
   {
    "duration": 3746,
    "start_time": "2023-05-22T23:39:48.188Z"
   },
   {
    "duration": 20007,
    "start_time": "2023-05-22T23:39:51.936Z"
   },
   {
    "duration": 111343,
    "start_time": "2023-05-22T23:40:11.945Z"
   },
   {
    "duration": 7,
    "start_time": "2023-05-22T23:42:03.380Z"
   },
   {
    "duration": 94,
    "start_time": "2023-05-22T23:42:03.388Z"
   },
   {
    "duration": 17,
    "start_time": "2023-05-22T23:42:03.484Z"
   },
   {
    "duration": 3658,
    "start_time": "2023-05-22T23:42:03.503Z"
   },
   {
    "duration": 2725,
    "start_time": "2023-05-22T23:42:07.163Z"
   },
   {
    "duration": 20485,
    "start_time": "2023-05-22T23:42:09.890Z"
   },
   {
    "duration": 16590,
    "start_time": "2023-05-22T23:42:30.379Z"
   },
   {
    "duration": 116110,
    "start_time": "2023-05-22T23:42:46.978Z"
   },
   {
    "duration": 97899,
    "start_time": "2023-05-22T23:44:43.179Z"
   },
   {
    "duration": 12955,
    "start_time": "2023-05-22T23:46:21.081Z"
   },
   {
    "duration": 10,
    "start_time": "2023-05-22T23:46:34.038Z"
   },
   {
    "duration": 50,
    "start_time": "2023-05-22T23:46:34.050Z"
   },
   {
    "duration": 4663,
    "start_time": "2023-05-24T08:38:09.713Z"
   },
   {
    "duration": 81,
    "start_time": "2023-05-24T08:38:14.379Z"
   },
   {
    "duration": 19,
    "start_time": "2023-05-24T08:38:14.462Z"
   },
   {
    "duration": 24,
    "start_time": "2023-05-24T08:38:14.484Z"
   },
   {
    "duration": 30,
    "start_time": "2023-05-24T08:38:14.510Z"
   },
   {
    "duration": 20,
    "start_time": "2023-05-24T08:38:14.542Z"
   },
   {
    "duration": 42,
    "start_time": "2023-05-24T08:38:14.563Z"
   },
   {
    "duration": 45,
    "start_time": "2023-05-24T08:38:14.606Z"
   },
   {
    "duration": 47,
    "start_time": "2023-05-24T08:38:14.653Z"
   },
   {
    "duration": 119,
    "start_time": "2023-05-24T08:38:14.703Z"
   },
   {
    "duration": 100,
    "start_time": "2023-05-24T08:38:14.824Z"
   },
   {
    "duration": 99,
    "start_time": "2023-05-24T08:38:14.926Z"
   },
   {
    "duration": 100,
    "start_time": "2023-05-24T08:38:15.027Z"
   },
   {
    "duration": 974,
    "start_time": "2023-05-24T08:38:15.128Z"
   },
   {
    "duration": 475,
    "start_time": "2023-05-24T08:38:16.105Z"
   },
   {
    "duration": 834,
    "start_time": "2023-05-24T08:38:16.582Z"
   },
   {
    "duration": 72,
    "start_time": "2023-05-24T08:38:17.418Z"
   },
   {
    "duration": 21,
    "start_time": "2023-05-24T08:38:17.492Z"
   },
   {
    "duration": 33,
    "start_time": "2023-05-24T08:38:17.515Z"
   },
   {
    "duration": 14,
    "start_time": "2023-05-24T08:38:17.550Z"
   },
   {
    "duration": 6,
    "start_time": "2023-05-24T08:38:17.566Z"
   },
   {
    "duration": 16,
    "start_time": "2023-05-24T08:38:17.574Z"
   },
   {
    "duration": 8,
    "start_time": "2023-05-24T08:38:17.592Z"
   },
   {
    "duration": 5290,
    "start_time": "2023-05-24T08:38:17.602Z"
   },
   {
    "duration": 6,
    "start_time": "2023-05-24T08:38:22.894Z"
   },
   {
    "duration": 32158,
    "start_time": "2023-05-24T08:38:22.902Z"
   },
   {
    "duration": 6,
    "start_time": "2023-05-24T08:38:55.062Z"
   },
   {
    "duration": 143377,
    "start_time": "2023-05-24T08:38:55.071Z"
   },
   {
    "duration": 4221,
    "start_time": "2023-05-24T08:41:18.450Z"
   },
   {
    "duration": 22003,
    "start_time": "2023-05-24T08:41:22.673Z"
   },
   {
    "duration": 157969,
    "start_time": "2023-05-24T08:41:44.678Z"
   },
   {
    "duration": 5,
    "start_time": "2023-05-24T08:44:22.650Z"
   },
   {
    "duration": 23,
    "start_time": "2023-05-24T08:44:22.747Z"
   },
   {
    "duration": 22,
    "start_time": "2023-05-24T08:44:22.772Z"
   },
   {
    "duration": 4162,
    "start_time": "2023-05-24T08:44:22.796Z"
   },
   {
    "duration": 3233,
    "start_time": "2023-05-24T08:44:26.960Z"
   },
   {
    "duration": 22613,
    "start_time": "2023-05-24T08:44:30.195Z"
   },
   {
    "duration": 18719,
    "start_time": "2023-05-24T08:44:52.809Z"
   },
   {
    "duration": 166817,
    "start_time": "2023-05-24T08:45:11.530Z"
   },
   {
    "duration": 139103,
    "start_time": "2023-05-24T08:47:58.349Z"
   },
   {
    "duration": 14448,
    "start_time": "2023-05-24T08:50:17.455Z"
   },
   {
    "duration": 9,
    "start_time": "2023-05-24T08:50:31.905Z"
   },
   {
    "duration": 57,
    "start_time": "2023-05-24T08:50:31.916Z"
   },
   {
    "duration": 2376,
    "start_time": "2023-05-24T11:54:49.811Z"
   },
   {
    "duration": 178,
    "start_time": "2023-05-24T11:54:52.189Z"
   },
   {
    "duration": 28,
    "start_time": "2023-05-24T11:54:52.369Z"
   },
   {
    "duration": 22,
    "start_time": "2023-05-24T11:54:52.400Z"
   },
   {
    "duration": 6,
    "start_time": "2023-05-24T11:54:52.424Z"
   },
   {
    "duration": 7,
    "start_time": "2023-05-24T11:54:52.432Z"
   },
   {
    "duration": 13,
    "start_time": "2023-05-24T11:54:52.441Z"
   },
   {
    "duration": 27,
    "start_time": "2023-05-24T11:54:52.456Z"
   },
   {
    "duration": 50,
    "start_time": "2023-05-24T11:55:04.685Z"
   },
   {
    "duration": 4,
    "start_time": "2023-05-24T11:55:21.414Z"
   },
   {
    "duration": 58,
    "start_time": "2023-05-24T11:55:21.421Z"
   },
   {
    "duration": 18,
    "start_time": "2023-05-24T11:55:21.480Z"
   },
   {
    "duration": 26,
    "start_time": "2023-05-24T11:55:21.500Z"
   },
   {
    "duration": 7,
    "start_time": "2023-05-24T11:55:21.529Z"
   },
   {
    "duration": 6,
    "start_time": "2023-05-24T11:55:21.538Z"
   },
   {
    "duration": 15,
    "start_time": "2023-05-24T11:55:21.546Z"
   },
   {
    "duration": 13,
    "start_time": "2023-05-24T11:55:21.563Z"
   },
   {
    "duration": 57,
    "start_time": "2023-05-24T11:55:21.577Z"
   },
   {
    "duration": 121,
    "start_time": "2023-05-24T11:55:21.635Z"
   },
   {
    "duration": 108,
    "start_time": "2023-05-24T11:55:21.758Z"
   },
   {
    "duration": 110,
    "start_time": "2023-05-24T11:55:21.868Z"
   },
   {
    "duration": 114,
    "start_time": "2023-05-24T11:55:21.981Z"
   },
   {
    "duration": 1034,
    "start_time": "2023-05-24T11:55:22.097Z"
   },
   {
    "duration": 514,
    "start_time": "2023-05-24T11:55:23.134Z"
   },
   {
    "duration": 849,
    "start_time": "2023-05-24T11:55:23.650Z"
   },
   {
    "duration": 5,
    "start_time": "2023-05-24T12:13:16.011Z"
   },
   {
    "duration": 3,
    "start_time": "2023-05-24T12:35:07.469Z"
   },
   {
    "duration": 186,
    "start_time": "2023-05-24T12:35:07.475Z"
   },
   {
    "duration": 17,
    "start_time": "2023-05-24T12:35:07.663Z"
   },
   {
    "duration": 46,
    "start_time": "2023-05-24T12:35:07.683Z"
   },
   {
    "duration": 9,
    "start_time": "2023-05-24T12:35:07.732Z"
   },
   {
    "duration": 18,
    "start_time": "2023-05-24T12:35:07.743Z"
   },
   {
    "duration": 6,
    "start_time": "2023-05-24T12:35:07.763Z"
   },
   {
    "duration": 26,
    "start_time": "2023-05-24T12:35:07.772Z"
   },
   {
    "duration": 50,
    "start_time": "2023-05-24T12:35:07.801Z"
   },
   {
    "duration": 105,
    "start_time": "2023-05-24T12:35:07.853Z"
   },
   {
    "duration": 109,
    "start_time": "2023-05-24T12:35:07.960Z"
   },
   {
    "duration": 115,
    "start_time": "2023-05-24T12:35:08.072Z"
   },
   {
    "duration": 110,
    "start_time": "2023-05-24T12:35:08.188Z"
   },
   {
    "duration": 1008,
    "start_time": "2023-05-24T12:35:08.300Z"
   },
   {
    "duration": 786,
    "start_time": "2023-05-24T12:35:09.313Z"
   },
   {
    "duration": 929,
    "start_time": "2023-05-24T12:35:10.102Z"
   },
   {
    "duration": 15,
    "start_time": "2023-05-24T12:35:11.035Z"
   },
   {
    "duration": 32,
    "start_time": "2023-05-24T12:35:14.944Z"
   },
   {
    "duration": 252,
    "start_time": "2023-05-24T12:35:33.206Z"
   },
   {
    "duration": 4,
    "start_time": "2023-05-24T12:36:41.067Z"
   },
   {
    "duration": 59,
    "start_time": "2023-05-24T12:38:55.413Z"
   },
   {
    "duration": 41,
    "start_time": "2023-05-24T12:40:09.814Z"
   },
   {
    "duration": 12,
    "start_time": "2023-05-24T12:41:17.951Z"
   },
   {
    "duration": 13,
    "start_time": "2023-05-24T12:42:15.756Z"
   },
   {
    "duration": 28,
    "start_time": "2023-05-24T12:42:21.759Z"
   },
   {
    "duration": 15,
    "start_time": "2023-05-24T12:44:46.660Z"
   },
   {
    "duration": 8,
    "start_time": "2023-05-24T12:44:50.071Z"
   },
   {
    "duration": 5,
    "start_time": "2023-05-24T12:44:51.919Z"
   },
   {
    "duration": 29,
    "start_time": "2023-05-24T12:45:58.308Z"
   },
   {
    "duration": 26,
    "start_time": "2023-05-24T12:47:50.208Z"
   },
   {
    "duration": 67,
    "start_time": "2023-05-24T12:47:57.881Z"
   },
   {
    "duration": 31,
    "start_time": "2023-05-24T12:48:21.110Z"
   },
   {
    "duration": 19,
    "start_time": "2023-05-24T12:49:56.482Z"
   },
   {
    "duration": 28,
    "start_time": "2023-05-24T12:51:43.418Z"
   },
   {
    "duration": 42,
    "start_time": "2023-05-24T12:51:48.915Z"
   },
   {
    "duration": 14,
    "start_time": "2023-05-24T12:53:47.571Z"
   },
   {
    "duration": 101,
    "start_time": "2023-05-24T12:56:56.212Z"
   },
   {
    "duration": 20,
    "start_time": "2023-05-24T12:57:03.464Z"
   },
   {
    "duration": 34,
    "start_time": "2023-05-24T12:59:27.005Z"
   },
   {
    "duration": 12,
    "start_time": "2023-05-24T13:00:14.275Z"
   },
   {
    "duration": 5,
    "start_time": "2023-05-24T13:00:34.767Z"
   },
   {
    "duration": 2118,
    "start_time": "2023-05-24T13:00:55.664Z"
   },
   {
    "duration": 163,
    "start_time": "2023-05-24T13:00:57.785Z"
   },
   {
    "duration": 19,
    "start_time": "2023-05-24T13:00:57.950Z"
   },
   {
    "duration": 16,
    "start_time": "2023-05-24T13:00:57.971Z"
   },
   {
    "duration": 6,
    "start_time": "2023-05-24T13:00:57.990Z"
   },
   {
    "duration": 4,
    "start_time": "2023-05-24T13:00:57.998Z"
   },
   {
    "duration": 29,
    "start_time": "2023-05-24T13:00:58.004Z"
   },
   {
    "duration": 14,
    "start_time": "2023-05-24T13:00:58.040Z"
   },
   {
    "duration": 37,
    "start_time": "2023-05-24T13:00:58.056Z"
   },
   {
    "duration": 158,
    "start_time": "2023-05-24T13:00:58.095Z"
   },
   {
    "duration": 136,
    "start_time": "2023-05-24T13:00:58.255Z"
   },
   {
    "duration": 111,
    "start_time": "2023-05-24T13:00:58.393Z"
   },
   {
    "duration": 107,
    "start_time": "2023-05-24T13:00:58.506Z"
   },
   {
    "duration": 1073,
    "start_time": "2023-05-24T13:00:58.616Z"
   },
   {
    "duration": 592,
    "start_time": "2023-05-24T13:00:59.691Z"
   },
   {
    "duration": 959,
    "start_time": "2023-05-24T13:01:00.285Z"
   },
   {
    "duration": 8,
    "start_time": "2023-05-24T13:01:01.246Z"
   },
   {
    "duration": 57,
    "start_time": "2023-05-24T13:01:01.256Z"
   },
   {
    "duration": 56,
    "start_time": "2023-05-24T13:01:01.315Z"
   },
   {
    "duration": 35,
    "start_time": "2023-05-24T13:01:01.372Z"
   },
   {
    "duration": 56,
    "start_time": "2023-05-24T13:01:01.408Z"
   },
   {
    "duration": 32,
    "start_time": "2023-05-24T13:01:07.118Z"
   },
   {
    "duration": 139,
    "start_time": "2023-05-24T13:02:08.684Z"
   },
   {
    "duration": 15,
    "start_time": "2023-05-24T13:03:05.091Z"
   },
   {
    "duration": 11,
    "start_time": "2023-05-24T13:03:08.759Z"
   },
   {
    "duration": 162,
    "start_time": "2023-05-24T13:03:30.859Z"
   },
   {
    "duration": 80,
    "start_time": "2023-05-24T13:03:45.816Z"
   },
   {
    "duration": 14,
    "start_time": "2023-05-24T13:04:41.055Z"
   },
   {
    "duration": 14,
    "start_time": "2023-05-24T13:04:55.871Z"
   },
   {
    "duration": 14,
    "start_time": "2023-05-24T13:06:49.600Z"
   },
   {
    "duration": 15,
    "start_time": "2023-05-24T13:06:59.975Z"
   },
   {
    "duration": 1800,
    "start_time": "2023-05-24T13:10:32.387Z"
   },
   {
    "duration": 53,
    "start_time": "2023-05-24T13:10:34.189Z"
   },
   {
    "duration": 20,
    "start_time": "2023-05-24T13:10:34.250Z"
   },
   {
    "duration": 17,
    "start_time": "2023-05-24T13:10:34.272Z"
   },
   {
    "duration": 10,
    "start_time": "2023-05-24T13:10:34.291Z"
   },
   {
    "duration": 33,
    "start_time": "2023-05-24T13:10:34.303Z"
   },
   {
    "duration": 8,
    "start_time": "2023-05-24T13:10:34.346Z"
   },
   {
    "duration": 21,
    "start_time": "2023-05-24T13:10:34.355Z"
   },
   {
    "duration": 53,
    "start_time": "2023-05-24T13:10:34.379Z"
   },
   {
    "duration": 124,
    "start_time": "2023-05-24T13:10:34.434Z"
   },
   {
    "duration": 104,
    "start_time": "2023-05-24T13:10:34.560Z"
   },
   {
    "duration": 114,
    "start_time": "2023-05-24T13:10:34.666Z"
   },
   {
    "duration": 129,
    "start_time": "2023-05-24T13:10:34.782Z"
   },
   {
    "duration": 1197,
    "start_time": "2023-05-24T13:10:34.914Z"
   },
   {
    "duration": 553,
    "start_time": "2023-05-24T13:10:36.113Z"
   },
   {
    "duration": 966,
    "start_time": "2023-05-24T13:10:36.669Z"
   },
   {
    "duration": 12,
    "start_time": "2023-05-24T13:10:37.637Z"
   },
   {
    "duration": 20,
    "start_time": "2023-05-24T13:10:37.651Z"
   },
   {
    "duration": 24,
    "start_time": "2023-05-24T13:10:37.673Z"
   },
   {
    "duration": 13,
    "start_time": "2023-05-24T13:10:37.699Z"
   },
   {
    "duration": 27,
    "start_time": "2023-05-24T13:10:45.373Z"
   },
   {
    "duration": 1570,
    "start_time": "2023-05-24T13:13:16.186Z"
   },
   {
    "duration": 45,
    "start_time": "2023-05-24T13:13:17.758Z"
   },
   {
    "duration": 23,
    "start_time": "2023-05-24T13:13:17.805Z"
   },
   {
    "duration": 31,
    "start_time": "2023-05-24T13:13:17.835Z"
   },
   {
    "duration": 6,
    "start_time": "2023-05-24T13:13:17.869Z"
   },
   {
    "duration": 11,
    "start_time": "2023-05-24T13:13:17.878Z"
   },
   {
    "duration": 20,
    "start_time": "2023-05-24T13:13:17.892Z"
   },
   {
    "duration": 32,
    "start_time": "2023-05-24T13:13:17.914Z"
   },
   {
    "duration": 42,
    "start_time": "2023-05-24T13:13:17.948Z"
   },
   {
    "duration": 129,
    "start_time": "2023-05-24T13:13:17.993Z"
   },
   {
    "duration": 117,
    "start_time": "2023-05-24T13:13:18.124Z"
   },
   {
    "duration": 104,
    "start_time": "2023-05-24T13:13:18.243Z"
   },
   {
    "duration": 116,
    "start_time": "2023-05-24T13:13:18.349Z"
   },
   {
    "duration": 1109,
    "start_time": "2023-05-24T13:13:18.467Z"
   },
   {
    "duration": 660,
    "start_time": "2023-05-24T13:13:19.578Z"
   },
   {
    "duration": 878,
    "start_time": "2023-05-24T13:13:20.243Z"
   },
   {
    "duration": 17,
    "start_time": "2023-05-24T13:13:21.123Z"
   },
   {
    "duration": 14,
    "start_time": "2023-05-24T13:13:21.142Z"
   },
   {
    "duration": 27,
    "start_time": "2023-05-24T13:13:21.158Z"
   },
   {
    "duration": 11,
    "start_time": "2023-05-24T13:13:21.187Z"
   },
   {
    "duration": 166,
    "start_time": "2023-05-24T13:13:21.199Z"
   },
   {
    "duration": 24,
    "start_time": "2023-05-24T13:14:53.658Z"
   },
   {
    "duration": 16,
    "start_time": "2023-05-24T13:15:18.954Z"
   },
   {
    "duration": 1596,
    "start_time": "2023-05-24T13:15:37.104Z"
   },
   {
    "duration": 51,
    "start_time": "2023-05-24T13:15:38.703Z"
   },
   {
    "duration": 28,
    "start_time": "2023-05-24T13:15:38.756Z"
   },
   {
    "duration": 22,
    "start_time": "2023-05-24T13:15:38.788Z"
   },
   {
    "duration": 33,
    "start_time": "2023-05-24T13:15:38.812Z"
   },
   {
    "duration": 4,
    "start_time": "2023-05-24T13:15:38.850Z"
   },
   {
    "duration": 18,
    "start_time": "2023-05-24T13:15:38.856Z"
   },
   {
    "duration": 18,
    "start_time": "2023-05-24T13:15:38.876Z"
   },
   {
    "duration": 53,
    "start_time": "2023-05-24T13:15:38.899Z"
   },
   {
    "duration": 167,
    "start_time": "2023-05-24T13:15:38.956Z"
   },
   {
    "duration": 123,
    "start_time": "2023-05-24T13:15:39.126Z"
   },
   {
    "duration": 110,
    "start_time": "2023-05-24T13:15:39.251Z"
   },
   {
    "duration": 111,
    "start_time": "2023-05-24T13:15:39.363Z"
   },
   {
    "duration": 1227,
    "start_time": "2023-05-24T13:15:39.476Z"
   },
   {
    "duration": 512,
    "start_time": "2023-05-24T13:15:40.705Z"
   },
   {
    "duration": 907,
    "start_time": "2023-05-24T13:15:41.220Z"
   },
   {
    "duration": 12,
    "start_time": "2023-05-24T13:15:42.132Z"
   },
   {
    "duration": 14,
    "start_time": "2023-05-24T13:15:42.147Z"
   },
   {
    "duration": 34,
    "start_time": "2023-05-24T13:15:42.163Z"
   },
   {
    "duration": 15,
    "start_time": "2023-05-24T13:15:42.199Z"
   },
   {
    "duration": 39,
    "start_time": "2023-05-24T13:15:42.225Z"
   },
   {
    "duration": 5,
    "start_time": "2023-05-24T13:15:57.781Z"
   },
   {
    "duration": 60,
    "start_time": "2023-05-24T13:15:57.789Z"
   },
   {
    "duration": 23,
    "start_time": "2023-05-24T13:15:57.852Z"
   },
   {
    "duration": 42,
    "start_time": "2023-05-24T13:15:57.877Z"
   },
   {
    "duration": 8,
    "start_time": "2023-05-24T13:15:57.922Z"
   },
   {
    "duration": 15,
    "start_time": "2023-05-24T13:15:57.932Z"
   },
   {
    "duration": 8,
    "start_time": "2023-05-24T13:15:57.949Z"
   },
   {
    "duration": 14,
    "start_time": "2023-05-24T13:15:57.959Z"
   },
   {
    "duration": 65,
    "start_time": "2023-05-24T13:15:57.975Z"
   },
   {
    "duration": 106,
    "start_time": "2023-05-24T13:15:58.042Z"
   },
   {
    "duration": 113,
    "start_time": "2023-05-24T13:15:58.150Z"
   },
   {
    "duration": 107,
    "start_time": "2023-05-24T13:15:58.265Z"
   },
   {
    "duration": 121,
    "start_time": "2023-05-24T13:15:58.375Z"
   },
   {
    "duration": 997,
    "start_time": "2023-05-24T13:15:58.498Z"
   },
   {
    "duration": 840,
    "start_time": "2023-05-24T13:15:59.497Z"
   },
   {
    "duration": 793,
    "start_time": "2023-05-24T13:16:00.343Z"
   },
   {
    "duration": 9,
    "start_time": "2023-05-24T13:16:01.138Z"
   },
   {
    "duration": 36,
    "start_time": "2023-05-24T13:16:01.149Z"
   },
   {
    "duration": 76,
    "start_time": "2023-05-24T13:16:01.187Z"
   },
   {
    "duration": 24,
    "start_time": "2023-05-24T13:16:01.265Z"
   },
   {
    "duration": 15,
    "start_time": "2023-05-24T13:16:13.094Z"
   },
   {
    "duration": 1714,
    "start_time": "2023-05-24T13:16:37.158Z"
   },
   {
    "duration": 47,
    "start_time": "2023-05-24T13:16:38.875Z"
   },
   {
    "duration": 39,
    "start_time": "2023-05-24T13:16:38.927Z"
   },
   {
    "duration": 16,
    "start_time": "2023-05-24T13:16:38.968Z"
   },
   {
    "duration": 6,
    "start_time": "2023-05-24T13:16:38.986Z"
   },
   {
    "duration": 5,
    "start_time": "2023-05-24T13:16:38.994Z"
   },
   {
    "duration": 33,
    "start_time": "2023-05-24T13:16:39.001Z"
   },
   {
    "duration": 22,
    "start_time": "2023-05-24T13:16:39.040Z"
   },
   {
    "duration": 48,
    "start_time": "2023-05-24T13:16:39.066Z"
   },
   {
    "duration": 142,
    "start_time": "2023-05-24T13:16:39.126Z"
   },
   {
    "duration": 132,
    "start_time": "2023-05-24T13:16:39.270Z"
   },
   {
    "duration": 145,
    "start_time": "2023-05-24T13:16:39.404Z"
   },
   {
    "duration": 187,
    "start_time": "2023-05-24T13:16:39.553Z"
   },
   {
    "duration": 1423,
    "start_time": "2023-05-24T13:16:39.743Z"
   },
   {
    "duration": 593,
    "start_time": "2023-05-24T13:16:41.168Z"
   },
   {
    "duration": 1008,
    "start_time": "2023-05-24T13:16:41.764Z"
   },
   {
    "duration": 7,
    "start_time": "2023-05-24T13:16:42.774Z"
   },
   {
    "duration": 11,
    "start_time": "2023-05-24T13:16:42.782Z"
   },
   {
    "duration": 48,
    "start_time": "2023-05-24T13:16:42.795Z"
   },
   {
    "duration": 17,
    "start_time": "2023-05-24T13:16:42.845Z"
   },
   {
    "duration": 27,
    "start_time": "2023-05-24T13:16:42.865Z"
   },
   {
    "duration": 20,
    "start_time": "2023-05-24T13:16:48.292Z"
   },
   {
    "duration": 197,
    "start_time": "2023-05-24T13:17:05.481Z"
   },
   {
    "duration": 1729,
    "start_time": "2023-05-24T13:17:49.005Z"
   },
   {
    "duration": 53,
    "start_time": "2023-05-24T13:17:50.737Z"
   },
   {
    "duration": 25,
    "start_time": "2023-05-24T13:17:50.792Z"
   },
   {
    "duration": 32,
    "start_time": "2023-05-24T13:17:50.819Z"
   },
   {
    "duration": 7,
    "start_time": "2023-05-24T13:17:50.853Z"
   },
   {
    "duration": 23,
    "start_time": "2023-05-24T13:17:50.862Z"
   },
   {
    "duration": 13,
    "start_time": "2023-05-24T13:17:50.887Z"
   },
   {
    "duration": 24,
    "start_time": "2023-05-24T13:17:50.902Z"
   },
   {
    "duration": 72,
    "start_time": "2023-05-24T13:17:50.928Z"
   },
   {
    "duration": 128,
    "start_time": "2023-05-24T13:17:51.004Z"
   },
   {
    "duration": 120,
    "start_time": "2023-05-24T13:17:51.134Z"
   },
   {
    "duration": 122,
    "start_time": "2023-05-24T13:17:51.256Z"
   },
   {
    "duration": 149,
    "start_time": "2023-05-24T13:17:51.380Z"
   },
   {
    "duration": 1327,
    "start_time": "2023-05-24T13:17:51.530Z"
   },
   {
    "duration": 552,
    "start_time": "2023-05-24T13:17:52.859Z"
   },
   {
    "duration": 973,
    "start_time": "2023-05-24T13:17:53.412Z"
   },
   {
    "duration": 7,
    "start_time": "2023-05-24T13:17:54.387Z"
   },
   {
    "duration": 26,
    "start_time": "2023-05-24T13:17:54.396Z"
   },
   {
    "duration": 45,
    "start_time": "2023-05-24T13:17:54.424Z"
   },
   {
    "duration": 11,
    "start_time": "2023-05-24T13:17:54.471Z"
   },
   {
    "duration": 47,
    "start_time": "2023-05-24T13:17:54.484Z"
   },
   {
    "duration": 15,
    "start_time": "2023-05-24T13:18:04.459Z"
   },
   {
    "duration": 168,
    "start_time": "2023-05-24T13:18:31.496Z"
   },
   {
    "duration": 6,
    "start_time": "2023-05-24T13:18:54.000Z"
   },
   {
    "duration": 8,
    "start_time": "2023-05-24T13:20:02.274Z"
   },
   {
    "duration": 1793,
    "start_time": "2023-05-24T13:26:04.800Z"
   },
   {
    "duration": 54,
    "start_time": "2023-05-24T13:26:06.596Z"
   },
   {
    "duration": 26,
    "start_time": "2023-05-24T13:26:06.652Z"
   },
   {
    "duration": 15,
    "start_time": "2023-05-24T13:26:06.680Z"
   },
   {
    "duration": 32,
    "start_time": "2023-05-24T13:26:06.697Z"
   },
   {
    "duration": 18,
    "start_time": "2023-05-24T13:26:06.731Z"
   },
   {
    "duration": 170,
    "start_time": "2023-05-24T13:26:06.755Z"
   },
   {
    "duration": 0,
    "start_time": "2023-05-24T13:26:06.934Z"
   },
   {
    "duration": 0,
    "start_time": "2023-05-24T13:26:06.937Z"
   },
   {
    "duration": 0,
    "start_time": "2023-05-24T13:26:06.938Z"
   },
   {
    "duration": 0,
    "start_time": "2023-05-24T13:26:06.939Z"
   },
   {
    "duration": 0,
    "start_time": "2023-05-24T13:26:06.940Z"
   },
   {
    "duration": 0,
    "start_time": "2023-05-24T13:26:06.942Z"
   },
   {
    "duration": 0,
    "start_time": "2023-05-24T13:26:06.943Z"
   },
   {
    "duration": 0,
    "start_time": "2023-05-24T13:26:06.944Z"
   },
   {
    "duration": 0,
    "start_time": "2023-05-24T13:26:06.946Z"
   },
   {
    "duration": 0,
    "start_time": "2023-05-24T13:26:06.948Z"
   },
   {
    "duration": 0,
    "start_time": "2023-05-24T13:26:06.950Z"
   },
   {
    "duration": 0,
    "start_time": "2023-05-24T13:26:06.951Z"
   },
   {
    "duration": 0,
    "start_time": "2023-05-24T13:26:06.952Z"
   },
   {
    "duration": 0,
    "start_time": "2023-05-24T13:26:06.954Z"
   },
   {
    "duration": 0,
    "start_time": "2023-05-24T13:26:06.956Z"
   },
   {
    "duration": 1812,
    "start_time": "2023-05-24T13:26:18.013Z"
   },
   {
    "duration": 69,
    "start_time": "2023-05-24T13:26:19.827Z"
   },
   {
    "duration": 21,
    "start_time": "2023-05-24T13:26:19.898Z"
   },
   {
    "duration": 41,
    "start_time": "2023-05-24T13:26:19.922Z"
   },
   {
    "duration": 10,
    "start_time": "2023-05-24T13:26:19.969Z"
   },
   {
    "duration": 11,
    "start_time": "2023-05-24T13:26:19.982Z"
   },
   {
    "duration": 208,
    "start_time": "2023-05-24T13:26:19.995Z"
   },
   {
    "duration": 0,
    "start_time": "2023-05-24T13:26:20.205Z"
   },
   {
    "duration": 0,
    "start_time": "2023-05-24T13:26:20.206Z"
   },
   {
    "duration": 0,
    "start_time": "2023-05-24T13:26:20.208Z"
   },
   {
    "duration": 0,
    "start_time": "2023-05-24T13:26:20.209Z"
   },
   {
    "duration": 0,
    "start_time": "2023-05-24T13:26:20.210Z"
   },
   {
    "duration": 0,
    "start_time": "2023-05-24T13:26:20.226Z"
   },
   {
    "duration": 0,
    "start_time": "2023-05-24T13:26:20.227Z"
   },
   {
    "duration": 0,
    "start_time": "2023-05-24T13:26:20.228Z"
   },
   {
    "duration": 0,
    "start_time": "2023-05-24T13:26:20.229Z"
   },
   {
    "duration": 0,
    "start_time": "2023-05-24T13:26:20.231Z"
   },
   {
    "duration": 0,
    "start_time": "2023-05-24T13:26:20.232Z"
   },
   {
    "duration": 0,
    "start_time": "2023-05-24T13:26:20.233Z"
   },
   {
    "duration": 0,
    "start_time": "2023-05-24T13:26:20.235Z"
   },
   {
    "duration": 0,
    "start_time": "2023-05-24T13:26:20.237Z"
   },
   {
    "duration": 1676,
    "start_time": "2023-05-24T13:26:46.788Z"
   },
   {
    "duration": 43,
    "start_time": "2023-05-24T13:26:48.467Z"
   },
   {
    "duration": 35,
    "start_time": "2023-05-24T13:26:48.512Z"
   },
   {
    "duration": 19,
    "start_time": "2023-05-24T13:26:48.552Z"
   },
   {
    "duration": 7,
    "start_time": "2023-05-24T13:26:48.573Z"
   },
   {
    "duration": 5,
    "start_time": "2023-05-24T13:26:48.582Z"
   },
   {
    "duration": 8,
    "start_time": "2023-05-24T13:26:48.589Z"
   },
   {
    "duration": 31,
    "start_time": "2023-05-24T13:26:48.600Z"
   },
   {
    "duration": 49,
    "start_time": "2023-05-24T13:26:48.633Z"
   },
   {
    "duration": 138,
    "start_time": "2023-05-24T13:26:48.684Z"
   },
   {
    "duration": 147,
    "start_time": "2023-05-24T13:26:48.824Z"
   },
   {
    "duration": 111,
    "start_time": "2023-05-24T13:26:48.972Z"
   },
   {
    "duration": 133,
    "start_time": "2023-05-24T13:26:49.085Z"
   },
   {
    "duration": 1325,
    "start_time": "2023-05-24T13:26:49.221Z"
   },
   {
    "duration": 551,
    "start_time": "2023-05-24T13:26:50.549Z"
   },
   {
    "duration": 1074,
    "start_time": "2023-05-24T13:26:51.102Z"
   },
   {
    "duration": 9,
    "start_time": "2023-05-24T13:26:52.183Z"
   },
   {
    "duration": 10,
    "start_time": "2023-05-24T13:26:52.194Z"
   },
   {
    "duration": 30,
    "start_time": "2023-05-24T13:26:52.207Z"
   },
   {
    "duration": 13,
    "start_time": "2023-05-24T13:26:52.240Z"
   },
   {
    "duration": 36,
    "start_time": "2023-05-24T13:26:52.255Z"
   },
   {
    "duration": 14,
    "start_time": "2023-05-24T13:27:09.182Z"
   },
   {
    "duration": 24,
    "start_time": "2023-05-24T13:27:30.712Z"
   },
   {
    "duration": 1635,
    "start_time": "2023-05-24T13:28:46.580Z"
   },
   {
    "duration": 62,
    "start_time": "2023-05-24T13:28:48.217Z"
   },
   {
    "duration": 35,
    "start_time": "2023-05-24T13:28:48.280Z"
   },
   {
    "duration": 27,
    "start_time": "2023-05-24T13:28:48.318Z"
   },
   {
    "duration": 10,
    "start_time": "2023-05-24T13:28:48.347Z"
   },
   {
    "duration": 14,
    "start_time": "2023-05-24T13:28:48.366Z"
   },
   {
    "duration": 11,
    "start_time": "2023-05-24T13:28:48.382Z"
   },
   {
    "duration": 17,
    "start_time": "2023-05-24T13:28:48.396Z"
   },
   {
    "duration": 55,
    "start_time": "2023-05-24T13:28:48.414Z"
   },
   {
    "duration": 125,
    "start_time": "2023-05-24T13:28:48.471Z"
   },
   {
    "duration": 113,
    "start_time": "2023-05-24T13:28:48.598Z"
   },
   {
    "duration": 132,
    "start_time": "2023-05-24T13:28:48.713Z"
   },
   {
    "duration": 120,
    "start_time": "2023-05-24T13:28:48.847Z"
   },
   {
    "duration": 1209,
    "start_time": "2023-05-24T13:28:48.970Z"
   },
   {
    "duration": 513,
    "start_time": "2023-05-24T13:28:50.183Z"
   },
   {
    "duration": 918,
    "start_time": "2023-05-24T13:28:50.698Z"
   },
   {
    "duration": 14,
    "start_time": "2023-05-24T13:28:51.618Z"
   },
   {
    "duration": 24,
    "start_time": "2023-05-24T13:28:51.634Z"
   },
   {
    "duration": 26,
    "start_time": "2023-05-24T13:28:51.663Z"
   },
   {
    "duration": 12,
    "start_time": "2023-05-24T13:28:51.691Z"
   },
   {
    "duration": 68,
    "start_time": "2023-05-24T13:28:51.705Z"
   },
   {
    "duration": 163,
    "start_time": "2023-05-24T13:28:51.775Z"
   },
   {
    "duration": 0,
    "start_time": "2023-05-24T13:28:51.948Z"
   },
   {
    "duration": 0,
    "start_time": "2023-05-24T13:28:51.951Z"
   },
   {
    "duration": 1556,
    "start_time": "2023-05-24T13:29:23.077Z"
   },
   {
    "duration": 54,
    "start_time": "2023-05-24T13:29:24.635Z"
   },
   {
    "duration": 21,
    "start_time": "2023-05-24T13:29:24.691Z"
   },
   {
    "duration": 26,
    "start_time": "2023-05-24T13:29:24.714Z"
   },
   {
    "duration": 10,
    "start_time": "2023-05-24T13:29:24.743Z"
   },
   {
    "duration": 14,
    "start_time": "2023-05-24T13:29:24.754Z"
   },
   {
    "duration": 7,
    "start_time": "2023-05-24T13:29:24.770Z"
   },
   {
    "duration": 22,
    "start_time": "2023-05-24T13:29:24.779Z"
   },
   {
    "duration": 64,
    "start_time": "2023-05-24T13:29:24.803Z"
   },
   {
    "duration": 149,
    "start_time": "2023-05-24T13:29:24.869Z"
   },
   {
    "duration": 115,
    "start_time": "2023-05-24T13:29:25.020Z"
   },
   {
    "duration": 117,
    "start_time": "2023-05-24T13:29:25.139Z"
   },
   {
    "duration": 133,
    "start_time": "2023-05-24T13:29:25.258Z"
   },
   {
    "duration": 1226,
    "start_time": "2023-05-24T13:29:25.394Z"
   },
   {
    "duration": 548,
    "start_time": "2023-05-24T13:29:26.622Z"
   },
   {
    "duration": 1010,
    "start_time": "2023-05-24T13:29:27.173Z"
   },
   {
    "duration": 7,
    "start_time": "2023-05-24T13:29:28.185Z"
   },
   {
    "duration": 10,
    "start_time": "2023-05-24T13:29:28.194Z"
   },
   {
    "duration": 51,
    "start_time": "2023-05-24T13:29:28.206Z"
   },
   {
    "duration": 14,
    "start_time": "2023-05-24T13:29:28.259Z"
   },
   {
    "duration": 24,
    "start_time": "2023-05-24T13:29:28.275Z"
   },
   {
    "duration": 182,
    "start_time": "2023-05-24T13:29:28.301Z"
   },
   {
    "duration": 0,
    "start_time": "2023-05-24T13:29:28.485Z"
   },
   {
    "duration": 0,
    "start_time": "2023-05-24T13:29:28.486Z"
   },
   {
    "duration": 1791,
    "start_time": "2023-05-24T13:30:31.477Z"
   },
   {
    "duration": 51,
    "start_time": "2023-05-24T13:30:33.270Z"
   },
   {
    "duration": 38,
    "start_time": "2023-05-24T13:30:33.323Z"
   },
   {
    "duration": 20,
    "start_time": "2023-05-24T13:30:33.365Z"
   },
   {
    "duration": 7,
    "start_time": "2023-05-24T13:30:33.388Z"
   },
   {
    "duration": 10,
    "start_time": "2023-05-24T13:30:33.397Z"
   },
   {
    "duration": 26,
    "start_time": "2023-05-24T13:30:33.408Z"
   },
   {
    "duration": 18,
    "start_time": "2023-05-24T13:30:33.437Z"
   },
   {
    "duration": 49,
    "start_time": "2023-05-24T13:30:33.458Z"
   },
   {
    "duration": 159,
    "start_time": "2023-05-24T13:30:33.509Z"
   },
   {
    "duration": 108,
    "start_time": "2023-05-24T13:30:33.671Z"
   },
   {
    "duration": 125,
    "start_time": "2023-05-24T13:30:33.781Z"
   },
   {
    "duration": 133,
    "start_time": "2023-05-24T13:30:33.908Z"
   },
   {
    "duration": 1241,
    "start_time": "2023-05-24T13:30:34.045Z"
   },
   {
    "duration": 578,
    "start_time": "2023-05-24T13:30:35.288Z"
   },
   {
    "duration": 973,
    "start_time": "2023-05-24T13:30:35.869Z"
   },
   {
    "duration": 9,
    "start_time": "2023-05-24T13:30:36.843Z"
   },
   {
    "duration": 30,
    "start_time": "2023-05-24T13:30:36.854Z"
   },
   {
    "duration": 18,
    "start_time": "2023-05-24T13:30:36.886Z"
   },
   {
    "duration": 11,
    "start_time": "2023-05-24T13:30:36.906Z"
   },
   {
    "duration": 39,
    "start_time": "2023-05-24T13:30:36.928Z"
   },
   {
    "duration": 151,
    "start_time": "2023-05-24T13:30:36.970Z"
   },
   {
    "duration": 0,
    "start_time": "2023-05-24T13:30:37.125Z"
   },
   {
    "duration": 0,
    "start_time": "2023-05-24T13:30:37.127Z"
   },
   {
    "duration": 12,
    "start_time": "2023-05-24T13:34:02.003Z"
   },
   {
    "duration": 17,
    "start_time": "2023-05-24T13:34:28.323Z"
   },
   {
    "duration": 12,
    "start_time": "2023-05-24T13:36:00.190Z"
   },
   {
    "duration": 5,
    "start_time": "2023-05-24T13:36:27.681Z"
   },
   {
    "duration": 20,
    "start_time": "2023-05-24T13:36:41.815Z"
   },
   {
    "duration": 1678,
    "start_time": "2023-05-24T13:39:13.278Z"
   },
   {
    "duration": 46,
    "start_time": "2023-05-24T13:39:14.958Z"
   },
   {
    "duration": 24,
    "start_time": "2023-05-24T13:39:15.006Z"
   },
   {
    "duration": 44,
    "start_time": "2023-05-24T13:39:15.033Z"
   },
   {
    "duration": 15,
    "start_time": "2023-05-24T13:39:15.079Z"
   },
   {
    "duration": 15,
    "start_time": "2023-05-24T13:39:15.096Z"
   },
   {
    "duration": 25,
    "start_time": "2023-05-24T13:39:15.113Z"
   },
   {
    "duration": 21,
    "start_time": "2023-05-24T13:39:15.140Z"
   },
   {
    "duration": 43,
    "start_time": "2023-05-24T13:39:15.164Z"
   },
   {
    "duration": 140,
    "start_time": "2023-05-24T13:39:15.209Z"
   },
   {
    "duration": 116,
    "start_time": "2023-05-24T13:39:15.351Z"
   },
   {
    "duration": 118,
    "start_time": "2023-05-24T13:39:15.470Z"
   },
   {
    "duration": 123,
    "start_time": "2023-05-24T13:39:15.590Z"
   },
   {
    "duration": 1203,
    "start_time": "2023-05-24T13:39:15.714Z"
   },
   {
    "duration": 670,
    "start_time": "2023-05-24T13:39:16.925Z"
   },
   {
    "duration": 1009,
    "start_time": "2023-05-24T13:39:17.597Z"
   },
   {
    "duration": 7,
    "start_time": "2023-05-24T13:39:18.608Z"
   },
   {
    "duration": 39,
    "start_time": "2023-05-24T13:39:18.617Z"
   },
   {
    "duration": 94,
    "start_time": "2023-05-24T13:39:18.658Z"
   },
   {
    "duration": 163,
    "start_time": "2023-05-24T13:39:18.755Z"
   },
   {
    "duration": 179,
    "start_time": "2023-05-24T13:39:18.920Z"
   },
   {
    "duration": 25,
    "start_time": "2023-05-24T13:39:30.642Z"
   },
   {
    "duration": 1732,
    "start_time": "2023-05-24T13:39:43.475Z"
   },
   {
    "duration": 63,
    "start_time": "2023-05-24T13:39:45.209Z"
   },
   {
    "duration": 20,
    "start_time": "2023-05-24T13:39:45.273Z"
   },
   {
    "duration": 23,
    "start_time": "2023-05-24T13:39:45.295Z"
   },
   {
    "duration": 6,
    "start_time": "2023-05-24T13:39:45.320Z"
   },
   {
    "duration": 26,
    "start_time": "2023-05-24T13:39:45.328Z"
   },
   {
    "duration": 15,
    "start_time": "2023-05-24T13:39:45.356Z"
   },
   {
    "duration": 14,
    "start_time": "2023-05-24T13:39:45.374Z"
   },
   {
    "duration": 57,
    "start_time": "2023-05-24T13:39:45.389Z"
   },
   {
    "duration": 139,
    "start_time": "2023-05-24T13:39:45.447Z"
   },
   {
    "duration": 129,
    "start_time": "2023-05-24T13:39:45.587Z"
   },
   {
    "duration": 145,
    "start_time": "2023-05-24T13:39:45.717Z"
   },
   {
    "duration": 135,
    "start_time": "2023-05-24T13:39:45.864Z"
   },
   {
    "duration": 1385,
    "start_time": "2023-05-24T13:39:46.003Z"
   },
   {
    "duration": 592,
    "start_time": "2023-05-24T13:39:47.390Z"
   },
   {
    "duration": 1030,
    "start_time": "2023-05-24T13:39:47.984Z"
   },
   {
    "duration": 11,
    "start_time": "2023-05-24T13:39:49.017Z"
   },
   {
    "duration": 12,
    "start_time": "2023-05-24T13:39:49.031Z"
   },
   {
    "duration": 38,
    "start_time": "2023-05-24T13:39:49.046Z"
   },
   {
    "duration": 17,
    "start_time": "2023-05-24T13:39:49.086Z"
   },
   {
    "duration": 38,
    "start_time": "2023-05-24T13:39:49.105Z"
   },
   {
    "duration": 5,
    "start_time": "2023-05-24T13:39:59.874Z"
   },
   {
    "duration": 179,
    "start_time": "2023-05-24T13:40:19.625Z"
   },
   {
    "duration": 16,
    "start_time": "2023-05-24T13:40:51.790Z"
   },
   {
    "duration": 98,
    "start_time": "2023-05-24T13:43:26.012Z"
   },
   {
    "duration": 12,
    "start_time": "2023-05-24T13:43:30.971Z"
   },
   {
    "duration": 1657,
    "start_time": "2023-05-24T13:43:48.989Z"
   },
   {
    "duration": 45,
    "start_time": "2023-05-24T13:43:50.648Z"
   },
   {
    "duration": 19,
    "start_time": "2023-05-24T13:43:50.695Z"
   },
   {
    "duration": 35,
    "start_time": "2023-05-24T13:43:50.716Z"
   },
   {
    "duration": 6,
    "start_time": "2023-05-24T13:43:50.754Z"
   },
   {
    "duration": 35,
    "start_time": "2023-05-24T13:43:50.762Z"
   },
   {
    "duration": 15,
    "start_time": "2023-05-24T13:43:50.800Z"
   },
   {
    "duration": 28,
    "start_time": "2023-05-24T13:43:50.817Z"
   },
   {
    "duration": 45,
    "start_time": "2023-05-24T13:43:50.847Z"
   },
   {
    "duration": 156,
    "start_time": "2023-05-24T13:43:50.894Z"
   },
   {
    "duration": 231,
    "start_time": "2023-05-24T13:43:51.052Z"
   },
   {
    "duration": 159,
    "start_time": "2023-05-24T13:43:51.286Z"
   },
   {
    "duration": 110,
    "start_time": "2023-05-24T13:43:51.447Z"
   },
   {
    "duration": 1061,
    "start_time": "2023-05-24T13:43:51.561Z"
   },
   {
    "duration": 494,
    "start_time": "2023-05-24T13:43:52.625Z"
   },
   {
    "duration": 823,
    "start_time": "2023-05-24T13:43:53.120Z"
   },
   {
    "duration": 13,
    "start_time": "2023-05-24T13:43:53.945Z"
   },
   {
    "duration": 6,
    "start_time": "2023-05-24T13:43:53.960Z"
   },
   {
    "duration": 32,
    "start_time": "2023-05-24T13:43:53.967Z"
   },
   {
    "duration": 25,
    "start_time": "2023-05-24T13:43:54.001Z"
   },
   {
    "duration": 25,
    "start_time": "2023-05-24T13:43:54.029Z"
   },
   {
    "duration": 6,
    "start_time": "2023-05-24T13:43:54.056Z"
   },
   {
    "duration": 100,
    "start_time": "2023-05-24T13:43:54.065Z"
   },
   {
    "duration": 15,
    "start_time": "2023-05-24T13:44:35.771Z"
   },
   {
    "duration": 20,
    "start_time": "2023-05-24T13:48:08.119Z"
   },
   {
    "duration": 35,
    "start_time": "2023-05-24T13:53:15.516Z"
   },
   {
    "duration": 1656,
    "start_time": "2023-05-24T15:44:51.265Z"
   },
   {
    "duration": 82,
    "start_time": "2023-05-24T15:44:52.923Z"
   },
   {
    "duration": 21,
    "start_time": "2023-05-24T15:44:53.007Z"
   },
   {
    "duration": 31,
    "start_time": "2023-05-24T15:44:53.030Z"
   },
   {
    "duration": 19,
    "start_time": "2023-05-24T15:44:53.063Z"
   },
   {
    "duration": 10,
    "start_time": "2023-05-24T15:44:53.083Z"
   },
   {
    "duration": 27,
    "start_time": "2023-05-24T15:44:53.096Z"
   },
   {
    "duration": 42,
    "start_time": "2023-05-24T15:44:53.125Z"
   },
   {
    "duration": 52,
    "start_time": "2023-05-24T15:44:53.169Z"
   },
   {
    "duration": 177,
    "start_time": "2023-05-24T15:44:53.223Z"
   },
   {
    "duration": 108,
    "start_time": "2023-05-24T15:44:53.403Z"
   },
   {
    "duration": 97,
    "start_time": "2023-05-24T15:44:53.513Z"
   },
   {
    "duration": 107,
    "start_time": "2023-05-24T15:44:53.612Z"
   },
   {
    "duration": 1062,
    "start_time": "2023-05-24T15:44:53.722Z"
   },
   {
    "duration": 416,
    "start_time": "2023-05-24T15:44:54.786Z"
   },
   {
    "duration": 670,
    "start_time": "2023-05-24T15:44:55.204Z"
   },
   {
    "duration": 5,
    "start_time": "2023-05-24T15:44:55.875Z"
   },
   {
    "duration": 16,
    "start_time": "2023-05-24T15:44:55.881Z"
   },
   {
    "duration": 41,
    "start_time": "2023-05-24T15:44:55.899Z"
   },
   {
    "duration": 27,
    "start_time": "2023-05-24T15:44:55.941Z"
   },
   {
    "duration": 31,
    "start_time": "2023-05-24T15:44:55.970Z"
   },
   {
    "duration": 55,
    "start_time": "2023-05-24T15:44:56.002Z"
   },
   {
    "duration": 9,
    "start_time": "2023-05-24T15:44:56.059Z"
   },
   {
    "duration": 31,
    "start_time": "2023-05-24T15:44:56.070Z"
   },
   {
    "duration": 4,
    "start_time": "2023-05-24T15:45:55.450Z"
   },
   {
    "duration": 5,
    "start_time": "2023-05-24T15:47:01.593Z"
   },
   {
    "duration": 11,
    "start_time": "2023-05-24T15:47:03.647Z"
   },
   {
    "duration": 5,
    "start_time": "2023-05-24T15:47:11.877Z"
   },
   {
    "duration": 3471,
    "start_time": "2023-05-24T15:47:16.231Z"
   },
   {
    "duration": 102,
    "start_time": "2023-05-24T16:36:53.246Z"
   },
   {
    "duration": 3,
    "start_time": "2023-05-24T16:46:42.330Z"
   },
   {
    "duration": 21,
    "start_time": "2023-05-24T16:46:48.232Z"
   },
   {
    "duration": 15,
    "start_time": "2023-05-24T16:48:31.903Z"
   },
   {
    "duration": 7,
    "start_time": "2023-05-24T16:49:04.863Z"
   },
   {
    "duration": 15,
    "start_time": "2023-05-24T16:49:32.937Z"
   },
   {
    "duration": 17,
    "start_time": "2023-05-24T16:50:47.010Z"
   },
   {
    "duration": 4,
    "start_time": "2023-05-24T16:51:16.297Z"
   },
   {
    "duration": 19,
    "start_time": "2023-05-24T16:51:19.747Z"
   },
   {
    "duration": 4,
    "start_time": "2023-05-24T16:52:15.523Z"
   },
   {
    "duration": 13,
    "start_time": "2023-05-24T16:53:03.571Z"
   },
   {
    "duration": 4,
    "start_time": "2023-05-24T16:54:00.675Z"
   },
   {
    "duration": 28,
    "start_time": "2023-05-24T16:54:04.011Z"
   },
   {
    "duration": 4,
    "start_time": "2023-05-24T16:54:28.444Z"
   },
   {
    "duration": 16,
    "start_time": "2023-05-24T16:54:31.118Z"
   },
   {
    "duration": 1442,
    "start_time": "2023-05-24T16:56:02.075Z"
   },
   {
    "duration": 40,
    "start_time": "2023-05-24T16:56:03.520Z"
   },
   {
    "duration": 19,
    "start_time": "2023-05-24T16:56:03.561Z"
   },
   {
    "duration": 13,
    "start_time": "2023-05-24T16:56:03.583Z"
   },
   {
    "duration": 21,
    "start_time": "2023-05-24T16:56:03.598Z"
   },
   {
    "duration": 18,
    "start_time": "2023-05-24T16:56:03.620Z"
   },
   {
    "duration": 8,
    "start_time": "2023-05-24T16:56:03.639Z"
   },
   {
    "duration": 19,
    "start_time": "2023-05-24T16:56:03.649Z"
   },
   {
    "duration": 32,
    "start_time": "2023-05-24T16:56:03.669Z"
   },
   {
    "duration": 100,
    "start_time": "2023-05-24T16:56:03.703Z"
   },
   {
    "duration": 112,
    "start_time": "2023-05-24T16:56:03.804Z"
   },
   {
    "duration": 96,
    "start_time": "2023-05-24T16:56:03.918Z"
   },
   {
    "duration": 96,
    "start_time": "2023-05-24T16:56:04.016Z"
   },
   {
    "duration": 965,
    "start_time": "2023-05-24T16:56:04.114Z"
   },
   {
    "duration": 445,
    "start_time": "2023-05-24T16:56:05.081Z"
   },
   {
    "duration": 763,
    "start_time": "2023-05-24T16:56:05.527Z"
   },
   {
    "duration": 18,
    "start_time": "2023-05-24T16:56:06.294Z"
   },
   {
    "duration": 54,
    "start_time": "2023-05-24T16:56:06.314Z"
   },
   {
    "duration": 35,
    "start_time": "2023-05-24T16:56:06.370Z"
   },
   {
    "duration": 33,
    "start_time": "2023-05-24T16:56:06.407Z"
   },
   {
    "duration": 33,
    "start_time": "2023-05-24T16:56:06.456Z"
   },
   {
    "duration": 81,
    "start_time": "2023-05-24T16:56:06.490Z"
   },
   {
    "duration": 11,
    "start_time": "2023-05-24T16:56:06.573Z"
   },
   {
    "duration": 73,
    "start_time": "2023-05-24T16:56:06.586Z"
   },
   {
    "duration": 52,
    "start_time": "2023-05-24T16:56:06.660Z"
   },
   {
    "duration": 4367,
    "start_time": "2023-05-24T16:56:06.714Z"
   },
   {
    "duration": 16,
    "start_time": "2023-05-24T16:56:11.082Z"
   },
   {
    "duration": 27449,
    "start_time": "2023-05-24T16:56:11.109Z"
   },
   {
    "duration": 5,
    "start_time": "2023-05-24T16:56:38.560Z"
   },
   {
    "duration": 78849,
    "start_time": "2023-05-24T16:56:38.566Z"
   },
   {
    "duration": 3510,
    "start_time": "2023-05-24T16:57:57.418Z"
   },
   {
    "duration": 19055,
    "start_time": "2023-05-24T16:58:00.929Z"
   },
   {
    "duration": 85410,
    "start_time": "2023-05-24T16:58:19.985Z"
   },
   {
    "duration": 15,
    "start_time": "2023-05-24T16:59:45.397Z"
   },
   {
    "duration": 25,
    "start_time": "2023-05-24T16:59:45.495Z"
   },
   {
    "duration": 21,
    "start_time": "2023-05-24T16:59:45.522Z"
   },
   {
    "duration": 4466,
    "start_time": "2023-05-24T16:59:45.544Z"
   },
   {
    "duration": 1827,
    "start_time": "2023-05-24T16:59:50.013Z"
   },
   {
    "duration": 24200,
    "start_time": "2023-05-24T16:59:51.842Z"
   },
   {
    "duration": 12890,
    "start_time": "2023-05-24T17:00:16.044Z"
   },
   {
    "duration": 95860,
    "start_time": "2023-05-24T17:00:28.936Z"
   },
   {
    "duration": 59916,
    "start_time": "2023-05-24T17:02:04.799Z"
   },
   {
    "duration": 13029,
    "start_time": "2023-05-24T17:03:04.717Z"
   },
   {
    "duration": 143,
    "start_time": "2023-05-24T17:03:17.748Z"
   },
   {
    "duration": 0,
    "start_time": "2023-05-24T17:03:17.892Z"
   },
   {
    "duration": 9,
    "start_time": "2023-05-24T17:03:31.352Z"
   },
   {
    "duration": 10,
    "start_time": "2023-05-24T17:03:54.160Z"
   },
   {
    "duration": 6,
    "start_time": "2023-05-24T17:05:26.170Z"
   },
   {
    "duration": 5,
    "start_time": "2023-05-24T17:06:57.770Z"
   },
   {
    "duration": 1425,
    "start_time": "2023-05-24T17:07:03.881Z"
   },
   {
    "duration": 41,
    "start_time": "2023-05-24T17:07:05.311Z"
   },
   {
    "duration": 17,
    "start_time": "2023-05-24T17:07:05.353Z"
   },
   {
    "duration": 13,
    "start_time": "2023-05-24T17:07:05.371Z"
   },
   {
    "duration": 5,
    "start_time": "2023-05-24T17:07:05.386Z"
   },
   {
    "duration": 22,
    "start_time": "2023-05-24T17:07:05.392Z"
   },
   {
    "duration": 19,
    "start_time": "2023-05-24T17:07:05.415Z"
   },
   {
    "duration": 24,
    "start_time": "2023-05-24T17:07:05.435Z"
   },
   {
    "duration": 56,
    "start_time": "2023-05-24T17:07:05.460Z"
   },
   {
    "duration": 110,
    "start_time": "2023-05-24T17:07:05.518Z"
   },
   {
    "duration": 99,
    "start_time": "2023-05-24T17:07:05.630Z"
   },
   {
    "duration": 98,
    "start_time": "2023-05-24T17:07:05.731Z"
   },
   {
    "duration": 96,
    "start_time": "2023-05-24T17:07:05.831Z"
   },
   {
    "duration": 984,
    "start_time": "2023-05-24T17:07:05.930Z"
   },
   {
    "duration": 426,
    "start_time": "2023-05-24T17:07:06.916Z"
   },
   {
    "duration": 758,
    "start_time": "2023-05-24T17:07:07.344Z"
   },
   {
    "duration": 15,
    "start_time": "2023-05-24T17:07:08.103Z"
   },
   {
    "duration": 25,
    "start_time": "2023-05-24T17:07:08.127Z"
   },
   {
    "duration": 23,
    "start_time": "2023-05-24T17:07:08.156Z"
   },
   {
    "duration": 8,
    "start_time": "2023-05-24T17:07:08.181Z"
   },
   {
    "duration": 24,
    "start_time": "2023-05-24T17:07:08.190Z"
   },
   {
    "duration": 54,
    "start_time": "2023-05-24T17:07:08.216Z"
   },
   {
    "duration": 24,
    "start_time": "2023-05-24T17:07:08.272Z"
   },
   {
    "duration": 34,
    "start_time": "2023-05-24T17:07:08.301Z"
   },
   {
    "duration": 8,
    "start_time": "2023-05-24T17:07:08.337Z"
   },
   {
    "duration": 2076,
    "start_time": "2023-05-24T17:07:08.346Z"
   },
   {
    "duration": 0,
    "start_time": "2023-05-24T17:07:10.425Z"
   },
   {
    "duration": 0,
    "start_time": "2023-05-24T17:07:10.426Z"
   },
   {
    "duration": 0,
    "start_time": "2023-05-24T17:07:10.428Z"
   },
   {
    "duration": 0,
    "start_time": "2023-05-24T17:07:10.434Z"
   },
   {
    "duration": 0,
    "start_time": "2023-05-24T17:07:10.435Z"
   },
   {
    "duration": 0,
    "start_time": "2023-05-24T17:07:10.437Z"
   },
   {
    "duration": 0,
    "start_time": "2023-05-24T17:07:10.439Z"
   },
   {
    "duration": 0,
    "start_time": "2023-05-24T17:07:10.440Z"
   },
   {
    "duration": 0,
    "start_time": "2023-05-24T17:07:10.441Z"
   },
   {
    "duration": 0,
    "start_time": "2023-05-24T17:07:10.443Z"
   },
   {
    "duration": 0,
    "start_time": "2023-05-24T17:07:10.444Z"
   },
   {
    "duration": 0,
    "start_time": "2023-05-24T17:07:10.445Z"
   },
   {
    "duration": 0,
    "start_time": "2023-05-24T17:07:10.446Z"
   },
   {
    "duration": 0,
    "start_time": "2023-05-24T17:07:10.447Z"
   },
   {
    "duration": 0,
    "start_time": "2023-05-24T17:07:10.448Z"
   },
   {
    "duration": 0,
    "start_time": "2023-05-24T17:07:10.450Z"
   },
   {
    "duration": 0,
    "start_time": "2023-05-24T17:07:10.451Z"
   },
   {
    "duration": 0,
    "start_time": "2023-05-24T17:07:10.452Z"
   },
   {
    "duration": 0,
    "start_time": "2023-05-24T17:07:10.454Z"
   },
   {
    "duration": 0,
    "start_time": "2023-05-24T17:07:10.455Z"
   },
   {
    "duration": 1331,
    "start_time": "2023-05-24T17:07:19.662Z"
   },
   {
    "duration": 43,
    "start_time": "2023-05-24T17:07:20.995Z"
   },
   {
    "duration": 18,
    "start_time": "2023-05-24T17:07:21.039Z"
   },
   {
    "duration": 14,
    "start_time": "2023-05-24T17:07:21.059Z"
   },
   {
    "duration": 6,
    "start_time": "2023-05-24T17:07:21.075Z"
   },
   {
    "duration": 9,
    "start_time": "2023-05-24T17:07:21.083Z"
   },
   {
    "duration": 21,
    "start_time": "2023-05-24T17:07:21.099Z"
   },
   {
    "duration": 35,
    "start_time": "2023-05-24T17:07:21.123Z"
   },
   {
    "duration": 48,
    "start_time": "2023-05-24T17:07:21.160Z"
   },
   {
    "duration": 124,
    "start_time": "2023-05-24T17:07:21.211Z"
   },
   {
    "duration": 105,
    "start_time": "2023-05-24T17:07:21.337Z"
   },
   {
    "duration": 101,
    "start_time": "2023-05-24T17:07:21.444Z"
   },
   {
    "duration": 96,
    "start_time": "2023-05-24T17:07:21.548Z"
   },
   {
    "duration": 1022,
    "start_time": "2023-05-24T17:07:21.645Z"
   },
   {
    "duration": 422,
    "start_time": "2023-05-24T17:07:22.669Z"
   },
   {
    "duration": 764,
    "start_time": "2023-05-24T17:07:23.096Z"
   },
   {
    "duration": 6,
    "start_time": "2023-05-24T17:07:23.862Z"
   },
   {
    "duration": 15,
    "start_time": "2023-05-24T17:07:23.870Z"
   },
   {
    "duration": 31,
    "start_time": "2023-05-24T17:07:23.887Z"
   },
   {
    "duration": 20,
    "start_time": "2023-05-24T17:07:23.919Z"
   },
   {
    "duration": 16,
    "start_time": "2023-05-24T17:07:23.940Z"
   },
   {
    "duration": 58,
    "start_time": "2023-05-24T17:07:23.957Z"
   },
   {
    "duration": 8,
    "start_time": "2023-05-24T17:07:24.018Z"
   },
   {
    "duration": 15,
    "start_time": "2023-05-24T17:07:24.028Z"
   },
   {
    "duration": 6,
    "start_time": "2023-05-24T17:07:24.044Z"
   },
   {
    "duration": 5613,
    "start_time": "2023-05-24T17:07:24.051Z"
   },
   {
    "duration": 6,
    "start_time": "2023-05-24T17:07:29.666Z"
   },
   {
    "duration": 27035,
    "start_time": "2023-05-24T17:07:29.675Z"
   },
   {
    "duration": 5,
    "start_time": "2023-05-24T17:07:56.715Z"
   },
   {
    "duration": 121194,
    "start_time": "2023-05-24T17:07:56.722Z"
   },
   {
    "duration": 3402,
    "start_time": "2023-05-24T17:09:57.918Z"
   },
   {
    "duration": 18604,
    "start_time": "2023-05-24T17:10:01.322Z"
   },
   {
    "duration": 126870,
    "start_time": "2023-05-24T17:10:19.928Z"
   },
   {
    "duration": 10,
    "start_time": "2023-05-24T17:12:26.806Z"
   },
   {
    "duration": 96,
    "start_time": "2023-05-24T17:12:26.822Z"
   },
   {
    "duration": 20,
    "start_time": "2023-05-24T17:12:26.920Z"
   },
   {
    "duration": 4297,
    "start_time": "2023-05-24T17:12:26.941Z"
   },
   {
    "duration": 1877,
    "start_time": "2023-05-24T17:12:31.240Z"
   },
   {
    "duration": 26482,
    "start_time": "2023-05-24T17:12:33.119Z"
   },
   {
    "duration": 11825,
    "start_time": "2023-05-24T17:12:59.610Z"
   },
   {
    "duration": 114668,
    "start_time": "2023-05-24T17:13:11.437Z"
   },
   {
    "duration": 78204,
    "start_time": "2023-05-24T17:15:06.196Z"
   },
   {
    "duration": 11942,
    "start_time": "2023-05-24T17:16:24.402Z"
   },
   {
    "duration": 121,
    "start_time": "2023-05-24T17:16:36.345Z"
   },
   {
    "duration": 0,
    "start_time": "2023-05-24T17:16:36.468Z"
   },
   {
    "duration": 12,
    "start_time": "2023-05-24T17:19:58.520Z"
   },
   {
    "duration": 4,
    "start_time": "2023-05-24T17:20:06.256Z"
   },
   {
    "duration": 4,
    "start_time": "2023-05-24T17:20:21.983Z"
   },
   {
    "duration": 4,
    "start_time": "2023-05-24T17:20:42.576Z"
   },
   {
    "duration": 10,
    "start_time": "2023-05-24T17:21:09.873Z"
   },
   {
    "duration": 10,
    "start_time": "2023-05-24T17:22:38.817Z"
   },
   {
    "duration": 32,
    "start_time": "2023-05-24T17:23:08.711Z"
   },
   {
    "duration": 20,
    "start_time": "2023-05-24T17:24:56.730Z"
   },
   {
    "duration": 14,
    "start_time": "2023-05-24T17:25:05.212Z"
   },
   {
    "duration": 10,
    "start_time": "2023-05-24T17:25:27.609Z"
   },
   {
    "duration": 3,
    "start_time": "2023-05-24T17:27:38.661Z"
   },
   {
    "duration": 16,
    "start_time": "2023-05-24T17:27:42.348Z"
   },
   {
    "duration": 27,
    "start_time": "2023-05-24T17:27:46.733Z"
   },
   {
    "duration": 16,
    "start_time": "2023-05-24T17:28:26.068Z"
   },
   {
    "duration": 13,
    "start_time": "2023-05-24T17:28:34.172Z"
   },
   {
    "duration": 4,
    "start_time": "2023-05-24T17:29:00.877Z"
   },
   {
    "duration": 13,
    "start_time": "2023-05-24T17:29:04.021Z"
   },
   {
    "duration": 10,
    "start_time": "2023-05-24T17:29:05.813Z"
   },
   {
    "duration": 24132,
    "start_time": "2023-05-24T17:29:10.622Z"
   },
   {
    "duration": 99823,
    "start_time": "2023-05-24T17:29:45.983Z"
   },
   {
    "duration": 13241,
    "start_time": "2023-05-24T17:31:35.720Z"
   },
   {
    "duration": 21,
    "start_time": "2023-05-24T17:31:53.840Z"
   },
   {
    "duration": 15,
    "start_time": "2023-05-24T17:32:23.392Z"
   },
   {
    "duration": 4,
    "start_time": "2023-05-24T17:32:34.855Z"
   },
   {
    "duration": 4,
    "start_time": "2023-05-24T17:32:59.215Z"
   },
   {
    "duration": 4,
    "start_time": "2023-05-24T17:33:46.831Z"
   },
   {
    "duration": 4,
    "start_time": "2023-05-24T17:34:04.942Z"
   },
   {
    "duration": 9,
    "start_time": "2023-05-24T17:34:38.824Z"
   },
   {
    "duration": 12,
    "start_time": "2023-05-24T17:34:56.193Z"
   },
   {
    "duration": 4,
    "start_time": "2023-05-24T17:35:05.130Z"
   },
   {
    "duration": 32,
    "start_time": "2023-05-24T17:36:02.970Z"
   },
   {
    "duration": 36,
    "start_time": "2023-05-24T17:36:30.417Z"
   },
   {
    "duration": 9,
    "start_time": "2023-05-24T17:37:25.827Z"
   },
   {
    "duration": 10,
    "start_time": "2023-05-24T17:39:21.720Z"
   },
   {
    "duration": 20,
    "start_time": "2023-05-24T17:39:44.466Z"
   },
   {
    "duration": 4,
    "start_time": "2023-05-24T17:41:37.180Z"
   },
   {
    "duration": 18,
    "start_time": "2023-05-24T17:41:56.340Z"
   },
   {
    "duration": 6,
    "start_time": "2023-05-24T17:42:07.892Z"
   },
   {
    "duration": 1361,
    "start_time": "2023-05-24T17:43:04.791Z"
   },
   {
    "duration": 52,
    "start_time": "2023-05-24T17:43:06.154Z"
   },
   {
    "duration": 18,
    "start_time": "2023-05-24T17:43:06.207Z"
   },
   {
    "duration": 26,
    "start_time": "2023-05-24T17:43:06.227Z"
   },
   {
    "duration": 5,
    "start_time": "2023-05-24T17:43:06.254Z"
   },
   {
    "duration": 4,
    "start_time": "2023-05-24T17:43:06.260Z"
   },
   {
    "duration": 6,
    "start_time": "2023-05-24T17:43:06.266Z"
   },
   {
    "duration": 10,
    "start_time": "2023-05-24T17:43:06.274Z"
   },
   {
    "duration": 38,
    "start_time": "2023-05-24T17:43:06.286Z"
   },
   {
    "duration": 103,
    "start_time": "2023-05-24T17:43:06.328Z"
   },
   {
    "duration": 108,
    "start_time": "2023-05-24T17:43:06.433Z"
   },
   {
    "duration": 106,
    "start_time": "2023-05-24T17:43:06.543Z"
   },
   {
    "duration": 100,
    "start_time": "2023-05-24T17:43:06.651Z"
   },
   {
    "duration": 934,
    "start_time": "2023-05-24T17:43:06.753Z"
   },
   {
    "duration": 452,
    "start_time": "2023-05-24T17:43:07.688Z"
   },
   {
    "duration": 777,
    "start_time": "2023-05-24T17:43:08.142Z"
   },
   {
    "duration": 6,
    "start_time": "2023-05-24T17:43:08.920Z"
   },
   {
    "duration": 6,
    "start_time": "2023-05-24T17:43:08.928Z"
   },
   {
    "duration": 15,
    "start_time": "2023-05-24T17:43:08.936Z"
   },
   {
    "duration": 9,
    "start_time": "2023-05-24T17:43:08.953Z"
   },
   {
    "duration": 42,
    "start_time": "2023-05-24T17:43:08.964Z"
   },
   {
    "duration": 54,
    "start_time": "2023-05-24T17:43:09.009Z"
   },
   {
    "duration": 10,
    "start_time": "2023-05-24T17:43:09.065Z"
   },
   {
    "duration": 42,
    "start_time": "2023-05-24T17:43:09.076Z"
   },
   {
    "duration": 6,
    "start_time": "2023-05-24T17:43:09.119Z"
   },
   {
    "duration": 4314,
    "start_time": "2023-05-24T17:43:09.126Z"
   },
   {
    "duration": 6,
    "start_time": "2023-05-24T17:43:13.441Z"
   },
   {
    "duration": 26665,
    "start_time": "2023-05-24T17:43:13.450Z"
   },
   {
    "duration": 5,
    "start_time": "2023-05-24T17:43:40.117Z"
   },
   {
    "duration": 11405,
    "start_time": "2023-05-24T17:43:40.123Z"
   },
   {
    "duration": 0,
    "start_time": "2023-05-24T17:43:51.530Z"
   },
   {
    "duration": 0,
    "start_time": "2023-05-24T17:43:51.532Z"
   },
   {
    "duration": 0,
    "start_time": "2023-05-24T17:43:51.533Z"
   },
   {
    "duration": 0,
    "start_time": "2023-05-24T17:43:51.534Z"
   },
   {
    "duration": 0,
    "start_time": "2023-05-24T17:43:51.536Z"
   },
   {
    "duration": 0,
    "start_time": "2023-05-24T17:43:51.537Z"
   },
   {
    "duration": 0,
    "start_time": "2023-05-24T17:43:51.539Z"
   },
   {
    "duration": 0,
    "start_time": "2023-05-24T17:43:51.540Z"
   },
   {
    "duration": 0,
    "start_time": "2023-05-24T17:43:51.541Z"
   },
   {
    "duration": 1,
    "start_time": "2023-05-24T17:43:51.542Z"
   },
   {
    "duration": 0,
    "start_time": "2023-05-24T17:43:51.544Z"
   },
   {
    "duration": 0,
    "start_time": "2023-05-24T17:43:51.545Z"
   },
   {
    "duration": 0,
    "start_time": "2023-05-24T17:43:51.547Z"
   },
   {
    "duration": 0,
    "start_time": "2023-05-24T17:43:51.548Z"
   },
   {
    "duration": 1,
    "start_time": "2023-05-24T17:43:51.549Z"
   },
   {
    "duration": 0,
    "start_time": "2023-05-24T17:43:51.551Z"
   },
   {
    "duration": 0,
    "start_time": "2023-05-24T17:43:51.552Z"
   },
   {
    "duration": 0,
    "start_time": "2023-05-24T17:43:51.554Z"
   },
   {
    "duration": 0,
    "start_time": "2023-05-24T17:43:51.556Z"
   },
   {
    "duration": 0,
    "start_time": "2023-05-24T17:43:51.557Z"
   },
   {
    "duration": 4,
    "start_time": "2023-05-24T17:47:37.143Z"
   },
   {
    "duration": 16,
    "start_time": "2023-05-24T17:47:40.375Z"
   },
   {
    "duration": 4,
    "start_time": "2023-05-24T17:48:06.856Z"
   },
   {
    "duration": 12,
    "start_time": "2023-05-24T17:48:10.128Z"
   },
   {
    "duration": 1366,
    "start_time": "2023-05-24T17:48:38.085Z"
   },
   {
    "duration": 43,
    "start_time": "2023-05-24T17:48:39.453Z"
   },
   {
    "duration": 23,
    "start_time": "2023-05-24T17:48:39.498Z"
   },
   {
    "duration": 15,
    "start_time": "2023-05-24T17:48:39.523Z"
   },
   {
    "duration": 19,
    "start_time": "2023-05-24T17:48:39.540Z"
   },
   {
    "duration": 4,
    "start_time": "2023-05-24T17:48:39.561Z"
   },
   {
    "duration": 10,
    "start_time": "2023-05-24T17:48:39.566Z"
   },
   {
    "duration": 21,
    "start_time": "2023-05-24T17:48:39.578Z"
   },
   {
    "duration": 37,
    "start_time": "2023-05-24T17:48:39.600Z"
   },
   {
    "duration": 105,
    "start_time": "2023-05-24T17:48:39.639Z"
   },
   {
    "duration": 98,
    "start_time": "2023-05-24T17:48:39.746Z"
   },
   {
    "duration": 91,
    "start_time": "2023-05-24T17:48:39.846Z"
   },
   {
    "duration": 99,
    "start_time": "2023-05-24T17:48:39.939Z"
   },
   {
    "duration": 910,
    "start_time": "2023-05-24T17:48:40.042Z"
   },
   {
    "duration": 423,
    "start_time": "2023-05-24T17:48:40.953Z"
   },
   {
    "duration": 734,
    "start_time": "2023-05-24T17:48:41.377Z"
   },
   {
    "duration": 7,
    "start_time": "2023-05-24T17:48:42.113Z"
   },
   {
    "duration": 7,
    "start_time": "2023-05-24T17:48:42.122Z"
   },
   {
    "duration": 32,
    "start_time": "2023-05-24T17:48:42.130Z"
   },
   {
    "duration": 8,
    "start_time": "2023-05-24T17:48:42.164Z"
   },
   {
    "duration": 35,
    "start_time": "2023-05-24T17:48:42.174Z"
   },
   {
    "duration": 56,
    "start_time": "2023-05-24T17:48:42.211Z"
   },
   {
    "duration": 9,
    "start_time": "2023-05-24T17:48:42.268Z"
   },
   {
    "duration": 33,
    "start_time": "2023-05-24T17:48:42.278Z"
   },
   {
    "duration": 5,
    "start_time": "2023-05-24T17:48:42.313Z"
   },
   {
    "duration": 4392,
    "start_time": "2023-05-24T17:48:42.319Z"
   },
   {
    "duration": 7,
    "start_time": "2023-05-24T17:48:46.713Z"
   },
   {
    "duration": 25781,
    "start_time": "2023-05-24T17:48:46.722Z"
   },
   {
    "duration": 8,
    "start_time": "2023-05-24T17:49:12.505Z"
   },
   {
    "duration": 77486,
    "start_time": "2023-05-24T17:49:12.514Z"
   },
   {
    "duration": 3581,
    "start_time": "2023-05-24T17:50:30.002Z"
   },
   {
    "duration": 18682,
    "start_time": "2023-05-24T17:50:33.584Z"
   },
   {
    "duration": 89544,
    "start_time": "2023-05-24T17:50:52.268Z"
   },
   {
    "duration": 88,
    "start_time": "2023-05-24T17:52:21.815Z"
   },
   {
    "duration": 92,
    "start_time": "2023-05-24T17:52:21.906Z"
   },
   {
    "duration": 25,
    "start_time": "2023-05-24T17:52:22.000Z"
   },
   {
    "duration": 3672,
    "start_time": "2023-05-24T17:52:22.026Z"
   },
   {
    "duration": 1870,
    "start_time": "2023-05-24T17:52:25.700Z"
   },
   {
    "duration": 19647,
    "start_time": "2023-05-24T17:52:27.572Z"
   },
   {
    "duration": 11467,
    "start_time": "2023-05-24T17:52:47.220Z"
   },
   {
    "duration": 88202,
    "start_time": "2023-05-24T17:52:58.694Z"
   },
   {
    "duration": 60417,
    "start_time": "2023-05-24T17:54:26.898Z"
   },
   {
    "duration": 12588,
    "start_time": "2023-05-24T17:55:27.407Z"
   },
   {
    "duration": 17,
    "start_time": "2023-05-24T17:55:39.998Z"
   },
   {
    "duration": 9,
    "start_time": "2023-05-24T17:55:40.017Z"
   },
   {
    "duration": 121,
    "start_time": "2023-05-24T17:55:40.027Z"
   },
   {
    "duration": 0,
    "start_time": "2023-05-24T17:55:40.150Z"
   },
   {
    "duration": 0,
    "start_time": "2023-05-24T17:55:40.151Z"
   },
   {
    "duration": 0,
    "start_time": "2023-05-24T17:55:40.153Z"
   },
   {
    "duration": 0,
    "start_time": "2023-05-24T17:55:40.154Z"
   },
   {
    "duration": 30,
    "start_time": "2023-05-24T17:56:14.012Z"
   },
   {
    "duration": 34,
    "start_time": "2023-05-24T17:56:51.028Z"
   },
   {
    "duration": 3,
    "start_time": "2023-05-24T17:59:46.372Z"
   },
   {
    "duration": 20,
    "start_time": "2023-05-24T18:07:14.864Z"
   },
   {
    "duration": 7,
    "start_time": "2023-05-24T18:08:07.794Z"
   },
   {
    "duration": 4,
    "start_time": "2023-05-24T18:08:38.697Z"
   },
   {
    "duration": 3,
    "start_time": "2023-05-24T18:09:07.187Z"
   },
   {
    "duration": 4,
    "start_time": "2023-05-24T18:09:59.698Z"
   },
   {
    "duration": 8,
    "start_time": "2023-05-24T18:10:05.786Z"
   },
   {
    "duration": 8,
    "start_time": "2023-05-24T18:10:09.147Z"
   },
   {
    "duration": 7,
    "start_time": "2023-05-24T18:10:30.394Z"
   },
   {
    "duration": 5,
    "start_time": "2023-05-24T18:12:26.292Z"
   },
   {
    "duration": 1474,
    "start_time": "2023-05-24T18:17:31.968Z"
   },
   {
    "duration": 39,
    "start_time": "2023-05-24T18:17:33.444Z"
   },
   {
    "duration": 16,
    "start_time": "2023-05-24T18:17:33.487Z"
   },
   {
    "duration": 18,
    "start_time": "2023-05-24T18:17:33.506Z"
   },
   {
    "duration": 5,
    "start_time": "2023-05-24T18:17:33.526Z"
   },
   {
    "duration": 11,
    "start_time": "2023-05-24T18:17:33.532Z"
   },
   {
    "duration": 12,
    "start_time": "2023-05-24T18:17:33.545Z"
   },
   {
    "duration": 12,
    "start_time": "2023-05-24T18:17:33.558Z"
   },
   {
    "duration": 43,
    "start_time": "2023-05-24T18:17:33.571Z"
   },
   {
    "duration": 97,
    "start_time": "2023-05-24T18:17:33.616Z"
   },
   {
    "duration": 92,
    "start_time": "2023-05-24T18:17:33.715Z"
   },
   {
    "duration": 87,
    "start_time": "2023-05-24T18:17:33.809Z"
   },
   {
    "duration": 81,
    "start_time": "2023-05-24T18:17:33.898Z"
   },
   {
    "duration": 955,
    "start_time": "2023-05-24T18:17:33.981Z"
   },
   {
    "duration": 436,
    "start_time": "2023-05-24T18:17:34.938Z"
   },
   {
    "duration": 810,
    "start_time": "2023-05-24T18:17:35.376Z"
   },
   {
    "duration": 9,
    "start_time": "2023-05-24T18:17:36.188Z"
   },
   {
    "duration": 7,
    "start_time": "2023-05-24T18:17:36.199Z"
   },
   {
    "duration": 21,
    "start_time": "2023-05-24T18:17:36.208Z"
   },
   {
    "duration": 11,
    "start_time": "2023-05-24T18:17:36.231Z"
   },
   {
    "duration": 19,
    "start_time": "2023-05-24T18:17:36.244Z"
   },
   {
    "duration": 70,
    "start_time": "2023-05-24T18:17:36.265Z"
   },
   {
    "duration": 9,
    "start_time": "2023-05-24T18:17:36.337Z"
   },
   {
    "duration": 21,
    "start_time": "2023-05-24T18:17:36.348Z"
   },
   {
    "duration": 24,
    "start_time": "2023-05-24T18:17:36.371Z"
   },
   {
    "duration": 3963,
    "start_time": "2023-05-24T18:17:36.397Z"
   },
   {
    "duration": 5,
    "start_time": "2023-05-24T18:17:40.362Z"
   },
   {
    "duration": 25054,
    "start_time": "2023-05-24T18:17:40.369Z"
   },
   {
    "duration": 6,
    "start_time": "2023-05-24T18:18:05.425Z"
   },
   {
    "duration": 94373,
    "start_time": "2023-05-24T18:18:05.432Z"
   },
   {
    "duration": 3150,
    "start_time": "2023-05-24T18:19:39.896Z"
   },
   {
    "duration": 18579,
    "start_time": "2023-05-24T18:19:43.048Z"
   },
   {
    "duration": 101667,
    "start_time": "2023-05-24T18:20:01.630Z"
   },
   {
    "duration": 96,
    "start_time": "2023-05-24T18:21:43.300Z"
   },
   {
    "duration": 15,
    "start_time": "2023-05-24T18:21:43.397Z"
   },
   {
    "duration": 23,
    "start_time": "2023-05-24T18:21:43.413Z"
   },
   {
    "duration": 3530,
    "start_time": "2023-05-24T18:21:43.438Z"
   },
   {
    "duration": 1626,
    "start_time": "2023-05-24T18:21:46.969Z"
   },
   {
    "duration": 20007,
    "start_time": "2023-05-24T18:21:48.596Z"
   },
   {
    "duration": 11197,
    "start_time": "2023-05-24T18:22:08.606Z"
   },
   {
    "duration": 101592,
    "start_time": "2023-05-24T18:22:19.804Z"
   },
   {
    "duration": 64999,
    "start_time": "2023-05-24T18:24:01.398Z"
   },
   {
    "duration": 11593,
    "start_time": "2023-05-24T18:25:06.404Z"
   },
   {
    "duration": 32,
    "start_time": "2023-05-24T18:25:17.999Z"
   },
   {
    "duration": 6,
    "start_time": "2023-05-24T18:25:18.033Z"
   },
   {
    "duration": 21,
    "start_time": "2023-05-24T18:25:18.040Z"
   },
   {
    "duration": 12,
    "start_time": "2023-05-24T18:25:18.063Z"
   },
   {
    "duration": 114,
    "start_time": "2023-05-24T18:25:18.077Z"
   },
   {
    "duration": 9606,
    "start_time": "2023-05-25T06:13:50.975Z"
   },
   {
    "duration": 209,
    "start_time": "2023-05-25T06:14:00.674Z"
   },
   {
    "duration": 105,
    "start_time": "2023-05-25T06:14:00.889Z"
   },
   {
    "duration": 285,
    "start_time": "2023-05-25T06:14:00.997Z"
   },
   {
    "duration": 13,
    "start_time": "2023-05-25T06:14:01.285Z"
   },
   {
    "duration": 76,
    "start_time": "2023-05-25T06:14:01.300Z"
   },
   {
    "duration": 28,
    "start_time": "2023-05-25T06:14:01.379Z"
   },
   {
    "duration": 294,
    "start_time": "2023-05-25T06:14:01.409Z"
   },
   {
    "duration": 303,
    "start_time": "2023-05-25T06:14:01.781Z"
   },
   {
    "duration": 794,
    "start_time": "2023-05-25T06:14:02.089Z"
   },
   {
    "duration": 900,
    "start_time": "2023-05-25T06:14:02.885Z"
   },
   {
    "duration": 804,
    "start_time": "2023-05-25T06:14:03.787Z"
   },
   {
    "duration": 684,
    "start_time": "2023-05-25T06:14:04.595Z"
   },
   {
    "duration": 6793,
    "start_time": "2023-05-25T06:14:05.283Z"
   },
   {
    "duration": 3304,
    "start_time": "2023-05-25T06:14:12.079Z"
   },
   {
    "duration": 5595,
    "start_time": "2023-05-25T06:14:15.393Z"
   },
   {
    "duration": 184,
    "start_time": "2023-05-25T06:14:20.991Z"
   },
   {
    "duration": 14,
    "start_time": "2023-05-25T06:14:21.177Z"
   },
   {
    "duration": 107,
    "start_time": "2023-05-25T06:14:21.276Z"
   },
   {
    "duration": 98,
    "start_time": "2023-05-25T06:14:21.385Z"
   },
   {
    "duration": 105,
    "start_time": "2023-05-25T06:14:21.489Z"
   },
   {
    "duration": 592,
    "start_time": "2023-05-25T06:14:21.596Z"
   },
   {
    "duration": 109,
    "start_time": "2023-05-25T06:14:22.278Z"
   },
   {
    "duration": 185,
    "start_time": "2023-05-25T06:14:22.389Z"
   },
   {
    "duration": 94,
    "start_time": "2023-05-25T06:14:22.586Z"
   },
   {
    "duration": 30690,
    "start_time": "2023-05-25T06:14:22.686Z"
   },
   {
    "duration": 11,
    "start_time": "2023-05-25T06:14:53.380Z"
   },
   {
    "duration": 202705,
    "start_time": "2023-05-25T06:14:53.393Z"
   },
   {
    "duration": 7,
    "start_time": "2023-05-25T06:18:16.176Z"
   },
   {
    "duration": 114002,
    "start_time": "2023-05-25T06:18:16.185Z"
   },
   {
    "duration": 24692,
    "start_time": "2023-05-25T06:20:10.189Z"
   },
   {
    "duration": 141591,
    "start_time": "2023-05-25T06:20:34.883Z"
   },
   {
    "duration": 134997,
    "start_time": "2023-05-25T06:22:56.477Z"
   },
   {
    "duration": 97,
    "start_time": "2023-05-25T06:25:11.487Z"
   },
   {
    "duration": 11,
    "start_time": "2023-05-25T06:25:11.585Z"
   },
   {
    "duration": 87,
    "start_time": "2023-05-25T06:25:11.598Z"
   },
   {
    "duration": 27694,
    "start_time": "2023-05-25T06:25:11.688Z"
   },
   {
    "duration": 13898,
    "start_time": "2023-05-25T06:25:39.384Z"
   },
   {
    "duration": 154699,
    "start_time": "2023-05-25T06:25:53.288Z"
   },
   {
    "duration": 95500,
    "start_time": "2023-05-25T06:28:27.989Z"
   },
   {
    "duration": 138099,
    "start_time": "2023-05-25T06:30:03.577Z"
   },
   {
    "duration": 94297,
    "start_time": "2023-05-25T06:32:21.685Z"
   },
   {
    "duration": 94904,
    "start_time": "2023-05-25T06:33:56.075Z"
   },
   {
    "duration": 296,
    "start_time": "2023-05-25T06:35:30.982Z"
   },
   {
    "duration": 97,
    "start_time": "2023-05-25T06:35:31.286Z"
   },
   {
    "duration": 290,
    "start_time": "2023-05-25T06:35:31.385Z"
   },
   {
    "duration": 106,
    "start_time": "2023-05-25T06:35:31.679Z"
   },
   {
    "duration": 888,
    "start_time": "2023-05-25T06:35:31.789Z"
   },
   {
    "duration": 106,
    "start_time": "2023-05-25T06:51:06.476Z"
   },
   {
    "duration": 11,
    "start_time": "2023-05-25T06:51:08.575Z"
   },
   {
    "duration": 9,
    "start_time": "2023-05-25T06:51:40.575Z"
   },
   {
    "duration": 51,
    "start_time": "2023-05-25T06:51:41.826Z"
   },
   {
    "duration": 5,
    "start_time": "2023-05-25T06:55:28.775Z"
   },
   {
    "duration": 194,
    "start_time": "2023-05-25T06:55:28.782Z"
   },
   {
    "duration": 196,
    "start_time": "2023-05-25T06:55:28.983Z"
   },
   {
    "duration": 108,
    "start_time": "2023-05-25T06:55:29.276Z"
   },
   {
    "duration": 90,
    "start_time": "2023-05-25T06:55:29.391Z"
   },
   {
    "duration": 92,
    "start_time": "2023-05-25T06:55:29.482Z"
   },
   {
    "duration": 11,
    "start_time": "2023-05-25T06:55:29.579Z"
   },
   {
    "duration": 96,
    "start_time": "2023-05-25T06:55:29.592Z"
   },
   {
    "duration": 287,
    "start_time": "2023-05-25T06:55:29.691Z"
   },
   {
    "duration": 688,
    "start_time": "2023-05-25T06:55:29.987Z"
   },
   {
    "duration": 697,
    "start_time": "2023-05-25T06:55:30.684Z"
   },
   {
    "duration": 794,
    "start_time": "2023-05-25T06:55:31.385Z"
   },
   {
    "duration": 602,
    "start_time": "2023-05-25T06:55:32.182Z"
   },
   {
    "duration": 7186,
    "start_time": "2023-05-25T06:55:32.789Z"
   },
   {
    "duration": 3099,
    "start_time": "2023-05-25T06:55:39.979Z"
   },
   {
    "duration": 4900,
    "start_time": "2023-05-25T06:55:43.084Z"
   },
   {
    "duration": 13,
    "start_time": "2023-05-25T06:55:48.074Z"
   },
   {
    "duration": 106,
    "start_time": "2023-05-25T06:55:48.174Z"
   },
   {
    "duration": 193,
    "start_time": "2023-05-25T06:55:48.286Z"
   },
   {
    "duration": 102,
    "start_time": "2023-05-25T06:55:48.481Z"
   },
   {
    "duration": 102,
    "start_time": "2023-05-25T06:55:48.674Z"
   },
   {
    "duration": 313,
    "start_time": "2023-05-25T06:55:48.778Z"
   },
   {
    "duration": 12,
    "start_time": "2023-05-25T06:55:49.176Z"
   },
   {
    "duration": 113,
    "start_time": "2023-05-25T06:55:49.280Z"
   },
   {
    "duration": 10,
    "start_time": "2023-05-25T06:55:49.476Z"
   },
   {
    "duration": 30890,
    "start_time": "2023-05-25T06:55:49.584Z"
   },
   {
    "duration": 100,
    "start_time": "2023-05-25T06:56:20.478Z"
   },
   {
    "duration": 193386,
    "start_time": "2023-05-25T06:56:20.591Z"
   },
   {
    "duration": 7,
    "start_time": "2023-05-25T06:59:33.979Z"
   },
   {
    "duration": 162687,
    "start_time": "2023-05-25T06:59:33.988Z"
   },
   {
    "duration": 24210,
    "start_time": "2023-05-25T07:02:16.677Z"
   },
   {
    "duration": 135705,
    "start_time": "2023-05-25T07:02:40.980Z"
   },
   {
    "duration": 177699,
    "start_time": "2023-05-25T07:04:56.777Z"
   },
   {
    "duration": 6,
    "start_time": "2023-05-25T07:07:54.479Z"
   },
   {
    "duration": 190,
    "start_time": "2023-05-25T07:07:54.487Z"
   },
   {
    "duration": 111,
    "start_time": "2023-05-25T07:07:54.679Z"
   },
   {
    "duration": 23412,
    "start_time": "2023-05-25T07:07:54.876Z"
   },
   {
    "duration": 11592,
    "start_time": "2023-05-25T07:08:18.290Z"
   },
   {
    "duration": 151502,
    "start_time": "2023-05-25T07:08:29.885Z"
   },
   {
    "duration": 91298,
    "start_time": "2023-05-25T07:11:01.389Z"
   },
   {
    "duration": 173796,
    "start_time": "2023-05-25T07:12:32.690Z"
   },
   {
    "duration": 140313,
    "start_time": "2023-05-25T07:15:26.490Z"
   },
   {
    "duration": 90611,
    "start_time": "2023-05-25T07:17:46.875Z"
   },
   {
    "duration": 297,
    "start_time": "2023-05-25T07:19:17.491Z"
   },
   {
    "duration": 87,
    "start_time": "2023-05-25T07:19:17.790Z"
   },
   {
    "duration": 90,
    "start_time": "2023-05-25T07:19:17.886Z"
   },
   {
    "duration": 6,
    "start_time": "2023-05-25T07:22:25.476Z"
   },
   {
    "duration": 3,
    "start_time": "2023-05-25T07:22:26.376Z"
   },
   {
    "duration": 1500,
    "start_time": "2023-05-25T15:04:22.915Z"
   },
   {
    "duration": 89,
    "start_time": "2023-05-25T15:04:24.417Z"
   },
   {
    "duration": 16,
    "start_time": "2023-05-25T15:04:24.509Z"
   },
   {
    "duration": 18,
    "start_time": "2023-05-25T15:04:24.526Z"
   },
   {
    "duration": 5,
    "start_time": "2023-05-25T15:04:24.546Z"
   },
   {
    "duration": 8,
    "start_time": "2023-05-25T15:04:24.552Z"
   },
   {
    "duration": 9,
    "start_time": "2023-05-25T15:04:24.561Z"
   },
   {
    "duration": 35,
    "start_time": "2023-05-25T15:04:24.571Z"
   },
   {
    "duration": 30,
    "start_time": "2023-05-25T15:04:24.608Z"
   },
   {
    "duration": 91,
    "start_time": "2023-05-25T15:04:24.640Z"
   },
   {
    "duration": 86,
    "start_time": "2023-05-25T15:04:24.733Z"
   },
   {
    "duration": 95,
    "start_time": "2023-05-25T15:04:24.821Z"
   },
   {
    "duration": 93,
    "start_time": "2023-05-25T15:04:24.918Z"
   },
   {
    "duration": 814,
    "start_time": "2023-05-25T15:04:25.014Z"
   },
   {
    "duration": 440,
    "start_time": "2023-05-25T15:04:25.829Z"
   },
   {
    "duration": 683,
    "start_time": "2023-05-25T15:04:26.271Z"
   },
   {
    "duration": 5,
    "start_time": "2023-05-25T15:04:26.956Z"
   },
   {
    "duration": 22,
    "start_time": "2023-05-25T15:04:26.963Z"
   },
   {
    "duration": 66,
    "start_time": "2023-05-25T15:04:26.986Z"
   },
   {
    "duration": 53,
    "start_time": "2023-05-25T15:04:27.053Z"
   },
   {
    "duration": 33,
    "start_time": "2023-05-25T15:04:27.111Z"
   },
   {
    "duration": 65,
    "start_time": "2023-05-25T15:04:27.146Z"
   },
   {
    "duration": 49,
    "start_time": "2023-05-25T15:04:27.213Z"
   },
   {
    "duration": 7,
    "start_time": "2023-05-25T15:04:27.263Z"
   },
   {
    "duration": 5,
    "start_time": "2023-05-25T15:04:27.272Z"
   },
   {
    "duration": 150,
    "start_time": "2023-05-25T15:04:27.278Z"
   },
   {
    "duration": 0,
    "start_time": "2023-05-25T15:04:27.430Z"
   },
   {
    "duration": 0,
    "start_time": "2023-05-25T15:04:27.431Z"
   },
   {
    "duration": 0,
    "start_time": "2023-05-25T15:04:27.432Z"
   },
   {
    "duration": 0,
    "start_time": "2023-05-25T15:04:27.433Z"
   },
   {
    "duration": 0,
    "start_time": "2023-05-25T15:04:27.434Z"
   },
   {
    "duration": 0,
    "start_time": "2023-05-25T15:04:27.435Z"
   },
   {
    "duration": 0,
    "start_time": "2023-05-25T15:04:27.436Z"
   },
   {
    "duration": 0,
    "start_time": "2023-05-25T15:04:27.437Z"
   },
   {
    "duration": 0,
    "start_time": "2023-05-25T15:04:27.437Z"
   },
   {
    "duration": 0,
    "start_time": "2023-05-25T15:04:27.438Z"
   },
   {
    "duration": 0,
    "start_time": "2023-05-25T15:04:27.439Z"
   },
   {
    "duration": 0,
    "start_time": "2023-05-25T15:04:27.440Z"
   },
   {
    "duration": 0,
    "start_time": "2023-05-25T15:04:27.440Z"
   },
   {
    "duration": 0,
    "start_time": "2023-05-25T15:04:27.441Z"
   },
   {
    "duration": 0,
    "start_time": "2023-05-25T15:04:27.442Z"
   },
   {
    "duration": 0,
    "start_time": "2023-05-25T15:04:27.443Z"
   },
   {
    "duration": 0,
    "start_time": "2023-05-25T15:04:27.444Z"
   },
   {
    "duration": 0,
    "start_time": "2023-05-25T15:04:27.445Z"
   },
   {
    "duration": 0,
    "start_time": "2023-05-25T15:04:27.446Z"
   },
   {
    "duration": 0,
    "start_time": "2023-05-25T15:04:27.447Z"
   },
   {
    "duration": 1380,
    "start_time": "2023-05-25T15:08:48.332Z"
   },
   {
    "duration": 39,
    "start_time": "2023-05-25T15:08:49.715Z"
   },
   {
    "duration": 16,
    "start_time": "2023-05-25T15:08:49.755Z"
   },
   {
    "duration": 36,
    "start_time": "2023-05-25T15:08:49.774Z"
   },
   {
    "duration": 7,
    "start_time": "2023-05-25T15:08:49.812Z"
   },
   {
    "duration": 5,
    "start_time": "2023-05-25T15:08:49.821Z"
   },
   {
    "duration": 6,
    "start_time": "2023-05-25T15:08:49.827Z"
   },
   {
    "duration": 10,
    "start_time": "2023-05-25T15:08:49.835Z"
   },
   {
    "duration": 27,
    "start_time": "2023-05-25T15:08:49.846Z"
   },
   {
    "duration": 105,
    "start_time": "2023-05-25T15:08:49.877Z"
   },
   {
    "duration": 95,
    "start_time": "2023-05-25T15:08:49.984Z"
   },
   {
    "duration": 81,
    "start_time": "2023-05-25T15:08:50.081Z"
   },
   {
    "duration": 89,
    "start_time": "2023-05-25T15:08:50.164Z"
   },
   {
    "duration": 837,
    "start_time": "2023-05-25T15:08:50.254Z"
   },
   {
    "duration": 412,
    "start_time": "2023-05-25T15:08:51.092Z"
   },
   {
    "duration": 688,
    "start_time": "2023-05-25T15:08:51.512Z"
   },
   {
    "duration": 9,
    "start_time": "2023-05-25T15:08:52.205Z"
   },
   {
    "duration": 18,
    "start_time": "2023-05-25T15:08:52.215Z"
   },
   {
    "duration": 16,
    "start_time": "2023-05-25T15:08:52.235Z"
   },
   {
    "duration": 25,
    "start_time": "2023-05-25T15:08:52.253Z"
   },
   {
    "duration": 49,
    "start_time": "2023-05-25T15:08:52.280Z"
   },
   {
    "duration": 40,
    "start_time": "2023-05-25T15:08:52.330Z"
   },
   {
    "duration": 83,
    "start_time": "2023-05-25T15:08:52.371Z"
   },
   {
    "duration": 7,
    "start_time": "2023-05-25T15:08:52.456Z"
   },
   {
    "duration": 5,
    "start_time": "2023-05-25T15:08:52.465Z"
   },
   {
    "duration": 5451,
    "start_time": "2023-05-25T15:08:52.471Z"
   },
   {
    "duration": 7,
    "start_time": "2023-05-25T15:08:57.923Z"
   },
   {
    "duration": 26033,
    "start_time": "2023-05-25T15:08:57.986Z"
   },
   {
    "duration": 6,
    "start_time": "2023-05-25T15:09:24.020Z"
   },
   {
    "duration": 137969,
    "start_time": "2023-05-25T15:09:24.027Z"
   },
   {
    "duration": 3364,
    "start_time": "2023-05-25T15:11:42.002Z"
   },
   {
    "duration": 8016,
    "start_time": "2023-05-25T15:11:45.367Z"
   },
   {
    "duration": 0,
    "start_time": "2023-05-25T15:11:53.385Z"
   },
   {
    "duration": 0,
    "start_time": "2023-05-25T15:11:53.386Z"
   },
   {
    "duration": 0,
    "start_time": "2023-05-25T15:11:53.387Z"
   },
   {
    "duration": 0,
    "start_time": "2023-05-25T15:11:53.388Z"
   },
   {
    "duration": 0,
    "start_time": "2023-05-25T15:11:53.388Z"
   },
   {
    "duration": 0,
    "start_time": "2023-05-25T15:11:53.389Z"
   },
   {
    "duration": 0,
    "start_time": "2023-05-25T15:11:53.390Z"
   },
   {
    "duration": 0,
    "start_time": "2023-05-25T15:11:53.395Z"
   },
   {
    "duration": 0,
    "start_time": "2023-05-25T15:11:53.396Z"
   },
   {
    "duration": 0,
    "start_time": "2023-05-25T15:11:53.397Z"
   },
   {
    "duration": 0,
    "start_time": "2023-05-25T15:11:53.398Z"
   },
   {
    "duration": 0,
    "start_time": "2023-05-25T15:11:53.399Z"
   },
   {
    "duration": 0,
    "start_time": "2023-05-25T15:11:53.400Z"
   },
   {
    "duration": 0,
    "start_time": "2023-05-25T15:11:53.401Z"
   },
   {
    "duration": 1302,
    "start_time": "2023-05-25T15:12:04.243Z"
   },
   {
    "duration": 43,
    "start_time": "2023-05-25T15:12:05.547Z"
   },
   {
    "duration": 23,
    "start_time": "2023-05-25T15:12:05.591Z"
   },
   {
    "duration": 12,
    "start_time": "2023-05-25T15:12:05.616Z"
   },
   {
    "duration": 4,
    "start_time": "2023-05-25T15:12:05.629Z"
   },
   {
    "duration": 6,
    "start_time": "2023-05-25T15:12:05.635Z"
   },
   {
    "duration": 11,
    "start_time": "2023-05-25T15:12:05.643Z"
   },
   {
    "duration": 12,
    "start_time": "2023-05-25T15:12:05.656Z"
   },
   {
    "duration": 43,
    "start_time": "2023-05-25T15:12:05.669Z"
   },
   {
    "duration": 99,
    "start_time": "2023-05-25T15:12:05.715Z"
   },
   {
    "duration": 95,
    "start_time": "2023-05-25T15:12:05.815Z"
   },
   {
    "duration": 99,
    "start_time": "2023-05-25T15:12:05.915Z"
   },
   {
    "duration": 103,
    "start_time": "2023-05-25T15:12:06.016Z"
   },
   {
    "duration": 858,
    "start_time": "2023-05-25T15:12:06.121Z"
   },
   {
    "duration": 401,
    "start_time": "2023-05-25T15:12:06.980Z"
   },
   {
    "duration": 689,
    "start_time": "2023-05-25T15:12:07.384Z"
   },
   {
    "duration": 26,
    "start_time": "2023-05-25T15:12:08.084Z"
   },
   {
    "duration": 5,
    "start_time": "2023-05-25T15:12:08.111Z"
   },
   {
    "duration": 15,
    "start_time": "2023-05-25T15:12:08.117Z"
   },
   {
    "duration": 22,
    "start_time": "2023-05-25T15:12:08.133Z"
   },
   {
    "duration": 49,
    "start_time": "2023-05-25T15:12:08.157Z"
   },
   {
    "duration": 11,
    "start_time": "2023-05-25T15:12:08.207Z"
   },
   {
    "duration": 37,
    "start_time": "2023-05-25T15:12:08.220Z"
   },
   {
    "duration": 8,
    "start_time": "2023-05-25T15:12:08.259Z"
   },
   {
    "duration": 6,
    "start_time": "2023-05-25T15:12:08.268Z"
   },
   {
    "duration": 4332,
    "start_time": "2023-05-25T15:12:08.294Z"
   },
   {
    "duration": 6,
    "start_time": "2023-05-25T15:12:12.627Z"
   },
   {
    "duration": 26574,
    "start_time": "2023-05-25T15:12:12.636Z"
   },
   {
    "duration": 5,
    "start_time": "2023-05-25T15:12:39.214Z"
   },
   {
    "duration": 140001,
    "start_time": "2023-05-25T15:12:39.221Z"
   },
   {
    "duration": 3591,
    "start_time": "2023-05-25T15:14:59.284Z"
   },
   {
    "duration": 18472,
    "start_time": "2023-05-25T15:15:02.877Z"
   },
   {
    "duration": 118743,
    "start_time": "2023-05-25T15:15:21.351Z"
   },
   {
    "duration": 20,
    "start_time": "2023-05-25T15:17:20.098Z"
   },
   {
    "duration": 10,
    "start_time": "2023-05-25T15:17:20.188Z"
   },
   {
    "duration": 34,
    "start_time": "2023-05-25T15:17:20.203Z"
   },
   {
    "duration": 3863,
    "start_time": "2023-05-25T15:17:20.239Z"
   },
   {
    "duration": 1775,
    "start_time": "2023-05-25T15:17:24.103Z"
   },
   {
    "duration": 21660,
    "start_time": "2023-05-25T15:17:25.879Z"
   },
   {
    "duration": 11791,
    "start_time": "2023-05-25T15:17:47.540Z"
   },
   {
    "duration": 121685,
    "start_time": "2023-05-25T15:17:59.333Z"
   },
   {
    "duration": 106172,
    "start_time": "2023-05-25T15:20:01.022Z"
   },
   {
    "duration": 11475,
    "start_time": "2023-05-25T15:21:47.195Z"
   },
   {
    "duration": 47,
    "start_time": "2023-05-25T15:21:58.671Z"
   },
   {
    "duration": 5,
    "start_time": "2023-05-25T15:21:58.719Z"
   },
   {
    "duration": 13,
    "start_time": "2023-05-25T15:21:58.726Z"
   },
   {
    "duration": 8,
    "start_time": "2023-05-25T15:22:56.712Z"
   }
  ],
  "kernelspec": {
   "display_name": "Python 3 (ipykernel)",
   "language": "python",
   "name": "python3"
  },
  "language_info": {
   "codemirror_mode": {
    "name": "ipython",
    "version": 3
   },
   "file_extension": ".py",
   "mimetype": "text/x-python",
   "name": "python",
   "nbconvert_exporter": "python",
   "pygments_lexer": "ipython3",
   "version": "3.9.17"
  },
  "toc": {
   "base_numbering": 1,
   "nav_menu": {},
   "number_sections": true,
   "sideBar": true,
   "skip_h1_title": true,
   "title_cell": "Содержание",
   "title_sidebar": "Contents",
   "toc_cell": true,
   "toc_position": {
    "height": "calc(100% - 180px)",
    "left": "10px",
    "top": "150px",
    "width": "271px"
   },
   "toc_section_display": true,
   "toc_window_display": true
  },
  "toc-autonumbering": true
 },
 "nbformat": 4,
 "nbformat_minor": 4
}
