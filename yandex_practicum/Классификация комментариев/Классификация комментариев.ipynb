{
 "cells": [
  {
   "cell_type": "markdown",
   "metadata": {
    "toc": true
   },
   "source": [
    "<h1>Содержание<span class=\"tocSkip\"></span></h1>\n",
    "<div class=\"toc\"><ul class=\"toc-item\"><li><span><a href=\"#Подготовка\" data-toc-modified-id=\"Подготовка-1\"><span class=\"toc-item-num\">1&nbsp;&nbsp;</span>Подготовка</a></span></li><li><span><a href=\"#Обучение\" data-toc-modified-id=\"Обучение-2\"><span class=\"toc-item-num\">2&nbsp;&nbsp;</span>Обучение</a></span></li><li><span><a href=\"#Выводы\" data-toc-modified-id=\"Выводы-3\"><span class=\"toc-item-num\">3&nbsp;&nbsp;</span>Выводы</a></span></li></ul></div>"
   ]
  },
  {
   "cell_type": "markdown",
   "metadata": {},
   "source": [
    "# Проект для «Викишоп»"
   ]
  },
  {
   "cell_type": "markdown",
   "metadata": {},
   "source": [
    "Интернет-магазин «Викишоп» запускает новый сервис. Теперь пользователи могут редактировать и дополнять описания товаров, как в вики-сообществах. То есть клиенты предлагают свои правки и комментируют изменения других. Магазину нужен инструмент, который будет искать токсичные комментарии и отправлять их на модерацию. \n",
    "\n",
    "Обучите модель классифицировать комментарии на позитивные и негативные. В вашем распоряжении набор данных с разметкой о токсичности правок.\n",
    "\n",
    "Постройте модель со значением метрики качества *F1* не меньше 0.75. \n",
    "\n",
    "**Инструкция по выполнению проекта**\n",
    "\n",
    "1. Загрузите и подготовьте данные.\n",
    "2. Обучите разные модели. \n",
    "3. Сделайте выводы.\n",
    "\n",
    "Для выполнения проекта применять *BERT* необязательно, но вы можете попробовать.\n",
    "\n",
    "**Описание данных**\n",
    "\n",
    "Данные находятся в файле `toxic_comments.csv`. Столбец *text* в нём содержит текст комментария, а *toxic* — целевой признак."
   ]
  },
  {
   "cell_type": "markdown",
   "metadata": {},
   "source": [
    "## Подготовка"
   ]
  },
  {
   "cell_type": "code",
   "execution_count": 20,
   "metadata": {},
   "outputs": [],
   "source": [
    "import pandas as pd\n",
    "import numpy as np\n",
    "import matplotlib.pyplot as plt\n",
    "import nltk\n",
    "import re\n",
    "import torch\n",
    "import transformers\n",
    "from sklearn.model_selection import train_test_split, cross_val_score, GridSearchCV\n",
    "from sklearn.metrics import f1_score, accuracy_score\n",
    "from sklearn.feature_extraction.text import CountVectorizer, TfidfVectorizer\n",
    "from sklearn.linear_model import LogisticRegression\n",
    "from sklearn.ensemble import RandomForestClassifier\n",
    "from sklearn.svm import LinearSVC\n",
    "from sklearn.pipeline import Pipeline\n",
    "from nltk.corpus import stopwords as nltk_stopwords, wordnet\n",
    "from nltk.stem import WordNetLemmatizer\n",
    "from nltk.tokenize import word_tokenize\n",
    "from tqdm import notebook"
   ]
  },
  {
   "cell_type": "code",
   "execution_count": 2,
   "metadata": {},
   "outputs": [],
   "source": [
    "try:\n",
    "    df = pd.read_csv('/datasets/toxic_comments.csv')\n",
    "except:\n",
    "    df = pd.read_csv('D:\\\\yandex_practicum\\\\проекты\\\\проект 11\\\\toxic_comments.csv')"
   ]
  },
  {
   "cell_type": "code",
   "execution_count": 3,
   "metadata": {},
   "outputs": [
    {
     "data": {},
     "execution_count": 3,
     "metadata": {},
     "output_type": "execute_result"
    }
   ],
   "source": [
    "df.head()"
   ]
  },
  {
   "cell_type": "code",
   "execution_count": 4,
   "metadata": {},
   "outputs": [],
   "source": [
    "df.info()"
   ]
  },
  {
   "cell_type": "code",
   "execution_count": 5,
   "metadata": {},
   "outputs": [
    {
     "data": {},
     "execution_count": 5,
     "metadata": {},
     "output_type": "execute_result"
    }
   ],
   "source": [
    "df.describe()"
   ]
  },
  {
   "cell_type": "code",
   "execution_count": 6,
   "metadata": {},
   "outputs": [],
   "source": [
    "df['toxic'] = df['toxic'].astype('int8')"
   ]
  },
  {
   "cell_type": "code",
   "execution_count": 7,
   "metadata": {},
   "outputs": [
    {
     "data": {},
     "execution_count": 7,
     "metadata": {},
     "output_type": "execute_result"
    },
    {
     "data": {
      "image/png": "[encoded data removed]"
     },
     "metadata": {},
     "output_type": "display_data"
    }
   ],
   "source": [
    "df.value_counts('toxic').plot(kind='pie', figsize=(5,5), autopct='%1.2f%%')\n",
    "plt.title('Cоотношение комментариев', fontsize=14);\n",
    "df.value_counts('toxic')"
   ]
  },
  {
   "cell_type": "code",
   "execution_count": 8,
   "metadata": {},
   "outputs": [],
   "source": [
    "corpus = df['text'].values"
   ]
  },
  {
   "cell_type": "code",
   "execution_count": 9,
   "metadata": {},
   "outputs": [
    {
     "data": {},
     "execution_count": 9,
     "metadata": {},
     "output_type": "execute_result"
    }
   ],
   "source": [
    "nltk.download('stopwords')\n",
    "nltk.download('wordnet')\n",
    "nltk.download('punkt')\n",
    "nltk.download('averaged_perceptron_tagger')"
   ]
  },
  {
   "cell_type": "code",
   "execution_count": 10,
   "metadata": {},
   "outputs": [],
   "source": [
    "stopwords = set(nltk_stopwords.words('english'))"
   ]
  },
  {
   "cell_type": "code",
   "execution_count": 11,
   "metadata": {},
   "outputs": [],
   "source": [
    "def get_wordnet_pos(word):\n",
    "    \"\"\"Map POS tag to first character lemmatize() accepts\"\"\"\n",
    "    tag = nltk.pos_tag([word])[0][1][0].upper()\n",
    "    tag_dict = {\"J\": wordnet.ADJ,\n",
    "                \"N\": wordnet.NOUN,\n",
    "                \"V\": wordnet.VERB,\n",
    "                \"R\": wordnet.ADV}\n",
    "    return tag_dict.get(tag, wordnet.NOUN)"
   ]
  },
  {
   "cell_type": "code",
   "execution_count": 12,
   "metadata": {},
   "outputs": [],
   "source": [
    "def token_lemmatize(text):\n",
    "    mnl = nltk.WordNetLemmatizer()\n",
    "    words_list = word_tokenize(text)\n",
    "    lemm_list = [mnl.lemmatize(word, get_wordnet_pos(word)) for word in words_list]\n",
    "    lemm_text = \" \".join(lemm_list)\n",
    "    return lemm_text"
   ]
  },
  {
   "cell_type": "code",
   "execution_count": 13,
   "metadata": {},
   "outputs": [],
   "source": [
    "def clear_text(text):\n",
    "    text = re.sub(r'[^a-zA-Z ]', ' ', text)\n",
    "    text = text.split()\n",
    "    return \" \".join(text)"
   ]
  },
  {
   "cell_type": "code",
   "execution_count": 14,
   "metadata": {},
   "outputs": [],
   "source": [
    "corpus_lemm = [token_lemmatize(clear_text(corpus[i])) for i in range(len(corpus))]"
   ]
  },
  {
   "cell_type": "code",
   "execution_count": 15,
   "metadata": {},
   "outputs": [],
   "source": [
    "RANDOM_STATE = 42"
   ]
  },
  {
   "cell_type": "code",
   "execution_count": 16,
   "metadata": {},
   "outputs": [
    {
     "data": {},
     "execution_count": 16,
     "metadata": {},
     "output_type": "execute_result"
    }
   ],
   "source": [
    "features_train, features_test, target_train, target_test = train_test_split(corpus_lemm, df['toxic'], \n",
    "                                                                            test_size=0.2, \n",
    "                                                                            random_state=RANDOM_STATE)\n",
    "target_train.shape, target_test.shape"
   ]
  },
  {
   "cell_type": "code",
   "execution_count": 17,
   "metadata": {},
   "outputs": [
    {
     "data": {},
     "execution_count": 17,
     "metadata": {},
     "output_type": "execute_result"
    }
   ],
   "source": [
    "len(features_train), len(features_test)"
   ]
  },
  {
   "cell_type": "markdown",
   "metadata": {},
   "source": [
    "<div style=\"background-color:black; color:#ffffff; text-align:left; padding:2%\">\n",
    "\n",
    "**Вывод по разделу:**\n",
    "\n",
    "Данные загружены, создан корпус, тексты очищены от лишних символов, стоп-слов, токенизированы и лемматизированы. Созданы обучающая и тестовая выборки. Признаки векторизованы методом TF-IDF. Обнаружен дисбаланс классов."
   ]
  },
  {
   "cell_type": "markdown",
   "metadata": {},
   "source": [
    "## Обучение"
   ]
  },
  {
   "cell_type": "markdown",
   "metadata": {},
   "source": [
    "<div style=\"background-color:black; color:#ffffff; text-align:left; padding:2%\">\n",
    "\n",
    "Проверим значение f1, если все предсказания **toxic** будут равны 0."
   ]
  },
  {
   "cell_type": "code",
   "execution_count": 21,
   "metadata": {},
   "outputs": [],
   "source": [
    "pred_zero = pd.Series(data=np.zeros(len(target_train)), index=target_train.index, dtype='int8')\n",
    "print(f'F1-мера константной модели на обучающей выборке равна {f1_score(target_train, pred_zero)}')"
   ]
  },
  {
   "cell_type": "code",
   "execution_count": 22,
   "metadata": {},
   "outputs": [],
   "source": [
    "# пайплайны для векторизации и LogisticRegression, LinearSVC, RandomForestClassifier\n",
    "pipe_lr = Pipeline([('tfidf', TfidfVectorizer(stop_words=stopwords)), \n",
    "                    ('clf', LogisticRegression(class_weight='balanced', random_state=RANDOM_STATE))])\n",
    "\n",
    "pipe_lsvc = Pipeline([('tfidf', TfidfVectorizer(stop_words=stopwords)),\n",
    "                      ('clf', LinearSVC(class_weight='balanced', random_state=RANDOM_STATE))])\n",
    "\n",
    "pipe_rfc = Pipeline([('tfidf', TfidfVectorizer(stop_words=stopwords)),\n",
    "                     ('clf', RandomForestClassifier(class_weight='balanced', random_state=RANDOM_STATE))])\n",
    "# подбираемые в GridSearchCV гиперпараметры\n",
    "grid_params_lr = [{'clf__C': np.linspace(0.5, 20, 12), \n",
    "                  'clf__max_iter':[1000, 1200]}]\n",
    "\n",
    "grid_params_lsvc = [{'clf__C': np.linspace(0.5, 20, 12),\n",
    "                    'clf__max_iter':[1000, 1200]}]\n",
    "\n",
    "grid_params_rfc = [{'clf__n_estimators': [50, 100], \n",
    "                    'clf__max_depth':[3, 6]}]\n",
    "# создание GridSearchCV для разных моделей\n",
    "LR = GridSearchCV(estimator=pipe_lr, \n",
    "                  cv=3, \n",
    "                  param_grid=grid_params_lr, \n",
    "                  scoring='f1')\n",
    "\n",
    "LSVC = GridSearchCV(estimator=pipe_lsvc, \n",
    "                    cv=3, \n",
    "                    param_grid=grid_params_lsvc, \n",
    "                    scoring='f1')\n",
    "\n",
    "RFC = GridSearchCV(estimator=pipe_rfc, \n",
    "                   cv=3, \n",
    "                   param_grid=grid_params_rfc, \n",
    "                   scoring='f1')\n",
    "# список пайплайнов для итерации\n",
    "grids = [LR, LSVC, RFC]\n",
    "grids_dict = {0: 'LogisticRegression', \n",
    "              1: 'LinearSVC', \n",
    "              2: 'RandomForestClassifier'}\n",
    "# худшее значение F1\n",
    "best_f1 = 0"
   ]
  },
  {
   "cell_type": "code",
   "execution_count": 25,
   "metadata": {},
   "outputs": [],
   "source": [
    "%%time\n",
    "for idx, gs in enumerate(grids):\n",
    "    print('_' * 20)\n",
    "    print(f'Модель: {grids_dict[idx]}')\n",
    "    # обучаем модель\n",
    "    gs.fit(features_train, target_train)\n",
    "    # параметры лучшей модели\n",
    "    print(f'Лучшие параметры: {gs.best_params_}')\n",
    "    print(f'Лучшее значение F1-меры: {gs.best_score_}')\n",
    "    if gs.best_score_ > best_f1:\n",
    "        best_f1 = gs.best_score_\n",
    "        best_gs = gs\n",
    "        best_gs_idx = idx\n",
    "print('_' * 20)      \n",
    "print(f'Лучшая модель: {grids_dict[best_gs_idx]}')\n",
    "pred = best_gs.predict(features_test)\n",
    "print(f'Значение F1-меры на тестовой выборке: {f1_score(target_test, pred)}')"
   ]
  },
  {
   "cell_type": "markdown",
   "metadata": {},
   "source": [
    "<div style=\"background-color:black; color:#ffffff; text-align:left; padding:2%\">\n",
    "\n",
    "**Вывод по разделу:**    \n",
    "Обучены 3 модели при помощи *GridSearchCV*: **LogisticRegression, LinearSVC, RandomForestClassifier**. Лучшей оказалась **LogisticRegression**. F1-мера константной модели равна 0."
   ]
  },
  {
   "cell_type": "markdown",
   "metadata": {},
   "source": [
    "## Выводы"
   ]
  },
  {
   "cell_type": "markdown",
   "metadata": {},
   "source": [
    "* Данные о токсичных комментариях загружены и обработаны с помощью:\n",
    "    * регулярных выражений\n",
    "    * nltk.word_tokenize\n",
    "    * nltk.WordNetLemmatizer\n",
    "    * nltk_stopwords\n",
    "    * TfidfVectorizer\n",
    "* Обучены 3 модели при помощи GridSearchCV:\n",
    "| Модель | F1-мера |\n",
    "|:-|-|\n",
    "| LogisticRegression | 0.758 |\n",
    "| LinearSVC | 0.755 |\n",
    "| RandomForestClassifier | 0.343 |\n",
    "* Лучшая модель - **LogisticRegression**. Параметры лучшей модели:\n",
    "    * C: 7.590909090909091\n",
    "    * max_iter: 1000\n",
    "* F1-мера константной модели равна 0."
   ]
  }
 ],
 "metadata": {
  "ExecuteTimeLog": [
   {
    "duration": 2753,
    "start_time": "2023-07-08T21:18:47.899Z"
   },
   {
    "duration": 3401,
    "start_time": "2023-07-08T21:19:23.278Z"
   },
   {
    "duration": 13,
    "start_time": "2023-07-08T21:19:35.654Z"
   },
   {
    "duration": 35,
    "start_time": "2023-07-08T21:20:52.559Z"
   },
   {
    "duration": 523,
    "start_time": "2023-07-08T21:22:52.882Z"
   },
   {
    "duration": 5,
    "start_time": "2023-07-08T21:23:29.273Z"
   },
   {
    "duration": 109,
    "start_time": "2023-07-08T21:25:29.618Z"
   },
   {
    "duration": 125,
    "start_time": "2023-07-08T21:25:53.171Z"
   },
   {
    "duration": 104,
    "start_time": "2023-07-08T21:26:00.730Z"
   },
   {
    "duration": 56,
    "start_time": "2023-07-09T12:10:24.805Z"
   },
   {
    "duration": 3381,
    "start_time": "2023-07-09T12:10:31.660Z"
   },
   {
    "duration": 2809,
    "start_time": "2023-07-09T12:10:35.043Z"
   },
   {
    "duration": 11,
    "start_time": "2023-07-09T12:10:37.853Z"
   },
   {
    "duration": 53,
    "start_time": "2023-07-09T12:10:37.865Z"
   },
   {
    "duration": 115,
    "start_time": "2023-07-09T12:10:37.920Z"
   },
   {
    "duration": 210,
    "start_time": "2023-07-09T12:10:38.037Z"
   },
   {
    "duration": 2144,
    "start_time": "2023-07-09T12:11:05.652Z"
   },
   {
    "duration": 17,
    "start_time": "2023-07-09T12:11:15.653Z"
   },
   {
    "duration": 20,
    "start_time": "2023-07-09T12:13:23.014Z"
   },
   {
    "duration": 3,
    "start_time": "2023-07-09T12:23:49.011Z"
   },
   {
    "duration": 3,
    "start_time": "2023-07-09T12:25:08.237Z"
   },
   {
    "duration": 157559,
    "start_time": "2023-07-09T12:33:35.634Z"
   },
   {
    "duration": 2694,
    "start_time": "2023-07-09T12:36:46.848Z"
   },
   {
    "duration": 834,
    "start_time": "2023-07-09T12:36:49.544Z"
   },
   {
    "duration": 13,
    "start_time": "2023-07-09T12:36:50.380Z"
   },
   {
    "duration": 36,
    "start_time": "2023-07-09T12:36:50.395Z"
   },
   {
    "duration": 111,
    "start_time": "2023-07-09T12:36:50.434Z"
   },
   {
    "duration": 1993,
    "start_time": "2023-07-09T12:36:50.547Z"
   },
   {
    "duration": 5,
    "start_time": "2023-07-09T12:36:52.542Z"
   },
   {
    "duration": 8,
    "start_time": "2023-07-09T12:36:52.548Z"
   },
   {
    "duration": 156380,
    "start_time": "2023-07-09T12:36:52.557Z"
   },
   {
    "duration": 141,
    "start_time": "2023-07-09T12:42:52.157Z"
   },
   {
    "duration": 4053,
    "start_time": "2023-07-09T19:47:28.040Z"
   },
   {
    "duration": 3300,
    "start_time": "2023-07-09T19:47:32.096Z"
   },
   {
    "duration": 11,
    "start_time": "2023-07-09T19:47:35.398Z"
   },
   {
    "duration": 52,
    "start_time": "2023-07-09T19:47:35.411Z"
   },
   {
    "duration": 122,
    "start_time": "2023-07-09T19:47:35.465Z"
   },
   {
    "duration": 1919,
    "start_time": "2023-07-09T19:47:35.588Z"
   },
   {
    "duration": 7,
    "start_time": "2023-07-09T19:47:37.509Z"
   },
   {
    "duration": 5,
    "start_time": "2023-07-09T19:47:37.517Z"
   },
   {
    "duration": 4465,
    "start_time": "2023-07-09T19:53:16.132Z"
   },
   {
    "duration": 3407,
    "start_time": "2023-07-09T19:53:20.599Z"
   },
   {
    "duration": 14,
    "start_time": "2023-07-09T19:53:24.009Z"
   },
   {
    "duration": 46,
    "start_time": "2023-07-09T19:53:24.026Z"
   },
   {
    "duration": 141,
    "start_time": "2023-07-09T19:53:24.074Z"
   },
   {
    "duration": 60,
    "start_time": "2023-07-09T19:53:45.754Z"
   },
   {
    "duration": 11750,
    "start_time": "2023-07-09T19:53:55.313Z"
   },
   {
    "duration": 3250,
    "start_time": "2023-07-09T19:54:08.906Z"
   },
   {
    "duration": 15,
    "start_time": "2023-07-09T19:54:16.994Z"
   },
   {
    "duration": 38,
    "start_time": "2023-07-09T19:54:18.011Z"
   },
   {
    "duration": 158,
    "start_time": "2023-07-09T19:54:20.044Z"
   },
   {
    "duration": 1949,
    "start_time": "2023-07-09T19:54:22.932Z"
   },
   {
    "duration": 3,
    "start_time": "2023-07-09T19:54:31.307Z"
   },
   {
    "duration": 3,
    "start_time": "2023-07-09T19:54:32.491Z"
   },
   {
    "duration": 160587,
    "start_time": "2023-07-09T19:54:33.571Z"
   },
   {
    "duration": 3451,
    "start_time": "2023-07-09T19:59:00.483Z"
   },
   {
    "duration": 3422,
    "start_time": "2023-07-09T19:59:18.150Z"
   },
   {
    "duration": 12,
    "start_time": "2023-07-09T19:59:22.726Z"
   },
   {
    "duration": 44,
    "start_time": "2023-07-09T19:59:23.750Z"
   },
   {
    "duration": 150,
    "start_time": "2023-07-09T19:59:24.630Z"
   },
   {
    "duration": 1989,
    "start_time": "2023-07-09T19:59:25.606Z"
   },
   {
    "duration": 3,
    "start_time": "2023-07-09T19:59:28.502Z"
   },
   {
    "duration": 5,
    "start_time": "2023-07-09T19:59:29.168Z"
   },
   {
    "duration": 187783,
    "start_time": "2023-07-09T19:59:29.958Z"
   },
   {
    "duration": 272,
    "start_time": "2023-07-09T20:03:29.381Z"
   },
   {
    "duration": 210,
    "start_time": "2023-07-09T20:16:40.318Z"
   },
   {
    "duration": 75,
    "start_time": "2023-07-09T20:17:05.336Z"
   },
   {
    "duration": 3,
    "start_time": "2023-07-09T20:37:52.522Z"
   },
   {
    "duration": 5642,
    "start_time": "2023-07-09T20:38:51.259Z"
   },
   {
    "duration": 1358,
    "start_time": "2023-07-09T20:39:28.355Z"
   },
   {
    "duration": 6914,
    "start_time": "2023-07-09T20:39:46.861Z"
   },
   {
    "duration": 18,
    "start_time": "2023-07-09T20:40:22.117Z"
   },
   {
    "duration": 4,
    "start_time": "2023-07-09T20:40:42.725Z"
   },
   {
    "duration": 4,
    "start_time": "2023-07-09T20:41:23.101Z"
   },
   {
    "duration": 32,
    "start_time": "2023-07-09T20:49:18.873Z"
   },
   {
    "duration": 13,
    "start_time": "2023-07-09T20:49:55.299Z"
   },
   {
    "duration": 12,
    "start_time": "2023-07-09T20:51:00.901Z"
   },
   {
    "duration": 4,
    "start_time": "2023-07-09T20:52:16.539Z"
   },
   {
    "duration": 5,
    "start_time": "2023-07-09T20:52:42.006Z"
   },
   {
    "duration": 13,
    "start_time": "2023-07-09T21:00:31.094Z"
   },
   {
    "duration": 33,
    "start_time": "2023-07-09T21:00:56.321Z"
   },
   {
    "duration": 45,
    "start_time": "2023-07-09T21:01:03.238Z"
   },
   {
    "duration": 32,
    "start_time": "2023-07-09T21:01:07.521Z"
   },
   {
    "duration": 23,
    "start_time": "2023-07-09T21:02:03.009Z"
   },
   {
    "duration": 4,
    "start_time": "2023-07-09T21:02:40.985Z"
   },
   {
    "duration": 6,
    "start_time": "2023-07-09T21:07:31.356Z"
   },
   {
    "duration": 6,
    "start_time": "2023-07-09T21:07:43.868Z"
   },
   {
    "duration": 16,
    "start_time": "2023-07-09T21:25:12.741Z"
   },
   {
    "duration": 3,
    "start_time": "2023-07-09T21:25:18.350Z"
   },
   {
    "duration": 4591574,
    "start_time": "2023-07-09T21:25:21.333Z"
   }
  ],
  "kernelspec": {
   "display_name": "Python 3 (ipykernel)",
   "language": "python",
   "name": "python3"
  },
  "language_info": {
   "codemirror_mode": {
    "name": "ipython",
    "version": 3
   },
   "file_extension": ".py",
   "mimetype": "text/x-python",
   "name": "python",
   "nbconvert_exporter": "python",
   "pygments_lexer": "ipython3",
   "version": "3.9.17"
  },
  "toc": {
   "base_numbering": 1,
   "nav_menu": {},
   "number_sections": true,
   "sideBar": false,
   "skip_h1_title": true,
   "title_cell": "Содержание",
   "title_sidebar": "Contents",
   "toc_cell": true,
   "toc_position": {
    "height": "760px",
    "left": "21px",
    "top": "111.125px",
    "width": "271.391px"
   },
   "toc_section_display": true,
   "toc_window_display": true
  }
 },
 "nbformat": 4,
 "nbformat_minor": 4
}
